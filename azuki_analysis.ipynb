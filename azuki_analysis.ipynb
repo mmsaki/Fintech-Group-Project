{
 "cells": [
  {
   "cell_type": "markdown",
   "id": "b384a33a-5a43-4e4d-a52b-cbf0de211e8b",
   "metadata": {},
   "source": [
    "\n",
    " <img src=\"\" alt=\"add images here\" width=\"100%\"/>\n",
    " "
   ]
  },
  {
   "cell_type": "markdown",
   "id": "015895c5-08e4-484e-a4e2-5e06ad2a4029",
   "metadata": {},
   "source": [
    "# Analysis"
   ]
  },
  {
   "cell_type": "code",
   "execution_count": 286,
   "id": "7f09e07f-fed1-4a43-bb80-27e9fb78c410",
   "metadata": {},
   "outputs": [],
   "source": [
    "# Import dependancies\n",
    "import os\n",
    "import requests\n",
    "import pandas as pd\n",
    "import json\n",
    "from dotenv import load_dotenv\n",
    "from etherscan_py import etherscan_py"
   ]
  },
  {
   "cell_type": "code",
   "execution_count": 287,
   "id": "4d678f44-42db-4f85-9d34-a11c35624744",
   "metadata": {},
   "outputs": [
    {
     "data": {
      "text/plain": [
       "True"
      ]
     },
     "execution_count": 287,
     "metadata": {},
     "output_type": "execute_result"
    }
   ],
   "source": [
    "# Loading .env containing our keys\n",
    "load_dotenv()"
   ]
  },
  {
   "cell_type": "code",
   "execution_count": 288,
   "id": "8cb5b98b-32cf-40b0-9a0e-62dc2312305c",
   "metadata": {},
   "outputs": [
    {
     "data": {
      "text/plain": [
       "str"
      ]
     },
     "execution_count": 288,
     "metadata": {},
     "output_type": "execute_result"
    }
   ],
   "source": [
    "# create variable for api key \n",
    "api_key = os.getenv('COVALENT_API_KEY')\n",
    "type(api_key)"
   ]
  },
  {
   "cell_type": "markdown",
   "id": "341fe9c3-8df3-45a8-8a2c-6e22135845ff",
   "metadata": {},
   "source": [
    "## Current value of ETH"
   ]
  },
  {
   "cell_type": "code",
   "execution_count": 289,
   "id": "cb113b48-2c0b-4b33-9c19-c896b1c0a69d",
   "metadata": {
    "tags": []
   },
   "outputs": [
    {
     "data": {
      "text/plain": [
       "2725.21"
      ]
     },
     "execution_count": 289,
     "metadata": {},
     "output_type": "execute_result"
    }
   ],
   "source": [
    "# import dependancy\n",
    "from etherscan_py import etherscan_py\n",
    "client = etherscan_py.Client(os.getenv('ETHERSCAN_API'))\n",
    "\n",
    "# Print current eth price and latest block height\n",
    "eth_value = client.get_eth_price()\n",
    "eth_value"
   ]
  },
  {
   "cell_type": "markdown",
   "id": "3a8cf2b9-c15d-445c-99b7-5b62baf04296",
   "metadata": {},
   "source": [
    "## Set variables"
   ]
  },
  {
   "cell_type": "code",
   "execution_count": 290,
   "id": "5e67c532-f9d7-49f1-b9db-053e69d0dd36",
   "metadata": {},
   "outputs": [],
   "source": [
    "# Append url for our api\n",
    "url = \"https://api.covalenthq.com/v1\"\n",
    "chain_id = \"/1\"\n",
    "azuki_address = \"/0xED5AF388653567Af2F388E6224dC7C4b3241C544\"\n",
    "cryptopunks_address = \"/0xb47e3cd837dDF8e4c57F05d70Ab865de6e193BBB\"\n",
    "BAYC_address = \"/0xBC4CA0EdA7647A8aB7C2061c2E118A18a936f13D\"\n",
    "date_option = '/?quote-currency=USD&format=JSON&from=2017-01-01&to=2022-05-01'\n",
    "page_option = '/transactions_v2/?quote-currency=USD&format=JSON&block-signed-at-asc=false&no-logs=false&page-number=0&page-size=1000'\n",
    "api_option = \"&key=\" + api_key\n",
    "api_no_option = '/?key=' + api_key"
   ]
  },
  {
   "cell_type": "markdown",
   "id": "dc42b91a-3d62-4cf2-b6d2-07cb3aaae65a",
   "metadata": {},
   "source": [
    "## Concating all Owner metadata"
   ]
  },
  {
   "cell_type": "code",
   "execution_count": 291,
   "id": "53bc74ab-1169-479d-9162-68d242789bd7",
   "metadata": {},
   "outputs": [],
   "source": [
    "# Append variable to url to get token owners\n",
    "owner_url = url + chain_id + \"/tokens\" + azuki_address + \"/nft_metadata\" + '/' + '0' + api_no_option\n",
    "\n",
    "# Get request\n",
    "owner_data = requests.get(owner_url).json()\n",
    "\n",
    "# Convert Owner json data to a dataframe and view data\n",
    "owner_data_df = pd.DataFrame(owner_data['data']['items'][0]['nft_data'], columns = ['token_id', 'owner_address', 'burned'])\n",
    "\n",
    "# Create empty dataframe for token_owner DataFrame\n",
    "owner_columns = owner_data_df.columns"
   ]
  },
  {
   "cell_type": "code",
   "execution_count": 292,
   "id": "a4e63482-aee4-424b-abb7-410777e5a33f",
   "metadata": {},
   "outputs": [
    {
     "data": {
      "text/html": [
       "<div>\n",
       "<style scoped>\n",
       "    .dataframe tbody tr th:only-of-type {\n",
       "        vertical-align: middle;\n",
       "    }\n",
       "\n",
       "    .dataframe tbody tr th {\n",
       "        vertical-align: top;\n",
       "    }\n",
       "\n",
       "    .dataframe thead th {\n",
       "        text-align: right;\n",
       "    }\n",
       "</style>\n",
       "<table border=\"1\" class=\"dataframe\">\n",
       "  <thead>\n",
       "    <tr style=\"text-align: right;\">\n",
       "      <th></th>\n",
       "      <th>token_id</th>\n",
       "      <th>owner_address</th>\n",
       "      <th>burned</th>\n",
       "    </tr>\n",
       "  </thead>\n",
       "  <tbody>\n",
       "  </tbody>\n",
       "</table>\n",
       "</div>"
      ],
      "text/plain": [
       "Empty DataFrame\n",
       "Columns: [token_id, owner_address, burned]\n",
       "Index: []"
      ]
     },
     "execution_count": 292,
     "metadata": {},
     "output_type": "execute_result"
    }
   ],
   "source": [
    "# Creating a new empty DataFrame to append all nft owner data rows into\n",
    "token_owners = pd.DataFrame(columns = owner_columns)\n",
    "\n",
    "# Show Token owner empty dataframes\n",
    "token_owners"
   ]
  },
  {
   "cell_type": "code",
   "execution_count": 293,
   "id": "5292b6c2-8815-4c00-9fa3-778c8e451b92",
   "metadata": {},
   "outputs": [],
   "source": [
    "# Loop through owner data and add into empty token_owners dataframe range = 100\n",
    "for token_id in range(100):\n",
    "    owner_url = url + chain_id + '/tokens' + azuki_address + '/nft_metadata/' + str(token_id) + api_no_option\n",
    "    \n",
    "    # Get Request and convert json to dataframe\n",
    "    owner_data = requests.get(owner_url).json() \n",
    "    df = pd.DataFrame(owner_data['data']['items'][0]['nft_data'], columns = ['token_id', 'owner_address', 'burned'])\n",
    "   \n",
    "    token_owners.loc[token_id] = [df.iloc[0]['token_id'], df.iloc[0]['owner_address'], df.iloc[0]['burned']]"
   ]
  },
  {
   "cell_type": "code",
   "execution_count": 295,
   "id": "c82b5161-3d16-48e7-aa01-8cc2c3c3a452",
   "metadata": {},
   "outputs": [
    {
     "data": {
      "text/html": [
       "<div>\n",
       "<style scoped>\n",
       "    .dataframe tbody tr th:only-of-type {\n",
       "        vertical-align: middle;\n",
       "    }\n",
       "\n",
       "    .dataframe tbody tr th {\n",
       "        vertical-align: top;\n",
       "    }\n",
       "\n",
       "    .dataframe thead th {\n",
       "        text-align: right;\n",
       "    }\n",
       "</style>\n",
       "<table border=\"1\" class=\"dataframe\">\n",
       "  <thead>\n",
       "    <tr style=\"text-align: right;\">\n",
       "      <th></th>\n",
       "      <th>token_id</th>\n",
       "      <th>owner_address</th>\n",
       "      <th>burned</th>\n",
       "    </tr>\n",
       "  </thead>\n",
       "  <tbody>\n",
       "    <tr>\n",
       "      <th>0</th>\n",
       "      <td>0</td>\n",
       "      <td>0xd45058bf25bbd8f586124c479d384c8c708ce23a</td>\n",
       "      <td>False</td>\n",
       "    </tr>\n",
       "    <tr>\n",
       "      <th>1</th>\n",
       "      <td>1</td>\n",
       "      <td>0xd45058bf25bbd8f586124c479d384c8c708ce23a</td>\n",
       "      <td>False</td>\n",
       "    </tr>\n",
       "    <tr>\n",
       "      <th>2</th>\n",
       "      <td>2</td>\n",
       "      <td>0xd45058bf25bbd8f586124c479d384c8c708ce23a</td>\n",
       "      <td>False</td>\n",
       "    </tr>\n",
       "    <tr>\n",
       "      <th>3</th>\n",
       "      <td>3</td>\n",
       "      <td>0x645d2b4bfb047566ff60e2e7112373885935eac4</td>\n",
       "      <td>False</td>\n",
       "    </tr>\n",
       "    <tr>\n",
       "      <th>4</th>\n",
       "      <td>4</td>\n",
       "      <td>0xd45058bf25bbd8f586124c479d384c8c708ce23a</td>\n",
       "      <td>False</td>\n",
       "    </tr>\n",
       "  </tbody>\n",
       "</table>\n",
       "</div>"
      ],
      "text/plain": [
       "  token_id                               owner_address  burned\n",
       "0        0  0xd45058bf25bbd8f586124c479d384c8c708ce23a   False\n",
       "1        1  0xd45058bf25bbd8f586124c479d384c8c708ce23a   False\n",
       "2        2  0xd45058bf25bbd8f586124c479d384c8c708ce23a   False\n",
       "3        3  0x645d2b4bfb047566ff60e2e7112373885935eac4   False\n",
       "4        4  0xd45058bf25bbd8f586124c479d384c8c708ce23a   False"
      ]
     },
     "execution_count": 295,
     "metadata": {},
     "output_type": "execute_result"
    }
   ],
   "source": [
    "# Show token owner data\n",
    "token_owners.head()"
   ]
  },
  {
   "cell_type": "markdown",
   "id": "e79fa59a-a617-4301-8ad6-093169bee7db",
   "metadata": {},
   "source": [
    "## 1. Azuki Daily Volume"
   ]
  },
  {
   "cell_type": "code",
   "execution_count": 296,
   "id": "c9ce4c3c-911a-48c3-889e-cef419cf4829",
   "metadata": {},
   "outputs": [
    {
     "data": {
      "text/html": [
       "<div>\n",
       "<style scoped>\n",
       "    .dataframe tbody tr th:only-of-type {\n",
       "        vertical-align: middle;\n",
       "    }\n",
       "\n",
       "    .dataframe tbody tr th {\n",
       "        vertical-align: top;\n",
       "    }\n",
       "\n",
       "    .dataframe thead th {\n",
       "        text-align: right;\n",
       "    }\n",
       "</style>\n",
       "<table border=\"1\" class=\"dataframe\">\n",
       "  <thead>\n",
       "    <tr style=\"text-align: right;\">\n",
       "      <th></th>\n",
       "      <th>volume_quote_day</th>\n",
       "      <th>unique_token_ids_sold_count_day</th>\n",
       "    </tr>\n",
       "    <tr>\n",
       "      <th>opening_date</th>\n",
       "      <th></th>\n",
       "      <th></th>\n",
       "    </tr>\n",
       "  </thead>\n",
       "  <tbody>\n",
       "    <tr>\n",
       "      <th>2022-01-12</th>\n",
       "      <td>45941404.0</td>\n",
       "      <td>2402</td>\n",
       "    </tr>\n",
       "    <tr>\n",
       "      <th>2022-01-13</th>\n",
       "      <td>25129178.0</td>\n",
       "      <td>1318</td>\n",
       "    </tr>\n",
       "    <tr>\n",
       "      <th>2022-01-14</th>\n",
       "      <td>168151840.0</td>\n",
       "      <td>470</td>\n",
       "    </tr>\n",
       "    <tr>\n",
       "      <th>2022-01-15</th>\n",
       "      <td>4408686.0</td>\n",
       "      <td>499</td>\n",
       "    </tr>\n",
       "    <tr>\n",
       "      <th>2022-01-16</th>\n",
       "      <td>295638336.0</td>\n",
       "      <td>368</td>\n",
       "    </tr>\n",
       "    <tr>\n",
       "      <th>...</th>\n",
       "      <td>...</td>\n",
       "      <td>...</td>\n",
       "    </tr>\n",
       "    <tr>\n",
       "      <th>2022-04-02</th>\n",
       "      <td>24722180.0</td>\n",
       "      <td>193</td>\n",
       "    </tr>\n",
       "    <tr>\n",
       "      <th>2022-04-03</th>\n",
       "      <td>9899117.0</td>\n",
       "      <td>64</td>\n",
       "    </tr>\n",
       "    <tr>\n",
       "      <th>2022-04-04</th>\n",
       "      <td>4517060.5</td>\n",
       "      <td>40</td>\n",
       "    </tr>\n",
       "    <tr>\n",
       "      <th>2022-04-05</th>\n",
       "      <td>3729874.8</td>\n",
       "      <td>34</td>\n",
       "    </tr>\n",
       "    <tr>\n",
       "      <th>2022-04-06</th>\n",
       "      <td>3508797.8</td>\n",
       "      <td>27</td>\n",
       "    </tr>\n",
       "  </tbody>\n",
       "</table>\n",
       "<p>85 rows × 2 columns</p>\n",
       "</div>"
      ],
      "text/plain": [
       "              volume_quote_day  unique_token_ids_sold_count_day\n",
       "opening_date                                                   \n",
       "2022-01-12          45941404.0                             2402\n",
       "2022-01-13          25129178.0                             1318\n",
       "2022-01-14         168151840.0                              470\n",
       "2022-01-15           4408686.0                              499\n",
       "2022-01-16         295638336.0                              368\n",
       "...                        ...                              ...\n",
       "2022-04-02          24722180.0                              193\n",
       "2022-04-03           9899117.0                               64\n",
       "2022-04-04           4517060.5                               40\n",
       "2022-04-05           3729874.8                               34\n",
       "2022-04-06           3508797.8                               27\n",
       "\n",
       "[85 rows x 2 columns]"
      ]
     },
     "execution_count": 296,
     "metadata": {},
     "output_type": "execute_result"
    }
   ],
   "source": [
    "# Create variables needed for owner data and add to url\n",
    "historical_url = url + chain_id + \"/nft_market/collection\" + azuki_address + api_no_option\n",
    "\n",
    "# Get request\n",
    "azuki_historical_json = requests.get(historical_url).json()\n",
    "\n",
    "# Convert historical json data to a dataframe and view data\n",
    "azuki_df = pd.DataFrame(azuki_historical_json['data']['items'])\n",
    "\n",
    "# Set index to date\n",
    "azuki_df = azuki_df.set_index('opening_date')\n",
    "\n",
    "# Create Volume dataframe\n",
    "azuki_vol_df = pd.DataFrame(azuki_df, columns = ['volume_quote_day', 'unique_token_ids_sold_count_day']).sort_index()\n",
    "azuki_vol_df"
   ]
  },
  {
   "cell_type": "code",
   "execution_count": 297,
   "id": "e7a8a254-9526-4327-9519-e684220cb590",
   "metadata": {},
   "outputs": [
    {
     "data": {
      "text/plain": [
       "<AxesSubplot:xlabel='opening_date'>"
      ]
     },
     "execution_count": 297,
     "metadata": {},
     "output_type": "execute_result"
    },
    {
     "data": {
      "image/png": "[encoded data removed]",
      "text/plain": [
       "<Figure size 1440x288 with 1 Axes>"
      ]
     },
     "metadata": {
      "needs_background": "light"
     },
     "output_type": "display_data"
    }
   ],
   "source": [
    "# Plot Volume quote per day\n",
    "azuki_volume = azuki_vol_df['volume_quote_day'].astype(int)\n",
    "\n",
    "azuki_volume.plot.bar(figsize = (20,4))"
   ]
  },
  {
   "cell_type": "markdown",
   "id": "81a3fa86-dc06-430b-9600-52c1ad08864f",
   "metadata": {
    "tags": []
   },
   "source": [
    "## 1. Azuki Historical transactions"
   ]
  },
  {
   "cell_type": "code",
   "execution_count": 298,
   "id": "b77a873e-8056-44b3-aaad-3058938cd6c5",
   "metadata": {},
   "outputs": [
    {
     "data": {
      "text/html": [
       "<div>\n",
       "<style scoped>\n",
       "    .dataframe tbody tr th:only-of-type {\n",
       "        vertical-align: middle;\n",
       "    }\n",
       "\n",
       "    .dataframe tbody tr th {\n",
       "        vertical-align: top;\n",
       "    }\n",
       "\n",
       "    .dataframe thead th {\n",
       "        text-align: right;\n",
       "    }\n",
       "</style>\n",
       "<table border=\"1\" class=\"dataframe\">\n",
       "  <thead>\n",
       "    <tr style=\"text-align: right;\">\n",
       "      <th></th>\n",
       "      <th>to_address_label</th>\n",
       "      <th>fees_paid</th>\n",
       "      <th>value_quote</th>\n",
       "    </tr>\n",
       "    <tr>\n",
       "      <th>block_signed_at</th>\n",
       "      <th></th>\n",
       "      <th></th>\n",
       "      <th></th>\n",
       "    </tr>\n",
       "  </thead>\n",
       "  <tbody>\n",
       "    <tr>\n",
       "      <th>2022-05-02T07:38:33Z</th>\n",
       "      <td>None</td>\n",
       "      <td>3982607598190266</td>\n",
       "      <td>0.000000</td>\n",
       "    </tr>\n",
       "    <tr>\n",
       "      <th>2022-05-02T07:39:32Z</th>\n",
       "      <td>None</td>\n",
       "      <td>2350247375027552</td>\n",
       "      <td>0.000000</td>\n",
       "    </tr>\n",
       "    <tr>\n",
       "      <th>2022-05-02T07:41:52Z</th>\n",
       "      <td>None</td>\n",
       "      <td>1965230673585894</td>\n",
       "      <td>0.000000</td>\n",
       "    </tr>\n",
       "    <tr>\n",
       "      <th>2022-05-02T07:51:30Z</th>\n",
       "      <td>None</td>\n",
       "      <td>29852609435843082</td>\n",
       "      <td>19936.286091</td>\n",
       "    </tr>\n",
       "    <tr>\n",
       "      <th>2022-05-02T07:58:03Z</th>\n",
       "      <td>None</td>\n",
       "      <td>1788314720728250</td>\n",
       "      <td>0.000000</td>\n",
       "    </tr>\n",
       "  </tbody>\n",
       "</table>\n",
       "</div>"
      ],
      "text/plain": [
       "                     to_address_label          fees_paid   value_quote\n",
       "block_signed_at                                                       \n",
       "2022-05-02T07:38:33Z             None   3982607598190266      0.000000\n",
       "2022-05-02T07:39:32Z             None   2350247375027552      0.000000\n",
       "2022-05-02T07:41:52Z             None   1965230673585894      0.000000\n",
       "2022-05-02T07:51:30Z             None  29852609435843082  19936.286091\n",
       "2022-05-02T07:58:03Z             None   1788314720728250      0.000000"
      ]
     },
     "execution_count": 298,
     "metadata": {},
     "output_type": "execute_result"
    }
   ],
   "source": [
    "# Quering the API for transaction data\n",
    "azuki_tx_url = url + chain_id + \"/address\" + azuki_address + page_option + api_option \n",
    "azuki_tx = requests.get(azuki_tx_url).json()\n",
    "\n",
    "# Convert transactions data to dataframe\n",
    "azuki_tx_df = pd.DataFrame(azuki_tx['data']['items'], columns = ['to_address_label','fees_paid', 'value_quote','block_signed_at']).set_index('block_signed_at').sort_index()\n",
    "\n",
    "azuki_tx_df.head()"
   ]
  },
  {
   "cell_type": "markdown",
   "id": "98b074a0-7866-4390-a552-106002ae2523",
   "metadata": {},
   "source": [
    "## 1.a Azuki Historical Sales"
   ]
  },
  {
   "cell_type": "code",
   "execution_count": 299,
   "id": "617bcc3b-758b-481f-9eaf-b83330e38b13",
   "metadata": {},
   "outputs": [
    {
     "data": {
      "application/vnd.plotly.v1+json": {
       "config": {
        "plotlyServerURL": "https://plot.ly"
       },
       "data": [
        {
         "alignmentgroup": "True",
         "hovertemplate": "to_address_label=%{x}<br>value_quote=%{marker.color}<extra></extra>",
         "legendgroup": "",
         "marker": {
          "color": [
           15798.441913435465,
           99797.39579492189,
           82058.94050292969,
           85489.97634277343,
           85489.97634277343,
           159972.04603271486,
           85775.89599609375,
           100071.87866210938,
           85432.79241210937,
           84512.13112841797,
           82627.92061303712,
           82888.1074975586,
           84346.29772949219,
           228707.13069091795,
           94067.5659423828,
           84346.29772949219,
           82916.69946289062,
           85747.30403076172,
           84346.29772949219,
           84346.29772949219,
           85718.71206542969,
           82916.69946289062,
           81487.10119628906,
           82916.69946289062,
           84346.29772949219,
           85775.89599609375,
           84403.48166015625,
           85775.89599609375,
           84346.29772949219,
           85775.89599609375,
           102931.0751953125,
           97212.68212890625,
           80057.5029296875,
           82916.69946289062,
           84060.37807617187,
           88635.09252929688,
           85775.89599609375,
           91494.2890625,
           85775.89599609375,
           101501.47692871094,
           85489.83338294677,
           82630.7798095703,
           16691.703441186524,
           82859.51553222656,
           82859.51553222656,
           82630.7798095703,
           84346.29772949219,
           88137.18530273438,
           93539.14182128906,
           85265.6189428711,
           88137.18530273438,
           88137.18530273438,
           85009.73679199218,
           85294.05029296875,
           92401.88781738281,
           85294.05029296875,
           90098.94845947265,
           91918.55486572265,
           93823.45532226562,
           96666.59033203125,
           86715.61779785156,
           85294.05029296875,
           88847.96905517578,
           85294.05029296875,
           87426.40155029297,
           99509.72534179688,
           99509.72534179688,
           82450.91528320312,
           85294.05029296875,
           85294.05029296875,
           85294.05029296875,
           89203.36093139648,
           184803.77563476562,
           92942.08346923828,
           93823.45532226562,
           90411.69331054688,
           147757.72645751951,
           90923.45761230469,
           99509.72534179688,
           90696.00681152343,
           87852.8718017578,
           92401.88781738281,
           95785.2184790039,
           90667.57546142579,
           88137.18530273438,
           90980.3203125,
           98088.15783691406,
           104911.68186035156,
           99509.72534179688,
           89558.75280761719,
           93823.45532226562,
           91691.1040649414,
           93254.82832031249,
           99509.72534179688,
           85294.05029296875,
           87852.8718017578,
           83161.69903564453,
           113668.53769042967,
           90411.69331054688,
           89843.06630859376,
           106162.66126464844,
           92686.20131835938,
           87852.8718017578,
           91982.8138671875,
           102709.24423828126,
           87574.691796875,
           96949.29806640625,
           82284.9453125,
           82284.9453125,
           45712.225869140624,
           85223.693359375,
           85223.693359375,
           85223.693359375,
           82284.9453125,
           79346.197265625,
           88162.44140625,
           88162.44140625,
           85223.693359375,
           85223.693359375,
           85223.693359375,
           85223.693359375,
           85223.693359375,
           86105.3177734375,
           4408.1220703125,
           82872.694921875,
           81697.195703125,
           88133.05392578125,
           82284.9453125,
           82284.9453125,
           86693.0673828125,
           411042.68931640626,
           88162.44140625,
           90954.25205078124,
           88162.44140625,
           86693.0673828125,
           82284.9453125,
           83460.44453125,
           84929.8185546875,
           85223.693359375,
           85958.38037109375,
           86663.67990234375,
           86693.0673828125,
           86693.0673828125,
           88162.44140625,
           86693.0673828125,
           95556.9553930664,
           134748.78198242188,
           84576.36315917969,
           83142.86547851562,
           82856.16594238281,
           86009.86083984375,
           86009.86083984375,
           87443.35852050781,
           86009.86083984375,
           99771.43857421874,
           129014.79125976562,
           89507.59518066407,
           79989.17058105468,
           87443.35852050781,
           77408.87475585938,
           78182.96350341797,
           111812.81909179688
          ],
          "coloraxis": "coloraxis",
          "pattern": {
           "shape": ""
          }
         },
         "name": "",
         "offsetgroup": "",
         "orientation": "v",
         "showlegend": false,
         "textposition": "auto",
         "type": "bar",
         "x": [
          "LooksRare: Exchange",
          "LooksRare: Exchange",
          "Wyvern Exchange Contract (-)",
          "Wyvern Exchange Contract (-)",
          "LooksRare: Exchange",
          "Gem: GemSwap 2",
          "Wyvern Exchange Contract (-)",
          "Wyvern Exchange Contract (-)",
          "Wyvern Exchange Contract (-)",
          "Wyvern Exchange Contract (-)",
          "Wyvern Exchange Contract (-)",
          "Wyvern Exchange Contract (-)",
          "Wyvern Exchange Contract (-)",
          "Wyvern Exchange Contract (-)",
          "Wyvern Exchange Contract (-)",
          "LooksRare: Exchange",
          "Wyvern Exchange Contract (-)",
          "Wyvern Exchange Contract (-)",
          "Gem: GemSwap 2",
          "Wyvern Exchange Contract (-)",
          "Wyvern Exchange Contract (-)",
          "Wyvern Exchange Contract (-)",
          "Wyvern Exchange Contract (-)",
          "Wyvern Exchange Contract (-)",
          "LooksRare: Exchange",
          "LooksRare: Exchange",
          "Wyvern Exchange Contract (-)",
          "Gem: GemSwap 2",
          "Wyvern Exchange Contract (-)",
          "Wyvern Exchange Contract (-)",
          "Gem: GemSwap 2",
          "Gem: GemSwap 2",
          "Wyvern Exchange Contract (-)",
          "Wyvern Exchange Contract (-)",
          "Wyvern Exchange Contract (-)",
          "Wyvern Exchange Contract (-)",
          "Wyvern Exchange Contract (-)",
          "Wyvern Exchange Contract (-)",
          "Gem: GemSwap 2",
          "Wyvern Exchange Contract (-)",
          "LooksRare: Exchange",
          "Wyvern Exchange Contract (-)",
          "LooksRare: Exchange",
          "Wyvern Exchange Contract (-)",
          "Wyvern Exchange Contract (-)",
          "Wyvern Exchange Contract (-)",
          "Wyvern Exchange Contract (-)",
          "Wyvern Exchange Contract (-)",
          "Wyvern Exchange Contract (-)",
          "Wyvern Exchange Contract (-)",
          "Wyvern Exchange Contract (-)",
          "Wyvern Exchange Contract (-)",
          "Wyvern Exchange Contract (-)",
          "Wyvern Exchange Contract (-)",
          "Wyvern Exchange Contract (-)",
          "Wyvern Exchange Contract (-)",
          "Wyvern Exchange Contract (-)",
          "LooksRare: Exchange",
          "LooksRare: Exchange",
          "Wyvern Exchange Contract (-)",
          "LooksRare: Exchange",
          "Wyvern Exchange Contract (-)",
          "LooksRare: Exchange",
          "Wyvern Exchange Contract (-)",
          "Wyvern Exchange Contract (-)",
          "LooksRare: Exchange",
          "Wyvern Exchange Contract (-)",
          "LooksRare: Exchange",
          "Wyvern Exchange Contract (-)",
          "Wyvern Exchange Contract (-)",
          "Wyvern Exchange Contract (-)",
          "Wyvern Exchange Contract (-)",
          "Gem: GemSwap 2",
          "Wyvern Exchange Contract (-)",
          "Gem: GemSwap 2",
          "Wyvern Exchange Contract (-)",
          "Gem: GemSwap 2",
          "Gem: GemSwap 2",
          "Wyvern Exchange Contract (-)",
          "Wyvern Exchange Contract (-)",
          "Wyvern Exchange Contract (-)",
          "Wyvern Exchange Contract (-)",
          "Wyvern Exchange Contract (-)",
          "Wyvern Exchange Contract (-)",
          "Gem: GemSwap 2",
          "LooksRare: Exchange",
          "Wyvern Exchange Contract (-)",
          "LooksRare: Exchange",
          "Gem: GemSwap 2",
          "Wyvern Exchange Contract (-)",
          "Wyvern Exchange Contract (-)",
          "Wyvern Exchange Contract (-)",
          "Wyvern Exchange Contract (-)",
          "LooksRare: Exchange",
          "Wyvern Exchange Contract (-)",
          "Wyvern Exchange Contract (-)",
          "LooksRare: Exchange",
          "Wyvern Exchange Contract (-)",
          "Wyvern Exchange Contract (-)",
          "Wyvern Exchange Contract (-)",
          "Gem: GemSwap 2",
          "Wyvern Exchange Contract (-)",
          "Wyvern Exchange Contract (-)",
          "Wyvern Exchange Contract (-)",
          "Wyvern Exchange Contract (-)",
          "Wyvern Exchange Contract (-)",
          "Wyvern Exchange Contract (-)",
          "Gem: GemSwap 2",
          "LooksRare: Exchange",
          "LooksRare: Exchange",
          "Wyvern Exchange Contract (-)",
          "Wyvern Exchange Contract (-)",
          "Wyvern Exchange Contract (-)",
          "Wyvern Exchange Contract (-)",
          "Wyvern Exchange Contract (-)",
          "Wyvern Exchange Contract (-)",
          "LooksRare: Exchange",
          "Wyvern Exchange Contract (-)",
          "Wyvern Exchange Contract (-)",
          "Wyvern Exchange Contract (-)",
          "Wyvern Exchange Contract (-)",
          "Wyvern Exchange Contract (-)",
          "Wyvern Exchange Contract (-)",
          "LooksRare: Exchange",
          "Wyvern Exchange Contract (-)",
          "LooksRare: Exchange",
          "Wyvern Exchange Contract (-)",
          "Wyvern Exchange Contract (-)",
          "Wyvern Exchange Contract (-)",
          "Wyvern Exchange Contract (-)",
          "Gem: GemSwap 2",
          "Wyvern Exchange Contract (-)",
          "Wyvern Exchange Contract (-)",
          "LooksRare: Exchange",
          "LooksRare: Exchange",
          "Wyvern Exchange Contract (-)",
          "Wyvern Exchange Contract (-)",
          "Wyvern Exchange Contract (-)",
          "Wyvern Exchange Contract (-)",
          "Wyvern Exchange Contract (-)",
          "Wyvern Exchange Contract (-)",
          "Wyvern Exchange Contract (-)",
          "LooksRare: Exchange",
          "Wyvern Exchange Contract (-)",
          "Wyvern Exchange Contract (-)",
          "Wyvern Exchange Contract (-)",
          "Gem: GemSwap 2",
          "Wyvern Exchange Contract (-)",
          "LooksRare: Exchange",
          "LooksRare: Exchange",
          "Wyvern Exchange Contract (-)",
          "LooksRare: Exchange",
          "Wyvern Exchange Contract (-)",
          "LooksRare: Exchange",
          "LooksRare: Exchange",
          "Wyvern Exchange Contract (-)",
          "Wyvern Exchange Contract (-)",
          "Wyvern Exchange Contract (-)",
          "Wyvern Exchange Contract (-)",
          "LooksRare: Exchange",
          "LooksRare: Exchange",
          "LooksRare: Exchange"
         ],
         "xaxis": "x",
         "y": [
          15798.441913435465,
          99797.39579492189,
          82058.94050292969,
          85489.97634277343,
          85489.97634277343,
          159972.04603271486,
          85775.89599609375,
          100071.87866210938,
          85432.79241210937,
          84512.13112841797,
          82627.92061303712,
          82888.1074975586,
          84346.29772949219,
          228707.13069091795,
          94067.5659423828,
          84346.29772949219,
          82916.69946289062,
          85747.30403076172,
          84346.29772949219,
          84346.29772949219,
          85718.71206542969,
          82916.69946289062,
          81487.10119628906,
          82916.69946289062,
          84346.29772949219,
          85775.89599609375,
          84403.48166015625,
          85775.89599609375,
          84346.29772949219,
          85775.89599609375,
          102931.0751953125,
          97212.68212890625,
          80057.5029296875,
          82916.69946289062,
          84060.37807617187,
          88635.09252929688,
          85775.89599609375,
          91494.2890625,
          85775.89599609375,
          101501.47692871094,
          85489.83338294677,
          82630.7798095703,
          16691.703441186524,
          82859.51553222656,
          82859.51553222656,
          82630.7798095703,
          84346.29772949219,
          88137.18530273438,
          93539.14182128906,
          85265.6189428711,
          88137.18530273438,
          88137.18530273438,
          85009.73679199218,
          85294.05029296875,
          92401.88781738281,
          85294.05029296875,
          90098.94845947265,
          91918.55486572265,
          93823.45532226562,
          96666.59033203125,
          86715.61779785156,
          85294.05029296875,
          88847.96905517578,
          85294.05029296875,
          87426.40155029297,
          99509.72534179688,
          99509.72534179688,
          82450.91528320312,
          85294.05029296875,
          85294.05029296875,
          85294.05029296875,
          89203.36093139648,
          184803.77563476562,
          92942.08346923828,
          93823.45532226562,
          90411.69331054688,
          147757.72645751951,
          90923.45761230469,
          99509.72534179688,
          90696.00681152343,
          87852.8718017578,
          92401.88781738281,
          95785.2184790039,
          90667.57546142579,
          88137.18530273438,
          90980.3203125,
          98088.15783691406,
          104911.68186035156,
          99509.72534179688,
          89558.75280761719,
          93823.45532226562,
          91691.1040649414,
          93254.82832031249,
          99509.72534179688,
          85294.05029296875,
          87852.8718017578,
          83161.69903564453,
          113668.53769042967,
          90411.69331054688,
          89843.06630859376,
          106162.66126464844,
          92686.20131835938,
          87852.8718017578,
          91982.8138671875,
          102709.24423828126,
          87574.691796875,
          96949.29806640625,
          82284.9453125,
          82284.9453125,
          45712.225869140624,
          85223.693359375,
          85223.693359375,
          85223.693359375,
          82284.9453125,
          79346.197265625,
          88162.44140625,
          88162.44140625,
          85223.693359375,
          85223.693359375,
          85223.693359375,
          85223.693359375,
          85223.693359375,
          86105.3177734375,
          4408.1220703125,
          82872.694921875,
          81697.195703125,
          88133.05392578125,
          82284.9453125,
          82284.9453125,
          86693.0673828125,
          411042.68931640626,
          88162.44140625,
          90954.25205078124,
          88162.44140625,
          86693.0673828125,
          82284.9453125,
          83460.44453125,
          84929.8185546875,
          85223.693359375,
          85958.38037109375,
          86663.67990234375,
          86693.0673828125,
          86693.0673828125,
          88162.44140625,
          86693.0673828125,
          95556.9553930664,
          134748.78198242188,
          84576.36315917969,
          83142.86547851562,
          82856.16594238281,
          86009.86083984375,
          86009.86083984375,
          87443.35852050781,
          86009.86083984375,
          99771.43857421874,
          129014.79125976562,
          89507.59518066407,
          79989.17058105468,
          87443.35852050781,
          77408.87475585938,
          78182.96350341797,
          111812.81909179688
         ],
         "yaxis": "y"
        }
       ],
       "layout": {
        "barmode": "relative",
        "coloraxis": {
         "colorbar": {
          "title": {
           "text": "value_quote"
          }
         },
         "colorscale": [
          [
           0,
           "#0d0887"
          ],
          [
           0.1111111111111111,
           "#46039f"
          ],
          [
           0.2222222222222222,
           "#7201a8"
          ],
          [
           0.3333333333333333,
           "#9c179e"
          ],
          [
           0.4444444444444444,
           "#bd3786"
          ],
          [
           0.5555555555555556,
           "#d8576b"
          ],
          [
           0.6666666666666666,
           "#ed7953"
          ],
          [
           0.7777777777777778,
           "#fb9f3a"
          ],
          [
           0.8888888888888888,
           "#fdca26"
          ],
          [
           1,
           "#f0f921"
          ]
         ]
        },
        "height": 1020,
        "legend": {
         "tracegroupgap": 0
        },
        "template": {
         "data": {
          "bar": [
           {
            "error_x": {
             "color": "#2a3f5f"
            },
            "error_y": {
             "color": "#2a3f5f"
            },
            "marker": {
             "line": {
              "color": "#E5ECF6",
              "width": 0.5
             },
             "pattern": {
              "fillmode": "overlay",
              "size": 10,
              "solidity": 0.2
             }
            },
            "type": "bar"
           }
          ],
          "barpolar": [
           {
            "marker": {
             "line": {
              "color": "#E5ECF6",
              "width": 0.5
             },
             "pattern": {
              "fillmode": "overlay",
              "size": 10,
              "solidity": 0.2
             }
            },
            "type": "barpolar"
           }
          ],
          "carpet": [
           {
            "aaxis": {
             "endlinecolor": "#2a3f5f",
             "gridcolor": "white",
             "linecolor": "white",
             "minorgridcolor": "white",
             "startlinecolor": "#2a3f5f"
            },
            "baxis": {
             "endlinecolor": "#2a3f5f",
             "gridcolor": "white",
             "linecolor": "white",
             "minorgridcolor": "white",
             "startlinecolor": "#2a3f5f"
            },
            "type": "carpet"
           }
          ],
          "choropleth": [
           {
            "colorbar": {
             "outlinewidth": 0,
             "ticks": ""
            },
            "type": "choropleth"
           }
          ],
          "contour": [
           {
            "colorbar": {
             "outlinewidth": 0,
             "ticks": ""
            },
            "colorscale": [
             [
              0,
              "#0d0887"
             ],
             [
              0.1111111111111111,
              "#46039f"
             ],
             [
              0.2222222222222222,
              "#7201a8"
             ],
             [
              0.3333333333333333,
              "#9c179e"
             ],
             [
              0.4444444444444444,
              "#bd3786"
             ],
             [
              0.5555555555555556,
              "#d8576b"
             ],
             [
              0.6666666666666666,
              "#ed7953"
             ],
             [
              0.7777777777777778,
              "#fb9f3a"
             ],
             [
              0.8888888888888888,
              "#fdca26"
             ],
             [
              1,
              "#f0f921"
             ]
            ],
            "type": "contour"
           }
          ],
          "contourcarpet": [
           {
            "colorbar": {
             "outlinewidth": 0,
             "ticks": ""
            },
            "type": "contourcarpet"
           }
          ],
          "heatmap": [
           {
            "colorbar": {
             "outlinewidth": 0,
             "ticks": ""
            },
            "colorscale": [
             [
              0,
              "#0d0887"
             ],
             [
              0.1111111111111111,
              "#46039f"
             ],
             [
              0.2222222222222222,
              "#7201a8"
             ],
             [
              0.3333333333333333,
              "#9c179e"
             ],
             [
              0.4444444444444444,
              "#bd3786"
             ],
             [
              0.5555555555555556,
              "#d8576b"
             ],
             [
              0.6666666666666666,
              "#ed7953"
             ],
             [
              0.7777777777777778,
              "#fb9f3a"
             ],
             [
              0.8888888888888888,
              "#fdca26"
             ],
             [
              1,
              "#f0f921"
             ]
            ],
            "type": "heatmap"
           }
          ],
          "heatmapgl": [
           {
            "colorbar": {
             "outlinewidth": 0,
             "ticks": ""
            },
            "colorscale": [
             [
              0,
              "#0d0887"
             ],
             [
              0.1111111111111111,
              "#46039f"
             ],
             [
              0.2222222222222222,
              "#7201a8"
             ],
             [
              0.3333333333333333,
              "#9c179e"
             ],
             [
              0.4444444444444444,
              "#bd3786"
             ],
             [
              0.5555555555555556,
              "#d8576b"
             ],
             [
              0.6666666666666666,
              "#ed7953"
             ],
             [
              0.7777777777777778,
              "#fb9f3a"
             ],
             [
              0.8888888888888888,
              "#fdca26"
             ],
             [
              1,
              "#f0f921"
             ]
            ],
            "type": "heatmapgl"
           }
          ],
          "histogram": [
           {
            "marker": {
             "pattern": {
              "fillmode": "overlay",
              "size": 10,
              "solidity": 0.2
             }
            },
            "type": "histogram"
           }
          ],
          "histogram2d": [
           {
            "colorbar": {
             "outlinewidth": 0,
             "ticks": ""
            },
            "colorscale": [
             [
              0,
              "#0d0887"
             ],
             [
              0.1111111111111111,
              "#46039f"
             ],
             [
              0.2222222222222222,
              "#7201a8"
             ],
             [
              0.3333333333333333,
              "#9c179e"
             ],
             [
              0.4444444444444444,
              "#bd3786"
             ],
             [
              0.5555555555555556,
              "#d8576b"
             ],
             [
              0.6666666666666666,
              "#ed7953"
             ],
             [
              0.7777777777777778,
              "#fb9f3a"
             ],
             [
              0.8888888888888888,
              "#fdca26"
             ],
             [
              1,
              "#f0f921"
             ]
            ],
            "type": "histogram2d"
           }
          ],
          "histogram2dcontour": [
           {
            "colorbar": {
             "outlinewidth": 0,
             "ticks": ""
            },
            "colorscale": [
             [
              0,
              "#0d0887"
             ],
             [
              0.1111111111111111,
              "#46039f"
             ],
             [
              0.2222222222222222,
              "#7201a8"
             ],
             [
              0.3333333333333333,
              "#9c179e"
             ],
             [
              0.4444444444444444,
              "#bd3786"
             ],
             [
              0.5555555555555556,
              "#d8576b"
             ],
             [
              0.6666666666666666,
              "#ed7953"
             ],
             [
              0.7777777777777778,
              "#fb9f3a"
             ],
             [
              0.8888888888888888,
              "#fdca26"
             ],
             [
              1,
              "#f0f921"
             ]
            ],
            "type": "histogram2dcontour"
           }
          ],
          "mesh3d": [
           {
            "colorbar": {
             "outlinewidth": 0,
             "ticks": ""
            },
            "type": "mesh3d"
           }
          ],
          "parcoords": [
           {
            "line": {
             "colorbar": {
              "outlinewidth": 0,
              "ticks": ""
             }
            },
            "type": "parcoords"
           }
          ],
          "pie": [
           {
            "automargin": true,
            "type": "pie"
           }
          ],
          "scatter": [
           {
            "fillpattern": {
             "fillmode": "overlay",
             "size": 10,
             "solidity": 0.2
            },
            "type": "scatter"
           }
          ],
          "scatter3d": [
           {
            "line": {
             "colorbar": {
              "outlinewidth": 0,
              "ticks": ""
             }
            },
            "marker": {
             "colorbar": {
              "outlinewidth": 0,
              "ticks": ""
             }
            },
            "type": "scatter3d"
           }
          ],
          "scattercarpet": [
           {
            "marker": {
             "colorbar": {
              "outlinewidth": 0,
              "ticks": ""
             }
            },
            "type": "scattercarpet"
           }
          ],
          "scattergeo": [
           {
            "marker": {
             "colorbar": {
              "outlinewidth": 0,
              "ticks": ""
             }
            },
            "type": "scattergeo"
           }
          ],
          "scattergl": [
           {
            "marker": {
             "colorbar": {
              "outlinewidth": 0,
              "ticks": ""
             }
            },
            "type": "scattergl"
           }
          ],
          "scattermapbox": [
           {
            "marker": {
             "colorbar": {
              "outlinewidth": 0,
              "ticks": ""
             }
            },
            "type": "scattermapbox"
           }
          ],
          "scatterpolar": [
           {
            "marker": {
             "colorbar": {
              "outlinewidth": 0,
              "ticks": ""
             }
            },
            "type": "scatterpolar"
           }
          ],
          "scatterpolargl": [
           {
            "marker": {
             "colorbar": {
              "outlinewidth": 0,
              "ticks": ""
             }
            },
            "type": "scatterpolargl"
           }
          ],
          "scatterternary": [
           {
            "marker": {
             "colorbar": {
              "outlinewidth": 0,
              "ticks": ""
             }
            },
            "type": "scatterternary"
           }
          ],
          "surface": [
           {
            "colorbar": {
             "outlinewidth": 0,
             "ticks": ""
            },
            "colorscale": [
             [
              0,
              "#0d0887"
             ],
             [
              0.1111111111111111,
              "#46039f"
             ],
             [
              0.2222222222222222,
              "#7201a8"
             ],
             [
              0.3333333333333333,
              "#9c179e"
             ],
             [
              0.4444444444444444,
              "#bd3786"
             ],
             [
              0.5555555555555556,
              "#d8576b"
             ],
             [
              0.6666666666666666,
              "#ed7953"
             ],
             [
              0.7777777777777778,
              "#fb9f3a"
             ],
             [
              0.8888888888888888,
              "#fdca26"
             ],
             [
              1,
              "#f0f921"
             ]
            ],
            "type": "surface"
           }
          ],
          "table": [
           {
            "cells": {
             "fill": {
              "color": "#EBF0F8"
             },
             "line": {
              "color": "white"
             }
            },
            "header": {
             "fill": {
              "color": "#C8D4E3"
             },
             "line": {
              "color": "white"
             }
            },
            "type": "table"
           }
          ]
         },
         "layout": {
          "annotationdefaults": {
           "arrowcolor": "#2a3f5f",
           "arrowhead": 0,
           "arrowwidth": 1
          },
          "autotypenumbers": "strict",
          "coloraxis": {
           "colorbar": {
            "outlinewidth": 0,
            "ticks": ""
           }
          },
          "colorscale": {
           "diverging": [
            [
             0,
             "#8e0152"
            ],
            [
             0.1,
             "#c51b7d"
            ],
            [
             0.2,
             "#de77ae"
            ],
            [
             0.3,
             "#f1b6da"
            ],
            [
             0.4,
             "#fde0ef"
            ],
            [
             0.5,
             "#f7f7f7"
            ],
            [
             0.6,
             "#e6f5d0"
            ],
            [
             0.7,
             "#b8e186"
            ],
            [
             0.8,
             "#7fbc41"
            ],
            [
             0.9,
             "#4d9221"
            ],
            [
             1,
             "#276419"
            ]
           ],
           "sequential": [
            [
             0,
             "#0d0887"
            ],
            [
             0.1111111111111111,
             "#46039f"
            ],
            [
             0.2222222222222222,
             "#7201a8"
            ],
            [
             0.3333333333333333,
             "#9c179e"
            ],
            [
             0.4444444444444444,
             "#bd3786"
            ],
            [
             0.5555555555555556,
             "#d8576b"
            ],
            [
             0.6666666666666666,
             "#ed7953"
            ],
            [
             0.7777777777777778,
             "#fb9f3a"
            ],
            [
             0.8888888888888888,
             "#fdca26"
            ],
            [
             1,
             "#f0f921"
            ]
           ],
           "sequentialminus": [
            [
             0,
             "#0d0887"
            ],
            [
             0.1111111111111111,
             "#46039f"
            ],
            [
             0.2222222222222222,
             "#7201a8"
            ],
            [
             0.3333333333333333,
             "#9c179e"
            ],
            [
             0.4444444444444444,
             "#bd3786"
            ],
            [
             0.5555555555555556,
             "#d8576b"
            ],
            [
             0.6666666666666666,
             "#ed7953"
            ],
            [
             0.7777777777777778,
             "#fb9f3a"
            ],
            [
             0.8888888888888888,
             "#fdca26"
            ],
            [
             1,
             "#f0f921"
            ]
           ]
          },
          "colorway": [
           "#636efa",
           "#EF553B",
           "#00cc96",
           "#ab63fa",
           "#FFA15A",
           "#19d3f3",
           "#FF6692",
           "#B6E880",
           "#FF97FF",
           "#FECB52"
          ],
          "font": {
           "color": "#2a3f5f"
          },
          "geo": {
           "bgcolor": "white",
           "lakecolor": "white",
           "landcolor": "#E5ECF6",
           "showlakes": true,
           "showland": true,
           "subunitcolor": "white"
          },
          "hoverlabel": {
           "align": "left"
          },
          "hovermode": "closest",
          "mapbox": {
           "style": "light"
          },
          "paper_bgcolor": "white",
          "plot_bgcolor": "#E5ECF6",
          "polar": {
           "angularaxis": {
            "gridcolor": "white",
            "linecolor": "white",
            "ticks": ""
           },
           "bgcolor": "#E5ECF6",
           "radialaxis": {
            "gridcolor": "white",
            "linecolor": "white",
            "ticks": ""
           }
          },
          "scene": {
           "xaxis": {
            "backgroundcolor": "#E5ECF6",
            "gridcolor": "white",
            "gridwidth": 2,
            "linecolor": "white",
            "showbackground": true,
            "ticks": "",
            "zerolinecolor": "white"
           },
           "yaxis": {
            "backgroundcolor": "#E5ECF6",
            "gridcolor": "white",
            "gridwidth": 2,
            "linecolor": "white",
            "showbackground": true,
            "ticks": "",
            "zerolinecolor": "white"
           },
           "zaxis": {
            "backgroundcolor": "#E5ECF6",
            "gridcolor": "white",
            "gridwidth": 2,
            "linecolor": "white",
            "showbackground": true,
            "ticks": "",
            "zerolinecolor": "white"
           }
          },
          "shapedefaults": {
           "line": {
            "color": "#2a3f5f"
           }
          },
          "ternary": {
           "aaxis": {
            "gridcolor": "white",
            "linecolor": "white",
            "ticks": ""
           },
           "baxis": {
            "gridcolor": "white",
            "linecolor": "white",
            "ticks": ""
           },
           "bgcolor": "#E5ECF6",
           "caxis": {
            "gridcolor": "white",
            "linecolor": "white",
            "ticks": ""
           }
          },
          "title": {
           "x": 0.05
          },
          "xaxis": {
           "automargin": true,
           "gridcolor": "white",
           "linecolor": "white",
           "ticks": "",
           "title": {
            "standoff": 15
           },
           "zerolinecolor": "white",
           "zerolinewidth": 2
          },
          "yaxis": {
           "automargin": true,
           "gridcolor": "white",
           "linecolor": "white",
           "ticks": "",
           "title": {
            "standoff": 15
           },
           "zerolinecolor": "white",
           "zerolinewidth": 2
          }
         }
        },
        "title": {
         "text": "Fees paid for transactions per exchange"
        },
        "width": 1000,
        "xaxis": {
         "anchor": "y",
         "autorange": true,
         "domain": [
          0,
          1
         ],
         "range": [
          -0.5,
          2.5
         ],
         "title": {
          "text": "to_address_label"
         },
         "type": "category"
        },
        "yaxis": {
         "anchor": "x",
         "autorange": true,
         "domain": [
          0,
          1
         ],
         "range": [
          0,
          10535902.012211658
         ],
         "title": {
          "text": "value_quote"
         },
         "type": "linear"
        }
       }
      },
      "image/png": "[encoded data removed]",
      "text/html": [
       "<div>                            <div id=\"8e871c5c-a056-4323-843c-50063781fe18\" class=\"plotly-graph-div\" style=\"height:1020px; width:1000px;\"></div>            <script type=\"text/javascript\">                require([\"plotly\"], function(Plotly) {                    window.PLOTLYENV=window.PLOTLYENV || {};                                    if (document.getElementById(\"8e871c5c-a056-4323-843c-50063781fe18\")) {                    Plotly.newPlot(                        \"8e871c5c-a056-4323-843c-50063781fe18\",                        [{\"alignmentgroup\":\"True\",\"hovertemplate\":\"to_address_label=%{x}<br>value_quote=%{marker.color}<extra></extra>\",\"legendgroup\":\"\",\"marker\":{\"color\":[15798.441913435465,99797.39579492189,82058.94050292969,85489.97634277343,85489.97634277343,159972.04603271486,85775.89599609375,100071.87866210938,85432.79241210937,84512.13112841797,82627.92061303712,82888.1074975586,84346.29772949219,228707.13069091795,94067.5659423828,84346.29772949219,82916.69946289062,85747.30403076172,84346.29772949219,84346.29772949219,85718.71206542969,82916.69946289062,81487.10119628906,82916.69946289062,84346.29772949219,85775.89599609375,84403.48166015625,85775.89599609375,84346.29772949219,85775.89599609375,102931.0751953125,97212.68212890625,80057.5029296875,82916.69946289062,84060.37807617187,88635.09252929688,85775.89599609375,91494.2890625,85775.89599609375,101501.47692871094,85489.83338294677,82630.7798095703,16691.703441186524,82859.51553222656,82859.51553222656,82630.7798095703,84346.29772949219,88137.18530273438,93539.14182128906,85265.6189428711,88137.18530273438,88137.18530273438,85009.73679199218,85294.05029296875,92401.88781738281,85294.05029296875,90098.94845947265,91918.55486572265,93823.45532226562,96666.59033203125,86715.61779785156,85294.05029296875,88847.96905517578,85294.05029296875,87426.40155029297,99509.72534179688,99509.72534179688,82450.91528320312,85294.05029296875,85294.05029296875,85294.05029296875,89203.36093139648,184803.77563476562,92942.08346923828,93823.45532226562,90411.69331054688,147757.72645751951,90923.45761230469,99509.72534179688,90696.00681152343,87852.8718017578,92401.88781738281,95785.2184790039,90667.57546142579,88137.18530273438,90980.3203125,98088.15783691406,104911.68186035156,99509.72534179688,89558.75280761719,93823.45532226562,91691.1040649414,93254.82832031249,99509.72534179688,85294.05029296875,87852.8718017578,83161.69903564453,113668.53769042967,90411.69331054688,89843.06630859376,106162.66126464844,92686.20131835938,87852.8718017578,91982.8138671875,102709.24423828126,87574.691796875,96949.29806640625,82284.9453125,82284.9453125,45712.225869140624,85223.693359375,85223.693359375,85223.693359375,82284.9453125,79346.197265625,88162.44140625,88162.44140625,85223.693359375,85223.693359375,85223.693359375,85223.693359375,85223.693359375,86105.3177734375,4408.1220703125,82872.694921875,81697.195703125,88133.05392578125,82284.9453125,82284.9453125,86693.0673828125,411042.68931640626,88162.44140625,90954.25205078124,88162.44140625,86693.0673828125,82284.9453125,83460.44453125,84929.8185546875,85223.693359375,85958.38037109375,86663.67990234375,86693.0673828125,86693.0673828125,88162.44140625,86693.0673828125,95556.9553930664,134748.78198242188,84576.36315917969,83142.86547851562,82856.16594238281,86009.86083984375,86009.86083984375,87443.35852050781,86009.86083984375,99771.43857421874,129014.79125976562,89507.59518066407,79989.17058105468,87443.35852050781,77408.87475585938,78182.96350341797,111812.81909179688],\"coloraxis\":\"coloraxis\",\"pattern\":{\"shape\":\"\"}},\"name\":\"\",\"offsetgroup\":\"\",\"orientation\":\"v\",\"showlegend\":false,\"textposition\":\"auto\",\"x\":[\"LooksRare: Exchange\",\"LooksRare: Exchange\",\"Wyvern Exchange Contract (-)\",\"Wyvern Exchange Contract (-)\",\"LooksRare: Exchange\",\"Gem: GemSwap 2\",\"Wyvern Exchange Contract (-)\",\"Wyvern Exchange Contract (-)\",\"Wyvern Exchange Contract (-)\",\"Wyvern Exchange Contract (-)\",\"Wyvern Exchange Contract (-)\",\"Wyvern Exchange Contract (-)\",\"Wyvern Exchange Contract (-)\",\"Wyvern Exchange Contract (-)\",\"Wyvern Exchange Contract (-)\",\"LooksRare: Exchange\",\"Wyvern Exchange Contract (-)\",\"Wyvern Exchange Contract (-)\",\"Gem: GemSwap 2\",\"Wyvern Exchange Contract (-)\",\"Wyvern Exchange Contract (-)\",\"Wyvern Exchange Contract (-)\",\"Wyvern Exchange Contract (-)\",\"Wyvern Exchange Contract (-)\",\"LooksRare: Exchange\",\"LooksRare: Exchange\",\"Wyvern Exchange Contract (-)\",\"Gem: GemSwap 2\",\"Wyvern Exchange Contract (-)\",\"Wyvern Exchange Contract (-)\",\"Gem: GemSwap 2\",\"Gem: GemSwap 2\",\"Wyvern Exchange Contract (-)\",\"Wyvern Exchange Contract (-)\",\"Wyvern Exchange Contract (-)\",\"Wyvern Exchange Contract (-)\",\"Wyvern Exchange Contract (-)\",\"Wyvern Exchange Contract (-)\",\"Gem: GemSwap 2\",\"Wyvern Exchange Contract (-)\",\"LooksRare: Exchange\",\"Wyvern Exchange Contract (-)\",\"LooksRare: Exchange\",\"Wyvern Exchange Contract (-)\",\"Wyvern Exchange Contract (-)\",\"Wyvern Exchange Contract (-)\",\"Wyvern Exchange Contract (-)\",\"Wyvern Exchange Contract (-)\",\"Wyvern Exchange Contract (-)\",\"Wyvern Exchange Contract (-)\",\"Wyvern Exchange Contract (-)\",\"Wyvern Exchange Contract (-)\",\"Wyvern Exchange Contract (-)\",\"Wyvern Exchange Contract (-)\",\"Wyvern Exchange Contract (-)\",\"Wyvern Exchange Contract (-)\",\"Wyvern Exchange Contract (-)\",\"LooksRare: Exchange\",\"LooksRare: Exchange\",\"Wyvern Exchange Contract (-)\",\"LooksRare: Exchange\",\"Wyvern Exchange Contract (-)\",\"LooksRare: Exchange\",\"Wyvern Exchange Contract (-)\",\"Wyvern Exchange Contract (-)\",\"LooksRare: Exchange\",\"Wyvern Exchange Contract (-)\",\"LooksRare: Exchange\",\"Wyvern Exchange Contract (-)\",\"Wyvern Exchange Contract (-)\",\"Wyvern Exchange Contract (-)\",\"Wyvern Exchange Contract (-)\",\"Gem: GemSwap 2\",\"Wyvern Exchange Contract (-)\",\"Gem: GemSwap 2\",\"Wyvern Exchange Contract (-)\",\"Gem: GemSwap 2\",\"Gem: GemSwap 2\",\"Wyvern Exchange Contract (-)\",\"Wyvern Exchange Contract (-)\",\"Wyvern Exchange Contract (-)\",\"Wyvern Exchange Contract (-)\",\"Wyvern Exchange Contract (-)\",\"Wyvern Exchange Contract (-)\",\"Gem: GemSwap 2\",\"LooksRare: Exchange\",\"Wyvern Exchange Contract (-)\",\"LooksRare: Exchange\",\"Gem: GemSwap 2\",\"Wyvern Exchange Contract (-)\",\"Wyvern Exchange Contract (-)\",\"Wyvern Exchange Contract (-)\",\"Wyvern Exchange Contract (-)\",\"LooksRare: Exchange\",\"Wyvern Exchange Contract (-)\",\"Wyvern Exchange Contract (-)\",\"LooksRare: Exchange\",\"Wyvern Exchange Contract (-)\",\"Wyvern Exchange Contract (-)\",\"Wyvern Exchange Contract (-)\",\"Gem: GemSwap 2\",\"Wyvern Exchange Contract (-)\",\"Wyvern Exchange Contract (-)\",\"Wyvern Exchange Contract (-)\",\"Wyvern Exchange Contract (-)\",\"Wyvern Exchange Contract (-)\",\"Wyvern Exchange Contract (-)\",\"Gem: GemSwap 2\",\"LooksRare: Exchange\",\"LooksRare: Exchange\",\"Wyvern Exchange Contract (-)\",\"Wyvern Exchange Contract (-)\",\"Wyvern Exchange Contract (-)\",\"Wyvern Exchange Contract (-)\",\"Wyvern Exchange Contract (-)\",\"Wyvern Exchange Contract (-)\",\"LooksRare: Exchange\",\"Wyvern Exchange Contract (-)\",\"Wyvern Exchange Contract (-)\",\"Wyvern Exchange Contract (-)\",\"Wyvern Exchange Contract (-)\",\"Wyvern Exchange Contract (-)\",\"Wyvern Exchange Contract (-)\",\"LooksRare: Exchange\",\"Wyvern Exchange Contract (-)\",\"LooksRare: Exchange\",\"Wyvern Exchange Contract (-)\",\"Wyvern Exchange Contract (-)\",\"Wyvern Exchange Contract (-)\",\"Wyvern Exchange Contract (-)\",\"Gem: GemSwap 2\",\"Wyvern Exchange Contract (-)\",\"Wyvern Exchange Contract (-)\",\"LooksRare: Exchange\",\"LooksRare: Exchange\",\"Wyvern Exchange Contract (-)\",\"Wyvern Exchange Contract (-)\",\"Wyvern Exchange Contract (-)\",\"Wyvern Exchange Contract (-)\",\"Wyvern Exchange Contract (-)\",\"Wyvern Exchange Contract (-)\",\"Wyvern Exchange Contract (-)\",\"LooksRare: Exchange\",\"Wyvern Exchange Contract (-)\",\"Wyvern Exchange Contract (-)\",\"Wyvern Exchange Contract (-)\",\"Gem: GemSwap 2\",\"Wyvern Exchange Contract (-)\",\"LooksRare: Exchange\",\"LooksRare: Exchange\",\"Wyvern Exchange Contract (-)\",\"LooksRare: Exchange\",\"Wyvern Exchange Contract (-)\",\"LooksRare: Exchange\",\"LooksRare: Exchange\",\"Wyvern Exchange Contract (-)\",\"Wyvern Exchange Contract (-)\",\"Wyvern Exchange Contract (-)\",\"Wyvern Exchange Contract (-)\",\"LooksRare: Exchange\",\"LooksRare: Exchange\",\"LooksRare: Exchange\"],\"xaxis\":\"x\",\"y\":[15798.441913435465,99797.39579492189,82058.94050292969,85489.97634277343,85489.97634277343,159972.04603271486,85775.89599609375,100071.87866210938,85432.79241210937,84512.13112841797,82627.92061303712,82888.1074975586,84346.29772949219,228707.13069091795,94067.5659423828,84346.29772949219,82916.69946289062,85747.30403076172,84346.29772949219,84346.29772949219,85718.71206542969,82916.69946289062,81487.10119628906,82916.69946289062,84346.29772949219,85775.89599609375,84403.48166015625,85775.89599609375,84346.29772949219,85775.89599609375,102931.0751953125,97212.68212890625,80057.5029296875,82916.69946289062,84060.37807617187,88635.09252929688,85775.89599609375,91494.2890625,85775.89599609375,101501.47692871094,85489.83338294677,82630.7798095703,16691.703441186524,82859.51553222656,82859.51553222656,82630.7798095703,84346.29772949219,88137.18530273438,93539.14182128906,85265.6189428711,88137.18530273438,88137.18530273438,85009.73679199218,85294.05029296875,92401.88781738281,85294.05029296875,90098.94845947265,91918.55486572265,93823.45532226562,96666.59033203125,86715.61779785156,85294.05029296875,88847.96905517578,85294.05029296875,87426.40155029297,99509.72534179688,99509.72534179688,82450.91528320312,85294.05029296875,85294.05029296875,85294.05029296875,89203.36093139648,184803.77563476562,92942.08346923828,93823.45532226562,90411.69331054688,147757.72645751951,90923.45761230469,99509.72534179688,90696.00681152343,87852.8718017578,92401.88781738281,95785.2184790039,90667.57546142579,88137.18530273438,90980.3203125,98088.15783691406,104911.68186035156,99509.72534179688,89558.75280761719,93823.45532226562,91691.1040649414,93254.82832031249,99509.72534179688,85294.05029296875,87852.8718017578,83161.69903564453,113668.53769042967,90411.69331054688,89843.06630859376,106162.66126464844,92686.20131835938,87852.8718017578,91982.8138671875,102709.24423828126,87574.691796875,96949.29806640625,82284.9453125,82284.9453125,45712.225869140624,85223.693359375,85223.693359375,85223.693359375,82284.9453125,79346.197265625,88162.44140625,88162.44140625,85223.693359375,85223.693359375,85223.693359375,85223.693359375,85223.693359375,86105.3177734375,4408.1220703125,82872.694921875,81697.195703125,88133.05392578125,82284.9453125,82284.9453125,86693.0673828125,411042.68931640626,88162.44140625,90954.25205078124,88162.44140625,86693.0673828125,82284.9453125,83460.44453125,84929.8185546875,85223.693359375,85958.38037109375,86663.67990234375,86693.0673828125,86693.0673828125,88162.44140625,86693.0673828125,95556.9553930664,134748.78198242188,84576.36315917969,83142.86547851562,82856.16594238281,86009.86083984375,86009.86083984375,87443.35852050781,86009.86083984375,99771.43857421874,129014.79125976562,89507.59518066407,79989.17058105468,87443.35852050781,77408.87475585938,78182.96350341797,111812.81909179688],\"yaxis\":\"y\",\"type\":\"bar\"}],                        {\"template\":{\"data\":{\"histogram2dcontour\":[{\"type\":\"histogram2dcontour\",\"colorbar\":{\"outlinewidth\":0,\"ticks\":\"\"},\"colorscale\":[[0.0,\"#0d0887\"],[0.1111111111111111,\"#46039f\"],[0.2222222222222222,\"#7201a8\"],[0.3333333333333333,\"#9c179e\"],[0.4444444444444444,\"#bd3786\"],[0.5555555555555556,\"#d8576b\"],[0.6666666666666666,\"#ed7953\"],[0.7777777777777778,\"#fb9f3a\"],[0.8888888888888888,\"#fdca26\"],[1.0,\"#f0f921\"]]}],\"choropleth\":[{\"type\":\"choropleth\",\"colorbar\":{\"outlinewidth\":0,\"ticks\":\"\"}}],\"histogram2d\":[{\"type\":\"histogram2d\",\"colorbar\":{\"outlinewidth\":0,\"ticks\":\"\"},\"colorscale\":[[0.0,\"#0d0887\"],[0.1111111111111111,\"#46039f\"],[0.2222222222222222,\"#7201a8\"],[0.3333333333333333,\"#9c179e\"],[0.4444444444444444,\"#bd3786\"],[0.5555555555555556,\"#d8576b\"],[0.6666666666666666,\"#ed7953\"],[0.7777777777777778,\"#fb9f3a\"],[0.8888888888888888,\"#fdca26\"],[1.0,\"#f0f921\"]]}],\"heatmap\":[{\"type\":\"heatmap\",\"colorbar\":{\"outlinewidth\":0,\"ticks\":\"\"},\"colorscale\":[[0.0,\"#0d0887\"],[0.1111111111111111,\"#46039f\"],[0.2222222222222222,\"#7201a8\"],[0.3333333333333333,\"#9c179e\"],[0.4444444444444444,\"#bd3786\"],[0.5555555555555556,\"#d8576b\"],[0.6666666666666666,\"#ed7953\"],[0.7777777777777778,\"#fb9f3a\"],[0.8888888888888888,\"#fdca26\"],[1.0,\"#f0f921\"]]}],\"heatmapgl\":[{\"type\":\"heatmapgl\",\"colorbar\":{\"outlinewidth\":0,\"ticks\":\"\"},\"colorscale\":[[0.0,\"#0d0887\"],[0.1111111111111111,\"#46039f\"],[0.2222222222222222,\"#7201a8\"],[0.3333333333333333,\"#9c179e\"],[0.4444444444444444,\"#bd3786\"],[0.5555555555555556,\"#d8576b\"],[0.6666666666666666,\"#ed7953\"],[0.7777777777777778,\"#fb9f3a\"],[0.8888888888888888,\"#fdca26\"],[1.0,\"#f0f921\"]]}],\"contourcarpet\":[{\"type\":\"contourcarpet\",\"colorbar\":{\"outlinewidth\":0,\"ticks\":\"\"}}],\"contour\":[{\"type\":\"contour\",\"colorbar\":{\"outlinewidth\":0,\"ticks\":\"\"},\"colorscale\":[[0.0,\"#0d0887\"],[0.1111111111111111,\"#46039f\"],[0.2222222222222222,\"#7201a8\"],[0.3333333333333333,\"#9c179e\"],[0.4444444444444444,\"#bd3786\"],[0.5555555555555556,\"#d8576b\"],[0.6666666666666666,\"#ed7953\"],[0.7777777777777778,\"#fb9f3a\"],[0.8888888888888888,\"#fdca26\"],[1.0,\"#f0f921\"]]}],\"surface\":[{\"type\":\"surface\",\"colorbar\":{\"outlinewidth\":0,\"ticks\":\"\"},\"colorscale\":[[0.0,\"#0d0887\"],[0.1111111111111111,\"#46039f\"],[0.2222222222222222,\"#7201a8\"],[0.3333333333333333,\"#9c179e\"],[0.4444444444444444,\"#bd3786\"],[0.5555555555555556,\"#d8576b\"],[0.6666666666666666,\"#ed7953\"],[0.7777777777777778,\"#fb9f3a\"],[0.8888888888888888,\"#fdca26\"],[1.0,\"#f0f921\"]]}],\"mesh3d\":[{\"type\":\"mesh3d\",\"colorbar\":{\"outlinewidth\":0,\"ticks\":\"\"}}],\"scatter\":[{\"fillpattern\":{\"fillmode\":\"overlay\",\"size\":10,\"solidity\":0.2},\"type\":\"scatter\"}],\"parcoords\":[{\"type\":\"parcoords\",\"line\":{\"colorbar\":{\"outlinewidth\":0,\"ticks\":\"\"}}}],\"scatterpolargl\":[{\"type\":\"scatterpolargl\",\"marker\":{\"colorbar\":{\"outlinewidth\":0,\"ticks\":\"\"}}}],\"bar\":[{\"error_x\":{\"color\":\"#2a3f5f\"},\"error_y\":{\"color\":\"#2a3f5f\"},\"marker\":{\"line\":{\"color\":\"#E5ECF6\",\"width\":0.5},\"pattern\":{\"fillmode\":\"overlay\",\"size\":10,\"solidity\":0.2}},\"type\":\"bar\"}],\"scattergeo\":[{\"type\":\"scattergeo\",\"marker\":{\"colorbar\":{\"outlinewidth\":0,\"ticks\":\"\"}}}],\"scatterpolar\":[{\"type\":\"scatterpolar\",\"marker\":{\"colorbar\":{\"outlinewidth\":0,\"ticks\":\"\"}}}],\"histogram\":[{\"marker\":{\"pattern\":{\"fillmode\":\"overlay\",\"size\":10,\"solidity\":0.2}},\"type\":\"histogram\"}],\"scattergl\":[{\"type\":\"scattergl\",\"marker\":{\"colorbar\":{\"outlinewidth\":0,\"ticks\":\"\"}}}],\"scatter3d\":[{\"type\":\"scatter3d\",\"line\":{\"colorbar\":{\"outlinewidth\":0,\"ticks\":\"\"}},\"marker\":{\"colorbar\":{\"outlinewidth\":0,\"ticks\":\"\"}}}],\"scattermapbox\":[{\"type\":\"scattermapbox\",\"marker\":{\"colorbar\":{\"outlinewidth\":0,\"ticks\":\"\"}}}],\"scatterternary\":[{\"type\":\"scatterternary\",\"marker\":{\"colorbar\":{\"outlinewidth\":0,\"ticks\":\"\"}}}],\"scattercarpet\":[{\"type\":\"scattercarpet\",\"marker\":{\"colorbar\":{\"outlinewidth\":0,\"ticks\":\"\"}}}],\"carpet\":[{\"aaxis\":{\"endlinecolor\":\"#2a3f5f\",\"gridcolor\":\"white\",\"linecolor\":\"white\",\"minorgridcolor\":\"white\",\"startlinecolor\":\"#2a3f5f\"},\"baxis\":{\"endlinecolor\":\"#2a3f5f\",\"gridcolor\":\"white\",\"linecolor\":\"white\",\"minorgridcolor\":\"white\",\"startlinecolor\":\"#2a3f5f\"},\"type\":\"carpet\"}],\"table\":[{\"cells\":{\"fill\":{\"color\":\"#EBF0F8\"},\"line\":{\"color\":\"white\"}},\"header\":{\"fill\":{\"color\":\"#C8D4E3\"},\"line\":{\"color\":\"white\"}},\"type\":\"table\"}],\"barpolar\":[{\"marker\":{\"line\":{\"color\":\"#E5ECF6\",\"width\":0.5},\"pattern\":{\"fillmode\":\"overlay\",\"size\":10,\"solidity\":0.2}},\"type\":\"barpolar\"}],\"pie\":[{\"automargin\":true,\"type\":\"pie\"}]},\"layout\":{\"autotypenumbers\":\"strict\",\"colorway\":[\"#636efa\",\"#EF553B\",\"#00cc96\",\"#ab63fa\",\"#FFA15A\",\"#19d3f3\",\"#FF6692\",\"#B6E880\",\"#FF97FF\",\"#FECB52\"],\"font\":{\"color\":\"#2a3f5f\"},\"hovermode\":\"closest\",\"hoverlabel\":{\"align\":\"left\"},\"paper_bgcolor\":\"white\",\"plot_bgcolor\":\"#E5ECF6\",\"polar\":{\"bgcolor\":\"#E5ECF6\",\"angularaxis\":{\"gridcolor\":\"white\",\"linecolor\":\"white\",\"ticks\":\"\"},\"radialaxis\":{\"gridcolor\":\"white\",\"linecolor\":\"white\",\"ticks\":\"\"}},\"ternary\":{\"bgcolor\":\"#E5ECF6\",\"aaxis\":{\"gridcolor\":\"white\",\"linecolor\":\"white\",\"ticks\":\"\"},\"baxis\":{\"gridcolor\":\"white\",\"linecolor\":\"white\",\"ticks\":\"\"},\"caxis\":{\"gridcolor\":\"white\",\"linecolor\":\"white\",\"ticks\":\"\"}},\"coloraxis\":{\"colorbar\":{\"outlinewidth\":0,\"ticks\":\"\"}},\"colorscale\":{\"sequential\":[[0.0,\"#0d0887\"],[0.1111111111111111,\"#46039f\"],[0.2222222222222222,\"#7201a8\"],[0.3333333333333333,\"#9c179e\"],[0.4444444444444444,\"#bd3786\"],[0.5555555555555556,\"#d8576b\"],[0.6666666666666666,\"#ed7953\"],[0.7777777777777778,\"#fb9f3a\"],[0.8888888888888888,\"#fdca26\"],[1.0,\"#f0f921\"]],\"sequentialminus\":[[0.0,\"#0d0887\"],[0.1111111111111111,\"#46039f\"],[0.2222222222222222,\"#7201a8\"],[0.3333333333333333,\"#9c179e\"],[0.4444444444444444,\"#bd3786\"],[0.5555555555555556,\"#d8576b\"],[0.6666666666666666,\"#ed7953\"],[0.7777777777777778,\"#fb9f3a\"],[0.8888888888888888,\"#fdca26\"],[1.0,\"#f0f921\"]],\"diverging\":[[0,\"#8e0152\"],[0.1,\"#c51b7d\"],[0.2,\"#de77ae\"],[0.3,\"#f1b6da\"],[0.4,\"#fde0ef\"],[0.5,\"#f7f7f7\"],[0.6,\"#e6f5d0\"],[0.7,\"#b8e186\"],[0.8,\"#7fbc41\"],[0.9,\"#4d9221\"],[1,\"#276419\"]]},\"xaxis\":{\"gridcolor\":\"white\",\"linecolor\":\"white\",\"ticks\":\"\",\"title\":{\"standoff\":15},\"zerolinecolor\":\"white\",\"automargin\":true,\"zerolinewidth\":2},\"yaxis\":{\"gridcolor\":\"white\",\"linecolor\":\"white\",\"ticks\":\"\",\"title\":{\"standoff\":15},\"zerolinecolor\":\"white\",\"automargin\":true,\"zerolinewidth\":2},\"scene\":{\"xaxis\":{\"backgroundcolor\":\"#E5ECF6\",\"gridcolor\":\"white\",\"linecolor\":\"white\",\"showbackground\":true,\"ticks\":\"\",\"zerolinecolor\":\"white\",\"gridwidth\":2},\"yaxis\":{\"backgroundcolor\":\"#E5ECF6\",\"gridcolor\":\"white\",\"linecolor\":\"white\",\"showbackground\":true,\"ticks\":\"\",\"zerolinecolor\":\"white\",\"gridwidth\":2},\"zaxis\":{\"backgroundcolor\":\"#E5ECF6\",\"gridcolor\":\"white\",\"linecolor\":\"white\",\"showbackground\":true,\"ticks\":\"\",\"zerolinecolor\":\"white\",\"gridwidth\":2}},\"shapedefaults\":{\"line\":{\"color\":\"#2a3f5f\"}},\"annotationdefaults\":{\"arrowcolor\":\"#2a3f5f\",\"arrowhead\":0,\"arrowwidth\":1},\"geo\":{\"bgcolor\":\"white\",\"landcolor\":\"#E5ECF6\",\"subunitcolor\":\"white\",\"showland\":true,\"showlakes\":true,\"lakecolor\":\"white\"},\"title\":{\"x\":0.05},\"mapbox\":{\"style\":\"light\"}}},\"xaxis\":{\"anchor\":\"y\",\"domain\":[0.0,1.0],\"title\":{\"text\":\"to_address_label\"}},\"yaxis\":{\"anchor\":\"x\",\"domain\":[0.0,1.0],\"title\":{\"text\":\"value_quote\"}},\"coloraxis\":{\"colorbar\":{\"title\":{\"text\":\"value_quote\"}},\"colorscale\":[[0.0,\"#0d0887\"],[0.1111111111111111,\"#46039f\"],[0.2222222222222222,\"#7201a8\"],[0.3333333333333333,\"#9c179e\"],[0.4444444444444444,\"#bd3786\"],[0.5555555555555556,\"#d8576b\"],[0.6666666666666666,\"#ed7953\"],[0.7777777777777778,\"#fb9f3a\"],[0.8888888888888888,\"#fdca26\"],[1.0,\"#f0f921\"]]},\"legend\":{\"tracegroupgap\":0},\"title\":{\"text\":\"Fees paid for transactions per exchange\"},\"barmode\":\"relative\",\"height\":1020,\"width\":1000},                        {\"responsive\": true}                    ).then(function(){\n",
       "                            \n",
       "var gd = document.getElementById('8e871c5c-a056-4323-843c-50063781fe18');\n",
       "var x = new MutationObserver(function (mutations, observer) {{\n",
       "        var display = window.getComputedStyle(gd).display;\n",
       "        if (!display || display === 'none') {{\n",
       "            console.log([gd, 'removed!']);\n",
       "            Plotly.purge(gd);\n",
       "            observer.disconnect();\n",
       "        }}\n",
       "}});\n",
       "\n",
       "// Listen for the removal of the full notebook cells\n",
       "var notebookContainer = gd.closest('#notebook-container');\n",
       "if (notebookContainer) {{\n",
       "    x.observe(notebookContainer, {childList: true});\n",
       "}}\n",
       "\n",
       "// Listen for the clearing of the current output cell\n",
       "var outputEl = gd.closest('.output');\n",
       "if (outputEl) {{\n",
       "    x.observe(outputEl, {childList: true});\n",
       "}}\n",
       "\n",
       "                        })                };                });            </script>        </div>"
      ]
     },
     "metadata": {},
     "output_type": "display_data"
    }
   ],
   "source": [
    "# Filter Through data for non null transactions\n",
    "azuki_sales_df = azuki_tx_df[azuki_tx_df['value_quote'] != 0]\n",
    "azuki_sales = azuki_sales_df[azuki_sales_df['to_address_label'].notnull()]\n",
    "\n",
    "# Creating the plot using plotly express\n",
    "azuki_fig = px.bar(azuki_sales, \n",
    "             x='to_address_label', \n",
    "             y= 'value_quote',\n",
    "             color='value_quote',\n",
    "             height=1020,\n",
    "             width = 1000,\n",
    "             title=\"Fees paid for transactions per exchange\"\n",
    "            )\n",
    "azuki_fig.show()"
   ]
  },
  {
   "cell_type": "markdown",
   "id": "fbe22b58-8216-4236-aaf5-eac495f3db13",
   "metadata": {},
   "source": [
    "## 1.b Azuki transaction fees paid"
   ]
  },
  {
   "cell_type": "code",
   "execution_count": 434,
   "id": "0619bf28-150e-4f1a-a103-6a420b53849d",
   "metadata": {},
   "outputs": [
    {
     "data": {
      "text/plain": [
       "<AxesSubplot:xlabel='block_signed_at', ylabel='value in USD'>"
      ]
     },
     "execution_count": 434,
     "metadata": {},
     "output_type": "execute_result"
    },
    {
     "data": {
      "image/png": "[encoded data removed]",
      "text/plain": [
       "<Figure size 1440x360 with 1 Axes>"
      ]
     },
     "metadata": {
      "needs_background": "light"
     },
     "output_type": "display_data"
    }
   ],
   "source": [
    "# Filter Through data for non null transactions\n",
    "azuki_fees = azuki_sales_df['fees_paid'].astype(int)/10**18*eth_value\n",
    "\n",
    "azuki_fees.plot.bar(rot = 90, figsize = (20,5), ylabel = 'value in USD')"
   ]
  },
  {
   "cell_type": "markdown",
   "id": "a2a50d8b-331a-411d-a2ed-51035120d1b8",
   "metadata": {},
   "source": [
    "## 2. Cryptopunks Daily Volume"
   ]
  },
  {
   "cell_type": "code",
   "execution_count": 301,
   "id": "5f02e623-4332-49de-8727-a57958c176a7",
   "metadata": {},
   "outputs": [
    {
     "data": {
      "text/html": [
       "<div>\n",
       "<style scoped>\n",
       "    .dataframe tbody tr th:only-of-type {\n",
       "        vertical-align: middle;\n",
       "    }\n",
       "\n",
       "    .dataframe tbody tr th {\n",
       "        vertical-align: top;\n",
       "    }\n",
       "\n",
       "    .dataframe thead th {\n",
       "        text-align: right;\n",
       "    }\n",
       "</style>\n",
       "<table border=\"1\" class=\"dataframe\">\n",
       "  <thead>\n",
       "    <tr style=\"text-align: right;\">\n",
       "      <th></th>\n",
       "      <th>volume_quote_day</th>\n",
       "      <th>unique_token_ids_sold_count_day</th>\n",
       "    </tr>\n",
       "    <tr>\n",
       "      <th>opening_date</th>\n",
       "      <th></th>\n",
       "      <th></th>\n",
       "    </tr>\n",
       "  </thead>\n",
       "  <tbody>\n",
       "    <tr>\n",
       "      <th>2017-06-23</th>\n",
       "      <td>0.0</td>\n",
       "      <td>19</td>\n",
       "    </tr>\n",
       "    <tr>\n",
       "      <th>2017-06-24</th>\n",
       "      <td>0.0</td>\n",
       "      <td>22</td>\n",
       "    </tr>\n",
       "    <tr>\n",
       "      <th>2017-06-25</th>\n",
       "      <td>0.0</td>\n",
       "      <td>11</td>\n",
       "    </tr>\n",
       "    <tr>\n",
       "      <th>2017-06-26</th>\n",
       "      <td>0.0</td>\n",
       "      <td>18</td>\n",
       "    </tr>\n",
       "    <tr>\n",
       "      <th>2017-06-27</th>\n",
       "      <td>0.0</td>\n",
       "      <td>35</td>\n",
       "    </tr>\n",
       "  </tbody>\n",
       "</table>\n",
       "</div>"
      ],
      "text/plain": [
       "              volume_quote_day  unique_token_ids_sold_count_day\n",
       "opening_date                                                   \n",
       "2017-06-23                 0.0                               19\n",
       "2017-06-24                 0.0                               22\n",
       "2017-06-25                 0.0                               11\n",
       "2017-06-26                 0.0                               18\n",
       "2017-06-27                 0.0                               35"
      ]
     },
     "execution_count": 301,
     "metadata": {},
     "output_type": "execute_result"
    }
   ],
   "source": [
    "# Create variables needed for owner data and append to url\n",
    "cryptopunks_historical_url = url + chain_id + \"/nft_market/collection\" + cryptopunks_address + api_no_option\n",
    "\n",
    "# Get request\n",
    "cryptopunks_historical_json = requests.get(cryptopunks_historical_url).json()\n",
    "\n",
    "# Convert historical json data to a dataframe and view data\n",
    "cryptopunks_df = pd.DataFrame(cryptopunks_historical_json['data']['items'])\n",
    "\n",
    "# Set index to date\n",
    "cryptopunks_df = cryptopunks_df.set_index('opening_date')\n",
    "\n",
    "# Create Volume dataframe\n",
    "cryptopunks_vol_df = pd.DataFrame(cryptopunks_df, columns = ['volume_quote_day', 'unique_token_ids_sold_count_day']).sort_index()\n",
    "cryptopunks_vol_df.head()"
   ]
  },
  {
   "cell_type": "code",
   "execution_count": 302,
   "id": "71bbed21-5eb4-45f0-8e35-9df3afb88361",
   "metadata": {},
   "outputs": [
    {
     "data": {
      "text/plain": [
       "<AxesSubplot:xlabel='opening_date'>"
      ]
     },
     "execution_count": 302,
     "metadata": {},
     "output_type": "execute_result"
    },
    {
     "data": {
      "image/png": "[encoded data removed]",
      "text/plain": [
       "<Figure size 1440x288 with 1 Axes>"
      ]
     },
     "metadata": {
      "needs_background": "light"
     },
     "output_type": "display_data"
    }
   ],
   "source": [
    "# Plot Volume quote per day\n",
    "cryptopunks_volume = cryptopunks_vol_df['volume_quote_day'].astype(int)\n",
    "\n",
    "cryptopunks_volume.plot.line(figsize = (20,4))"
   ]
  },
  {
   "cell_type": "markdown",
   "id": "f424cfc2-a634-4438-a969-13871b054d36",
   "metadata": {},
   "source": [
    "## 2a Cryptopunks Historical transactions"
   ]
  },
  {
   "cell_type": "code",
   "execution_count": 414,
   "id": "d47e9334-be3e-4fb6-8acd-bbf0528e0b42",
   "metadata": {},
   "outputs": [
    {
     "data": {
      "text/html": [
       "<div>\n",
       "<style scoped>\n",
       "    .dataframe tbody tr th:only-of-type {\n",
       "        vertical-align: middle;\n",
       "    }\n",
       "\n",
       "    .dataframe tbody tr th {\n",
       "        vertical-align: top;\n",
       "    }\n",
       "\n",
       "    .dataframe thead th {\n",
       "        text-align: right;\n",
       "    }\n",
       "</style>\n",
       "<table border=\"1\" class=\"dataframe\">\n",
       "  <thead>\n",
       "    <tr style=\"text-align: right;\">\n",
       "      <th></th>\n",
       "      <th>to_address_label</th>\n",
       "      <th>fees_paid</th>\n",
       "      <th>value_quote</th>\n",
       "    </tr>\n",
       "    <tr>\n",
       "      <th>block_signed_at</th>\n",
       "      <th></th>\n",
       "      <th></th>\n",
       "      <th></th>\n",
       "    </tr>\n",
       "  </thead>\n",
       "  <tbody>\n",
       "    <tr>\n",
       "      <th>2022-04-27T16:29:53Z</th>\n",
       "      <td>CRYPTOPUNKS (Ͼ)</td>\n",
       "      <td>1926936000000000</td>\n",
       "      <td>0.0</td>\n",
       "    </tr>\n",
       "    <tr>\n",
       "      <th>2022-04-27T16:29:53Z</th>\n",
       "      <td>CRYPTOPUNKS (Ͼ)</td>\n",
       "      <td>1926936000000000</td>\n",
       "      <td>0.0</td>\n",
       "    </tr>\n",
       "    <tr>\n",
       "      <th>2022-04-27T16:30:01Z</th>\n",
       "      <td>CRYPTOPUNKS (Ͼ)</td>\n",
       "      <td>1926936000000000</td>\n",
       "      <td>0.0</td>\n",
       "    </tr>\n",
       "    <tr>\n",
       "      <th>2022-04-27T16:37:38Z</th>\n",
       "      <td>CRYPTOPUNKS (Ͼ)</td>\n",
       "      <td>3513052668631610</td>\n",
       "      <td>0.0</td>\n",
       "    </tr>\n",
       "    <tr>\n",
       "      <th>2022-04-27T16:38:49Z</th>\n",
       "      <td>CRYPTOPUNKS (Ͼ)</td>\n",
       "      <td>2132300000000000</td>\n",
       "      <td>0.0</td>\n",
       "    </tr>\n",
       "  </tbody>\n",
       "</table>\n",
       "</div>"
      ],
      "text/plain": [
       "                     to_address_label         fees_paid  value_quote\n",
       "block_signed_at                                                     \n",
       "2022-04-27T16:29:53Z  CRYPTOPUNKS (Ͼ)  1926936000000000          0.0\n",
       "2022-04-27T16:29:53Z  CRYPTOPUNKS (Ͼ)  1926936000000000          0.0\n",
       "2022-04-27T16:30:01Z  CRYPTOPUNKS (Ͼ)  1926936000000000          0.0\n",
       "2022-04-27T16:37:38Z  CRYPTOPUNKS (Ͼ)  3513052668631610          0.0\n",
       "2022-04-27T16:38:49Z  CRYPTOPUNKS (Ͼ)  2132300000000000          0.0"
      ]
     },
     "execution_count": 414,
     "metadata": {},
     "output_type": "execute_result"
    }
   ],
   "source": [
    "# Quering the API for transaction data\n",
    "cryptopunks_tx_url = url + chain_id + \"/address\" + cryptopunks_address + page_option + api_option \n",
    "cryptopunks_tx = requests.get(cryptopunks_tx_url).json()\n",
    "\n",
    "# Convert transactions data to dataframe\n",
    "cryptopunks_tx_df = pd.DataFrame(cryptopunks_tx['data']['items'], columns = ['to_address_label','fees_paid', 'value_quote','block_signed_at']).set_index('block_signed_at').sort_index()\n",
    "\n",
    "cryptopunks_tx_df.head()"
   ]
  },
  {
   "cell_type": "markdown",
   "id": "e28865e9-bb88-4acc-8c4e-8a9fb97cf735",
   "metadata": {},
   "source": [
    "## 2.a Cryptopunks Historical Sales"
   ]
  },
  {
   "cell_type": "code",
   "execution_count": 415,
   "id": "f88f633b-a4a8-4e5e-a8d9-544e23cccbf6",
   "metadata": {},
   "outputs": [
    {
     "data": {
      "application/vnd.plotly.v1+json": {
       "config": {
        "plotlyServerURL": "https://plot.ly"
       },
       "data": [
        {
         "alignmentgroup": "True",
         "hovertemplate": "to_address_label=%{x}<br>value_quote=%{marker.color}<extra></extra>",
         "legendgroup": "",
         "marker": {
          "color": [
           160084.63916015625,
           160084.63916015765,
           174127.1513671875,
           182552.65869140625,
           159214.0034033203,
           365077.23235839844,
           247148.21484375,
           171318.64892578125,
           191165.5517578125,
           144822.3876953125,
           179579.7607421875,
           194061.99951171875,
           260680.2978515625,
           180999.02014160156,
           173786.865234375,
           208544.23828125,
           179579.7607421875,
           188269.10400390625,
           170890.41748046875,
           193077.20727539062,
           194061.99951171875,
           176683.31298828125,
           176683.31298828125,
           202751.3427734375,
           201853.44396972656,
           179579.7607421875,
           199854.89501953125,
           181172.80700683594,
           176683.31298828125,
           181578.3096923828,
           194061.99951171875,
           205647.79052734375,
           201853.44396972656,
           1.9985489501953126e-06,
           191165.5517578125,
           185227.8338623047,
           186023.888671875,
           289756.8359375,
           179475.3841796875,
           220215.1953125,
           191239.51171875,
           217317.626953125,
           222214.51748046876,
           246148.43212890625,
           220215.1953125,
           208480.04345703125,
           175302.8857421875,
           188341.943359375,
           188052.18652343753,
           217317.626953125,
           169507.7490234375,
           434635.25390625,
           169507.74902343896,
           188341.943359375,
           176751.669921875,
           170956.533203125,
           183995.5908203125,
           165161.396484375,
           202829.78515625,
           165161.39648437646,
           163712.6123046875,
           165161.396484375,
           162263.828125,
           163712.61230468896,
           163712.6123046875,
           163712.61230468896,
           162263.828125,
           162263.8281250003,
           162263.82812500146,
           162263.828125,
           184662.03154296873,
           188197.06494140625,
           168146.30859375,
           156936.5546875,
           165343.8701171875,
           168146.30859375,
           173611.06362304688,
           173751.185546875,
           532463.310546875,
           176553.6240234375,
           161140.21240234375,
           161140.21240234515,
           159738.9931640625,
           159738.9931640628,
           159738.9931640639,
           159738.99316406416,
           201775.5703125,
           161140.21240234375,
           251350.70696289063,
           190565.81640625,
           182018.37905273438,
           294228.01565429685,
           186810.54884765623,
           210182.8857421875,
           271338.0205078125,
           137039.404296875,
           175383.02961914064,
           164447.28515625,
           174040.04345703125,
           301486.689453125,
           232966.9873046875,
           46.5933974609375,
           167188.0732421875,
           182262.40771484375,
           171820.00510742186,
           246670.927734375,
           182988.578125,
           162974.20239257812,
           182988.578125,
           144389.4249267578,
           145819.02319335938,
           111508.66479492188,
           200143.75732421875,
           191423.20789794924,
           162974.20239257812,
           174239.43673339844,
           500359.3933105469,
           200000.7974975586,
           154396.61279296875,
           168692.59545898438,
           170588.1005859375,
           210391.99072265625,
           210249.83397216798,
           174852.80310058594,
           173289.07884521486,
           183382.2081298828,
           177695.93811035156,
           204563.56395263673,
           199019.45068359375,
           173431.23559570312,
           164901.83056640625,
           164901.83056640625,
           169166.5330810547,
           178264.5651123047,
           188079.875,
           191018.623046875,
           102.85618164062501,
           102.85618164062501,
           117.549921875,
           73468.701171875,
           2938.748046875,
           5877.49609375,
           675912.05078125,
           191018.623046875,
           170476.77419921875,
           170476.77419921875,
           170447.38671875204,
           170447.38671875204,
           170476.7741992211,
           161631.142578125,
           204801.35138671874,
           170447.38671875,
           185141.126953125,
           180733.0048828125,
           180733.0048828125,
           199834.8671875,
           180312.4833984375,
           182115.60823242186
          ],
          "coloraxis": "coloraxis",
          "pattern": {
           "shape": ""
          }
         },
         "name": "",
         "offsetgroup": "",
         "orientation": "v",
         "showlegend": false,
         "textposition": "auto",
         "type": "bar",
         "x": [
          "CRYPTOPUNKS (Ͼ)",
          "CRYPTOPUNKS (Ͼ)",
          "CRYPTOPUNKS (Ͼ)",
          "CRYPTOPUNKS (Ͼ)",
          "CRYPTOPUNKS (Ͼ)",
          "CRYPTOPUNKS (Ͼ)",
          "CRYPTOPUNKS (Ͼ)",
          "CRYPTOPUNKS (Ͼ)",
          "CRYPTOPUNKS (Ͼ)",
          "CRYPTOPUNKS (Ͼ)",
          "CRYPTOPUNKS (Ͼ)",
          "CRYPTOPUNKS (Ͼ)",
          "CRYPTOPUNKS (Ͼ)",
          "CRYPTOPUNKS (Ͼ)",
          "CRYPTOPUNKS (Ͼ)",
          "CRYPTOPUNKS (Ͼ)",
          "CRYPTOPUNKS (Ͼ)",
          "CRYPTOPUNKS (Ͼ)",
          "CRYPTOPUNKS (Ͼ)",
          "CRYPTOPUNKS (Ͼ)",
          "CRYPTOPUNKS (Ͼ)",
          "CRYPTOPUNKS (Ͼ)",
          "CRYPTOPUNKS (Ͼ)",
          "CRYPTOPUNKS (Ͼ)",
          "CRYPTOPUNKS (Ͼ)",
          "CRYPTOPUNKS (Ͼ)",
          "CRYPTOPUNKS (Ͼ)",
          "CRYPTOPUNKS (Ͼ)",
          "CRYPTOPUNKS (Ͼ)",
          "CRYPTOPUNKS (Ͼ)",
          "CRYPTOPUNKS (Ͼ)",
          "CRYPTOPUNKS (Ͼ)",
          "CRYPTOPUNKS (Ͼ)",
          "CRYPTOPUNKS (Ͼ)",
          "CRYPTOPUNKS (Ͼ)",
          "CRYPTOPUNKS (Ͼ)",
          "CRYPTOPUNKS (Ͼ)",
          "CRYPTOPUNKS (Ͼ)",
          "CRYPTOPUNKS (Ͼ)",
          "CRYPTOPUNKS (Ͼ)",
          "CRYPTOPUNKS (Ͼ)",
          "CRYPTOPUNKS (Ͼ)",
          "CRYPTOPUNKS (Ͼ)",
          "CRYPTOPUNKS (Ͼ)",
          "CRYPTOPUNKS (Ͼ)",
          "CRYPTOPUNKS (Ͼ)",
          "CRYPTOPUNKS (Ͼ)",
          "CRYPTOPUNKS (Ͼ)",
          "CRYPTOPUNKS (Ͼ)",
          "CRYPTOPUNKS (Ͼ)",
          "CRYPTOPUNKS (Ͼ)",
          "CRYPTOPUNKS (Ͼ)",
          "CRYPTOPUNKS (Ͼ)",
          "CRYPTOPUNKS (Ͼ)",
          "CRYPTOPUNKS (Ͼ)",
          "CRYPTOPUNKS (Ͼ)",
          "CRYPTOPUNKS (Ͼ)",
          "CRYPTOPUNKS (Ͼ)",
          "CRYPTOPUNKS (Ͼ)",
          "CRYPTOPUNKS (Ͼ)",
          "CRYPTOPUNKS (Ͼ)",
          "CRYPTOPUNKS (Ͼ)",
          "CRYPTOPUNKS (Ͼ)",
          "CRYPTOPUNKS (Ͼ)",
          "CRYPTOPUNKS (Ͼ)",
          "CRYPTOPUNKS (Ͼ)",
          "CRYPTOPUNKS (Ͼ)",
          "CRYPTOPUNKS (Ͼ)",
          "CRYPTOPUNKS (Ͼ)",
          "CRYPTOPUNKS (Ͼ)",
          "CRYPTOPUNKS (Ͼ)",
          "CRYPTOPUNKS (Ͼ)",
          "CRYPTOPUNKS (Ͼ)",
          "CRYPTOPUNKS (Ͼ)",
          "CRYPTOPUNKS (Ͼ)",
          "CRYPTOPUNKS (Ͼ)",
          "Gem: GemSwap 2",
          "CRYPTOPUNKS (Ͼ)",
          "CRYPTOPUNKS (Ͼ)",
          "CRYPTOPUNKS (Ͼ)",
          "CRYPTOPUNKS (Ͼ)",
          "CRYPTOPUNKS (Ͼ)",
          "CRYPTOPUNKS (Ͼ)",
          "CRYPTOPUNKS (Ͼ)",
          "CRYPTOPUNKS (Ͼ)",
          "CRYPTOPUNKS (Ͼ)",
          "CRYPTOPUNKS (Ͼ)",
          "CRYPTOPUNKS (Ͼ)",
          "CRYPTOPUNKS (Ͼ)",
          "CRYPTOPUNKS (Ͼ)",
          "CRYPTOPUNKS (Ͼ)",
          "CRYPTOPUNKS (Ͼ)",
          "CRYPTOPUNKS (Ͼ)",
          "CRYPTOPUNKS (Ͼ)",
          "CRYPTOPUNKS (Ͼ)",
          "CRYPTOPUNKS (Ͼ)",
          "CRYPTOPUNKS (Ͼ)",
          "CRYPTOPUNKS (Ͼ)",
          "CRYPTOPUNKS (Ͼ)",
          "CRYPTOPUNKS (Ͼ)",
          "CRYPTOPUNKS (Ͼ)",
          "CRYPTOPUNKS (Ͼ)",
          "CRYPTOPUNKS (Ͼ)",
          "CRYPTOPUNKS (Ͼ)",
          "CRYPTOPUNKS (Ͼ)",
          "CRYPTOPUNKS (Ͼ)",
          "CRYPTOPUNKS (Ͼ)",
          "CRYPTOPUNKS (Ͼ)",
          "CRYPTOPUNKS (Ͼ)",
          "CRYPTOPUNKS (Ͼ)",
          "CRYPTOPUNKS (Ͼ)",
          "CRYPTOPUNKS (Ͼ)",
          "CRYPTOPUNKS (Ͼ)",
          "CRYPTOPUNKS (Ͼ)",
          "CRYPTOPUNKS (Ͼ)",
          "CRYPTOPUNKS (Ͼ)",
          "CRYPTOPUNKS (Ͼ)",
          "CRYPTOPUNKS (Ͼ)",
          "CRYPTOPUNKS (Ͼ)",
          "CRYPTOPUNKS (Ͼ)",
          "CRYPTOPUNKS (Ͼ)",
          "CRYPTOPUNKS (Ͼ)",
          "CRYPTOPUNKS (Ͼ)",
          "CRYPTOPUNKS (Ͼ)",
          "CRYPTOPUNKS (Ͼ)",
          "CRYPTOPUNKS (Ͼ)",
          "CRYPTOPUNKS (Ͼ)",
          "CRYPTOPUNKS (Ͼ)",
          "CRYPTOPUNKS (Ͼ)",
          "CRYPTOPUNKS (Ͼ)",
          "CRYPTOPUNKS (Ͼ)",
          "CRYPTOPUNKS (Ͼ)",
          "CRYPTOPUNKS (Ͼ)",
          "CRYPTOPUNKS (Ͼ)",
          "CRYPTOPUNKS (Ͼ)",
          "CRYPTOPUNKS (Ͼ)",
          "CRYPTOPUNKS (Ͼ)",
          "CRYPTOPUNKS (Ͼ)",
          "CRYPTOPUNKS (Ͼ)",
          "CRYPTOPUNKS (Ͼ)",
          "CRYPTOPUNKS (Ͼ)",
          "CRYPTOPUNKS (Ͼ)",
          "CRYPTOPUNKS (Ͼ)",
          "CRYPTOPUNKS (Ͼ)",
          "CRYPTOPUNKS (Ͼ)",
          "CRYPTOPUNKS (Ͼ)",
          "CRYPTOPUNKS (Ͼ)",
          "CRYPTOPUNKS (Ͼ)",
          "CRYPTOPUNKS (Ͼ)",
          "CRYPTOPUNKS (Ͼ)",
          "Gem: GemSwap 2",
          "CRYPTOPUNKS (Ͼ)",
          "CRYPTOPUNKS (Ͼ)",
          "CRYPTOPUNKS (Ͼ)",
          "CRYPTOPUNKS (Ͼ)",
          "CRYPTOPUNKS (Ͼ)",
          "CRYPTOPUNKS (Ͼ)",
          "CRYPTOPUNKS (Ͼ)"
         ],
         "xaxis": "x",
         "y": [
          160084.63916015625,
          160084.63916015765,
          174127.1513671875,
          182552.65869140625,
          159214.0034033203,
          365077.23235839844,
          247148.21484375,
          171318.64892578125,
          191165.5517578125,
          144822.3876953125,
          179579.7607421875,
          194061.99951171875,
          260680.2978515625,
          180999.02014160156,
          173786.865234375,
          208544.23828125,
          179579.7607421875,
          188269.10400390625,
          170890.41748046875,
          193077.20727539062,
          194061.99951171875,
          176683.31298828125,
          176683.31298828125,
          202751.3427734375,
          201853.44396972656,
          179579.7607421875,
          199854.89501953125,
          181172.80700683594,
          176683.31298828125,
          181578.3096923828,
          194061.99951171875,
          205647.79052734375,
          201853.44396972656,
          1.9985489501953126e-06,
          191165.5517578125,
          185227.8338623047,
          186023.888671875,
          289756.8359375,
          179475.3841796875,
          220215.1953125,
          191239.51171875,
          217317.626953125,
          222214.51748046876,
          246148.43212890625,
          220215.1953125,
          208480.04345703125,
          175302.8857421875,
          188341.943359375,
          188052.18652343753,
          217317.626953125,
          169507.7490234375,
          434635.25390625,
          169507.74902343896,
          188341.943359375,
          176751.669921875,
          170956.533203125,
          183995.5908203125,
          165161.396484375,
          202829.78515625,
          165161.39648437646,
          163712.6123046875,
          165161.396484375,
          162263.828125,
          163712.61230468896,
          163712.6123046875,
          163712.61230468896,
          162263.828125,
          162263.8281250003,
          162263.82812500146,
          162263.828125,
          184662.03154296873,
          188197.06494140625,
          168146.30859375,
          156936.5546875,
          165343.8701171875,
          168146.30859375,
          173611.06362304688,
          173751.185546875,
          532463.310546875,
          176553.6240234375,
          161140.21240234375,
          161140.21240234515,
          159738.9931640625,
          159738.9931640628,
          159738.9931640639,
          159738.99316406416,
          201775.5703125,
          161140.21240234375,
          251350.70696289063,
          190565.81640625,
          182018.37905273438,
          294228.01565429685,
          186810.54884765623,
          210182.8857421875,
          271338.0205078125,
          137039.404296875,
          175383.02961914064,
          164447.28515625,
          174040.04345703125,
          301486.689453125,
          232966.9873046875,
          46.5933974609375,
          167188.0732421875,
          182262.40771484375,
          171820.00510742186,
          246670.927734375,
          182988.578125,
          162974.20239257812,
          182988.578125,
          144389.4249267578,
          145819.02319335938,
          111508.66479492188,
          200143.75732421875,
          191423.20789794924,
          162974.20239257812,
          174239.43673339844,
          500359.3933105469,
          200000.7974975586,
          154396.61279296875,
          168692.59545898438,
          170588.1005859375,
          210391.99072265625,
          210249.83397216798,
          174852.80310058594,
          173289.07884521486,
          183382.2081298828,
          177695.93811035156,
          204563.56395263673,
          199019.45068359375,
          173431.23559570312,
          164901.83056640625,
          164901.83056640625,
          169166.5330810547,
          178264.5651123047,
          188079.875,
          191018.623046875,
          102.85618164062501,
          102.85618164062501,
          117.549921875,
          73468.701171875,
          2938.748046875,
          5877.49609375,
          675912.05078125,
          191018.623046875,
          170476.77419921875,
          170476.77419921875,
          170447.38671875204,
          170447.38671875204,
          170476.7741992211,
          161631.142578125,
          204801.35138671874,
          170447.38671875,
          185141.126953125,
          180733.0048828125,
          180733.0048828125,
          199834.8671875,
          180312.4833984375,
          182115.60823242186
         ],
         "yaxis": "y"
        }
       ],
       "layout": {
        "barmode": "relative",
        "coloraxis": {
         "colorbar": {
          "title": {
           "text": "value_quote"
          }
         },
         "colorscale": [
          [
           0,
           "#0d0887"
          ],
          [
           0.1111111111111111,
           "#46039f"
          ],
          [
           0.2222222222222222,
           "#7201a8"
          ],
          [
           0.3333333333333333,
           "#9c179e"
          ],
          [
           0.4444444444444444,
           "#bd3786"
          ],
          [
           0.5555555555555556,
           "#d8576b"
          ],
          [
           0.6666666666666666,
           "#ed7953"
          ],
          [
           0.7777777777777778,
           "#fb9f3a"
          ],
          [
           0.8888888888888888,
           "#fdca26"
          ],
          [
           1,
           "#f0f921"
          ]
         ]
        },
        "height": 1020,
        "legend": {
         "tracegroupgap": 0
        },
        "template": {
         "data": {
          "bar": [
           {
            "error_x": {
             "color": "#2a3f5f"
            },
            "error_y": {
             "color": "#2a3f5f"
            },
            "marker": {
             "line": {
              "color": "#E5ECF6",
              "width": 0.5
             },
             "pattern": {
              "fillmode": "overlay",
              "size": 10,
              "solidity": 0.2
             }
            },
            "type": "bar"
           }
          ],
          "barpolar": [
           {
            "marker": {
             "line": {
              "color": "#E5ECF6",
              "width": 0.5
             },
             "pattern": {
              "fillmode": "overlay",
              "size": 10,
              "solidity": 0.2
             }
            },
            "type": "barpolar"
           }
          ],
          "carpet": [
           {
            "aaxis": {
             "endlinecolor": "#2a3f5f",
             "gridcolor": "white",
             "linecolor": "white",
             "minorgridcolor": "white",
             "startlinecolor": "#2a3f5f"
            },
            "baxis": {
             "endlinecolor": "#2a3f5f",
             "gridcolor": "white",
             "linecolor": "white",
             "minorgridcolor": "white",
             "startlinecolor": "#2a3f5f"
            },
            "type": "carpet"
           }
          ],
          "choropleth": [
           {
            "colorbar": {
             "outlinewidth": 0,
             "ticks": ""
            },
            "type": "choropleth"
           }
          ],
          "contour": [
           {
            "colorbar": {
             "outlinewidth": 0,
             "ticks": ""
            },
            "colorscale": [
             [
              0,
              "#0d0887"
             ],
             [
              0.1111111111111111,
              "#46039f"
             ],
             [
              0.2222222222222222,
              "#7201a8"
             ],
             [
              0.3333333333333333,
              "#9c179e"
             ],
             [
              0.4444444444444444,
              "#bd3786"
             ],
             [
              0.5555555555555556,
              "#d8576b"
             ],
             [
              0.6666666666666666,
              "#ed7953"
             ],
             [
              0.7777777777777778,
              "#fb9f3a"
             ],
             [
              0.8888888888888888,
              "#fdca26"
             ],
             [
              1,
              "#f0f921"
             ]
            ],
            "type": "contour"
           }
          ],
          "contourcarpet": [
           {
            "colorbar": {
             "outlinewidth": 0,
             "ticks": ""
            },
            "type": "contourcarpet"
           }
          ],
          "heatmap": [
           {
            "colorbar": {
             "outlinewidth": 0,
             "ticks": ""
            },
            "colorscale": [
             [
              0,
              "#0d0887"
             ],
             [
              0.1111111111111111,
              "#46039f"
             ],
             [
              0.2222222222222222,
              "#7201a8"
             ],
             [
              0.3333333333333333,
              "#9c179e"
             ],
             [
              0.4444444444444444,
              "#bd3786"
             ],
             [
              0.5555555555555556,
              "#d8576b"
             ],
             [
              0.6666666666666666,
              "#ed7953"
             ],
             [
              0.7777777777777778,
              "#fb9f3a"
             ],
             [
              0.8888888888888888,
              "#fdca26"
             ],
             [
              1,
              "#f0f921"
             ]
            ],
            "type": "heatmap"
           }
          ],
          "heatmapgl": [
           {
            "colorbar": {
             "outlinewidth": 0,
             "ticks": ""
            },
            "colorscale": [
             [
              0,
              "#0d0887"
             ],
             [
              0.1111111111111111,
              "#46039f"
             ],
             [
              0.2222222222222222,
              "#7201a8"
             ],
             [
              0.3333333333333333,
              "#9c179e"
             ],
             [
              0.4444444444444444,
              "#bd3786"
             ],
             [
              0.5555555555555556,
              "#d8576b"
             ],
             [
              0.6666666666666666,
              "#ed7953"
             ],
             [
              0.7777777777777778,
              "#fb9f3a"
             ],
             [
              0.8888888888888888,
              "#fdca26"
             ],
             [
              1,
              "#f0f921"
             ]
            ],
            "type": "heatmapgl"
           }
          ],
          "histogram": [
           {
            "marker": {
             "pattern": {
              "fillmode": "overlay",
              "size": 10,
              "solidity": 0.2
             }
            },
            "type": "histogram"
           }
          ],
          "histogram2d": [
           {
            "colorbar": {
             "outlinewidth": 0,
             "ticks": ""
            },
            "colorscale": [
             [
              0,
              "#0d0887"
             ],
             [
              0.1111111111111111,
              "#46039f"
             ],
             [
              0.2222222222222222,
              "#7201a8"
             ],
             [
              0.3333333333333333,
              "#9c179e"
             ],
             [
              0.4444444444444444,
              "#bd3786"
             ],
             [
              0.5555555555555556,
              "#d8576b"
             ],
             [
              0.6666666666666666,
              "#ed7953"
             ],
             [
              0.7777777777777778,
              "#fb9f3a"
             ],
             [
              0.8888888888888888,
              "#fdca26"
             ],
             [
              1,
              "#f0f921"
             ]
            ],
            "type": "histogram2d"
           }
          ],
          "histogram2dcontour": [
           {
            "colorbar": {
             "outlinewidth": 0,
             "ticks": ""
            },
            "colorscale": [
             [
              0,
              "#0d0887"
             ],
             [
              0.1111111111111111,
              "#46039f"
             ],
             [
              0.2222222222222222,
              "#7201a8"
             ],
             [
              0.3333333333333333,
              "#9c179e"
             ],
             [
              0.4444444444444444,
              "#bd3786"
             ],
             [
              0.5555555555555556,
              "#d8576b"
             ],
             [
              0.6666666666666666,
              "#ed7953"
             ],
             [
              0.7777777777777778,
              "#fb9f3a"
             ],
             [
              0.8888888888888888,
              "#fdca26"
             ],
             [
              1,
              "#f0f921"
             ]
            ],
            "type": "histogram2dcontour"
           }
          ],
          "mesh3d": [
           {
            "colorbar": {
             "outlinewidth": 0,
             "ticks": ""
            },
            "type": "mesh3d"
           }
          ],
          "parcoords": [
           {
            "line": {
             "colorbar": {
              "outlinewidth": 0,
              "ticks": ""
             }
            },
            "type": "parcoords"
           }
          ],
          "pie": [
           {
            "automargin": true,
            "type": "pie"
           }
          ],
          "scatter": [
           {
            "fillpattern": {
             "fillmode": "overlay",
             "size": 10,
             "solidity": 0.2
            },
            "type": "scatter"
           }
          ],
          "scatter3d": [
           {
            "line": {
             "colorbar": {
              "outlinewidth": 0,
              "ticks": ""
             }
            },
            "marker": {
             "colorbar": {
              "outlinewidth": 0,
              "ticks": ""
             }
            },
            "type": "scatter3d"
           }
          ],
          "scattercarpet": [
           {
            "marker": {
             "colorbar": {
              "outlinewidth": 0,
              "ticks": ""
             }
            },
            "type": "scattercarpet"
           }
          ],
          "scattergeo": [
           {
            "marker": {
             "colorbar": {
              "outlinewidth": 0,
              "ticks": ""
             }
            },
            "type": "scattergeo"
           }
          ],
          "scattergl": [
           {
            "marker": {
             "colorbar": {
              "outlinewidth": 0,
              "ticks": ""
             }
            },
            "type": "scattergl"
           }
          ],
          "scattermapbox": [
           {
            "marker": {
             "colorbar": {
              "outlinewidth": 0,
              "ticks": ""
             }
            },
            "type": "scattermapbox"
           }
          ],
          "scatterpolar": [
           {
            "marker": {
             "colorbar": {
              "outlinewidth": 0,
              "ticks": ""
             }
            },
            "type": "scatterpolar"
           }
          ],
          "scatterpolargl": [
           {
            "marker": {
             "colorbar": {
              "outlinewidth": 0,
              "ticks": ""
             }
            },
            "type": "scatterpolargl"
           }
          ],
          "scatterternary": [
           {
            "marker": {
             "colorbar": {
              "outlinewidth": 0,
              "ticks": ""
             }
            },
            "type": "scatterternary"
           }
          ],
          "surface": [
           {
            "colorbar": {
             "outlinewidth": 0,
             "ticks": ""
            },
            "colorscale": [
             [
              0,
              "#0d0887"
             ],
             [
              0.1111111111111111,
              "#46039f"
             ],
             [
              0.2222222222222222,
              "#7201a8"
             ],
             [
              0.3333333333333333,
              "#9c179e"
             ],
             [
              0.4444444444444444,
              "#bd3786"
             ],
             [
              0.5555555555555556,
              "#d8576b"
             ],
             [
              0.6666666666666666,
              "#ed7953"
             ],
             [
              0.7777777777777778,
              "#fb9f3a"
             ],
             [
              0.8888888888888888,
              "#fdca26"
             ],
             [
              1,
              "#f0f921"
             ]
            ],
            "type": "surface"
           }
          ],
          "table": [
           {
            "cells": {
             "fill": {
              "color": "#EBF0F8"
             },
             "line": {
              "color": "white"
             }
            },
            "header": {
             "fill": {
              "color": "#C8D4E3"
             },
             "line": {
              "color": "white"
             }
            },
            "type": "table"
           }
          ]
         },
         "layout": {
          "annotationdefaults": {
           "arrowcolor": "#2a3f5f",
           "arrowhead": 0,
           "arrowwidth": 1
          },
          "autotypenumbers": "strict",
          "coloraxis": {
           "colorbar": {
            "outlinewidth": 0,
            "ticks": ""
           }
          },
          "colorscale": {
           "diverging": [
            [
             0,
             "#8e0152"
            ],
            [
             0.1,
             "#c51b7d"
            ],
            [
             0.2,
             "#de77ae"
            ],
            [
             0.3,
             "#f1b6da"
            ],
            [
             0.4,
             "#fde0ef"
            ],
            [
             0.5,
             "#f7f7f7"
            ],
            [
             0.6,
             "#e6f5d0"
            ],
            [
             0.7,
             "#b8e186"
            ],
            [
             0.8,
             "#7fbc41"
            ],
            [
             0.9,
             "#4d9221"
            ],
            [
             1,
             "#276419"
            ]
           ],
           "sequential": [
            [
             0,
             "#0d0887"
            ],
            [
             0.1111111111111111,
             "#46039f"
            ],
            [
             0.2222222222222222,
             "#7201a8"
            ],
            [
             0.3333333333333333,
             "#9c179e"
            ],
            [
             0.4444444444444444,
             "#bd3786"
            ],
            [
             0.5555555555555556,
             "#d8576b"
            ],
            [
             0.6666666666666666,
             "#ed7953"
            ],
            [
             0.7777777777777778,
             "#fb9f3a"
            ],
            [
             0.8888888888888888,
             "#fdca26"
            ],
            [
             1,
             "#f0f921"
            ]
           ],
           "sequentialminus": [
            [
             0,
             "#0d0887"
            ],
            [
             0.1111111111111111,
             "#46039f"
            ],
            [
             0.2222222222222222,
             "#7201a8"
            ],
            [
             0.3333333333333333,
             "#9c179e"
            ],
            [
             0.4444444444444444,
             "#bd3786"
            ],
            [
             0.5555555555555556,
             "#d8576b"
            ],
            [
             0.6666666666666666,
             "#ed7953"
            ],
            [
             0.7777777777777778,
             "#fb9f3a"
            ],
            [
             0.8888888888888888,
             "#fdca26"
            ],
            [
             1,
             "#f0f921"
            ]
           ]
          },
          "colorway": [
           "#636efa",
           "#EF553B",
           "#00cc96",
           "#ab63fa",
           "#FFA15A",
           "#19d3f3",
           "#FF6692",
           "#B6E880",
           "#FF97FF",
           "#FECB52"
          ],
          "font": {
           "color": "#2a3f5f"
          },
          "geo": {
           "bgcolor": "white",
           "lakecolor": "white",
           "landcolor": "#E5ECF6",
           "showlakes": true,
           "showland": true,
           "subunitcolor": "white"
          },
          "hoverlabel": {
           "align": "left"
          },
          "hovermode": "closest",
          "mapbox": {
           "style": "light"
          },
          "paper_bgcolor": "white",
          "plot_bgcolor": "#E5ECF6",
          "polar": {
           "angularaxis": {
            "gridcolor": "white",
            "linecolor": "white",
            "ticks": ""
           },
           "bgcolor": "#E5ECF6",
           "radialaxis": {
            "gridcolor": "white",
            "linecolor": "white",
            "ticks": ""
           }
          },
          "scene": {
           "xaxis": {
            "backgroundcolor": "#E5ECF6",
            "gridcolor": "white",
            "gridwidth": 2,
            "linecolor": "white",
            "showbackground": true,
            "ticks": "",
            "zerolinecolor": "white"
           },
           "yaxis": {
            "backgroundcolor": "#E5ECF6",
            "gridcolor": "white",
            "gridwidth": 2,
            "linecolor": "white",
            "showbackground": true,
            "ticks": "",
            "zerolinecolor": "white"
           },
           "zaxis": {
            "backgroundcolor": "#E5ECF6",
            "gridcolor": "white",
            "gridwidth": 2,
            "linecolor": "white",
            "showbackground": true,
            "ticks": "",
            "zerolinecolor": "white"
           }
          },
          "shapedefaults": {
           "line": {
            "color": "#2a3f5f"
           }
          },
          "ternary": {
           "aaxis": {
            "gridcolor": "white",
            "linecolor": "white",
            "ticks": ""
           },
           "baxis": {
            "gridcolor": "white",
            "linecolor": "white",
            "ticks": ""
           },
           "bgcolor": "#E5ECF6",
           "caxis": {
            "gridcolor": "white",
            "linecolor": "white",
            "ticks": ""
           }
          },
          "title": {
           "x": 0.05
          },
          "xaxis": {
           "automargin": true,
           "gridcolor": "white",
           "linecolor": "white",
           "ticks": "",
           "title": {
            "standoff": 15
           },
           "zerolinecolor": "white",
           "zerolinewidth": 2
          },
          "yaxis": {
           "automargin": true,
           "gridcolor": "white",
           "linecolor": "white",
           "ticks": "",
           "title": {
            "standoff": 15
           },
           "zerolinecolor": "white",
           "zerolinewidth": 2
          }
         }
        },
        "title": {
         "text": "Fees paid for transactions per exchange"
        },
        "width": 1000,
        "xaxis": {
         "anchor": "y",
         "autorange": true,
         "domain": [
          0,
          1
         ],
         "range": [
          -0.5,
          1.5
         ],
         "title": {
          "text": "to_address_label"
         },
         "type": "category"
        },
        "yaxis": {
         "anchor": "x",
         "autorange": true,
         "domain": [
          0,
          1
         ],
         "range": [
          0,
          30505169.515937056
         ],
         "title": {
          "text": "value_quote"
         },
         "type": "linear"
        }
       }
      },
      "image/png": "[encoded data removed]",
      "text/html": [
       "<div>                            <div id=\"484368d8-f3f2-484d-90a9-9b60ce577c78\" class=\"plotly-graph-div\" style=\"height:1020px; width:1000px;\"></div>            <script type=\"text/javascript\">                require([\"plotly\"], function(Plotly) {                    window.PLOTLYENV=window.PLOTLYENV || {};                                    if (document.getElementById(\"484368d8-f3f2-484d-90a9-9b60ce577c78\")) {                    Plotly.newPlot(                        \"484368d8-f3f2-484d-90a9-9b60ce577c78\",                        [{\"alignmentgroup\":\"True\",\"hovertemplate\":\"to_address_label=%{x}<br>value_quote=%{marker.color}<extra></extra>\",\"legendgroup\":\"\",\"marker\":{\"color\":[160084.63916015625,160084.63916015765,174127.1513671875,182552.65869140625,159214.0034033203,365077.23235839844,247148.21484375,171318.64892578125,191165.5517578125,144822.3876953125,179579.7607421875,194061.99951171875,260680.2978515625,180999.02014160156,173786.865234375,208544.23828125,179579.7607421875,188269.10400390625,170890.41748046875,193077.20727539062,194061.99951171875,176683.31298828125,176683.31298828125,202751.3427734375,201853.44396972656,179579.7607421875,199854.89501953125,181172.80700683594,176683.31298828125,181578.3096923828,194061.99951171875,205647.79052734375,201853.44396972656,1.9985489501953126e-06,191165.5517578125,185227.8338623047,186023.888671875,289756.8359375,179475.3841796875,220215.1953125,191239.51171875,217317.626953125,222214.51748046876,246148.43212890625,220215.1953125,208480.04345703125,175302.8857421875,188341.943359375,188052.18652343753,217317.626953125,169507.7490234375,434635.25390625,169507.74902343896,188341.943359375,176751.669921875,170956.533203125,183995.5908203125,165161.396484375,202829.78515625,165161.39648437646,163712.6123046875,165161.396484375,162263.828125,163712.61230468896,163712.6123046875,163712.61230468896,162263.828125,162263.8281250003,162263.82812500146,162263.828125,184662.03154296873,188197.06494140625,168146.30859375,156936.5546875,165343.8701171875,168146.30859375,173611.06362304688,173751.185546875,532463.310546875,176553.6240234375,161140.21240234375,161140.21240234515,159738.9931640625,159738.9931640628,159738.9931640639,159738.99316406416,201775.5703125,161140.21240234375,251350.70696289063,190565.81640625,182018.37905273438,294228.01565429685,186810.54884765623,210182.8857421875,271338.0205078125,137039.404296875,175383.02961914064,164447.28515625,174040.04345703125,301486.689453125,232966.9873046875,46.5933974609375,167188.0732421875,182262.40771484375,171820.00510742186,246670.927734375,182988.578125,162974.20239257812,182988.578125,144389.4249267578,145819.02319335938,111508.66479492188,200143.75732421875,191423.20789794924,162974.20239257812,174239.43673339844,500359.3933105469,200000.7974975586,154396.61279296875,168692.59545898438,170588.1005859375,210391.99072265625,210249.83397216798,174852.80310058594,173289.07884521486,183382.2081298828,177695.93811035156,204563.56395263673,199019.45068359375,173431.23559570312,164901.83056640625,164901.83056640625,169166.5330810547,178264.5651123047,188079.875,191018.623046875,102.85618164062501,102.85618164062501,117.549921875,73468.701171875,2938.748046875,5877.49609375,675912.05078125,191018.623046875,170476.77419921875,170476.77419921875,170447.38671875204,170447.38671875204,170476.7741992211,161631.142578125,204801.35138671874,170447.38671875,185141.126953125,180733.0048828125,180733.0048828125,199834.8671875,180312.4833984375,182115.60823242186],\"coloraxis\":\"coloraxis\",\"pattern\":{\"shape\":\"\"}},\"name\":\"\",\"offsetgroup\":\"\",\"orientation\":\"v\",\"showlegend\":false,\"textposition\":\"auto\",\"x\":[\"CRYPTOPUNKS (\\u03fe)\",\"CRYPTOPUNKS (\\u03fe)\",\"CRYPTOPUNKS (\\u03fe)\",\"CRYPTOPUNKS (\\u03fe)\",\"CRYPTOPUNKS (\\u03fe)\",\"CRYPTOPUNKS (\\u03fe)\",\"CRYPTOPUNKS (\\u03fe)\",\"CRYPTOPUNKS (\\u03fe)\",\"CRYPTOPUNKS (\\u03fe)\",\"CRYPTOPUNKS (\\u03fe)\",\"CRYPTOPUNKS (\\u03fe)\",\"CRYPTOPUNKS (\\u03fe)\",\"CRYPTOPUNKS (\\u03fe)\",\"CRYPTOPUNKS (\\u03fe)\",\"CRYPTOPUNKS (\\u03fe)\",\"CRYPTOPUNKS (\\u03fe)\",\"CRYPTOPUNKS (\\u03fe)\",\"CRYPTOPUNKS (\\u03fe)\",\"CRYPTOPUNKS (\\u03fe)\",\"CRYPTOPUNKS (\\u03fe)\",\"CRYPTOPUNKS (\\u03fe)\",\"CRYPTOPUNKS (\\u03fe)\",\"CRYPTOPUNKS (\\u03fe)\",\"CRYPTOPUNKS (\\u03fe)\",\"CRYPTOPUNKS (\\u03fe)\",\"CRYPTOPUNKS (\\u03fe)\",\"CRYPTOPUNKS (\\u03fe)\",\"CRYPTOPUNKS (\\u03fe)\",\"CRYPTOPUNKS (\\u03fe)\",\"CRYPTOPUNKS (\\u03fe)\",\"CRYPTOPUNKS (\\u03fe)\",\"CRYPTOPUNKS (\\u03fe)\",\"CRYPTOPUNKS (\\u03fe)\",\"CRYPTOPUNKS (\\u03fe)\",\"CRYPTOPUNKS (\\u03fe)\",\"CRYPTOPUNKS (\\u03fe)\",\"CRYPTOPUNKS (\\u03fe)\",\"CRYPTOPUNKS (\\u03fe)\",\"CRYPTOPUNKS (\\u03fe)\",\"CRYPTOPUNKS (\\u03fe)\",\"CRYPTOPUNKS (\\u03fe)\",\"CRYPTOPUNKS (\\u03fe)\",\"CRYPTOPUNKS (\\u03fe)\",\"CRYPTOPUNKS (\\u03fe)\",\"CRYPTOPUNKS (\\u03fe)\",\"CRYPTOPUNKS (\\u03fe)\",\"CRYPTOPUNKS (\\u03fe)\",\"CRYPTOPUNKS (\\u03fe)\",\"CRYPTOPUNKS (\\u03fe)\",\"CRYPTOPUNKS (\\u03fe)\",\"CRYPTOPUNKS (\\u03fe)\",\"CRYPTOPUNKS (\\u03fe)\",\"CRYPTOPUNKS (\\u03fe)\",\"CRYPTOPUNKS (\\u03fe)\",\"CRYPTOPUNKS (\\u03fe)\",\"CRYPTOPUNKS (\\u03fe)\",\"CRYPTOPUNKS (\\u03fe)\",\"CRYPTOPUNKS (\\u03fe)\",\"CRYPTOPUNKS (\\u03fe)\",\"CRYPTOPUNKS (\\u03fe)\",\"CRYPTOPUNKS (\\u03fe)\",\"CRYPTOPUNKS (\\u03fe)\",\"CRYPTOPUNKS (\\u03fe)\",\"CRYPTOPUNKS (\\u03fe)\",\"CRYPTOPUNKS (\\u03fe)\",\"CRYPTOPUNKS (\\u03fe)\",\"CRYPTOPUNKS (\\u03fe)\",\"CRYPTOPUNKS (\\u03fe)\",\"CRYPTOPUNKS (\\u03fe)\",\"CRYPTOPUNKS (\\u03fe)\",\"CRYPTOPUNKS (\\u03fe)\",\"CRYPTOPUNKS (\\u03fe)\",\"CRYPTOPUNKS (\\u03fe)\",\"CRYPTOPUNKS (\\u03fe)\",\"CRYPTOPUNKS (\\u03fe)\",\"CRYPTOPUNKS (\\u03fe)\",\"Gem: GemSwap 2\",\"CRYPTOPUNKS (\\u03fe)\",\"CRYPTOPUNKS (\\u03fe)\",\"CRYPTOPUNKS (\\u03fe)\",\"CRYPTOPUNKS (\\u03fe)\",\"CRYPTOPUNKS (\\u03fe)\",\"CRYPTOPUNKS (\\u03fe)\",\"CRYPTOPUNKS (\\u03fe)\",\"CRYPTOPUNKS (\\u03fe)\",\"CRYPTOPUNKS (\\u03fe)\",\"CRYPTOPUNKS (\\u03fe)\",\"CRYPTOPUNKS (\\u03fe)\",\"CRYPTOPUNKS (\\u03fe)\",\"CRYPTOPUNKS (\\u03fe)\",\"CRYPTOPUNKS (\\u03fe)\",\"CRYPTOPUNKS (\\u03fe)\",\"CRYPTOPUNKS (\\u03fe)\",\"CRYPTOPUNKS (\\u03fe)\",\"CRYPTOPUNKS (\\u03fe)\",\"CRYPTOPUNKS (\\u03fe)\",\"CRYPTOPUNKS (\\u03fe)\",\"CRYPTOPUNKS (\\u03fe)\",\"CRYPTOPUNKS (\\u03fe)\",\"CRYPTOPUNKS (\\u03fe)\",\"CRYPTOPUNKS (\\u03fe)\",\"CRYPTOPUNKS (\\u03fe)\",\"CRYPTOPUNKS (\\u03fe)\",\"CRYPTOPUNKS (\\u03fe)\",\"CRYPTOPUNKS (\\u03fe)\",\"CRYPTOPUNKS (\\u03fe)\",\"CRYPTOPUNKS (\\u03fe)\",\"CRYPTOPUNKS (\\u03fe)\",\"CRYPTOPUNKS (\\u03fe)\",\"CRYPTOPUNKS (\\u03fe)\",\"CRYPTOPUNKS (\\u03fe)\",\"CRYPTOPUNKS (\\u03fe)\",\"CRYPTOPUNKS (\\u03fe)\",\"CRYPTOPUNKS (\\u03fe)\",\"CRYPTOPUNKS (\\u03fe)\",\"CRYPTOPUNKS (\\u03fe)\",\"CRYPTOPUNKS (\\u03fe)\",\"CRYPTOPUNKS (\\u03fe)\",\"CRYPTOPUNKS (\\u03fe)\",\"CRYPTOPUNKS (\\u03fe)\",\"CRYPTOPUNKS (\\u03fe)\",\"CRYPTOPUNKS (\\u03fe)\",\"CRYPTOPUNKS (\\u03fe)\",\"CRYPTOPUNKS (\\u03fe)\",\"CRYPTOPUNKS (\\u03fe)\",\"CRYPTOPUNKS (\\u03fe)\",\"CRYPTOPUNKS (\\u03fe)\",\"CRYPTOPUNKS (\\u03fe)\",\"CRYPTOPUNKS (\\u03fe)\",\"CRYPTOPUNKS (\\u03fe)\",\"CRYPTOPUNKS (\\u03fe)\",\"CRYPTOPUNKS (\\u03fe)\",\"CRYPTOPUNKS (\\u03fe)\",\"CRYPTOPUNKS (\\u03fe)\",\"CRYPTOPUNKS (\\u03fe)\",\"CRYPTOPUNKS (\\u03fe)\",\"CRYPTOPUNKS (\\u03fe)\",\"CRYPTOPUNKS (\\u03fe)\",\"CRYPTOPUNKS (\\u03fe)\",\"CRYPTOPUNKS (\\u03fe)\",\"CRYPTOPUNKS (\\u03fe)\",\"CRYPTOPUNKS (\\u03fe)\",\"CRYPTOPUNKS (\\u03fe)\",\"CRYPTOPUNKS (\\u03fe)\",\"CRYPTOPUNKS (\\u03fe)\",\"CRYPTOPUNKS (\\u03fe)\",\"CRYPTOPUNKS (\\u03fe)\",\"CRYPTOPUNKS (\\u03fe)\",\"CRYPTOPUNKS (\\u03fe)\",\"CRYPTOPUNKS (\\u03fe)\",\"Gem: GemSwap 2\",\"CRYPTOPUNKS (\\u03fe)\",\"CRYPTOPUNKS (\\u03fe)\",\"CRYPTOPUNKS (\\u03fe)\",\"CRYPTOPUNKS (\\u03fe)\",\"CRYPTOPUNKS (\\u03fe)\",\"CRYPTOPUNKS (\\u03fe)\",\"CRYPTOPUNKS (\\u03fe)\"],\"xaxis\":\"x\",\"y\":[160084.63916015625,160084.63916015765,174127.1513671875,182552.65869140625,159214.0034033203,365077.23235839844,247148.21484375,171318.64892578125,191165.5517578125,144822.3876953125,179579.7607421875,194061.99951171875,260680.2978515625,180999.02014160156,173786.865234375,208544.23828125,179579.7607421875,188269.10400390625,170890.41748046875,193077.20727539062,194061.99951171875,176683.31298828125,176683.31298828125,202751.3427734375,201853.44396972656,179579.7607421875,199854.89501953125,181172.80700683594,176683.31298828125,181578.3096923828,194061.99951171875,205647.79052734375,201853.44396972656,1.9985489501953126e-06,191165.5517578125,185227.8338623047,186023.888671875,289756.8359375,179475.3841796875,220215.1953125,191239.51171875,217317.626953125,222214.51748046876,246148.43212890625,220215.1953125,208480.04345703125,175302.8857421875,188341.943359375,188052.18652343753,217317.626953125,169507.7490234375,434635.25390625,169507.74902343896,188341.943359375,176751.669921875,170956.533203125,183995.5908203125,165161.396484375,202829.78515625,165161.39648437646,163712.6123046875,165161.396484375,162263.828125,163712.61230468896,163712.6123046875,163712.61230468896,162263.828125,162263.8281250003,162263.82812500146,162263.828125,184662.03154296873,188197.06494140625,168146.30859375,156936.5546875,165343.8701171875,168146.30859375,173611.06362304688,173751.185546875,532463.310546875,176553.6240234375,161140.21240234375,161140.21240234515,159738.9931640625,159738.9931640628,159738.9931640639,159738.99316406416,201775.5703125,161140.21240234375,251350.70696289063,190565.81640625,182018.37905273438,294228.01565429685,186810.54884765623,210182.8857421875,271338.0205078125,137039.404296875,175383.02961914064,164447.28515625,174040.04345703125,301486.689453125,232966.9873046875,46.5933974609375,167188.0732421875,182262.40771484375,171820.00510742186,246670.927734375,182988.578125,162974.20239257812,182988.578125,144389.4249267578,145819.02319335938,111508.66479492188,200143.75732421875,191423.20789794924,162974.20239257812,174239.43673339844,500359.3933105469,200000.7974975586,154396.61279296875,168692.59545898438,170588.1005859375,210391.99072265625,210249.83397216798,174852.80310058594,173289.07884521486,183382.2081298828,177695.93811035156,204563.56395263673,199019.45068359375,173431.23559570312,164901.83056640625,164901.83056640625,169166.5330810547,178264.5651123047,188079.875,191018.623046875,102.85618164062501,102.85618164062501,117.549921875,73468.701171875,2938.748046875,5877.49609375,675912.05078125,191018.623046875,170476.77419921875,170476.77419921875,170447.38671875204,170447.38671875204,170476.7741992211,161631.142578125,204801.35138671874,170447.38671875,185141.126953125,180733.0048828125,180733.0048828125,199834.8671875,180312.4833984375,182115.60823242186],\"yaxis\":\"y\",\"type\":\"bar\"}],                        {\"template\":{\"data\":{\"histogram2dcontour\":[{\"type\":\"histogram2dcontour\",\"colorbar\":{\"outlinewidth\":0,\"ticks\":\"\"},\"colorscale\":[[0.0,\"#0d0887\"],[0.1111111111111111,\"#46039f\"],[0.2222222222222222,\"#7201a8\"],[0.3333333333333333,\"#9c179e\"],[0.4444444444444444,\"#bd3786\"],[0.5555555555555556,\"#d8576b\"],[0.6666666666666666,\"#ed7953\"],[0.7777777777777778,\"#fb9f3a\"],[0.8888888888888888,\"#fdca26\"],[1.0,\"#f0f921\"]]}],\"choropleth\":[{\"type\":\"choropleth\",\"colorbar\":{\"outlinewidth\":0,\"ticks\":\"\"}}],\"histogram2d\":[{\"type\":\"histogram2d\",\"colorbar\":{\"outlinewidth\":0,\"ticks\":\"\"},\"colorscale\":[[0.0,\"#0d0887\"],[0.1111111111111111,\"#46039f\"],[0.2222222222222222,\"#7201a8\"],[0.3333333333333333,\"#9c179e\"],[0.4444444444444444,\"#bd3786\"],[0.5555555555555556,\"#d8576b\"],[0.6666666666666666,\"#ed7953\"],[0.7777777777777778,\"#fb9f3a\"],[0.8888888888888888,\"#fdca26\"],[1.0,\"#f0f921\"]]}],\"heatmap\":[{\"type\":\"heatmap\",\"colorbar\":{\"outlinewidth\":0,\"ticks\":\"\"},\"colorscale\":[[0.0,\"#0d0887\"],[0.1111111111111111,\"#46039f\"],[0.2222222222222222,\"#7201a8\"],[0.3333333333333333,\"#9c179e\"],[0.4444444444444444,\"#bd3786\"],[0.5555555555555556,\"#d8576b\"],[0.6666666666666666,\"#ed7953\"],[0.7777777777777778,\"#fb9f3a\"],[0.8888888888888888,\"#fdca26\"],[1.0,\"#f0f921\"]]}],\"heatmapgl\":[{\"type\":\"heatmapgl\",\"colorbar\":{\"outlinewidth\":0,\"ticks\":\"\"},\"colorscale\":[[0.0,\"#0d0887\"],[0.1111111111111111,\"#46039f\"],[0.2222222222222222,\"#7201a8\"],[0.3333333333333333,\"#9c179e\"],[0.4444444444444444,\"#bd3786\"],[0.5555555555555556,\"#d8576b\"],[0.6666666666666666,\"#ed7953\"],[0.7777777777777778,\"#fb9f3a\"],[0.8888888888888888,\"#fdca26\"],[1.0,\"#f0f921\"]]}],\"contourcarpet\":[{\"type\":\"contourcarpet\",\"colorbar\":{\"outlinewidth\":0,\"ticks\":\"\"}}],\"contour\":[{\"type\":\"contour\",\"colorbar\":{\"outlinewidth\":0,\"ticks\":\"\"},\"colorscale\":[[0.0,\"#0d0887\"],[0.1111111111111111,\"#46039f\"],[0.2222222222222222,\"#7201a8\"],[0.3333333333333333,\"#9c179e\"],[0.4444444444444444,\"#bd3786\"],[0.5555555555555556,\"#d8576b\"],[0.6666666666666666,\"#ed7953\"],[0.7777777777777778,\"#fb9f3a\"],[0.8888888888888888,\"#fdca26\"],[1.0,\"#f0f921\"]]}],\"surface\":[{\"type\":\"surface\",\"colorbar\":{\"outlinewidth\":0,\"ticks\":\"\"},\"colorscale\":[[0.0,\"#0d0887\"],[0.1111111111111111,\"#46039f\"],[0.2222222222222222,\"#7201a8\"],[0.3333333333333333,\"#9c179e\"],[0.4444444444444444,\"#bd3786\"],[0.5555555555555556,\"#d8576b\"],[0.6666666666666666,\"#ed7953\"],[0.7777777777777778,\"#fb9f3a\"],[0.8888888888888888,\"#fdca26\"],[1.0,\"#f0f921\"]]}],\"mesh3d\":[{\"type\":\"mesh3d\",\"colorbar\":{\"outlinewidth\":0,\"ticks\":\"\"}}],\"scatter\":[{\"fillpattern\":{\"fillmode\":\"overlay\",\"size\":10,\"solidity\":0.2},\"type\":\"scatter\"}],\"parcoords\":[{\"type\":\"parcoords\",\"line\":{\"colorbar\":{\"outlinewidth\":0,\"ticks\":\"\"}}}],\"scatterpolargl\":[{\"type\":\"scatterpolargl\",\"marker\":{\"colorbar\":{\"outlinewidth\":0,\"ticks\":\"\"}}}],\"bar\":[{\"error_x\":{\"color\":\"#2a3f5f\"},\"error_y\":{\"color\":\"#2a3f5f\"},\"marker\":{\"line\":{\"color\":\"#E5ECF6\",\"width\":0.5},\"pattern\":{\"fillmode\":\"overlay\",\"size\":10,\"solidity\":0.2}},\"type\":\"bar\"}],\"scattergeo\":[{\"type\":\"scattergeo\",\"marker\":{\"colorbar\":{\"outlinewidth\":0,\"ticks\":\"\"}}}],\"scatterpolar\":[{\"type\":\"scatterpolar\",\"marker\":{\"colorbar\":{\"outlinewidth\":0,\"ticks\":\"\"}}}],\"histogram\":[{\"marker\":{\"pattern\":{\"fillmode\":\"overlay\",\"size\":10,\"solidity\":0.2}},\"type\":\"histogram\"}],\"scattergl\":[{\"type\":\"scattergl\",\"marker\":{\"colorbar\":{\"outlinewidth\":0,\"ticks\":\"\"}}}],\"scatter3d\":[{\"type\":\"scatter3d\",\"line\":{\"colorbar\":{\"outlinewidth\":0,\"ticks\":\"\"}},\"marker\":{\"colorbar\":{\"outlinewidth\":0,\"ticks\":\"\"}}}],\"scattermapbox\":[{\"type\":\"scattermapbox\",\"marker\":{\"colorbar\":{\"outlinewidth\":0,\"ticks\":\"\"}}}],\"scatterternary\":[{\"type\":\"scatterternary\",\"marker\":{\"colorbar\":{\"outlinewidth\":0,\"ticks\":\"\"}}}],\"scattercarpet\":[{\"type\":\"scattercarpet\",\"marker\":{\"colorbar\":{\"outlinewidth\":0,\"ticks\":\"\"}}}],\"carpet\":[{\"aaxis\":{\"endlinecolor\":\"#2a3f5f\",\"gridcolor\":\"white\",\"linecolor\":\"white\",\"minorgridcolor\":\"white\",\"startlinecolor\":\"#2a3f5f\"},\"baxis\":{\"endlinecolor\":\"#2a3f5f\",\"gridcolor\":\"white\",\"linecolor\":\"white\",\"minorgridcolor\":\"white\",\"startlinecolor\":\"#2a3f5f\"},\"type\":\"carpet\"}],\"table\":[{\"cells\":{\"fill\":{\"color\":\"#EBF0F8\"},\"line\":{\"color\":\"white\"}},\"header\":{\"fill\":{\"color\":\"#C8D4E3\"},\"line\":{\"color\":\"white\"}},\"type\":\"table\"}],\"barpolar\":[{\"marker\":{\"line\":{\"color\":\"#E5ECF6\",\"width\":0.5},\"pattern\":{\"fillmode\":\"overlay\",\"size\":10,\"solidity\":0.2}},\"type\":\"barpolar\"}],\"pie\":[{\"automargin\":true,\"type\":\"pie\"}]},\"layout\":{\"autotypenumbers\":\"strict\",\"colorway\":[\"#636efa\",\"#EF553B\",\"#00cc96\",\"#ab63fa\",\"#FFA15A\",\"#19d3f3\",\"#FF6692\",\"#B6E880\",\"#FF97FF\",\"#FECB52\"],\"font\":{\"color\":\"#2a3f5f\"},\"hovermode\":\"closest\",\"hoverlabel\":{\"align\":\"left\"},\"paper_bgcolor\":\"white\",\"plot_bgcolor\":\"#E5ECF6\",\"polar\":{\"bgcolor\":\"#E5ECF6\",\"angularaxis\":{\"gridcolor\":\"white\",\"linecolor\":\"white\",\"ticks\":\"\"},\"radialaxis\":{\"gridcolor\":\"white\",\"linecolor\":\"white\",\"ticks\":\"\"}},\"ternary\":{\"bgcolor\":\"#E5ECF6\",\"aaxis\":{\"gridcolor\":\"white\",\"linecolor\":\"white\",\"ticks\":\"\"},\"baxis\":{\"gridcolor\":\"white\",\"linecolor\":\"white\",\"ticks\":\"\"},\"caxis\":{\"gridcolor\":\"white\",\"linecolor\":\"white\",\"ticks\":\"\"}},\"coloraxis\":{\"colorbar\":{\"outlinewidth\":0,\"ticks\":\"\"}},\"colorscale\":{\"sequential\":[[0.0,\"#0d0887\"],[0.1111111111111111,\"#46039f\"],[0.2222222222222222,\"#7201a8\"],[0.3333333333333333,\"#9c179e\"],[0.4444444444444444,\"#bd3786\"],[0.5555555555555556,\"#d8576b\"],[0.6666666666666666,\"#ed7953\"],[0.7777777777777778,\"#fb9f3a\"],[0.8888888888888888,\"#fdca26\"],[1.0,\"#f0f921\"]],\"sequentialminus\":[[0.0,\"#0d0887\"],[0.1111111111111111,\"#46039f\"],[0.2222222222222222,\"#7201a8\"],[0.3333333333333333,\"#9c179e\"],[0.4444444444444444,\"#bd3786\"],[0.5555555555555556,\"#d8576b\"],[0.6666666666666666,\"#ed7953\"],[0.7777777777777778,\"#fb9f3a\"],[0.8888888888888888,\"#fdca26\"],[1.0,\"#f0f921\"]],\"diverging\":[[0,\"#8e0152\"],[0.1,\"#c51b7d\"],[0.2,\"#de77ae\"],[0.3,\"#f1b6da\"],[0.4,\"#fde0ef\"],[0.5,\"#f7f7f7\"],[0.6,\"#e6f5d0\"],[0.7,\"#b8e186\"],[0.8,\"#7fbc41\"],[0.9,\"#4d9221\"],[1,\"#276419\"]]},\"xaxis\":{\"gridcolor\":\"white\",\"linecolor\":\"white\",\"ticks\":\"\",\"title\":{\"standoff\":15},\"zerolinecolor\":\"white\",\"automargin\":true,\"zerolinewidth\":2},\"yaxis\":{\"gridcolor\":\"white\",\"linecolor\":\"white\",\"ticks\":\"\",\"title\":{\"standoff\":15},\"zerolinecolor\":\"white\",\"automargin\":true,\"zerolinewidth\":2},\"scene\":{\"xaxis\":{\"backgroundcolor\":\"#E5ECF6\",\"gridcolor\":\"white\",\"linecolor\":\"white\",\"showbackground\":true,\"ticks\":\"\",\"zerolinecolor\":\"white\",\"gridwidth\":2},\"yaxis\":{\"backgroundcolor\":\"#E5ECF6\",\"gridcolor\":\"white\",\"linecolor\":\"white\",\"showbackground\":true,\"ticks\":\"\",\"zerolinecolor\":\"white\",\"gridwidth\":2},\"zaxis\":{\"backgroundcolor\":\"#E5ECF6\",\"gridcolor\":\"white\",\"linecolor\":\"white\",\"showbackground\":true,\"ticks\":\"\",\"zerolinecolor\":\"white\",\"gridwidth\":2}},\"shapedefaults\":{\"line\":{\"color\":\"#2a3f5f\"}},\"annotationdefaults\":{\"arrowcolor\":\"#2a3f5f\",\"arrowhead\":0,\"arrowwidth\":1},\"geo\":{\"bgcolor\":\"white\",\"landcolor\":\"#E5ECF6\",\"subunitcolor\":\"white\",\"showland\":true,\"showlakes\":true,\"lakecolor\":\"white\"},\"title\":{\"x\":0.05},\"mapbox\":{\"style\":\"light\"}}},\"xaxis\":{\"anchor\":\"y\",\"domain\":[0.0,1.0],\"title\":{\"text\":\"to_address_label\"}},\"yaxis\":{\"anchor\":\"x\",\"domain\":[0.0,1.0],\"title\":{\"text\":\"value_quote\"}},\"coloraxis\":{\"colorbar\":{\"title\":{\"text\":\"value_quote\"}},\"colorscale\":[[0.0,\"#0d0887\"],[0.1111111111111111,\"#46039f\"],[0.2222222222222222,\"#7201a8\"],[0.3333333333333333,\"#9c179e\"],[0.4444444444444444,\"#bd3786\"],[0.5555555555555556,\"#d8576b\"],[0.6666666666666666,\"#ed7953\"],[0.7777777777777778,\"#fb9f3a\"],[0.8888888888888888,\"#fdca26\"],[1.0,\"#f0f921\"]]},\"legend\":{\"tracegroupgap\":0},\"title\":{\"text\":\"Fees paid for transactions per exchange\"},\"barmode\":\"relative\",\"height\":1020,\"width\":1000},                        {\"responsive\": true}                    ).then(function(){\n",
       "                            \n",
       "var gd = document.getElementById('484368d8-f3f2-484d-90a9-9b60ce577c78');\n",
       "var x = new MutationObserver(function (mutations, observer) {{\n",
       "        var display = window.getComputedStyle(gd).display;\n",
       "        if (!display || display === 'none') {{\n",
       "            console.log([gd, 'removed!']);\n",
       "            Plotly.purge(gd);\n",
       "            observer.disconnect();\n",
       "        }}\n",
       "}});\n",
       "\n",
       "// Listen for the removal of the full notebook cells\n",
       "var notebookContainer = gd.closest('#notebook-container');\n",
       "if (notebookContainer) {{\n",
       "    x.observe(notebookContainer, {childList: true});\n",
       "}}\n",
       "\n",
       "// Listen for the clearing of the current output cell\n",
       "var outputEl = gd.closest('.output');\n",
       "if (outputEl) {{\n",
       "    x.observe(outputEl, {childList: true});\n",
       "}}\n",
       "\n",
       "                        })                };                });            </script>        </div>"
      ]
     },
     "metadata": {},
     "output_type": "display_data"
    }
   ],
   "source": [
    "# Filter Through data for non null transactions\n",
    "cryptopunks_sales_df = cryptopunks_tx_df[cryptopunks_tx_df['value_quote'] != 0]\n",
    "cryptopunks_sales = cryptopunks_sales_df[cryptopunks_sales_df['to_address_label'].notnull()].dropna()\n",
    "\n",
    "\n",
    "# Creating the plot using plotly express\n",
    "cryptopunks_fig = px.bar(cryptopunks_sales, \n",
    "             x='to_address_label', \n",
    "             y= 'value_quote',\n",
    "             color='value_quote',\n",
    "             height=1020,\n",
    "             width = 1000,\n",
    "             title=\"Fees paid for transactions per exchange\"\n",
    "            )\n",
    "cryptopunks_fig.show()"
   ]
  },
  {
   "cell_type": "markdown",
   "id": "02840521-4825-4a2e-87d4-cbd99d2c6e93",
   "metadata": {},
   "source": [
    "## 2.b Cryptopunks Fees paid"
   ]
  },
  {
   "cell_type": "code",
   "execution_count": 433,
   "id": "890a759d-c17c-4773-b84b-752f9c9ed27a",
   "metadata": {},
   "outputs": [
    {
     "data": {
      "text/plain": [
       "<AxesSubplot:xlabel='block_signed_at', ylabel='value in USD'>"
      ]
     },
     "execution_count": 433,
     "metadata": {},
     "output_type": "execute_result"
    },
    {
     "data": {
      "image/png": "[encoded data removed]",
      "text/plain": [
       "<Figure size 1440x360 with 1 Axes>"
      ]
     },
     "metadata": {
      "needs_background": "light"
     },
     "output_type": "display_data"
    }
   ],
   "source": [
    "# Filter Through data for non null transactions\n",
    "cryptopunks_fees = cryptopunks_sales_df['fees_paid'].astype(int)/10**18*eth_value\n",
    "\n",
    "cryptopunks_fees.plot.bar(rot = 90, figsize = (20,5), ylabel = 'value in USD')"
   ]
  },
  {
   "cell_type": "markdown",
   "id": "da4ea625-5cc5-490f-a442-88eddefc4824",
   "metadata": {},
   "source": [
    "## 3. BAYC Daily Volume"
   ]
  },
  {
   "cell_type": "code",
   "execution_count": 306,
   "id": "b07743af-e1d3-4ebf-add3-926eaed535b5",
   "metadata": {},
   "outputs": [
    {
     "data": {
      "text/html": [
       "<div>\n",
       "<style scoped>\n",
       "    .dataframe tbody tr th:only-of-type {\n",
       "        vertical-align: middle;\n",
       "    }\n",
       "\n",
       "    .dataframe tbody tr th {\n",
       "        vertical-align: top;\n",
       "    }\n",
       "\n",
       "    .dataframe thead th {\n",
       "        text-align: right;\n",
       "    }\n",
       "</style>\n",
       "<table border=\"1\" class=\"dataframe\">\n",
       "  <thead>\n",
       "    <tr style=\"text-align: right;\">\n",
       "      <th></th>\n",
       "      <th>volume_quote_day</th>\n",
       "      <th>unique_token_ids_sold_count_day</th>\n",
       "    </tr>\n",
       "    <tr>\n",
       "      <th>opening_date</th>\n",
       "      <th></th>\n",
       "      <th></th>\n",
       "    </tr>\n",
       "  </thead>\n",
       "  <tbody>\n",
       "    <tr>\n",
       "      <th>2021-04-30</th>\n",
       "      <td>8.241964e+02</td>\n",
       "      <td>1</td>\n",
       "    </tr>\n",
       "    <tr>\n",
       "      <th>2021-05-01</th>\n",
       "      <td>1.737182e+06</td>\n",
       "      <td>1635</td>\n",
       "    </tr>\n",
       "    <tr>\n",
       "      <th>2021-05-02</th>\n",
       "      <td>4.950946e+06</td>\n",
       "      <td>1534</td>\n",
       "    </tr>\n",
       "    <tr>\n",
       "      <th>2021-05-03</th>\n",
       "      <td>3.948996e+06</td>\n",
       "      <td>996</td>\n",
       "    </tr>\n",
       "    <tr>\n",
       "      <th>2021-05-04</th>\n",
       "      <td>1.388962e+06</td>\n",
       "      <td>336</td>\n",
       "    </tr>\n",
       "    <tr>\n",
       "      <th>...</th>\n",
       "      <td>...</td>\n",
       "      <td>...</td>\n",
       "    </tr>\n",
       "    <tr>\n",
       "      <th>2022-04-02</th>\n",
       "      <td>3.924610e+06</td>\n",
       "      <td>6</td>\n",
       "    </tr>\n",
       "    <tr>\n",
       "      <th>2022-04-03</th>\n",
       "      <td>3.946992e+06</td>\n",
       "      <td>10</td>\n",
       "    </tr>\n",
       "    <tr>\n",
       "      <th>2022-04-04</th>\n",
       "      <td>5.910691e+06</td>\n",
       "      <td>11</td>\n",
       "    </tr>\n",
       "    <tr>\n",
       "      <th>2022-04-05</th>\n",
       "      <td>7.171950e+06</td>\n",
       "      <td>11</td>\n",
       "    </tr>\n",
       "    <tr>\n",
       "      <th>2022-04-06</th>\n",
       "      <td>4.165680e+06</td>\n",
       "      <td>10</td>\n",
       "    </tr>\n",
       "  </tbody>\n",
       "</table>\n",
       "<p>342 rows × 2 columns</p>\n",
       "</div>"
      ],
      "text/plain": [
       "              volume_quote_day  unique_token_ids_sold_count_day\n",
       "opening_date                                                   \n",
       "2021-04-30        8.241964e+02                                1\n",
       "2021-05-01        1.737182e+06                             1635\n",
       "2021-05-02        4.950946e+06                             1534\n",
       "2021-05-03        3.948996e+06                              996\n",
       "2021-05-04        1.388962e+06                              336\n",
       "...                        ...                              ...\n",
       "2022-04-02        3.924610e+06                                6\n",
       "2022-04-03        3.946992e+06                               10\n",
       "2022-04-04        5.910691e+06                               11\n",
       "2022-04-05        7.171950e+06                               11\n",
       "2022-04-06        4.165680e+06                               10\n",
       "\n",
       "[342 rows x 2 columns]"
      ]
     },
     "execution_count": 306,
     "metadata": {},
     "output_type": "execute_result"
    }
   ],
   "source": [
    "# Create variables needed for owner data and add to url\n",
    "BAYC_historical_url = url + chain_id + \"/nft_market/collection\" + BAYC_address + api_no_option\n",
    "\n",
    "# Get request\n",
    "BAYC_historical_json = requests.get(BAYC_historical_url).json()\n",
    "\n",
    "# Convert historical json data to a dataframe and view data\n",
    "BAYC_df = pd.DataFrame(BAYC_historical_json['data']['items'])\n",
    "\n",
    "# Set index to date\n",
    "BAYC_df = BAYC_df.set_index('opening_date')\n",
    "\n",
    "# Create Volume dataframe\n",
    "BAYC_vol_df = pd.DataFrame(BAYC_df, columns = ['volume_quote_day', 'unique_token_ids_sold_count_day']).sort_index()\n",
    "BAYC_vol_df"
   ]
  },
  {
   "cell_type": "code",
   "execution_count": 307,
   "id": "b3a6cd0a-5236-41a6-9666-37d086fa8037",
   "metadata": {},
   "outputs": [
    {
     "data": {
      "text/plain": [
       "<AxesSubplot:xlabel='opening_date'>"
      ]
     },
     "execution_count": 307,
     "metadata": {},
     "output_type": "execute_result"
    },
    {
     "data": {
      "image/png": "[encoded data removed]",
      "text/plain": [
       "<Figure size 1440x288 with 1 Axes>"
      ]
     },
     "metadata": {
      "needs_background": "light"
     },
     "output_type": "display_data"
    }
   ],
   "source": [
    "# Plot Volume quote per day\n",
    "BAYC_volume = BAYC_vol_df['volume_quote_day'].astype(int)\n",
    "\n",
    "BAYC_volume.plot.bar(figsize = (20,4))"
   ]
  },
  {
   "cell_type": "markdown",
   "id": "dca39069-1d41-4051-9a3f-d63811dab929",
   "metadata": {},
   "source": [
    "## 3a BAYC Historical Sales"
   ]
  },
  {
   "cell_type": "code",
   "execution_count": 308,
   "id": "6596c262-0f17-4b3a-844d-e27c76c4a10c",
   "metadata": {},
   "outputs": [
    {
     "data": {
      "text/html": [
       "<div>\n",
       "<style scoped>\n",
       "    .dataframe tbody tr th:only-of-type {\n",
       "        vertical-align: middle;\n",
       "    }\n",
       "\n",
       "    .dataframe tbody tr th {\n",
       "        vertical-align: top;\n",
       "    }\n",
       "\n",
       "    .dataframe thead th {\n",
       "        text-align: right;\n",
       "    }\n",
       "</style>\n",
       "<table border=\"1\" class=\"dataframe\">\n",
       "  <thead>\n",
       "    <tr style=\"text-align: right;\">\n",
       "      <th></th>\n",
       "      <th>to_address_label</th>\n",
       "      <th>fees_paid</th>\n",
       "      <th>value_quote</th>\n",
       "    </tr>\n",
       "    <tr>\n",
       "      <th>block_signed_at</th>\n",
       "      <th></th>\n",
       "      <th></th>\n",
       "      <th></th>\n",
       "    </tr>\n",
       "  </thead>\n",
       "  <tbody>\n",
       "    <tr>\n",
       "      <th>2022-05-02T15:35:30Z</th>\n",
       "      <td>None</td>\n",
       "      <td>3874808344457960</td>\n",
       "      <td>0.000000</td>\n",
       "    </tr>\n",
       "    <tr>\n",
       "      <th>2022-05-02T15:52:08Z</th>\n",
       "      <td>None</td>\n",
       "      <td>8513931761177811</td>\n",
       "      <td>0.000000</td>\n",
       "    </tr>\n",
       "    <tr>\n",
       "      <th>2022-05-02T15:55:23Z</th>\n",
       "      <td>Wyvern Exchange Contract (-)</td>\n",
       "      <td>22855032989042062</td>\n",
       "      <td>371695.549316</td>\n",
       "    </tr>\n",
       "    <tr>\n",
       "      <th>2022-05-02T15:55:38Z</th>\n",
       "      <td>None</td>\n",
       "      <td>10679674840308063</td>\n",
       "      <td>0.000000</td>\n",
       "    </tr>\n",
       "    <tr>\n",
       "      <th>2022-05-02T15:56:25Z</th>\n",
       "      <td>LooksRare: Exchange</td>\n",
       "      <td>29860260602386347</td>\n",
       "      <td>0.000000</td>\n",
       "    </tr>\n",
       "  </tbody>\n",
       "</table>\n",
       "</div>"
      ],
      "text/plain": [
       "                                  to_address_label          fees_paid  \\\n",
       "block_signed_at                                                         \n",
       "2022-05-02T15:35:30Z                          None   3874808344457960   \n",
       "2022-05-02T15:52:08Z                          None   8513931761177811   \n",
       "2022-05-02T15:55:23Z  Wyvern Exchange Contract (-)  22855032989042062   \n",
       "2022-05-02T15:55:38Z                          None  10679674840308063   \n",
       "2022-05-02T15:56:25Z           LooksRare: Exchange  29860260602386347   \n",
       "\n",
       "                        value_quote  \n",
       "block_signed_at                      \n",
       "2022-05-02T15:35:30Z       0.000000  \n",
       "2022-05-02T15:52:08Z       0.000000  \n",
       "2022-05-02T15:55:23Z  371695.549316  \n",
       "2022-05-02T15:55:38Z       0.000000  \n",
       "2022-05-02T15:56:25Z       0.000000  "
      ]
     },
     "execution_count": 308,
     "metadata": {},
     "output_type": "execute_result"
    }
   ],
   "source": [
    "# Quering the API for transaction data\n",
    "BAYC_tx_url = url + chain_id + \"/address\" + BAYC_address + page_option + api_option \n",
    "BAYC_tx = requests.get(BAYC_tx_url).json()\n",
    "\n",
    "# Convert transactions data to dataframe\n",
    "BAYC_tx_df = pd.DataFrame(BAYC_tx['data']['items'], columns = ['to_address_label','fees_paid', 'value_quote','block_signed_at']).set_index('block_signed_at').sort_index()\n",
    "\n",
    "BAYC_tx_df.head()"
   ]
  },
  {
   "cell_type": "code",
   "execution_count": 309,
   "id": "931c291a-c666-45fb-9390-03acccfba2e2",
   "metadata": {},
   "outputs": [
    {
     "data": {
      "application/vnd.plotly.v1+json": {
       "config": {
        "plotlyServerURL": "https://plot.ly"
       },
       "data": [
        {
         "alignmentgroup": "True",
         "hovertemplate": "to_address_label=%{x}<br>value_quote=%{marker.color}<extra></extra>",
         "legendgroup": "",
         "marker": {
          "color": [
           371695.54931640625,
           371695.54931640625,
           328807.6013183594,
           397428.3181152344,
           303074.83251953125,
           334525.9943847656,
           337385.19091796875,
           321274.2561035156,
           355391.8762207031,
           353117.36821289064,
           355391.8762207031,
           426470.25146484375,
           72188.53536092486,
           341176.201171875,
           332646.7961425781,
           331225.2286376953,
           298529.1760253906,
           341176.201171875,
           341176.201171875,
           326960.5261230469,
           300516.52739721676,
           321274.2561035156,
           338333.0661621094,
           321274.2561035156,
           324117.39111328125,
           312744.85107421875,
           304215.4460449219,
           426470.25146484375,
           298529.1760253906,
           312744.85107421875,
           363039.9093969726,
           332078.529296875,
           326201.033203125,
           323262.28515625,
           336486.6513671875,
           348800.00568359374,
           364375.3703320312,
           317090.9142578125,
           329139.78125,
           334723.4025390625,
           314416.6535351562,
           323262.28515625,
           314446.041015625,
           337662.1505859375,
           320323.537109375,
           332078.529296875,
           337956.025390625,
           335017.27734375,
           337956.025390625,
           337956.025390625,
           346772.26953125,
           364375.3703320312,
           342364.1474609375,
           349711.017578125,
           340894.7734375,
           340894.7734375,
           365874.1318359375,
           343833.521484375,
           367343.505859375,
           350563.25451171875,
           367343.505859375,
           349711.017578125,
           351738.75373046874,
           364375.3703320312,
           364404.7578125,
           346772.26953125,
           352649.765625,
           379098.498046875,
           351751.9780966797,
           367343.505859375,
           352649.765625,
           370282.25390625,
           352649.765625,
           367343.505859375,
           367343.505859375,
           367343.505859375,
           358527.26171875,
           367343.505859375,
           366432.49396484374,
           367343.505859375,
           335017.27734375,
           335017.27734375,
           332078.529296875,
           345302.8955078125,
           396730.986328125,
           343833.521484375,
           337956.025390625,
           381743.3712890625,
           342922.50958984374,
           352649.765625,
           484893.427734375,
           352649.765625,
           352649.765625,
           354689.8445191406,
           358527.26171875,
           411424.7265625,
           351180.3916015625,
           359761.5358984375,
           349711.017578125,
           349358.3678125,
           337956.025390625,
           361113.36,
           382037.24609375,
           411424.7265625,
           337956.025390625,
           357873.97802792967,
           335017.27734375,
           366755.75625,
           1469.3740234375,
           496648.419921875,
           349711.017578125,
           382037.24609375,
           358374.4201660156,
           329704.4665527344,
           366975.40625,
           344039.443359375,
           344039.443359375,
           344039.443359375,
           338018.75310058595,
           1175468.0981445312
          ],
          "coloraxis": "coloraxis",
          "pattern": {
           "shape": ""
          }
         },
         "name": "",
         "offsetgroup": "",
         "orientation": "v",
         "showlegend": false,
         "textposition": "auto",
         "type": "bar",
         "x": [
          "Wyvern Exchange Contract (-)",
          "Wyvern Exchange Contract (-)",
          "Wyvern Exchange Contract (-)",
          "Wyvern Exchange Contract (-)",
          "Wyvern Exchange Contract (-)",
          "LooksRare: Exchange",
          "Wyvern Exchange Contract (-)",
          "LooksRare: Exchange",
          "Wyvern Exchange Contract (-)",
          "Wyvern Exchange Contract (-)",
          "Wyvern Exchange Contract (-)",
          "Wyvern Exchange Contract (-)",
          "LooksRare: Exchange",
          "LooksRare: Exchange",
          "Wyvern Exchange Contract (-)",
          "Wyvern Exchange Contract (-)",
          "Wyvern Exchange Contract (-)",
          "Wyvern Exchange Contract (-)",
          "Wyvern Exchange Contract (-)",
          "LooksRare: Exchange",
          "LooksRare: Exchange",
          "Gem: GemSwap 2",
          "LooksRare: Exchange",
          "Wyvern Exchange Contract (-)",
          "Wyvern Exchange Contract (-)",
          "LooksRare: Exchange",
          "Wyvern Exchange Contract (-)",
          "Wyvern Exchange Contract (-)",
          "Wyvern Exchange Contract (-)",
          "Wyvern Exchange Contract (-)",
          "Wyvern Exchange Contract (-)",
          "Wyvern Exchange Contract (-)",
          "Wyvern Exchange Contract (-)",
          "Wyvern Exchange Contract (-)",
          "Wyvern Exchange Contract (-)",
          "Wyvern Exchange Contract (-)",
          "Wyvern Exchange Contract (-)",
          "Wyvern Exchange Contract (-)",
          "Gem: GemSwap 2",
          "Wyvern Exchange Contract (-)",
          "LooksRare: Exchange",
          "Wyvern Exchange Contract (-)",
          "Gem: GemSwap 2",
          "Wyvern Exchange Contract (-)",
          "Gem: GemSwap 2",
          "Wyvern Exchange Contract (-)",
          "LooksRare: Exchange",
          "Wyvern Exchange Contract (-)",
          "LooksRare: Exchange",
          "Wyvern Exchange Contract (-)",
          "Wyvern Exchange Contract (-)",
          "Wyvern Exchange Contract (-)",
          "Gem: GemSwap 2",
          "Wyvern Exchange Contract (-)",
          "Wyvern Exchange Contract (-)",
          "LooksRare: Exchange",
          "Wyvern Exchange Contract (-)",
          "LooksRare: Exchange",
          "Wyvern Exchange Contract (-)",
          "Wyvern Exchange Contract (-)",
          "Wyvern Exchange Contract (-)",
          "LooksRare: Exchange",
          "Wyvern Exchange Contract (-)",
          "Wyvern Exchange Contract (-)",
          "Wyvern Exchange Contract (-)",
          "Gem: GemSwap 2",
          "Wyvern Exchange Contract (-)",
          "LooksRare: Exchange",
          "LooksRare: Exchange",
          "Wyvern Exchange Contract (-)",
          "Wyvern Exchange Contract (-)",
          "Wyvern Exchange Contract (-)",
          "Wyvern Exchange Contract (-)",
          "Wyvern Exchange Contract (-)",
          "Wyvern Exchange Contract (-)",
          "Wyvern Exchange Contract (-)",
          "Wyvern Exchange Contract (-)",
          "Wyvern Exchange Contract (-)",
          "Wyvern Exchange Contract (-)",
          "Gem: GemSwap 2",
          "Wyvern Exchange Contract (-)",
          "Wyvern Exchange Contract (-)",
          "Wyvern Exchange Contract (-)",
          "Wyvern Exchange Contract (-)",
          "Wyvern Exchange Contract (-)",
          "Wyvern Exchange Contract (-)",
          "Wyvern Exchange Contract (-)",
          "LooksRare: Exchange",
          "Gem: GemSwap 2",
          "LooksRare: Exchange",
          "Wyvern Exchange Contract (-)",
          "LooksRare: Exchange",
          "Wyvern Exchange Contract (-)",
          "Wyvern Exchange Contract (-)",
          "Wyvern Exchange Contract (-)",
          "Wyvern Exchange Contract (-)",
          "LooksRare: Exchange",
          "Wyvern Exchange Contract (-)",
          "Wyvern Exchange Contract (-)",
          "Wyvern Exchange Contract (-)",
          "Wyvern Exchange Contract (-)",
          "Wyvern Exchange Contract (-)",
          "LooksRare: Exchange",
          "LooksRare: Exchange",
          "Wyvern Exchange Contract (-)",
          "LooksRare: Exchange",
          "LooksRare: Exchange",
          "Wyvern Exchange Contract (-)",
          "LooksRare: Exchange",
          "Wyvern Exchange Contract (-)",
          "LooksRare: Exchange",
          "Wyvern Exchange Contract (-)",
          "Wyvern Exchange Contract (-)",
          "Wyvern Exchange Contract (-)",
          "LooksRare: Exchange",
          "Wyvern Exchange Contract (-)",
          "Wyvern Exchange Contract (-)",
          "Wyvern Exchange Contract (-)",
          "LooksRare: Exchange",
          "Wyvern Exchange Contract (-)"
         ],
         "xaxis": "x",
         "y": [
          371695.54931640625,
          371695.54931640625,
          328807.6013183594,
          397428.3181152344,
          303074.83251953125,
          334525.9943847656,
          337385.19091796875,
          321274.2561035156,
          355391.8762207031,
          353117.36821289064,
          355391.8762207031,
          426470.25146484375,
          72188.53536092486,
          341176.201171875,
          332646.7961425781,
          331225.2286376953,
          298529.1760253906,
          341176.201171875,
          341176.201171875,
          326960.5261230469,
          300516.52739721676,
          321274.2561035156,
          338333.0661621094,
          321274.2561035156,
          324117.39111328125,
          312744.85107421875,
          304215.4460449219,
          426470.25146484375,
          298529.1760253906,
          312744.85107421875,
          363039.9093969726,
          332078.529296875,
          326201.033203125,
          323262.28515625,
          336486.6513671875,
          348800.00568359374,
          364375.3703320312,
          317090.9142578125,
          329139.78125,
          334723.4025390625,
          314416.6535351562,
          323262.28515625,
          314446.041015625,
          337662.1505859375,
          320323.537109375,
          332078.529296875,
          337956.025390625,
          335017.27734375,
          337956.025390625,
          337956.025390625,
          346772.26953125,
          364375.3703320312,
          342364.1474609375,
          349711.017578125,
          340894.7734375,
          340894.7734375,
          365874.1318359375,
          343833.521484375,
          367343.505859375,
          350563.25451171875,
          367343.505859375,
          349711.017578125,
          351738.75373046874,
          364375.3703320312,
          364404.7578125,
          346772.26953125,
          352649.765625,
          379098.498046875,
          351751.9780966797,
          367343.505859375,
          352649.765625,
          370282.25390625,
          352649.765625,
          367343.505859375,
          367343.505859375,
          367343.505859375,
          358527.26171875,
          367343.505859375,
          366432.49396484374,
          367343.505859375,
          335017.27734375,
          335017.27734375,
          332078.529296875,
          345302.8955078125,
          396730.986328125,
          343833.521484375,
          337956.025390625,
          381743.3712890625,
          342922.50958984374,
          352649.765625,
          484893.427734375,
          352649.765625,
          352649.765625,
          354689.8445191406,
          358527.26171875,
          411424.7265625,
          351180.3916015625,
          359761.5358984375,
          349711.017578125,
          349358.3678125,
          337956.025390625,
          361113.36,
          382037.24609375,
          411424.7265625,
          337956.025390625,
          357873.97802792967,
          335017.27734375,
          366755.75625,
          1469.3740234375,
          496648.419921875,
          349711.017578125,
          382037.24609375,
          358374.4201660156,
          329704.4665527344,
          366975.40625,
          344039.443359375,
          344039.443359375,
          344039.443359375,
          338018.75310058595,
          1175468.0981445312
         ],
         "yaxis": "y"
        }
       ],
       "layout": {
        "barmode": "relative",
        "coloraxis": {
         "colorbar": {
          "title": {
           "text": "value_quote"
          }
         },
         "colorscale": [
          [
           0,
           "#0d0887"
          ],
          [
           0.1111111111111111,
           "#46039f"
          ],
          [
           0.2222222222222222,
           "#7201a8"
          ],
          [
           0.3333333333333333,
           "#9c179e"
          ],
          [
           0.4444444444444444,
           "#bd3786"
          ],
          [
           0.5555555555555556,
           "#d8576b"
          ],
          [
           0.6666666666666666,
           "#ed7953"
          ],
          [
           0.7777777777777778,
           "#fb9f3a"
          ],
          [
           0.8888888888888888,
           "#fdca26"
          ],
          [
           1,
           "#f0f921"
          ]
         ]
        },
        "height": 1020,
        "legend": {
         "tracegroupgap": 0
        },
        "template": {
         "data": {
          "bar": [
           {
            "error_x": {
             "color": "#2a3f5f"
            },
            "error_y": {
             "color": "#2a3f5f"
            },
            "marker": {
             "line": {
              "color": "#E5ECF6",
              "width": 0.5
             },
             "pattern": {
              "fillmode": "overlay",
              "size": 10,
              "solidity": 0.2
             }
            },
            "type": "bar"
           }
          ],
          "barpolar": [
           {
            "marker": {
             "line": {
              "color": "#E5ECF6",
              "width": 0.5
             },
             "pattern": {
              "fillmode": "overlay",
              "size": 10,
              "solidity": 0.2
             }
            },
            "type": "barpolar"
           }
          ],
          "carpet": [
           {
            "aaxis": {
             "endlinecolor": "#2a3f5f",
             "gridcolor": "white",
             "linecolor": "white",
             "minorgridcolor": "white",
             "startlinecolor": "#2a3f5f"
            },
            "baxis": {
             "endlinecolor": "#2a3f5f",
             "gridcolor": "white",
             "linecolor": "white",
             "minorgridcolor": "white",
             "startlinecolor": "#2a3f5f"
            },
            "type": "carpet"
           }
          ],
          "choropleth": [
           {
            "colorbar": {
             "outlinewidth": 0,
             "ticks": ""
            },
            "type": "choropleth"
           }
          ],
          "contour": [
           {
            "colorbar": {
             "outlinewidth": 0,
             "ticks": ""
            },
            "colorscale": [
             [
              0,
              "#0d0887"
             ],
             [
              0.1111111111111111,
              "#46039f"
             ],
             [
              0.2222222222222222,
              "#7201a8"
             ],
             [
              0.3333333333333333,
              "#9c179e"
             ],
             [
              0.4444444444444444,
              "#bd3786"
             ],
             [
              0.5555555555555556,
              "#d8576b"
             ],
             [
              0.6666666666666666,
              "#ed7953"
             ],
             [
              0.7777777777777778,
              "#fb9f3a"
             ],
             [
              0.8888888888888888,
              "#fdca26"
             ],
             [
              1,
              "#f0f921"
             ]
            ],
            "type": "contour"
           }
          ],
          "contourcarpet": [
           {
            "colorbar": {
             "outlinewidth": 0,
             "ticks": ""
            },
            "type": "contourcarpet"
           }
          ],
          "heatmap": [
           {
            "colorbar": {
             "outlinewidth": 0,
             "ticks": ""
            },
            "colorscale": [
             [
              0,
              "#0d0887"
             ],
             [
              0.1111111111111111,
              "#46039f"
             ],
             [
              0.2222222222222222,
              "#7201a8"
             ],
             [
              0.3333333333333333,
              "#9c179e"
             ],
             [
              0.4444444444444444,
              "#bd3786"
             ],
             [
              0.5555555555555556,
              "#d8576b"
             ],
             [
              0.6666666666666666,
              "#ed7953"
             ],
             [
              0.7777777777777778,
              "#fb9f3a"
             ],
             [
              0.8888888888888888,
              "#fdca26"
             ],
             [
              1,
              "#f0f921"
             ]
            ],
            "type": "heatmap"
           }
          ],
          "heatmapgl": [
           {
            "colorbar": {
             "outlinewidth": 0,
             "ticks": ""
            },
            "colorscale": [
             [
              0,
              "#0d0887"
             ],
             [
              0.1111111111111111,
              "#46039f"
             ],
             [
              0.2222222222222222,
              "#7201a8"
             ],
             [
              0.3333333333333333,
              "#9c179e"
             ],
             [
              0.4444444444444444,
              "#bd3786"
             ],
             [
              0.5555555555555556,
              "#d8576b"
             ],
             [
              0.6666666666666666,
              "#ed7953"
             ],
             [
              0.7777777777777778,
              "#fb9f3a"
             ],
             [
              0.8888888888888888,
              "#fdca26"
             ],
             [
              1,
              "#f0f921"
             ]
            ],
            "type": "heatmapgl"
           }
          ],
          "histogram": [
           {
            "marker": {
             "pattern": {
              "fillmode": "overlay",
              "size": 10,
              "solidity": 0.2
             }
            },
            "type": "histogram"
           }
          ],
          "histogram2d": [
           {
            "colorbar": {
             "outlinewidth": 0,
             "ticks": ""
            },
            "colorscale": [
             [
              0,
              "#0d0887"
             ],
             [
              0.1111111111111111,
              "#46039f"
             ],
             [
              0.2222222222222222,
              "#7201a8"
             ],
             [
              0.3333333333333333,
              "#9c179e"
             ],
             [
              0.4444444444444444,
              "#bd3786"
             ],
             [
              0.5555555555555556,
              "#d8576b"
             ],
             [
              0.6666666666666666,
              "#ed7953"
             ],
             [
              0.7777777777777778,
              "#fb9f3a"
             ],
             [
              0.8888888888888888,
              "#fdca26"
             ],
             [
              1,
              "#f0f921"
             ]
            ],
            "type": "histogram2d"
           }
          ],
          "histogram2dcontour": [
           {
            "colorbar": {
             "outlinewidth": 0,
             "ticks": ""
            },
            "colorscale": [
             [
              0,
              "#0d0887"
             ],
             [
              0.1111111111111111,
              "#46039f"
             ],
             [
              0.2222222222222222,
              "#7201a8"
             ],
             [
              0.3333333333333333,
              "#9c179e"
             ],
             [
              0.4444444444444444,
              "#bd3786"
             ],
             [
              0.5555555555555556,
              "#d8576b"
             ],
             [
              0.6666666666666666,
              "#ed7953"
             ],
             [
              0.7777777777777778,
              "#fb9f3a"
             ],
             [
              0.8888888888888888,
              "#fdca26"
             ],
             [
              1,
              "#f0f921"
             ]
            ],
            "type": "histogram2dcontour"
           }
          ],
          "mesh3d": [
           {
            "colorbar": {
             "outlinewidth": 0,
             "ticks": ""
            },
            "type": "mesh3d"
           }
          ],
          "parcoords": [
           {
            "line": {
             "colorbar": {
              "outlinewidth": 0,
              "ticks": ""
             }
            },
            "type": "parcoords"
           }
          ],
          "pie": [
           {
            "automargin": true,
            "type": "pie"
           }
          ],
          "scatter": [
           {
            "fillpattern": {
             "fillmode": "overlay",
             "size": 10,
             "solidity": 0.2
            },
            "type": "scatter"
           }
          ],
          "scatter3d": [
           {
            "line": {
             "colorbar": {
              "outlinewidth": 0,
              "ticks": ""
             }
            },
            "marker": {
             "colorbar": {
              "outlinewidth": 0,
              "ticks": ""
             }
            },
            "type": "scatter3d"
           }
          ],
          "scattercarpet": [
           {
            "marker": {
             "colorbar": {
              "outlinewidth": 0,
              "ticks": ""
             }
            },
            "type": "scattercarpet"
           }
          ],
          "scattergeo": [
           {
            "marker": {
             "colorbar": {
              "outlinewidth": 0,
              "ticks": ""
             }
            },
            "type": "scattergeo"
           }
          ],
          "scattergl": [
           {
            "marker": {
             "colorbar": {
              "outlinewidth": 0,
              "ticks": ""
             }
            },
            "type": "scattergl"
           }
          ],
          "scattermapbox": [
           {
            "marker": {
             "colorbar": {
              "outlinewidth": 0,
              "ticks": ""
             }
            },
            "type": "scattermapbox"
           }
          ],
          "scatterpolar": [
           {
            "marker": {
             "colorbar": {
              "outlinewidth": 0,
              "ticks": ""
             }
            },
            "type": "scatterpolar"
           }
          ],
          "scatterpolargl": [
           {
            "marker": {
             "colorbar": {
              "outlinewidth": 0,
              "ticks": ""
             }
            },
            "type": "scatterpolargl"
           }
          ],
          "scatterternary": [
           {
            "marker": {
             "colorbar": {
              "outlinewidth": 0,
              "ticks": ""
             }
            },
            "type": "scatterternary"
           }
          ],
          "surface": [
           {
            "colorbar": {
             "outlinewidth": 0,
             "ticks": ""
            },
            "colorscale": [
             [
              0,
              "#0d0887"
             ],
             [
              0.1111111111111111,
              "#46039f"
             ],
             [
              0.2222222222222222,
              "#7201a8"
             ],
             [
              0.3333333333333333,
              "#9c179e"
             ],
             [
              0.4444444444444444,
              "#bd3786"
             ],
             [
              0.5555555555555556,
              "#d8576b"
             ],
             [
              0.6666666666666666,
              "#ed7953"
             ],
             [
              0.7777777777777778,
              "#fb9f3a"
             ],
             [
              0.8888888888888888,
              "#fdca26"
             ],
             [
              1,
              "#f0f921"
             ]
            ],
            "type": "surface"
           }
          ],
          "table": [
           {
            "cells": {
             "fill": {
              "color": "#EBF0F8"
             },
             "line": {
              "color": "white"
             }
            },
            "header": {
             "fill": {
              "color": "#C8D4E3"
             },
             "line": {
              "color": "white"
             }
            },
            "type": "table"
           }
          ]
         },
         "layout": {
          "annotationdefaults": {
           "arrowcolor": "#2a3f5f",
           "arrowhead": 0,
           "arrowwidth": 1
          },
          "autotypenumbers": "strict",
          "coloraxis": {
           "colorbar": {
            "outlinewidth": 0,
            "ticks": ""
           }
          },
          "colorscale": {
           "diverging": [
            [
             0,
             "#8e0152"
            ],
            [
             0.1,
             "#c51b7d"
            ],
            [
             0.2,
             "#de77ae"
            ],
            [
             0.3,
             "#f1b6da"
            ],
            [
             0.4,
             "#fde0ef"
            ],
            [
             0.5,
             "#f7f7f7"
            ],
            [
             0.6,
             "#e6f5d0"
            ],
            [
             0.7,
             "#b8e186"
            ],
            [
             0.8,
             "#7fbc41"
            ],
            [
             0.9,
             "#4d9221"
            ],
            [
             1,
             "#276419"
            ]
           ],
           "sequential": [
            [
             0,
             "#0d0887"
            ],
            [
             0.1111111111111111,
             "#46039f"
            ],
            [
             0.2222222222222222,
             "#7201a8"
            ],
            [
             0.3333333333333333,
             "#9c179e"
            ],
            [
             0.4444444444444444,
             "#bd3786"
            ],
            [
             0.5555555555555556,
             "#d8576b"
            ],
            [
             0.6666666666666666,
             "#ed7953"
            ],
            [
             0.7777777777777778,
             "#fb9f3a"
            ],
            [
             0.8888888888888888,
             "#fdca26"
            ],
            [
             1,
             "#f0f921"
            ]
           ],
           "sequentialminus": [
            [
             0,
             "#0d0887"
            ],
            [
             0.1111111111111111,
             "#46039f"
            ],
            [
             0.2222222222222222,
             "#7201a8"
            ],
            [
             0.3333333333333333,
             "#9c179e"
            ],
            [
             0.4444444444444444,
             "#bd3786"
            ],
            [
             0.5555555555555556,
             "#d8576b"
            ],
            [
             0.6666666666666666,
             "#ed7953"
            ],
            [
             0.7777777777777778,
             "#fb9f3a"
            ],
            [
             0.8888888888888888,
             "#fdca26"
            ],
            [
             1,
             "#f0f921"
            ]
           ]
          },
          "colorway": [
           "#636efa",
           "#EF553B",
           "#00cc96",
           "#ab63fa",
           "#FFA15A",
           "#19d3f3",
           "#FF6692",
           "#B6E880",
           "#FF97FF",
           "#FECB52"
          ],
          "font": {
           "color": "#2a3f5f"
          },
          "geo": {
           "bgcolor": "white",
           "lakecolor": "white",
           "landcolor": "#E5ECF6",
           "showlakes": true,
           "showland": true,
           "subunitcolor": "white"
          },
          "hoverlabel": {
           "align": "left"
          },
          "hovermode": "closest",
          "mapbox": {
           "style": "light"
          },
          "paper_bgcolor": "white",
          "plot_bgcolor": "#E5ECF6",
          "polar": {
           "angularaxis": {
            "gridcolor": "white",
            "linecolor": "white",
            "ticks": ""
           },
           "bgcolor": "#E5ECF6",
           "radialaxis": {
            "gridcolor": "white",
            "linecolor": "white",
            "ticks": ""
           }
          },
          "scene": {
           "xaxis": {
            "backgroundcolor": "#E5ECF6",
            "gridcolor": "white",
            "gridwidth": 2,
            "linecolor": "white",
            "showbackground": true,
            "ticks": "",
            "zerolinecolor": "white"
           },
           "yaxis": {
            "backgroundcolor": "#E5ECF6",
            "gridcolor": "white",
            "gridwidth": 2,
            "linecolor": "white",
            "showbackground": true,
            "ticks": "",
            "zerolinecolor": "white"
           },
           "zaxis": {
            "backgroundcolor": "#E5ECF6",
            "gridcolor": "white",
            "gridwidth": 2,
            "linecolor": "white",
            "showbackground": true,
            "ticks": "",
            "zerolinecolor": "white"
           }
          },
          "shapedefaults": {
           "line": {
            "color": "#2a3f5f"
           }
          },
          "ternary": {
           "aaxis": {
            "gridcolor": "white",
            "linecolor": "white",
            "ticks": ""
           },
           "baxis": {
            "gridcolor": "white",
            "linecolor": "white",
            "ticks": ""
           },
           "bgcolor": "#E5ECF6",
           "caxis": {
            "gridcolor": "white",
            "linecolor": "white",
            "ticks": ""
           }
          },
          "title": {
           "x": 0.05
          },
          "xaxis": {
           "automargin": true,
           "gridcolor": "white",
           "linecolor": "white",
           "ticks": "",
           "title": {
            "standoff": 15
           },
           "zerolinecolor": "white",
           "zerolinewidth": 2
          },
          "yaxis": {
           "automargin": true,
           "gridcolor": "white",
           "linecolor": "white",
           "ticks": "",
           "title": {
            "standoff": 15
           },
           "zerolinecolor": "white",
           "zerolinewidth": 2
          }
         }
        },
        "title": {
         "text": "Fees paid for transactions per exchange"
        },
        "width": 1000,
        "xaxis": {
         "anchor": "y",
         "autorange": true,
         "domain": [
          0,
          1
         ],
         "range": [
          -0.5,
          2.5
         ],
         "title": {
          "text": "to_address_label"
         },
         "type": "category"
        },
        "yaxis": {
         "anchor": "x",
         "autorange": true,
         "domain": [
          0,
          1
         ],
         "range": [
          0,
          32097882.012967825
         ],
         "title": {
          "text": "value_quote"
         },
         "type": "linear"
        }
       }
      },
      "image/png": "[encoded data removed]",
      "text/html": [
       "<div>                            <div id=\"6f3059e6-1f68-400a-9415-a9aba5ec0694\" class=\"plotly-graph-div\" style=\"height:1020px; width:1000px;\"></div>            <script type=\"text/javascript\">                require([\"plotly\"], function(Plotly) {                    window.PLOTLYENV=window.PLOTLYENV || {};                                    if (document.getElementById(\"6f3059e6-1f68-400a-9415-a9aba5ec0694\")) {                    Plotly.newPlot(                        \"6f3059e6-1f68-400a-9415-a9aba5ec0694\",                        [{\"alignmentgroup\":\"True\",\"hovertemplate\":\"to_address_label=%{x}<br>value_quote=%{marker.color}<extra></extra>\",\"legendgroup\":\"\",\"marker\":{\"color\":[371695.54931640625,371695.54931640625,328807.6013183594,397428.3181152344,303074.83251953125,334525.9943847656,337385.19091796875,321274.2561035156,355391.8762207031,353117.36821289064,355391.8762207031,426470.25146484375,72188.53536092486,341176.201171875,332646.7961425781,331225.2286376953,298529.1760253906,341176.201171875,341176.201171875,326960.5261230469,300516.52739721676,321274.2561035156,338333.0661621094,321274.2561035156,324117.39111328125,312744.85107421875,304215.4460449219,426470.25146484375,298529.1760253906,312744.85107421875,363039.9093969726,332078.529296875,326201.033203125,323262.28515625,336486.6513671875,348800.00568359374,364375.3703320312,317090.9142578125,329139.78125,334723.4025390625,314416.6535351562,323262.28515625,314446.041015625,337662.1505859375,320323.537109375,332078.529296875,337956.025390625,335017.27734375,337956.025390625,337956.025390625,346772.26953125,364375.3703320312,342364.1474609375,349711.017578125,340894.7734375,340894.7734375,365874.1318359375,343833.521484375,367343.505859375,350563.25451171875,367343.505859375,349711.017578125,351738.75373046874,364375.3703320312,364404.7578125,346772.26953125,352649.765625,379098.498046875,351751.9780966797,367343.505859375,352649.765625,370282.25390625,352649.765625,367343.505859375,367343.505859375,367343.505859375,358527.26171875,367343.505859375,366432.49396484374,367343.505859375,335017.27734375,335017.27734375,332078.529296875,345302.8955078125,396730.986328125,343833.521484375,337956.025390625,381743.3712890625,342922.50958984374,352649.765625,484893.427734375,352649.765625,352649.765625,354689.8445191406,358527.26171875,411424.7265625,351180.3916015625,359761.5358984375,349711.017578125,349358.3678125,337956.025390625,361113.36,382037.24609375,411424.7265625,337956.025390625,357873.97802792967,335017.27734375,366755.75625,1469.3740234375,496648.419921875,349711.017578125,382037.24609375,358374.4201660156,329704.4665527344,366975.40625,344039.443359375,344039.443359375,344039.443359375,338018.75310058595,1175468.0981445312],\"coloraxis\":\"coloraxis\",\"pattern\":{\"shape\":\"\"}},\"name\":\"\",\"offsetgroup\":\"\",\"orientation\":\"v\",\"showlegend\":false,\"textposition\":\"auto\",\"x\":[\"Wyvern Exchange Contract (-)\",\"Wyvern Exchange Contract (-)\",\"Wyvern Exchange Contract (-)\",\"Wyvern Exchange Contract (-)\",\"Wyvern Exchange Contract (-)\",\"LooksRare: Exchange\",\"Wyvern Exchange Contract (-)\",\"LooksRare: Exchange\",\"Wyvern Exchange Contract (-)\",\"Wyvern Exchange Contract (-)\",\"Wyvern Exchange Contract (-)\",\"Wyvern Exchange Contract (-)\",\"LooksRare: Exchange\",\"LooksRare: Exchange\",\"Wyvern Exchange Contract (-)\",\"Wyvern Exchange Contract (-)\",\"Wyvern Exchange Contract (-)\",\"Wyvern Exchange Contract (-)\",\"Wyvern Exchange Contract (-)\",\"LooksRare: Exchange\",\"LooksRare: Exchange\",\"Gem: GemSwap 2\",\"LooksRare: Exchange\",\"Wyvern Exchange Contract (-)\",\"Wyvern Exchange Contract (-)\",\"LooksRare: Exchange\",\"Wyvern Exchange Contract (-)\",\"Wyvern Exchange Contract (-)\",\"Wyvern Exchange Contract (-)\",\"Wyvern Exchange Contract (-)\",\"Wyvern Exchange Contract (-)\",\"Wyvern Exchange Contract (-)\",\"Wyvern Exchange Contract (-)\",\"Wyvern Exchange Contract (-)\",\"Wyvern Exchange Contract (-)\",\"Wyvern Exchange Contract (-)\",\"Wyvern Exchange Contract (-)\",\"Wyvern Exchange Contract (-)\",\"Gem: GemSwap 2\",\"Wyvern Exchange Contract (-)\",\"LooksRare: Exchange\",\"Wyvern Exchange Contract (-)\",\"Gem: GemSwap 2\",\"Wyvern Exchange Contract (-)\",\"Gem: GemSwap 2\",\"Wyvern Exchange Contract (-)\",\"LooksRare: Exchange\",\"Wyvern Exchange Contract (-)\",\"LooksRare: Exchange\",\"Wyvern Exchange Contract (-)\",\"Wyvern Exchange Contract (-)\",\"Wyvern Exchange Contract (-)\",\"Gem: GemSwap 2\",\"Wyvern Exchange Contract (-)\",\"Wyvern Exchange Contract (-)\",\"LooksRare: Exchange\",\"Wyvern Exchange Contract (-)\",\"LooksRare: Exchange\",\"Wyvern Exchange Contract (-)\",\"Wyvern Exchange Contract (-)\",\"Wyvern Exchange Contract (-)\",\"LooksRare: Exchange\",\"Wyvern Exchange Contract (-)\",\"Wyvern Exchange Contract (-)\",\"Wyvern Exchange Contract (-)\",\"Gem: GemSwap 2\",\"Wyvern Exchange Contract (-)\",\"LooksRare: Exchange\",\"LooksRare: Exchange\",\"Wyvern Exchange Contract (-)\",\"Wyvern Exchange Contract (-)\",\"Wyvern Exchange Contract (-)\",\"Wyvern Exchange Contract (-)\",\"Wyvern Exchange Contract (-)\",\"Wyvern Exchange Contract (-)\",\"Wyvern Exchange Contract (-)\",\"Wyvern Exchange Contract (-)\",\"Wyvern Exchange Contract (-)\",\"Wyvern Exchange Contract (-)\",\"Gem: GemSwap 2\",\"Wyvern Exchange Contract (-)\",\"Wyvern Exchange Contract (-)\",\"Wyvern Exchange Contract (-)\",\"Wyvern Exchange Contract (-)\",\"Wyvern Exchange Contract (-)\",\"Wyvern Exchange Contract (-)\",\"Wyvern Exchange Contract (-)\",\"LooksRare: Exchange\",\"Gem: GemSwap 2\",\"LooksRare: Exchange\",\"Wyvern Exchange Contract (-)\",\"LooksRare: Exchange\",\"Wyvern Exchange Contract (-)\",\"Wyvern Exchange Contract (-)\",\"Wyvern Exchange Contract (-)\",\"Wyvern Exchange Contract (-)\",\"LooksRare: Exchange\",\"Wyvern Exchange Contract (-)\",\"Wyvern Exchange Contract (-)\",\"Wyvern Exchange Contract (-)\",\"Wyvern Exchange Contract (-)\",\"Wyvern Exchange Contract (-)\",\"LooksRare: Exchange\",\"LooksRare: Exchange\",\"Wyvern Exchange Contract (-)\",\"LooksRare: Exchange\",\"LooksRare: Exchange\",\"Wyvern Exchange Contract (-)\",\"LooksRare: Exchange\",\"Wyvern Exchange Contract (-)\",\"LooksRare: Exchange\",\"Wyvern Exchange Contract (-)\",\"Wyvern Exchange Contract (-)\",\"Wyvern Exchange Contract (-)\",\"LooksRare: Exchange\",\"Wyvern Exchange Contract (-)\",\"Wyvern Exchange Contract (-)\",\"Wyvern Exchange Contract (-)\",\"LooksRare: Exchange\",\"Wyvern Exchange Contract (-)\"],\"xaxis\":\"x\",\"y\":[371695.54931640625,371695.54931640625,328807.6013183594,397428.3181152344,303074.83251953125,334525.9943847656,337385.19091796875,321274.2561035156,355391.8762207031,353117.36821289064,355391.8762207031,426470.25146484375,72188.53536092486,341176.201171875,332646.7961425781,331225.2286376953,298529.1760253906,341176.201171875,341176.201171875,326960.5261230469,300516.52739721676,321274.2561035156,338333.0661621094,321274.2561035156,324117.39111328125,312744.85107421875,304215.4460449219,426470.25146484375,298529.1760253906,312744.85107421875,363039.9093969726,332078.529296875,326201.033203125,323262.28515625,336486.6513671875,348800.00568359374,364375.3703320312,317090.9142578125,329139.78125,334723.4025390625,314416.6535351562,323262.28515625,314446.041015625,337662.1505859375,320323.537109375,332078.529296875,337956.025390625,335017.27734375,337956.025390625,337956.025390625,346772.26953125,364375.3703320312,342364.1474609375,349711.017578125,340894.7734375,340894.7734375,365874.1318359375,343833.521484375,367343.505859375,350563.25451171875,367343.505859375,349711.017578125,351738.75373046874,364375.3703320312,364404.7578125,346772.26953125,352649.765625,379098.498046875,351751.9780966797,367343.505859375,352649.765625,370282.25390625,352649.765625,367343.505859375,367343.505859375,367343.505859375,358527.26171875,367343.505859375,366432.49396484374,367343.505859375,335017.27734375,335017.27734375,332078.529296875,345302.8955078125,396730.986328125,343833.521484375,337956.025390625,381743.3712890625,342922.50958984374,352649.765625,484893.427734375,352649.765625,352649.765625,354689.8445191406,358527.26171875,411424.7265625,351180.3916015625,359761.5358984375,349711.017578125,349358.3678125,337956.025390625,361113.36,382037.24609375,411424.7265625,337956.025390625,357873.97802792967,335017.27734375,366755.75625,1469.3740234375,496648.419921875,349711.017578125,382037.24609375,358374.4201660156,329704.4665527344,366975.40625,344039.443359375,344039.443359375,344039.443359375,338018.75310058595,1175468.0981445312],\"yaxis\":\"y\",\"type\":\"bar\"}],                        {\"template\":{\"data\":{\"histogram2dcontour\":[{\"type\":\"histogram2dcontour\",\"colorbar\":{\"outlinewidth\":0,\"ticks\":\"\"},\"colorscale\":[[0.0,\"#0d0887\"],[0.1111111111111111,\"#46039f\"],[0.2222222222222222,\"#7201a8\"],[0.3333333333333333,\"#9c179e\"],[0.4444444444444444,\"#bd3786\"],[0.5555555555555556,\"#d8576b\"],[0.6666666666666666,\"#ed7953\"],[0.7777777777777778,\"#fb9f3a\"],[0.8888888888888888,\"#fdca26\"],[1.0,\"#f0f921\"]]}],\"choropleth\":[{\"type\":\"choropleth\",\"colorbar\":{\"outlinewidth\":0,\"ticks\":\"\"}}],\"histogram2d\":[{\"type\":\"histogram2d\",\"colorbar\":{\"outlinewidth\":0,\"ticks\":\"\"},\"colorscale\":[[0.0,\"#0d0887\"],[0.1111111111111111,\"#46039f\"],[0.2222222222222222,\"#7201a8\"],[0.3333333333333333,\"#9c179e\"],[0.4444444444444444,\"#bd3786\"],[0.5555555555555556,\"#d8576b\"],[0.6666666666666666,\"#ed7953\"],[0.7777777777777778,\"#fb9f3a\"],[0.8888888888888888,\"#fdca26\"],[1.0,\"#f0f921\"]]}],\"heatmap\":[{\"type\":\"heatmap\",\"colorbar\":{\"outlinewidth\":0,\"ticks\":\"\"},\"colorscale\":[[0.0,\"#0d0887\"],[0.1111111111111111,\"#46039f\"],[0.2222222222222222,\"#7201a8\"],[0.3333333333333333,\"#9c179e\"],[0.4444444444444444,\"#bd3786\"],[0.5555555555555556,\"#d8576b\"],[0.6666666666666666,\"#ed7953\"],[0.7777777777777778,\"#fb9f3a\"],[0.8888888888888888,\"#fdca26\"],[1.0,\"#f0f921\"]]}],\"heatmapgl\":[{\"type\":\"heatmapgl\",\"colorbar\":{\"outlinewidth\":0,\"ticks\":\"\"},\"colorscale\":[[0.0,\"#0d0887\"],[0.1111111111111111,\"#46039f\"],[0.2222222222222222,\"#7201a8\"],[0.3333333333333333,\"#9c179e\"],[0.4444444444444444,\"#bd3786\"],[0.5555555555555556,\"#d8576b\"],[0.6666666666666666,\"#ed7953\"],[0.7777777777777778,\"#fb9f3a\"],[0.8888888888888888,\"#fdca26\"],[1.0,\"#f0f921\"]]}],\"contourcarpet\":[{\"type\":\"contourcarpet\",\"colorbar\":{\"outlinewidth\":0,\"ticks\":\"\"}}],\"contour\":[{\"type\":\"contour\",\"colorbar\":{\"outlinewidth\":0,\"ticks\":\"\"},\"colorscale\":[[0.0,\"#0d0887\"],[0.1111111111111111,\"#46039f\"],[0.2222222222222222,\"#7201a8\"],[0.3333333333333333,\"#9c179e\"],[0.4444444444444444,\"#bd3786\"],[0.5555555555555556,\"#d8576b\"],[0.6666666666666666,\"#ed7953\"],[0.7777777777777778,\"#fb9f3a\"],[0.8888888888888888,\"#fdca26\"],[1.0,\"#f0f921\"]]}],\"surface\":[{\"type\":\"surface\",\"colorbar\":{\"outlinewidth\":0,\"ticks\":\"\"},\"colorscale\":[[0.0,\"#0d0887\"],[0.1111111111111111,\"#46039f\"],[0.2222222222222222,\"#7201a8\"],[0.3333333333333333,\"#9c179e\"],[0.4444444444444444,\"#bd3786\"],[0.5555555555555556,\"#d8576b\"],[0.6666666666666666,\"#ed7953\"],[0.7777777777777778,\"#fb9f3a\"],[0.8888888888888888,\"#fdca26\"],[1.0,\"#f0f921\"]]}],\"mesh3d\":[{\"type\":\"mesh3d\",\"colorbar\":{\"outlinewidth\":0,\"ticks\":\"\"}}],\"scatter\":[{\"fillpattern\":{\"fillmode\":\"overlay\",\"size\":10,\"solidity\":0.2},\"type\":\"scatter\"}],\"parcoords\":[{\"type\":\"parcoords\",\"line\":{\"colorbar\":{\"outlinewidth\":0,\"ticks\":\"\"}}}],\"scatterpolargl\":[{\"type\":\"scatterpolargl\",\"marker\":{\"colorbar\":{\"outlinewidth\":0,\"ticks\":\"\"}}}],\"bar\":[{\"error_x\":{\"color\":\"#2a3f5f\"},\"error_y\":{\"color\":\"#2a3f5f\"},\"marker\":{\"line\":{\"color\":\"#E5ECF6\",\"width\":0.5},\"pattern\":{\"fillmode\":\"overlay\",\"size\":10,\"solidity\":0.2}},\"type\":\"bar\"}],\"scattergeo\":[{\"type\":\"scattergeo\",\"marker\":{\"colorbar\":{\"outlinewidth\":0,\"ticks\":\"\"}}}],\"scatterpolar\":[{\"type\":\"scatterpolar\",\"marker\":{\"colorbar\":{\"outlinewidth\":0,\"ticks\":\"\"}}}],\"histogram\":[{\"marker\":{\"pattern\":{\"fillmode\":\"overlay\",\"size\":10,\"solidity\":0.2}},\"type\":\"histogram\"}],\"scattergl\":[{\"type\":\"scattergl\",\"marker\":{\"colorbar\":{\"outlinewidth\":0,\"ticks\":\"\"}}}],\"scatter3d\":[{\"type\":\"scatter3d\",\"line\":{\"colorbar\":{\"outlinewidth\":0,\"ticks\":\"\"}},\"marker\":{\"colorbar\":{\"outlinewidth\":0,\"ticks\":\"\"}}}],\"scattermapbox\":[{\"type\":\"scattermapbox\",\"marker\":{\"colorbar\":{\"outlinewidth\":0,\"ticks\":\"\"}}}],\"scatterternary\":[{\"type\":\"scatterternary\",\"marker\":{\"colorbar\":{\"outlinewidth\":0,\"ticks\":\"\"}}}],\"scattercarpet\":[{\"type\":\"scattercarpet\",\"marker\":{\"colorbar\":{\"outlinewidth\":0,\"ticks\":\"\"}}}],\"carpet\":[{\"aaxis\":{\"endlinecolor\":\"#2a3f5f\",\"gridcolor\":\"white\",\"linecolor\":\"white\",\"minorgridcolor\":\"white\",\"startlinecolor\":\"#2a3f5f\"},\"baxis\":{\"endlinecolor\":\"#2a3f5f\",\"gridcolor\":\"white\",\"linecolor\":\"white\",\"minorgridcolor\":\"white\",\"startlinecolor\":\"#2a3f5f\"},\"type\":\"carpet\"}],\"table\":[{\"cells\":{\"fill\":{\"color\":\"#EBF0F8\"},\"line\":{\"color\":\"white\"}},\"header\":{\"fill\":{\"color\":\"#C8D4E3\"},\"line\":{\"color\":\"white\"}},\"type\":\"table\"}],\"barpolar\":[{\"marker\":{\"line\":{\"color\":\"#E5ECF6\",\"width\":0.5},\"pattern\":{\"fillmode\":\"overlay\",\"size\":10,\"solidity\":0.2}},\"type\":\"barpolar\"}],\"pie\":[{\"automargin\":true,\"type\":\"pie\"}]},\"layout\":{\"autotypenumbers\":\"strict\",\"colorway\":[\"#636efa\",\"#EF553B\",\"#00cc96\",\"#ab63fa\",\"#FFA15A\",\"#19d3f3\",\"#FF6692\",\"#B6E880\",\"#FF97FF\",\"#FECB52\"],\"font\":{\"color\":\"#2a3f5f\"},\"hovermode\":\"closest\",\"hoverlabel\":{\"align\":\"left\"},\"paper_bgcolor\":\"white\",\"plot_bgcolor\":\"#E5ECF6\",\"polar\":{\"bgcolor\":\"#E5ECF6\",\"angularaxis\":{\"gridcolor\":\"white\",\"linecolor\":\"white\",\"ticks\":\"\"},\"radialaxis\":{\"gridcolor\":\"white\",\"linecolor\":\"white\",\"ticks\":\"\"}},\"ternary\":{\"bgcolor\":\"#E5ECF6\",\"aaxis\":{\"gridcolor\":\"white\",\"linecolor\":\"white\",\"ticks\":\"\"},\"baxis\":{\"gridcolor\":\"white\",\"linecolor\":\"white\",\"ticks\":\"\"},\"caxis\":{\"gridcolor\":\"white\",\"linecolor\":\"white\",\"ticks\":\"\"}},\"coloraxis\":{\"colorbar\":{\"outlinewidth\":0,\"ticks\":\"\"}},\"colorscale\":{\"sequential\":[[0.0,\"#0d0887\"],[0.1111111111111111,\"#46039f\"],[0.2222222222222222,\"#7201a8\"],[0.3333333333333333,\"#9c179e\"],[0.4444444444444444,\"#bd3786\"],[0.5555555555555556,\"#d8576b\"],[0.6666666666666666,\"#ed7953\"],[0.7777777777777778,\"#fb9f3a\"],[0.8888888888888888,\"#fdca26\"],[1.0,\"#f0f921\"]],\"sequentialminus\":[[0.0,\"#0d0887\"],[0.1111111111111111,\"#46039f\"],[0.2222222222222222,\"#7201a8\"],[0.3333333333333333,\"#9c179e\"],[0.4444444444444444,\"#bd3786\"],[0.5555555555555556,\"#d8576b\"],[0.6666666666666666,\"#ed7953\"],[0.7777777777777778,\"#fb9f3a\"],[0.8888888888888888,\"#fdca26\"],[1.0,\"#f0f921\"]],\"diverging\":[[0,\"#8e0152\"],[0.1,\"#c51b7d\"],[0.2,\"#de77ae\"],[0.3,\"#f1b6da\"],[0.4,\"#fde0ef\"],[0.5,\"#f7f7f7\"],[0.6,\"#e6f5d0\"],[0.7,\"#b8e186\"],[0.8,\"#7fbc41\"],[0.9,\"#4d9221\"],[1,\"#276419\"]]},\"xaxis\":{\"gridcolor\":\"white\",\"linecolor\":\"white\",\"ticks\":\"\",\"title\":{\"standoff\":15},\"zerolinecolor\":\"white\",\"automargin\":true,\"zerolinewidth\":2},\"yaxis\":{\"gridcolor\":\"white\",\"linecolor\":\"white\",\"ticks\":\"\",\"title\":{\"standoff\":15},\"zerolinecolor\":\"white\",\"automargin\":true,\"zerolinewidth\":2},\"scene\":{\"xaxis\":{\"backgroundcolor\":\"#E5ECF6\",\"gridcolor\":\"white\",\"linecolor\":\"white\",\"showbackground\":true,\"ticks\":\"\",\"zerolinecolor\":\"white\",\"gridwidth\":2},\"yaxis\":{\"backgroundcolor\":\"#E5ECF6\",\"gridcolor\":\"white\",\"linecolor\":\"white\",\"showbackground\":true,\"ticks\":\"\",\"zerolinecolor\":\"white\",\"gridwidth\":2},\"zaxis\":{\"backgroundcolor\":\"#E5ECF6\",\"gridcolor\":\"white\",\"linecolor\":\"white\",\"showbackground\":true,\"ticks\":\"\",\"zerolinecolor\":\"white\",\"gridwidth\":2}},\"shapedefaults\":{\"line\":{\"color\":\"#2a3f5f\"}},\"annotationdefaults\":{\"arrowcolor\":\"#2a3f5f\",\"arrowhead\":0,\"arrowwidth\":1},\"geo\":{\"bgcolor\":\"white\",\"landcolor\":\"#E5ECF6\",\"subunitcolor\":\"white\",\"showland\":true,\"showlakes\":true,\"lakecolor\":\"white\"},\"title\":{\"x\":0.05},\"mapbox\":{\"style\":\"light\"}}},\"xaxis\":{\"anchor\":\"y\",\"domain\":[0.0,1.0],\"title\":{\"text\":\"to_address_label\"}},\"yaxis\":{\"anchor\":\"x\",\"domain\":[0.0,1.0],\"title\":{\"text\":\"value_quote\"}},\"coloraxis\":{\"colorbar\":{\"title\":{\"text\":\"value_quote\"}},\"colorscale\":[[0.0,\"#0d0887\"],[0.1111111111111111,\"#46039f\"],[0.2222222222222222,\"#7201a8\"],[0.3333333333333333,\"#9c179e\"],[0.4444444444444444,\"#bd3786\"],[0.5555555555555556,\"#d8576b\"],[0.6666666666666666,\"#ed7953\"],[0.7777777777777778,\"#fb9f3a\"],[0.8888888888888888,\"#fdca26\"],[1.0,\"#f0f921\"]]},\"legend\":{\"tracegroupgap\":0},\"title\":{\"text\":\"Fees paid for transactions per exchange\"},\"barmode\":\"relative\",\"height\":1020,\"width\":1000},                        {\"responsive\": true}                    ).then(function(){\n",
       "                            \n",
       "var gd = document.getElementById('6f3059e6-1f68-400a-9415-a9aba5ec0694');\n",
       "var x = new MutationObserver(function (mutations, observer) {{\n",
       "        var display = window.getComputedStyle(gd).display;\n",
       "        if (!display || display === 'none') {{\n",
       "            console.log([gd, 'removed!']);\n",
       "            Plotly.purge(gd);\n",
       "            observer.disconnect();\n",
       "        }}\n",
       "}});\n",
       "\n",
       "// Listen for the removal of the full notebook cells\n",
       "var notebookContainer = gd.closest('#notebook-container');\n",
       "if (notebookContainer) {{\n",
       "    x.observe(notebookContainer, {childList: true});\n",
       "}}\n",
       "\n",
       "// Listen for the clearing of the current output cell\n",
       "var outputEl = gd.closest('.output');\n",
       "if (outputEl) {{\n",
       "    x.observe(outputEl, {childList: true});\n",
       "}}\n",
       "\n",
       "                        })                };                });            </script>        </div>"
      ]
     },
     "metadata": {},
     "output_type": "display_data"
    }
   ],
   "source": [
    "# Filter Through data for non null transactions\n",
    "BAYC_sales_df = BAYC_tx_df[BAYC_tx_df['value_quote'] != 0]\n",
    "BAYC_sales = BAYC_sales_df[BAYC_sales_df['to_address_label'].notnull()].dropna()\n",
    "\n",
    "# Creating the plot using plotly express\n",
    "BAYC_fig = px.bar(BAYC_sales, \n",
    "             x='to_address_label', \n",
    "             y= 'value_quote',\n",
    "             color='value_quote',\n",
    "             height=1020,\n",
    "             width = 1000,\n",
    "             title=\"Fees paid for transactions per exchange\"\n",
    "            )\n",
    "BAYC_fig.show()"
   ]
  },
  {
   "cell_type": "markdown",
   "id": "38b8b860-8dc6-4e77-8d32-54ac821e8ea6",
   "metadata": {},
   "source": [
    "## 3.b BAYC Fees paid"
   ]
  },
  {
   "cell_type": "code",
   "execution_count": 435,
   "id": "d8893197-1349-4d0e-bf23-75e1aba3af17",
   "metadata": {},
   "outputs": [
    {
     "data": {
      "text/plain": [
       "<AxesSubplot:xlabel='block_signed_at', ylabel='value in USD'>"
      ]
     },
     "execution_count": 435,
     "metadata": {},
     "output_type": "execute_result"
    },
    {
     "data": {
      "image/png": "[encoded data removed]",
      "text/plain": [
       "<Figure size 1440x360 with 1 Axes>"
      ]
     },
     "metadata": {
      "needs_background": "light"
     },
     "output_type": "display_data"
    }
   ],
   "source": [
    "# Filter Through data for non null transactions\n",
    "BAYC_fees = BAYC_sales_df['fees_paid'].astype(int)/10**18*eth_value\n",
    "\n",
    "BAYC_fees.plot.bar(rot = 90, figsize = (20,5), ylabel = 'value in USD')"
   ]
  },
  {
   "cell_type": "markdown",
   "id": "f608ca89-22c7-489c-8fa2-d813de5c335a",
   "metadata": {},
   "source": [
    "## Combine Total Sales"
   ]
  },
  {
   "cell_type": "code",
   "execution_count": 311,
   "id": "48b9caa4-5e45-47f9-a3b0-cc931dcaee16",
   "metadata": {},
   "outputs": [
    {
     "data": {
      "text/html": [
       "<div>\n",
       "<style scoped>\n",
       "    .dataframe tbody tr th:only-of-type {\n",
       "        vertical-align: middle;\n",
       "    }\n",
       "\n",
       "    .dataframe tbody tr th {\n",
       "        vertical-align: top;\n",
       "    }\n",
       "\n",
       "    .dataframe thead th {\n",
       "        text-align: right;\n",
       "    }\n",
       "</style>\n",
       "<table border=\"1\" class=\"dataframe\">\n",
       "  <thead>\n",
       "    <tr style=\"text-align: right;\">\n",
       "      <th></th>\n",
       "      <th>value_quote</th>\n",
       "    </tr>\n",
       "    <tr>\n",
       "      <th>to_address_label</th>\n",
       "      <th></th>\n",
       "    </tr>\n",
       "  </thead>\n",
       "  <tbody>\n",
       "    <tr>\n",
       "      <th>Gem: GemSwap 2</th>\n",
       "      <td>2.684586e+06</td>\n",
       "    </tr>\n",
       "    <tr>\n",
       "      <th>LooksRare: Exchange</th>\n",
       "      <td>9.084090e+06</td>\n",
       "    </tr>\n",
       "    <tr>\n",
       "      <th>Wyvern Exchange Contract (-)</th>\n",
       "      <td>3.049299e+07</td>\n",
       "    </tr>\n",
       "  </tbody>\n",
       "</table>\n",
       "</div>"
      ],
      "text/plain": [
       "                               value_quote\n",
       "to_address_label                          \n",
       "Gem: GemSwap 2                2.684586e+06\n",
       "LooksRare: Exchange           9.084090e+06\n",
       "Wyvern Exchange Contract (-)  3.049299e+07"
      ]
     },
     "execution_count": 311,
     "metadata": {},
     "output_type": "execute_result"
    }
   ],
   "source": [
    "# Group by address label and sum the value\n",
    "azuki_total = azuki_sales.groupby('to_address_label').sum()\n",
    "cryptopunks_total = cryptopunks_sales.groupby('to_address_label').sum()\n",
    "BAYC_total = BAYC_sales.groupby('to_address_label').sum()\n",
    "BAYC_total"
   ]
  },
  {
   "cell_type": "code",
   "execution_count": 312,
   "id": "50f58f84-378c-4a4c-82a0-1eb1267a8e35",
   "metadata": {},
   "outputs": [],
   "source": [
    "# Combine and rename columns for our total sales data\n",
    "combined_totals = pd.concat([azuki_total,cryptopunks_total,BAYC_total], axis=1)\n",
    "combined_totals.columns = ['azuki_total', 'cryptopunks_total','BAYC_total']"
   ]
  },
  {
   "cell_type": "code",
   "execution_count": 313,
   "id": "5ffcf466-1286-4519-9ecd-5c5c9bb8be38",
   "metadata": {},
   "outputs": [
    {
     "data": {
      "application/vnd.plotly.v1+json": {
       "config": {
        "plotlyServerURL": "https://plot.ly"
       },
       "data": [
        {
         "alignmentgroup": "True",
         "box": {
          "visible": false
         },
         "hovertemplate": "variable=%{x}<br>value=%{y}<extra></extra>",
         "legendgroup": "",
         "marker": {
          "color": "#636efa"
         },
         "name": "",
         "offsetgroup": "",
         "orientation": "v",
         "scalegroup": "True",
         "showlegend": false,
         "type": "violin",
         "x": [
          "azuki_total",
          "azuki_total",
          "azuki_total",
          "azuki_total",
          "cryptopunks_total",
          "cryptopunks_total",
          "cryptopunks_total",
          "cryptopunks_total",
          "BAYC_total",
          "BAYC_total",
          "BAYC_total",
          "BAYC_total"
         ],
         "x0": " ",
         "xaxis": "x",
         "y": [
          2055208.2966259765,
          2748573.862105733,
          10009106.911601074,
          null,
          378412.41500976565,
          null,
          null,
          28997818.553143132,
          2684586.047919922,
          9084089.523858337,
          30492987.912319433,
          null
         ],
         "y0": " ",
         "yaxis": "y"
        }
       ],
       "layout": {
        "autosize": true,
        "legend": {
         "tracegroupgap": 0
        },
        "margin": {
         "t": 60
        },
        "template": {
         "data": {
          "bar": [
           {
            "error_x": {
             "color": "#2a3f5f"
            },
            "error_y": {
             "color": "#2a3f5f"
            },
            "marker": {
             "line": {
              "color": "#E5ECF6",
              "width": 0.5
             },
             "pattern": {
              "fillmode": "overlay",
              "size": 10,
              "solidity": 0.2
             }
            },
            "type": "bar"
           }
          ],
          "barpolar": [
           {
            "marker": {
             "line": {
              "color": "#E5ECF6",
              "width": 0.5
             },
             "pattern": {
              "fillmode": "overlay",
              "size": 10,
              "solidity": 0.2
             }
            },
            "type": "barpolar"
           }
          ],
          "carpet": [
           {
            "aaxis": {
             "endlinecolor": "#2a3f5f",
             "gridcolor": "white",
             "linecolor": "white",
             "minorgridcolor": "white",
             "startlinecolor": "#2a3f5f"
            },
            "baxis": {
             "endlinecolor": "#2a3f5f",
             "gridcolor": "white",
             "linecolor": "white",
             "minorgridcolor": "white",
             "startlinecolor": "#2a3f5f"
            },
            "type": "carpet"
           }
          ],
          "choropleth": [
           {
            "colorbar": {
             "outlinewidth": 0,
             "ticks": ""
            },
            "type": "choropleth"
           }
          ],
          "contour": [
           {
            "colorbar": {
             "outlinewidth": 0,
             "ticks": ""
            },
            "colorscale": [
             [
              0,
              "#0d0887"
             ],
             [
              0.1111111111111111,
              "#46039f"
             ],
             [
              0.2222222222222222,
              "#7201a8"
             ],
             [
              0.3333333333333333,
              "#9c179e"
             ],
             [
              0.4444444444444444,
              "#bd3786"
             ],
             [
              0.5555555555555556,
              "#d8576b"
             ],
             [
              0.6666666666666666,
              "#ed7953"
             ],
             [
              0.7777777777777778,
              "#fb9f3a"
             ],
             [
              0.8888888888888888,
              "#fdca26"
             ],
             [
              1,
              "#f0f921"
             ]
            ],
            "type": "contour"
           }
          ],
          "contourcarpet": [
           {
            "colorbar": {
             "outlinewidth": 0,
             "ticks": ""
            },
            "type": "contourcarpet"
           }
          ],
          "heatmap": [
           {
            "colorbar": {
             "outlinewidth": 0,
             "ticks": ""
            },
            "colorscale": [
             [
              0,
              "#0d0887"
             ],
             [
              0.1111111111111111,
              "#46039f"
             ],
             [
              0.2222222222222222,
              "#7201a8"
             ],
             [
              0.3333333333333333,
              "#9c179e"
             ],
             [
              0.4444444444444444,
              "#bd3786"
             ],
             [
              0.5555555555555556,
              "#d8576b"
             ],
             [
              0.6666666666666666,
              "#ed7953"
             ],
             [
              0.7777777777777778,
              "#fb9f3a"
             ],
             [
              0.8888888888888888,
              "#fdca26"
             ],
             [
              1,
              "#f0f921"
             ]
            ],
            "type": "heatmap"
           }
          ],
          "heatmapgl": [
           {
            "colorbar": {
             "outlinewidth": 0,
             "ticks": ""
            },
            "colorscale": [
             [
              0,
              "#0d0887"
             ],
             [
              0.1111111111111111,
              "#46039f"
             ],
             [
              0.2222222222222222,
              "#7201a8"
             ],
             [
              0.3333333333333333,
              "#9c179e"
             ],
             [
              0.4444444444444444,
              "#bd3786"
             ],
             [
              0.5555555555555556,
              "#d8576b"
             ],
             [
              0.6666666666666666,
              "#ed7953"
             ],
             [
              0.7777777777777778,
              "#fb9f3a"
             ],
             [
              0.8888888888888888,
              "#fdca26"
             ],
             [
              1,
              "#f0f921"
             ]
            ],
            "type": "heatmapgl"
           }
          ],
          "histogram": [
           {
            "marker": {
             "pattern": {
              "fillmode": "overlay",
              "size": 10,
              "solidity": 0.2
             }
            },
            "type": "histogram"
           }
          ],
          "histogram2d": [
           {
            "colorbar": {
             "outlinewidth": 0,
             "ticks": ""
            },
            "colorscale": [
             [
              0,
              "#0d0887"
             ],
             [
              0.1111111111111111,
              "#46039f"
             ],
             [
              0.2222222222222222,
              "#7201a8"
             ],
             [
              0.3333333333333333,
              "#9c179e"
             ],
             [
              0.4444444444444444,
              "#bd3786"
             ],
             [
              0.5555555555555556,
              "#d8576b"
             ],
             [
              0.6666666666666666,
              "#ed7953"
             ],
             [
              0.7777777777777778,
              "#fb9f3a"
             ],
             [
              0.8888888888888888,
              "#fdca26"
             ],
             [
              1,
              "#f0f921"
             ]
            ],
            "type": "histogram2d"
           }
          ],
          "histogram2dcontour": [
           {
            "colorbar": {
             "outlinewidth": 0,
             "ticks": ""
            },
            "colorscale": [
             [
              0,
              "#0d0887"
             ],
             [
              0.1111111111111111,
              "#46039f"
             ],
             [
              0.2222222222222222,
              "#7201a8"
             ],
             [
              0.3333333333333333,
              "#9c179e"
             ],
             [
              0.4444444444444444,
              "#bd3786"
             ],
             [
              0.5555555555555556,
              "#d8576b"
             ],
             [
              0.6666666666666666,
              "#ed7953"
             ],
             [
              0.7777777777777778,
              "#fb9f3a"
             ],
             [
              0.8888888888888888,
              "#fdca26"
             ],
             [
              1,
              "#f0f921"
             ]
            ],
            "type": "histogram2dcontour"
           }
          ],
          "mesh3d": [
           {
            "colorbar": {
             "outlinewidth": 0,
             "ticks": ""
            },
            "type": "mesh3d"
           }
          ],
          "parcoords": [
           {
            "line": {
             "colorbar": {
              "outlinewidth": 0,
              "ticks": ""
             }
            },
            "type": "parcoords"
           }
          ],
          "pie": [
           {
            "automargin": true,
            "type": "pie"
           }
          ],
          "scatter": [
           {
            "fillpattern": {
             "fillmode": "overlay",
             "size": 10,
             "solidity": 0.2
            },
            "type": "scatter"
           }
          ],
          "scatter3d": [
           {
            "line": {
             "colorbar": {
              "outlinewidth": 0,
              "ticks": ""
             }
            },
            "marker": {
             "colorbar": {
              "outlinewidth": 0,
              "ticks": ""
             }
            },
            "type": "scatter3d"
           }
          ],
          "scattercarpet": [
           {
            "marker": {
             "colorbar": {
              "outlinewidth": 0,
              "ticks": ""
             }
            },
            "type": "scattercarpet"
           }
          ],
          "scattergeo": [
           {
            "marker": {
             "colorbar": {
              "outlinewidth": 0,
              "ticks": ""
             }
            },
            "type": "scattergeo"
           }
          ],
          "scattergl": [
           {
            "marker": {
             "colorbar": {
              "outlinewidth": 0,
              "ticks": ""
             }
            },
            "type": "scattergl"
           }
          ],
          "scattermapbox": [
           {
            "marker": {
             "colorbar": {
              "outlinewidth": 0,
              "ticks": ""
             }
            },
            "type": "scattermapbox"
           }
          ],
          "scatterpolar": [
           {
            "marker": {
             "colorbar": {
              "outlinewidth": 0,
              "ticks": ""
             }
            },
            "type": "scatterpolar"
           }
          ],
          "scatterpolargl": [
           {
            "marker": {
             "colorbar": {
              "outlinewidth": 0,
              "ticks": ""
             }
            },
            "type": "scatterpolargl"
           }
          ],
          "scatterternary": [
           {
            "marker": {
             "colorbar": {
              "outlinewidth": 0,
              "ticks": ""
             }
            },
            "type": "scatterternary"
           }
          ],
          "surface": [
           {
            "colorbar": {
             "outlinewidth": 0,
             "ticks": ""
            },
            "colorscale": [
             [
              0,
              "#0d0887"
             ],
             [
              0.1111111111111111,
              "#46039f"
             ],
             [
              0.2222222222222222,
              "#7201a8"
             ],
             [
              0.3333333333333333,
              "#9c179e"
             ],
             [
              0.4444444444444444,
              "#bd3786"
             ],
             [
              0.5555555555555556,
              "#d8576b"
             ],
             [
              0.6666666666666666,
              "#ed7953"
             ],
             [
              0.7777777777777778,
              "#fb9f3a"
             ],
             [
              0.8888888888888888,
              "#fdca26"
             ],
             [
              1,
              "#f0f921"
             ]
            ],
            "type": "surface"
           }
          ],
          "table": [
           {
            "cells": {
             "fill": {
              "color": "#EBF0F8"
             },
             "line": {
              "color": "white"
             }
            },
            "header": {
             "fill": {
              "color": "#C8D4E3"
             },
             "line": {
              "color": "white"
             }
            },
            "type": "table"
           }
          ]
         },
         "layout": {
          "annotationdefaults": {
           "arrowcolor": "#2a3f5f",
           "arrowhead": 0,
           "arrowwidth": 1
          },
          "autotypenumbers": "strict",
          "coloraxis": {
           "colorbar": {
            "outlinewidth": 0,
            "ticks": ""
           }
          },
          "colorscale": {
           "diverging": [
            [
             0,
             "#8e0152"
            ],
            [
             0.1,
             "#c51b7d"
            ],
            [
             0.2,
             "#de77ae"
            ],
            [
             0.3,
             "#f1b6da"
            ],
            [
             0.4,
             "#fde0ef"
            ],
            [
             0.5,
             "#f7f7f7"
            ],
            [
             0.6,
             "#e6f5d0"
            ],
            [
             0.7,
             "#b8e186"
            ],
            [
             0.8,
             "#7fbc41"
            ],
            [
             0.9,
             "#4d9221"
            ],
            [
             1,
             "#276419"
            ]
           ],
           "sequential": [
            [
             0,
             "#0d0887"
            ],
            [
             0.1111111111111111,
             "#46039f"
            ],
            [
             0.2222222222222222,
             "#7201a8"
            ],
            [
             0.3333333333333333,
             "#9c179e"
            ],
            [
             0.4444444444444444,
             "#bd3786"
            ],
            [
             0.5555555555555556,
             "#d8576b"
            ],
            [
             0.6666666666666666,
             "#ed7953"
            ],
            [
             0.7777777777777778,
             "#fb9f3a"
            ],
            [
             0.8888888888888888,
             "#fdca26"
            ],
            [
             1,
             "#f0f921"
            ]
           ],
           "sequentialminus": [
            [
             0,
             "#0d0887"
            ],
            [
             0.1111111111111111,
             "#46039f"
            ],
            [
             0.2222222222222222,
             "#7201a8"
            ],
            [
             0.3333333333333333,
             "#9c179e"
            ],
            [
             0.4444444444444444,
             "#bd3786"
            ],
            [
             0.5555555555555556,
             "#d8576b"
            ],
            [
             0.6666666666666666,
             "#ed7953"
            ],
            [
             0.7777777777777778,
             "#fb9f3a"
            ],
            [
             0.8888888888888888,
             "#fdca26"
            ],
            [
             1,
             "#f0f921"
            ]
           ]
          },
          "colorway": [
           "#636efa",
           "#EF553B",
           "#00cc96",
           "#ab63fa",
           "#FFA15A",
           "#19d3f3",
           "#FF6692",
           "#B6E880",
           "#FF97FF",
           "#FECB52"
          ],
          "font": {
           "color": "#2a3f5f"
          },
          "geo": {
           "bgcolor": "white",
           "lakecolor": "white",
           "landcolor": "#E5ECF6",
           "showlakes": true,
           "showland": true,
           "subunitcolor": "white"
          },
          "hoverlabel": {
           "align": "left"
          },
          "hovermode": "closest",
          "mapbox": {
           "style": "light"
          },
          "paper_bgcolor": "white",
          "plot_bgcolor": "#E5ECF6",
          "polar": {
           "angularaxis": {
            "gridcolor": "white",
            "linecolor": "white",
            "ticks": ""
           },
           "bgcolor": "#E5ECF6",
           "radialaxis": {
            "gridcolor": "white",
            "linecolor": "white",
            "ticks": ""
           }
          },
          "scene": {
           "xaxis": {
            "backgroundcolor": "#E5ECF6",
            "gridcolor": "white",
            "gridwidth": 2,
            "linecolor": "white",
            "showbackground": true,
            "ticks": "",
            "zerolinecolor": "white"
           },
           "yaxis": {
            "backgroundcolor": "#E5ECF6",
            "gridcolor": "white",
            "gridwidth": 2,
            "linecolor": "white",
            "showbackground": true,
            "ticks": "",
            "zerolinecolor": "white"
           },
           "zaxis": {
            "backgroundcolor": "#E5ECF6",
            "gridcolor": "white",
            "gridwidth": 2,
            "linecolor": "white",
            "showbackground": true,
            "ticks": "",
            "zerolinecolor": "white"
           }
          },
          "shapedefaults": {
           "line": {
            "color": "#2a3f5f"
           }
          },
          "ternary": {
           "aaxis": {
            "gridcolor": "white",
            "linecolor": "white",
            "ticks": ""
           },
           "baxis": {
            "gridcolor": "white",
            "linecolor": "white",
            "ticks": ""
           },
           "bgcolor": "#E5ECF6",
           "caxis": {
            "gridcolor": "white",
            "linecolor": "white",
            "ticks": ""
           }
          },
          "title": {
           "x": 0.05
          },
          "xaxis": {
           "automargin": true,
           "gridcolor": "white",
           "linecolor": "white",
           "ticks": "",
           "title": {
            "standoff": 15
           },
           "zerolinecolor": "white",
           "zerolinewidth": 2
          },
          "yaxis": {
           "automargin": true,
           "gridcolor": "white",
           "linecolor": "white",
           "ticks": "",
           "title": {
            "standoff": 15
           },
           "zerolinecolor": "white",
           "zerolinewidth": 2
          }
         }
        },
        "violinmode": "group",
        "xaxis": {
         "anchor": "y",
         "autorange": true,
         "domain": [
          0,
          1
         ],
         "range": [
          -0.5,
          2.5
         ],
         "title": {
          "text": "variable"
         },
         "type": "category"
        },
        "yaxis": {
         "anchor": "x",
         "autorange": true,
         "domain": [
          0,
          1
         ],
         "range": [
          -42670959.789380535,
          72047190.75753345
         ],
         "title": {
          "text": "value"
         },
         "type": "linear"
        }
       }
      },
      "image/png": "[encoded data removed]",
      "text/html": [
       "<div>                            <div id=\"30bf6d11-2753-4a8d-8ed7-5d42f9eaa746\" class=\"plotly-graph-div\" style=\"height:525px; width:100%;\"></div>            <script type=\"text/javascript\">                require([\"plotly\"], function(Plotly) {                    window.PLOTLYENV=window.PLOTLYENV || {};                                    if (document.getElementById(\"30bf6d11-2753-4a8d-8ed7-5d42f9eaa746\")) {                    Plotly.newPlot(                        \"30bf6d11-2753-4a8d-8ed7-5d42f9eaa746\",                        [{\"alignmentgroup\":\"True\",\"box\":{\"visible\":false},\"hovertemplate\":\"variable=%{x}<br>value=%{y}<extra></extra>\",\"legendgroup\":\"\",\"marker\":{\"color\":\"#636efa\"},\"name\":\"\",\"offsetgroup\":\"\",\"orientation\":\"v\",\"scalegroup\":\"True\",\"showlegend\":false,\"x\":[\"azuki_total\",\"azuki_total\",\"azuki_total\",\"azuki_total\",\"cryptopunks_total\",\"cryptopunks_total\",\"cryptopunks_total\",\"cryptopunks_total\",\"BAYC_total\",\"BAYC_total\",\"BAYC_total\",\"BAYC_total\"],\"x0\":\" \",\"xaxis\":\"x\",\"y\":[2055208.2966259765,2748573.862105733,10009106.911601074,null,378412.41500976565,null,null,28997818.553143132,2684586.047919922,9084089.523858337,30492987.912319433,null],\"y0\":\" \",\"yaxis\":\"y\",\"type\":\"violin\"}],                        {\"template\":{\"data\":{\"histogram2dcontour\":[{\"type\":\"histogram2dcontour\",\"colorbar\":{\"outlinewidth\":0,\"ticks\":\"\"},\"colorscale\":[[0.0,\"#0d0887\"],[0.1111111111111111,\"#46039f\"],[0.2222222222222222,\"#7201a8\"],[0.3333333333333333,\"#9c179e\"],[0.4444444444444444,\"#bd3786\"],[0.5555555555555556,\"#d8576b\"],[0.6666666666666666,\"#ed7953\"],[0.7777777777777778,\"#fb9f3a\"],[0.8888888888888888,\"#fdca26\"],[1.0,\"#f0f921\"]]}],\"choropleth\":[{\"type\":\"choropleth\",\"colorbar\":{\"outlinewidth\":0,\"ticks\":\"\"}}],\"histogram2d\":[{\"type\":\"histogram2d\",\"colorbar\":{\"outlinewidth\":0,\"ticks\":\"\"},\"colorscale\":[[0.0,\"#0d0887\"],[0.1111111111111111,\"#46039f\"],[0.2222222222222222,\"#7201a8\"],[0.3333333333333333,\"#9c179e\"],[0.4444444444444444,\"#bd3786\"],[0.5555555555555556,\"#d8576b\"],[0.6666666666666666,\"#ed7953\"],[0.7777777777777778,\"#fb9f3a\"],[0.8888888888888888,\"#fdca26\"],[1.0,\"#f0f921\"]]}],\"heatmap\":[{\"type\":\"heatmap\",\"colorbar\":{\"outlinewidth\":0,\"ticks\":\"\"},\"colorscale\":[[0.0,\"#0d0887\"],[0.1111111111111111,\"#46039f\"],[0.2222222222222222,\"#7201a8\"],[0.3333333333333333,\"#9c179e\"],[0.4444444444444444,\"#bd3786\"],[0.5555555555555556,\"#d8576b\"],[0.6666666666666666,\"#ed7953\"],[0.7777777777777778,\"#fb9f3a\"],[0.8888888888888888,\"#fdca26\"],[1.0,\"#f0f921\"]]}],\"heatmapgl\":[{\"type\":\"heatmapgl\",\"colorbar\":{\"outlinewidth\":0,\"ticks\":\"\"},\"colorscale\":[[0.0,\"#0d0887\"],[0.1111111111111111,\"#46039f\"],[0.2222222222222222,\"#7201a8\"],[0.3333333333333333,\"#9c179e\"],[0.4444444444444444,\"#bd3786\"],[0.5555555555555556,\"#d8576b\"],[0.6666666666666666,\"#ed7953\"],[0.7777777777777778,\"#fb9f3a\"],[0.8888888888888888,\"#fdca26\"],[1.0,\"#f0f921\"]]}],\"contourcarpet\":[{\"type\":\"contourcarpet\",\"colorbar\":{\"outlinewidth\":0,\"ticks\":\"\"}}],\"contour\":[{\"type\":\"contour\",\"colorbar\":{\"outlinewidth\":0,\"ticks\":\"\"},\"colorscale\":[[0.0,\"#0d0887\"],[0.1111111111111111,\"#46039f\"],[0.2222222222222222,\"#7201a8\"],[0.3333333333333333,\"#9c179e\"],[0.4444444444444444,\"#bd3786\"],[0.5555555555555556,\"#d8576b\"],[0.6666666666666666,\"#ed7953\"],[0.7777777777777778,\"#fb9f3a\"],[0.8888888888888888,\"#fdca26\"],[1.0,\"#f0f921\"]]}],\"surface\":[{\"type\":\"surface\",\"colorbar\":{\"outlinewidth\":0,\"ticks\":\"\"},\"colorscale\":[[0.0,\"#0d0887\"],[0.1111111111111111,\"#46039f\"],[0.2222222222222222,\"#7201a8\"],[0.3333333333333333,\"#9c179e\"],[0.4444444444444444,\"#bd3786\"],[0.5555555555555556,\"#d8576b\"],[0.6666666666666666,\"#ed7953\"],[0.7777777777777778,\"#fb9f3a\"],[0.8888888888888888,\"#fdca26\"],[1.0,\"#f0f921\"]]}],\"mesh3d\":[{\"type\":\"mesh3d\",\"colorbar\":{\"outlinewidth\":0,\"ticks\":\"\"}}],\"scatter\":[{\"fillpattern\":{\"fillmode\":\"overlay\",\"size\":10,\"solidity\":0.2},\"type\":\"scatter\"}],\"parcoords\":[{\"type\":\"parcoords\",\"line\":{\"colorbar\":{\"outlinewidth\":0,\"ticks\":\"\"}}}],\"scatterpolargl\":[{\"type\":\"scatterpolargl\",\"marker\":{\"colorbar\":{\"outlinewidth\":0,\"ticks\":\"\"}}}],\"bar\":[{\"error_x\":{\"color\":\"#2a3f5f\"},\"error_y\":{\"color\":\"#2a3f5f\"},\"marker\":{\"line\":{\"color\":\"#E5ECF6\",\"width\":0.5},\"pattern\":{\"fillmode\":\"overlay\",\"size\":10,\"solidity\":0.2}},\"type\":\"bar\"}],\"scattergeo\":[{\"type\":\"scattergeo\",\"marker\":{\"colorbar\":{\"outlinewidth\":0,\"ticks\":\"\"}}}],\"scatterpolar\":[{\"type\":\"scatterpolar\",\"marker\":{\"colorbar\":{\"outlinewidth\":0,\"ticks\":\"\"}}}],\"histogram\":[{\"marker\":{\"pattern\":{\"fillmode\":\"overlay\",\"size\":10,\"solidity\":0.2}},\"type\":\"histogram\"}],\"scattergl\":[{\"type\":\"scattergl\",\"marker\":{\"colorbar\":{\"outlinewidth\":0,\"ticks\":\"\"}}}],\"scatter3d\":[{\"type\":\"scatter3d\",\"line\":{\"colorbar\":{\"outlinewidth\":0,\"ticks\":\"\"}},\"marker\":{\"colorbar\":{\"outlinewidth\":0,\"ticks\":\"\"}}}],\"scattermapbox\":[{\"type\":\"scattermapbox\",\"marker\":{\"colorbar\":{\"outlinewidth\":0,\"ticks\":\"\"}}}],\"scatterternary\":[{\"type\":\"scatterternary\",\"marker\":{\"colorbar\":{\"outlinewidth\":0,\"ticks\":\"\"}}}],\"scattercarpet\":[{\"type\":\"scattercarpet\",\"marker\":{\"colorbar\":{\"outlinewidth\":0,\"ticks\":\"\"}}}],\"carpet\":[{\"aaxis\":{\"endlinecolor\":\"#2a3f5f\",\"gridcolor\":\"white\",\"linecolor\":\"white\",\"minorgridcolor\":\"white\",\"startlinecolor\":\"#2a3f5f\"},\"baxis\":{\"endlinecolor\":\"#2a3f5f\",\"gridcolor\":\"white\",\"linecolor\":\"white\",\"minorgridcolor\":\"white\",\"startlinecolor\":\"#2a3f5f\"},\"type\":\"carpet\"}],\"table\":[{\"cells\":{\"fill\":{\"color\":\"#EBF0F8\"},\"line\":{\"color\":\"white\"}},\"header\":{\"fill\":{\"color\":\"#C8D4E3\"},\"line\":{\"color\":\"white\"}},\"type\":\"table\"}],\"barpolar\":[{\"marker\":{\"line\":{\"color\":\"#E5ECF6\",\"width\":0.5},\"pattern\":{\"fillmode\":\"overlay\",\"size\":10,\"solidity\":0.2}},\"type\":\"barpolar\"}],\"pie\":[{\"automargin\":true,\"type\":\"pie\"}]},\"layout\":{\"autotypenumbers\":\"strict\",\"colorway\":[\"#636efa\",\"#EF553B\",\"#00cc96\",\"#ab63fa\",\"#FFA15A\",\"#19d3f3\",\"#FF6692\",\"#B6E880\",\"#FF97FF\",\"#FECB52\"],\"font\":{\"color\":\"#2a3f5f\"},\"hovermode\":\"closest\",\"hoverlabel\":{\"align\":\"left\"},\"paper_bgcolor\":\"white\",\"plot_bgcolor\":\"#E5ECF6\",\"polar\":{\"bgcolor\":\"#E5ECF6\",\"angularaxis\":{\"gridcolor\":\"white\",\"linecolor\":\"white\",\"ticks\":\"\"},\"radialaxis\":{\"gridcolor\":\"white\",\"linecolor\":\"white\",\"ticks\":\"\"}},\"ternary\":{\"bgcolor\":\"#E5ECF6\",\"aaxis\":{\"gridcolor\":\"white\",\"linecolor\":\"white\",\"ticks\":\"\"},\"baxis\":{\"gridcolor\":\"white\",\"linecolor\":\"white\",\"ticks\":\"\"},\"caxis\":{\"gridcolor\":\"white\",\"linecolor\":\"white\",\"ticks\":\"\"}},\"coloraxis\":{\"colorbar\":{\"outlinewidth\":0,\"ticks\":\"\"}},\"colorscale\":{\"sequential\":[[0.0,\"#0d0887\"],[0.1111111111111111,\"#46039f\"],[0.2222222222222222,\"#7201a8\"],[0.3333333333333333,\"#9c179e\"],[0.4444444444444444,\"#bd3786\"],[0.5555555555555556,\"#d8576b\"],[0.6666666666666666,\"#ed7953\"],[0.7777777777777778,\"#fb9f3a\"],[0.8888888888888888,\"#fdca26\"],[1.0,\"#f0f921\"]],\"sequentialminus\":[[0.0,\"#0d0887\"],[0.1111111111111111,\"#46039f\"],[0.2222222222222222,\"#7201a8\"],[0.3333333333333333,\"#9c179e\"],[0.4444444444444444,\"#bd3786\"],[0.5555555555555556,\"#d8576b\"],[0.6666666666666666,\"#ed7953\"],[0.7777777777777778,\"#fb9f3a\"],[0.8888888888888888,\"#fdca26\"],[1.0,\"#f0f921\"]],\"diverging\":[[0,\"#8e0152\"],[0.1,\"#c51b7d\"],[0.2,\"#de77ae\"],[0.3,\"#f1b6da\"],[0.4,\"#fde0ef\"],[0.5,\"#f7f7f7\"],[0.6,\"#e6f5d0\"],[0.7,\"#b8e186\"],[0.8,\"#7fbc41\"],[0.9,\"#4d9221\"],[1,\"#276419\"]]},\"xaxis\":{\"gridcolor\":\"white\",\"linecolor\":\"white\",\"ticks\":\"\",\"title\":{\"standoff\":15},\"zerolinecolor\":\"white\",\"automargin\":true,\"zerolinewidth\":2},\"yaxis\":{\"gridcolor\":\"white\",\"linecolor\":\"white\",\"ticks\":\"\",\"title\":{\"standoff\":15},\"zerolinecolor\":\"white\",\"automargin\":true,\"zerolinewidth\":2},\"scene\":{\"xaxis\":{\"backgroundcolor\":\"#E5ECF6\",\"gridcolor\":\"white\",\"linecolor\":\"white\",\"showbackground\":true,\"ticks\":\"\",\"zerolinecolor\":\"white\",\"gridwidth\":2},\"yaxis\":{\"backgroundcolor\":\"#E5ECF6\",\"gridcolor\":\"white\",\"linecolor\":\"white\",\"showbackground\":true,\"ticks\":\"\",\"zerolinecolor\":\"white\",\"gridwidth\":2},\"zaxis\":{\"backgroundcolor\":\"#E5ECF6\",\"gridcolor\":\"white\",\"linecolor\":\"white\",\"showbackground\":true,\"ticks\":\"\",\"zerolinecolor\":\"white\",\"gridwidth\":2}},\"shapedefaults\":{\"line\":{\"color\":\"#2a3f5f\"}},\"annotationdefaults\":{\"arrowcolor\":\"#2a3f5f\",\"arrowhead\":0,\"arrowwidth\":1},\"geo\":{\"bgcolor\":\"white\",\"landcolor\":\"#E5ECF6\",\"subunitcolor\":\"white\",\"showland\":true,\"showlakes\":true,\"lakecolor\":\"white\"},\"title\":{\"x\":0.05},\"mapbox\":{\"style\":\"light\"}}},\"xaxis\":{\"anchor\":\"y\",\"domain\":[0.0,1.0],\"title\":{\"text\":\"variable\"}},\"yaxis\":{\"anchor\":\"x\",\"domain\":[0.0,1.0],\"title\":{\"text\":\"value\"}},\"legend\":{\"tracegroupgap\":0},\"margin\":{\"t\":60},\"violinmode\":\"group\"},                        {\"responsive\": true}                    ).then(function(){\n",
       "                            \n",
       "var gd = document.getElementById('30bf6d11-2753-4a8d-8ed7-5d42f9eaa746');\n",
       "var x = new MutationObserver(function (mutations, observer) {{\n",
       "        var display = window.getComputedStyle(gd).display;\n",
       "        if (!display || display === 'none') {{\n",
       "            console.log([gd, 'removed!']);\n",
       "            Plotly.purge(gd);\n",
       "            observer.disconnect();\n",
       "        }}\n",
       "}});\n",
       "\n",
       "// Listen for the removal of the full notebook cells\n",
       "var notebookContainer = gd.closest('#notebook-container');\n",
       "if (notebookContainer) {{\n",
       "    x.observe(notebookContainer, {childList: true});\n",
       "}}\n",
       "\n",
       "// Listen for the clearing of the current output cell\n",
       "var outputEl = gd.closest('.output');\n",
       "if (outputEl) {{\n",
       "    x.observe(outputEl, {childList: true});\n",
       "}}\n",
       "\n",
       "                        })                };                });            </script>        </div>"
      ]
     },
     "metadata": {},
     "output_type": "display_data"
    }
   ],
   "source": [
    "# Plot for combined figure\n",
    "combined_total_fig = px.violin(combined_totals)\n",
    "\n",
    "# Show Figure\n",
    "combined_total_fig.show()"
   ]
  },
  {
   "cell_type": "markdown",
   "id": "55aadbe7-8bb8-4278-93ff-36f4b1d7b65b",
   "metadata": {},
   "source": [
    "## Combine Total Fees"
   ]
  },
  {
   "cell_type": "code",
   "execution_count": 436,
   "id": "2cb6f3f3-ccff-4d2d-80dc-4992a4a26a23",
   "metadata": {},
   "outputs": [
    {
     "data": {
      "text/plain": [
       "block_signed_at\n",
       "2022-05-02T15:55:23Z     62.284764\n",
       "2022-05-02T17:05:24Z     67.044152\n",
       "2022-05-02T17:47:53Z    162.055074\n",
       "2022-05-02T18:32:42Z    272.288948\n",
       "2022-05-02T19:23:32Z     68.415750\n",
       "                           ...    \n",
       "2022-05-05T15:59:10Z    179.385890\n",
       "2022-05-05T16:08:21Z    169.879546\n",
       "2022-05-05T16:21:51Z     83.487560\n",
       "2022-05-05T16:40:48Z     51.031801\n",
       "2022-05-05T18:25:16Z     44.818762\n",
       "Name: fees_paid, Length: 232, dtype: float64"
      ]
     },
     "execution_count": 436,
     "metadata": {},
     "output_type": "execute_result"
    }
   ],
   "source": [
    "# Group by address label and sum the value\n",
    "azuki_fees \n",
    "cryptopunks_fees \n",
    "BAYC_fees "
   ]
  },
  {
   "cell_type": "code",
   "execution_count": 439,
   "id": "04c6d69a-b58e-4c52-b42a-c3435c50abce",
   "metadata": {},
   "outputs": [
    {
     "data": {
      "text/plain": [
       "80.27712120680344"
      ]
     },
     "execution_count": 439,
     "metadata": {},
     "output_type": "execute_result"
    }
   ],
   "source": [
    "# Group by address label and sum the value\n",
    "BAYC_fees.mean()"
   ]
  },
  {
   "cell_type": "code",
   "execution_count": 366,
   "id": "ae1ba8bf-e5f1-4fb6-8fb1-2a90ea2b4d30",
   "metadata": {},
   "outputs": [
    {
     "data": {
      "text/plain": [
       "block_signed_at\n",
       "2022-05-02T08:01:26Z    10390866144852644\n",
       "2022-05-02T08:04:14Z    10940432750903242\n",
       "2022-05-02T08:17:01Z     7719700647634126\n",
       "2022-05-02T08:46:46Z    12427390335546082\n",
       "2022-05-02T09:34:33Z     6745013952058188\n",
       "                              ...        \n",
       "2022-05-05T15:05:52Z    11705463714643594\n",
       "2022-05-05T16:14:38Z    16898067379883204\n",
       "2022-05-05T17:01:18Z    16460595422925444\n",
       "2022-05-05T17:12:27Z    15608053692469848\n",
       "2022-05-05T17:45:50Z    14018773912125136\n",
       "Name: fees_paid, Length: 162, dtype: int64"
      ]
     },
     "execution_count": 366,
     "metadata": {},
     "output_type": "execute_result"
    }
   ],
   "source": [
    "azuki_sales['fees_paid'].astype(int)"
   ]
  },
  {
   "cell_type": "code",
   "execution_count": 267,
   "id": "650135c4-b70f-471f-a41c-3d7028553673",
   "metadata": {},
   "outputs": [],
   "source": [
    "# Combine and rename columns for our total sales data\n",
    "combined_fees = pd.concat([azuki_fees,cryptopunks_fees,BAYC_fees], axis=1)\n",
    "combined_fees.columns = ['azuki_total', 'cryptopunks_total','BAYC_total']"
   ]
  },
  {
   "cell_type": "code",
   "execution_count": 220,
   "id": "8be1f8f4-36ad-4d4c-b0f1-2c4f9dd161d0",
   "metadata": {},
   "outputs": [
    {
     "data": {
      "application/vnd.plotly.v1+json": {
       "config": {
        "plotlyServerURL": "https://plot.ly"
       },
       "data": [
        {
         "alignmentgroup": "True",
         "box": {
          "visible": false
         },
         "hovertemplate": "variable=%{x}<br>value=%{y}<extra></extra>",
         "legendgroup": "",
         "marker": {
          "color": "#636efa"
         },
         "name": "",
         "offsetgroup": "",
         "orientation": "v",
         "scalegroup": "True",
         "showlegend": false,
         "type": "violin",
         "x": [
          "azuki_total",
          "azuki_total",
          "azuki_total",
          "azuki_total",
          "cryptopunks_total",
          "cryptopunks_total",
          "cryptopunks_total",
          "cryptopunks_total",
          "BAYC_total",
          "BAYC_total",
          "BAYC_total",
          "BAYC_total"
         ],
         "x0": " ",
         "xaxis": "x",
         "y": [
          2244487.1071240236,
          2880770.5122351274,
          10654132.520956542,
          null,
          378412.41500976565,
          null,
          null,
          28997818.553143132,
          2684586.047919922,
          8746070.770757752,
          30065350.342915136,
          null
         ],
         "y0": " ",
         "yaxis": "y"
        }
       ],
       "layout": {
        "autosize": true,
        "legend": {
         "tracegroupgap": 0
        },
        "margin": {
         "t": 60
        },
        "template": {
         "data": {
          "bar": [
           {
            "error_x": {
             "color": "#2a3f5f"
            },
            "error_y": {
             "color": "#2a3f5f"
            },
            "marker": {
             "line": {
              "color": "#E5ECF6",
              "width": 0.5
             },
             "pattern": {
              "fillmode": "overlay",
              "size": 10,
              "solidity": 0.2
             }
            },
            "type": "bar"
           }
          ],
          "barpolar": [
           {
            "marker": {
             "line": {
              "color": "#E5ECF6",
              "width": 0.5
             },
             "pattern": {
              "fillmode": "overlay",
              "size": 10,
              "solidity": 0.2
             }
            },
            "type": "barpolar"
           }
          ],
          "carpet": [
           {
            "aaxis": {
             "endlinecolor": "#2a3f5f",
             "gridcolor": "white",
             "linecolor": "white",
             "minorgridcolor": "white",
             "startlinecolor": "#2a3f5f"
            },
            "baxis": {
             "endlinecolor": "#2a3f5f",
             "gridcolor": "white",
             "linecolor": "white",
             "minorgridcolor": "white",
             "startlinecolor": "#2a3f5f"
            },
            "type": "carpet"
           }
          ],
          "choropleth": [
           {
            "colorbar": {
             "outlinewidth": 0,
             "ticks": ""
            },
            "type": "choropleth"
           }
          ],
          "contour": [
           {
            "colorbar": {
             "outlinewidth": 0,
             "ticks": ""
            },
            "colorscale": [
             [
              0,
              "#0d0887"
             ],
             [
              0.1111111111111111,
              "#46039f"
             ],
             [
              0.2222222222222222,
              "#7201a8"
             ],
             [
              0.3333333333333333,
              "#9c179e"
             ],
             [
              0.4444444444444444,
              "#bd3786"
             ],
             [
              0.5555555555555556,
              "#d8576b"
             ],
             [
              0.6666666666666666,
              "#ed7953"
             ],
             [
              0.7777777777777778,
              "#fb9f3a"
             ],
             [
              0.8888888888888888,
              "#fdca26"
             ],
             [
              1,
              "#f0f921"
             ]
            ],
            "type": "contour"
           }
          ],
          "contourcarpet": [
           {
            "colorbar": {
             "outlinewidth": 0,
             "ticks": ""
            },
            "type": "contourcarpet"
           }
          ],
          "heatmap": [
           {
            "colorbar": {
             "outlinewidth": 0,
             "ticks": ""
            },
            "colorscale": [
             [
              0,
              "#0d0887"
             ],
             [
              0.1111111111111111,
              "#46039f"
             ],
             [
              0.2222222222222222,
              "#7201a8"
             ],
             [
              0.3333333333333333,
              "#9c179e"
             ],
             [
              0.4444444444444444,
              "#bd3786"
             ],
             [
              0.5555555555555556,
              "#d8576b"
             ],
             [
              0.6666666666666666,
              "#ed7953"
             ],
             [
              0.7777777777777778,
              "#fb9f3a"
             ],
             [
              0.8888888888888888,
              "#fdca26"
             ],
             [
              1,
              "#f0f921"
             ]
            ],
            "type": "heatmap"
           }
          ],
          "heatmapgl": [
           {
            "colorbar": {
             "outlinewidth": 0,
             "ticks": ""
            },
            "colorscale": [
             [
              0,
              "#0d0887"
             ],
             [
              0.1111111111111111,
              "#46039f"
             ],
             [
              0.2222222222222222,
              "#7201a8"
             ],
             [
              0.3333333333333333,
              "#9c179e"
             ],
             [
              0.4444444444444444,
              "#bd3786"
             ],
             [
              0.5555555555555556,
              "#d8576b"
             ],
             [
              0.6666666666666666,
              "#ed7953"
             ],
             [
              0.7777777777777778,
              "#fb9f3a"
             ],
             [
              0.8888888888888888,
              "#fdca26"
             ],
             [
              1,
              "#f0f921"
             ]
            ],
            "type": "heatmapgl"
           }
          ],
          "histogram": [
           {
            "marker": {
             "pattern": {
              "fillmode": "overlay",
              "size": 10,
              "solidity": 0.2
             }
            },
            "type": "histogram"
           }
          ],
          "histogram2d": [
           {
            "colorbar": {
             "outlinewidth": 0,
             "ticks": ""
            },
            "colorscale": [
             [
              0,
              "#0d0887"
             ],
             [
              0.1111111111111111,
              "#46039f"
             ],
             [
              0.2222222222222222,
              "#7201a8"
             ],
             [
              0.3333333333333333,
              "#9c179e"
             ],
             [
              0.4444444444444444,
              "#bd3786"
             ],
             [
              0.5555555555555556,
              "#d8576b"
             ],
             [
              0.6666666666666666,
              "#ed7953"
             ],
             [
              0.7777777777777778,
              "#fb9f3a"
             ],
             [
              0.8888888888888888,
              "#fdca26"
             ],
             [
              1,
              "#f0f921"
             ]
            ],
            "type": "histogram2d"
           }
          ],
          "histogram2dcontour": [
           {
            "colorbar": {
             "outlinewidth": 0,
             "ticks": ""
            },
            "colorscale": [
             [
              0,
              "#0d0887"
             ],
             [
              0.1111111111111111,
              "#46039f"
             ],
             [
              0.2222222222222222,
              "#7201a8"
             ],
             [
              0.3333333333333333,
              "#9c179e"
             ],
             [
              0.4444444444444444,
              "#bd3786"
             ],
             [
              0.5555555555555556,
              "#d8576b"
             ],
             [
              0.6666666666666666,
              "#ed7953"
             ],
             [
              0.7777777777777778,
              "#fb9f3a"
             ],
             [
              0.8888888888888888,
              "#fdca26"
             ],
             [
              1,
              "#f0f921"
             ]
            ],
            "type": "histogram2dcontour"
           }
          ],
          "mesh3d": [
           {
            "colorbar": {
             "outlinewidth": 0,
             "ticks": ""
            },
            "type": "mesh3d"
           }
          ],
          "parcoords": [
           {
            "line": {
             "colorbar": {
              "outlinewidth": 0,
              "ticks": ""
             }
            },
            "type": "parcoords"
           }
          ],
          "pie": [
           {
            "automargin": true,
            "type": "pie"
           }
          ],
          "scatter": [
           {
            "fillpattern": {
             "fillmode": "overlay",
             "size": 10,
             "solidity": 0.2
            },
            "type": "scatter"
           }
          ],
          "scatter3d": [
           {
            "line": {
             "colorbar": {
              "outlinewidth": 0,
              "ticks": ""
             }
            },
            "marker": {
             "colorbar": {
              "outlinewidth": 0,
              "ticks": ""
             }
            },
            "type": "scatter3d"
           }
          ],
          "scattercarpet": [
           {
            "marker": {
             "colorbar": {
              "outlinewidth": 0,
              "ticks": ""
             }
            },
            "type": "scattercarpet"
           }
          ],
          "scattergeo": [
           {
            "marker": {
             "colorbar": {
              "outlinewidth": 0,
              "ticks": ""
             }
            },
            "type": "scattergeo"
           }
          ],
          "scattergl": [
           {
            "marker": {
             "colorbar": {
              "outlinewidth": 0,
              "ticks": ""
             }
            },
            "type": "scattergl"
           }
          ],
          "scattermapbox": [
           {
            "marker": {
             "colorbar": {
              "outlinewidth": 0,
              "ticks": ""
             }
            },
            "type": "scattermapbox"
           }
          ],
          "scatterpolar": [
           {
            "marker": {
             "colorbar": {
              "outlinewidth": 0,
              "ticks": ""
             }
            },
            "type": "scatterpolar"
           }
          ],
          "scatterpolargl": [
           {
            "marker": {
             "colorbar": {
              "outlinewidth": 0,
              "ticks": ""
             }
            },
            "type": "scatterpolargl"
           }
          ],
          "scatterternary": [
           {
            "marker": {
             "colorbar": {
              "outlinewidth": 0,
              "ticks": ""
             }
            },
            "type": "scatterternary"
           }
          ],
          "surface": [
           {
            "colorbar": {
             "outlinewidth": 0,
             "ticks": ""
            },
            "colorscale": [
             [
              0,
              "#0d0887"
             ],
             [
              0.1111111111111111,
              "#46039f"
             ],
             [
              0.2222222222222222,
              "#7201a8"
             ],
             [
              0.3333333333333333,
              "#9c179e"
             ],
             [
              0.4444444444444444,
              "#bd3786"
             ],
             [
              0.5555555555555556,
              "#d8576b"
             ],
             [
              0.6666666666666666,
              "#ed7953"
             ],
             [
              0.7777777777777778,
              "#fb9f3a"
             ],
             [
              0.8888888888888888,
              "#fdca26"
             ],
             [
              1,
              "#f0f921"
             ]
            ],
            "type": "surface"
           }
          ],
          "table": [
           {
            "cells": {
             "fill": {
              "color": "#EBF0F8"
             },
             "line": {
              "color": "white"
             }
            },
            "header": {
             "fill": {
              "color": "#C8D4E3"
             },
             "line": {
              "color": "white"
             }
            },
            "type": "table"
           }
          ]
         },
         "layout": {
          "annotationdefaults": {
           "arrowcolor": "#2a3f5f",
           "arrowhead": 0,
           "arrowwidth": 1
          },
          "autotypenumbers": "strict",
          "coloraxis": {
           "colorbar": {
            "outlinewidth": 0,
            "ticks": ""
           }
          },
          "colorscale": {
           "diverging": [
            [
             0,
             "#8e0152"
            ],
            [
             0.1,
             "#c51b7d"
            ],
            [
             0.2,
             "#de77ae"
            ],
            [
             0.3,
             "#f1b6da"
            ],
            [
             0.4,
             "#fde0ef"
            ],
            [
             0.5,
             "#f7f7f7"
            ],
            [
             0.6,
             "#e6f5d0"
            ],
            [
             0.7,
             "#b8e186"
            ],
            [
             0.8,
             "#7fbc41"
            ],
            [
             0.9,
             "#4d9221"
            ],
            [
             1,
             "#276419"
            ]
           ],
           "sequential": [
            [
             0,
             "#0d0887"
            ],
            [
             0.1111111111111111,
             "#46039f"
            ],
            [
             0.2222222222222222,
             "#7201a8"
            ],
            [
             0.3333333333333333,
             "#9c179e"
            ],
            [
             0.4444444444444444,
             "#bd3786"
            ],
            [
             0.5555555555555556,
             "#d8576b"
            ],
            [
             0.6666666666666666,
             "#ed7953"
            ],
            [
             0.7777777777777778,
             "#fb9f3a"
            ],
            [
             0.8888888888888888,
             "#fdca26"
            ],
            [
             1,
             "#f0f921"
            ]
           ],
           "sequentialminus": [
            [
             0,
             "#0d0887"
            ],
            [
             0.1111111111111111,
             "#46039f"
            ],
            [
             0.2222222222222222,
             "#7201a8"
            ],
            [
             0.3333333333333333,
             "#9c179e"
            ],
            [
             0.4444444444444444,
             "#bd3786"
            ],
            [
             0.5555555555555556,
             "#d8576b"
            ],
            [
             0.6666666666666666,
             "#ed7953"
            ],
            [
             0.7777777777777778,
             "#fb9f3a"
            ],
            [
             0.8888888888888888,
             "#fdca26"
            ],
            [
             1,
             "#f0f921"
            ]
           ]
          },
          "colorway": [
           "#636efa",
           "#EF553B",
           "#00cc96",
           "#ab63fa",
           "#FFA15A",
           "#19d3f3",
           "#FF6692",
           "#B6E880",
           "#FF97FF",
           "#FECB52"
          ],
          "font": {
           "color": "#2a3f5f"
          },
          "geo": {
           "bgcolor": "white",
           "lakecolor": "white",
           "landcolor": "#E5ECF6",
           "showlakes": true,
           "showland": true,
           "subunitcolor": "white"
          },
          "hoverlabel": {
           "align": "left"
          },
          "hovermode": "closest",
          "mapbox": {
           "style": "light"
          },
          "paper_bgcolor": "white",
          "plot_bgcolor": "#E5ECF6",
          "polar": {
           "angularaxis": {
            "gridcolor": "white",
            "linecolor": "white",
            "ticks": ""
           },
           "bgcolor": "#E5ECF6",
           "radialaxis": {
            "gridcolor": "white",
            "linecolor": "white",
            "ticks": ""
           }
          },
          "scene": {
           "xaxis": {
            "backgroundcolor": "#E5ECF6",
            "gridcolor": "white",
            "gridwidth": 2,
            "linecolor": "white",
            "showbackground": true,
            "ticks": "",
            "zerolinecolor": "white"
           },
           "yaxis": {
            "backgroundcolor": "#E5ECF6",
            "gridcolor": "white",
            "gridwidth": 2,
            "linecolor": "white",
            "showbackground": true,
            "ticks": "",
            "zerolinecolor": "white"
           },
           "zaxis": {
            "backgroundcolor": "#E5ECF6",
            "gridcolor": "white",
            "gridwidth": 2,
            "linecolor": "white",
            "showbackground": true,
            "ticks": "",
            "zerolinecolor": "white"
           }
          },
          "shapedefaults": {
           "line": {
            "color": "#2a3f5f"
           }
          },
          "ternary": {
           "aaxis": {
            "gridcolor": "white",
            "linecolor": "white",
            "ticks": ""
           },
           "baxis": {
            "gridcolor": "white",
            "linecolor": "white",
            "ticks": ""
           },
           "bgcolor": "#E5ECF6",
           "caxis": {
            "gridcolor": "white",
            "linecolor": "white",
            "ticks": ""
           }
          },
          "title": {
           "x": 0.05
          },
          "xaxis": {
           "automargin": true,
           "gridcolor": "white",
           "linecolor": "white",
           "ticks": "",
           "title": {
            "standoff": 15
           },
           "zerolinecolor": "white",
           "zerolinewidth": 2
          },
          "yaxis": {
           "automargin": true,
           "gridcolor": "white",
           "linecolor": "white",
           "ticks": "",
           "title": {
            "standoff": 15
           },
           "zerolinecolor": "white",
           "zerolinewidth": 2
          }
         }
        },
        "violinmode": "group",
        "xaxis": {
         "anchor": "y",
         "autorange": true,
         "domain": [
          0,
          1
         ],
         "range": [
          -0.5,
          2.5
         ],
         "title": {
          "text": "variable"
         },
         "type": "category"
        },
        "yaxis": {
         "anchor": "x",
         "autorange": true,
         "domain": [
          0,
          1
         ],
         "range": [
          -42670959.789380535,
          72047190.75753345
         ],
         "title": {
          "text": "value"
         },
         "type": "linear"
        }
       }
      },
      "image/png": "[encoded data removed]",
      "text/html": [
       "<div>                            <div id=\"8e3e988c-a5f5-4a4d-b200-e7cf3ad2e783\" class=\"plotly-graph-div\" style=\"height:525px; width:100%;\"></div>            <script type=\"text/javascript\">                require([\"plotly\"], function(Plotly) {                    window.PLOTLYENV=window.PLOTLYENV || {};                                    if (document.getElementById(\"8e3e988c-a5f5-4a4d-b200-e7cf3ad2e783\")) {                    Plotly.newPlot(                        \"8e3e988c-a5f5-4a4d-b200-e7cf3ad2e783\",                        [{\"alignmentgroup\":\"True\",\"box\":{\"visible\":false},\"hovertemplate\":\"variable=%{x}<br>value=%{y}<extra></extra>\",\"legendgroup\":\"\",\"marker\":{\"color\":\"#636efa\"},\"name\":\"\",\"offsetgroup\":\"\",\"orientation\":\"v\",\"scalegroup\":\"True\",\"showlegend\":false,\"x\":[\"azuki_total\",\"azuki_total\",\"azuki_total\",\"azuki_total\",\"cryptopunks_total\",\"cryptopunks_total\",\"cryptopunks_total\",\"cryptopunks_total\",\"BAYC_total\",\"BAYC_total\",\"BAYC_total\",\"BAYC_total\"],\"x0\":\" \",\"xaxis\":\"x\",\"y\":[2244487.1071240236,2880770.5122351274,10654132.520956542,null,378412.41500976565,null,null,28997818.553143132,2684586.047919922,8746070.770757752,30065350.342915136,null],\"y0\":\" \",\"yaxis\":\"y\",\"type\":\"violin\"}],                        {\"template\":{\"data\":{\"histogram2dcontour\":[{\"type\":\"histogram2dcontour\",\"colorbar\":{\"outlinewidth\":0,\"ticks\":\"\"},\"colorscale\":[[0.0,\"#0d0887\"],[0.1111111111111111,\"#46039f\"],[0.2222222222222222,\"#7201a8\"],[0.3333333333333333,\"#9c179e\"],[0.4444444444444444,\"#bd3786\"],[0.5555555555555556,\"#d8576b\"],[0.6666666666666666,\"#ed7953\"],[0.7777777777777778,\"#fb9f3a\"],[0.8888888888888888,\"#fdca26\"],[1.0,\"#f0f921\"]]}],\"choropleth\":[{\"type\":\"choropleth\",\"colorbar\":{\"outlinewidth\":0,\"ticks\":\"\"}}],\"histogram2d\":[{\"type\":\"histogram2d\",\"colorbar\":{\"outlinewidth\":0,\"ticks\":\"\"},\"colorscale\":[[0.0,\"#0d0887\"],[0.1111111111111111,\"#46039f\"],[0.2222222222222222,\"#7201a8\"],[0.3333333333333333,\"#9c179e\"],[0.4444444444444444,\"#bd3786\"],[0.5555555555555556,\"#d8576b\"],[0.6666666666666666,\"#ed7953\"],[0.7777777777777778,\"#fb9f3a\"],[0.8888888888888888,\"#fdca26\"],[1.0,\"#f0f921\"]]}],\"heatmap\":[{\"type\":\"heatmap\",\"colorbar\":{\"outlinewidth\":0,\"ticks\":\"\"},\"colorscale\":[[0.0,\"#0d0887\"],[0.1111111111111111,\"#46039f\"],[0.2222222222222222,\"#7201a8\"],[0.3333333333333333,\"#9c179e\"],[0.4444444444444444,\"#bd3786\"],[0.5555555555555556,\"#d8576b\"],[0.6666666666666666,\"#ed7953\"],[0.7777777777777778,\"#fb9f3a\"],[0.8888888888888888,\"#fdca26\"],[1.0,\"#f0f921\"]]}],\"heatmapgl\":[{\"type\":\"heatmapgl\",\"colorbar\":{\"outlinewidth\":0,\"ticks\":\"\"},\"colorscale\":[[0.0,\"#0d0887\"],[0.1111111111111111,\"#46039f\"],[0.2222222222222222,\"#7201a8\"],[0.3333333333333333,\"#9c179e\"],[0.4444444444444444,\"#bd3786\"],[0.5555555555555556,\"#d8576b\"],[0.6666666666666666,\"#ed7953\"],[0.7777777777777778,\"#fb9f3a\"],[0.8888888888888888,\"#fdca26\"],[1.0,\"#f0f921\"]]}],\"contourcarpet\":[{\"type\":\"contourcarpet\",\"colorbar\":{\"outlinewidth\":0,\"ticks\":\"\"}}],\"contour\":[{\"type\":\"contour\",\"colorbar\":{\"outlinewidth\":0,\"ticks\":\"\"},\"colorscale\":[[0.0,\"#0d0887\"],[0.1111111111111111,\"#46039f\"],[0.2222222222222222,\"#7201a8\"],[0.3333333333333333,\"#9c179e\"],[0.4444444444444444,\"#bd3786\"],[0.5555555555555556,\"#d8576b\"],[0.6666666666666666,\"#ed7953\"],[0.7777777777777778,\"#fb9f3a\"],[0.8888888888888888,\"#fdca26\"],[1.0,\"#f0f921\"]]}],\"surface\":[{\"type\":\"surface\",\"colorbar\":{\"outlinewidth\":0,\"ticks\":\"\"},\"colorscale\":[[0.0,\"#0d0887\"],[0.1111111111111111,\"#46039f\"],[0.2222222222222222,\"#7201a8\"],[0.3333333333333333,\"#9c179e\"],[0.4444444444444444,\"#bd3786\"],[0.5555555555555556,\"#d8576b\"],[0.6666666666666666,\"#ed7953\"],[0.7777777777777778,\"#fb9f3a\"],[0.8888888888888888,\"#fdca26\"],[1.0,\"#f0f921\"]]}],\"mesh3d\":[{\"type\":\"mesh3d\",\"colorbar\":{\"outlinewidth\":0,\"ticks\":\"\"}}],\"scatter\":[{\"fillpattern\":{\"fillmode\":\"overlay\",\"size\":10,\"solidity\":0.2},\"type\":\"scatter\"}],\"parcoords\":[{\"type\":\"parcoords\",\"line\":{\"colorbar\":{\"outlinewidth\":0,\"ticks\":\"\"}}}],\"scatterpolargl\":[{\"type\":\"scatterpolargl\",\"marker\":{\"colorbar\":{\"outlinewidth\":0,\"ticks\":\"\"}}}],\"bar\":[{\"error_x\":{\"color\":\"#2a3f5f\"},\"error_y\":{\"color\":\"#2a3f5f\"},\"marker\":{\"line\":{\"color\":\"#E5ECF6\",\"width\":0.5},\"pattern\":{\"fillmode\":\"overlay\",\"size\":10,\"solidity\":0.2}},\"type\":\"bar\"}],\"scattergeo\":[{\"type\":\"scattergeo\",\"marker\":{\"colorbar\":{\"outlinewidth\":0,\"ticks\":\"\"}}}],\"scatterpolar\":[{\"type\":\"scatterpolar\",\"marker\":{\"colorbar\":{\"outlinewidth\":0,\"ticks\":\"\"}}}],\"histogram\":[{\"marker\":{\"pattern\":{\"fillmode\":\"overlay\",\"size\":10,\"solidity\":0.2}},\"type\":\"histogram\"}],\"scattergl\":[{\"type\":\"scattergl\",\"marker\":{\"colorbar\":{\"outlinewidth\":0,\"ticks\":\"\"}}}],\"scatter3d\":[{\"type\":\"scatter3d\",\"line\":{\"colorbar\":{\"outlinewidth\":0,\"ticks\":\"\"}},\"marker\":{\"colorbar\":{\"outlinewidth\":0,\"ticks\":\"\"}}}],\"scattermapbox\":[{\"type\":\"scattermapbox\",\"marker\":{\"colorbar\":{\"outlinewidth\":0,\"ticks\":\"\"}}}],\"scatterternary\":[{\"type\":\"scatterternary\",\"marker\":{\"colorbar\":{\"outlinewidth\":0,\"ticks\":\"\"}}}],\"scattercarpet\":[{\"type\":\"scattercarpet\",\"marker\":{\"colorbar\":{\"outlinewidth\":0,\"ticks\":\"\"}}}],\"carpet\":[{\"aaxis\":{\"endlinecolor\":\"#2a3f5f\",\"gridcolor\":\"white\",\"linecolor\":\"white\",\"minorgridcolor\":\"white\",\"startlinecolor\":\"#2a3f5f\"},\"baxis\":{\"endlinecolor\":\"#2a3f5f\",\"gridcolor\":\"white\",\"linecolor\":\"white\",\"minorgridcolor\":\"white\",\"startlinecolor\":\"#2a3f5f\"},\"type\":\"carpet\"}],\"table\":[{\"cells\":{\"fill\":{\"color\":\"#EBF0F8\"},\"line\":{\"color\":\"white\"}},\"header\":{\"fill\":{\"color\":\"#C8D4E3\"},\"line\":{\"color\":\"white\"}},\"type\":\"table\"}],\"barpolar\":[{\"marker\":{\"line\":{\"color\":\"#E5ECF6\",\"width\":0.5},\"pattern\":{\"fillmode\":\"overlay\",\"size\":10,\"solidity\":0.2}},\"type\":\"barpolar\"}],\"pie\":[{\"automargin\":true,\"type\":\"pie\"}]},\"layout\":{\"autotypenumbers\":\"strict\",\"colorway\":[\"#636efa\",\"#EF553B\",\"#00cc96\",\"#ab63fa\",\"#FFA15A\",\"#19d3f3\",\"#FF6692\",\"#B6E880\",\"#FF97FF\",\"#FECB52\"],\"font\":{\"color\":\"#2a3f5f\"},\"hovermode\":\"closest\",\"hoverlabel\":{\"align\":\"left\"},\"paper_bgcolor\":\"white\",\"plot_bgcolor\":\"#E5ECF6\",\"polar\":{\"bgcolor\":\"#E5ECF6\",\"angularaxis\":{\"gridcolor\":\"white\",\"linecolor\":\"white\",\"ticks\":\"\"},\"radialaxis\":{\"gridcolor\":\"white\",\"linecolor\":\"white\",\"ticks\":\"\"}},\"ternary\":{\"bgcolor\":\"#E5ECF6\",\"aaxis\":{\"gridcolor\":\"white\",\"linecolor\":\"white\",\"ticks\":\"\"},\"baxis\":{\"gridcolor\":\"white\",\"linecolor\":\"white\",\"ticks\":\"\"},\"caxis\":{\"gridcolor\":\"white\",\"linecolor\":\"white\",\"ticks\":\"\"}},\"coloraxis\":{\"colorbar\":{\"outlinewidth\":0,\"ticks\":\"\"}},\"colorscale\":{\"sequential\":[[0.0,\"#0d0887\"],[0.1111111111111111,\"#46039f\"],[0.2222222222222222,\"#7201a8\"],[0.3333333333333333,\"#9c179e\"],[0.4444444444444444,\"#bd3786\"],[0.5555555555555556,\"#d8576b\"],[0.6666666666666666,\"#ed7953\"],[0.7777777777777778,\"#fb9f3a\"],[0.8888888888888888,\"#fdca26\"],[1.0,\"#f0f921\"]],\"sequentialminus\":[[0.0,\"#0d0887\"],[0.1111111111111111,\"#46039f\"],[0.2222222222222222,\"#7201a8\"],[0.3333333333333333,\"#9c179e\"],[0.4444444444444444,\"#bd3786\"],[0.5555555555555556,\"#d8576b\"],[0.6666666666666666,\"#ed7953\"],[0.7777777777777778,\"#fb9f3a\"],[0.8888888888888888,\"#fdca26\"],[1.0,\"#f0f921\"]],\"diverging\":[[0,\"#8e0152\"],[0.1,\"#c51b7d\"],[0.2,\"#de77ae\"],[0.3,\"#f1b6da\"],[0.4,\"#fde0ef\"],[0.5,\"#f7f7f7\"],[0.6,\"#e6f5d0\"],[0.7,\"#b8e186\"],[0.8,\"#7fbc41\"],[0.9,\"#4d9221\"],[1,\"#276419\"]]},\"xaxis\":{\"gridcolor\":\"white\",\"linecolor\":\"white\",\"ticks\":\"\",\"title\":{\"standoff\":15},\"zerolinecolor\":\"white\",\"automargin\":true,\"zerolinewidth\":2},\"yaxis\":{\"gridcolor\":\"white\",\"linecolor\":\"white\",\"ticks\":\"\",\"title\":{\"standoff\":15},\"zerolinecolor\":\"white\",\"automargin\":true,\"zerolinewidth\":2},\"scene\":{\"xaxis\":{\"backgroundcolor\":\"#E5ECF6\",\"gridcolor\":\"white\",\"linecolor\":\"white\",\"showbackground\":true,\"ticks\":\"\",\"zerolinecolor\":\"white\",\"gridwidth\":2},\"yaxis\":{\"backgroundcolor\":\"#E5ECF6\",\"gridcolor\":\"white\",\"linecolor\":\"white\",\"showbackground\":true,\"ticks\":\"\",\"zerolinecolor\":\"white\",\"gridwidth\":2},\"zaxis\":{\"backgroundcolor\":\"#E5ECF6\",\"gridcolor\":\"white\",\"linecolor\":\"white\",\"showbackground\":true,\"ticks\":\"\",\"zerolinecolor\":\"white\",\"gridwidth\":2}},\"shapedefaults\":{\"line\":{\"color\":\"#2a3f5f\"}},\"annotationdefaults\":{\"arrowcolor\":\"#2a3f5f\",\"arrowhead\":0,\"arrowwidth\":1},\"geo\":{\"bgcolor\":\"white\",\"landcolor\":\"#E5ECF6\",\"subunitcolor\":\"white\",\"showland\":true,\"showlakes\":true,\"lakecolor\":\"white\"},\"title\":{\"x\":0.05},\"mapbox\":{\"style\":\"light\"}}},\"xaxis\":{\"anchor\":\"y\",\"domain\":[0.0,1.0],\"title\":{\"text\":\"variable\"}},\"yaxis\":{\"anchor\":\"x\",\"domain\":[0.0,1.0],\"title\":{\"text\":\"value\"}},\"legend\":{\"tracegroupgap\":0},\"margin\":{\"t\":60},\"violinmode\":\"group\"},                        {\"responsive\": true}                    ).then(function(){\n",
       "                            \n",
       "var gd = document.getElementById('8e3e988c-a5f5-4a4d-b200-e7cf3ad2e783');\n",
       "var x = new MutationObserver(function (mutations, observer) {{\n",
       "        var display = window.getComputedStyle(gd).display;\n",
       "        if (!display || display === 'none') {{\n",
       "            console.log([gd, 'removed!']);\n",
       "            Plotly.purge(gd);\n",
       "            observer.disconnect();\n",
       "        }}\n",
       "}});\n",
       "\n",
       "// Listen for the removal of the full notebook cells\n",
       "var notebookContainer = gd.closest('#notebook-container');\n",
       "if (notebookContainer) {{\n",
       "    x.observe(notebookContainer, {childList: true});\n",
       "}}\n",
       "\n",
       "// Listen for the clearing of the current output cell\n",
       "var outputEl = gd.closest('.output');\n",
       "if (outputEl) {{\n",
       "    x.observe(outputEl, {childList: true});\n",
       "}}\n",
       "\n",
       "                        })                };                });            </script>        </div>"
      ]
     },
     "metadata": {},
     "output_type": "display_data"
    }
   ],
   "source": [
    "# Plot for combined figure\n",
    "combined_fees_fig = px.violin(combined_totals)\n",
    "\n",
    "# Show Figure\n",
    "combined_fees_fig.show()"
   ]
  },
  {
   "cell_type": "code",
   "execution_count": 225,
   "id": "cfa22af9-afcf-4fb9-9577-512fa0fc995e",
   "metadata": {},
   "outputs": [
    {
     "data": {
      "text/html": [
       "<div>\n",
       "<style scoped>\n",
       "    .dataframe tbody tr th:only-of-type {\n",
       "        vertical-align: middle;\n",
       "    }\n",
       "\n",
       "    .dataframe tbody tr th {\n",
       "        vertical-align: top;\n",
       "    }\n",
       "\n",
       "    .dataframe thead th {\n",
       "        text-align: right;\n",
       "    }\n",
       "</style>\n",
       "<table border=\"1\" class=\"dataframe\">\n",
       "  <thead>\n",
       "    <tr style=\"text-align: right;\">\n",
       "      <th></th>\n",
       "      <th>to_address_label</th>\n",
       "      <th>fees_paid</th>\n",
       "      <th>value_quote</th>\n",
       "    </tr>\n",
       "    <tr>\n",
       "      <th>block_signed_at</th>\n",
       "      <th></th>\n",
       "      <th></th>\n",
       "      <th></th>\n",
       "    </tr>\n",
       "  </thead>\n",
       "  <tbody>\n",
       "    <tr>\n",
       "      <th>2022-05-02T05:26:16Z</th>\n",
       "      <td>Wyvern Exchange Contract (-)</td>\n",
       "      <td>9851883157320755</td>\n",
       "      <td>85489.976343</td>\n",
       "    </tr>\n",
       "    <tr>\n",
       "      <th>2022-05-02T05:36:24Z</th>\n",
       "      <td>Wyvern Exchange Contract (-)</td>\n",
       "      <td>9069046172323845</td>\n",
       "      <td>81487.101196</td>\n",
       "    </tr>\n",
       "    <tr>\n",
       "      <th>2022-05-02T05:56:51Z</th>\n",
       "      <td>Wyvern Exchange Contract (-)</td>\n",
       "      <td>10689576940401085</td>\n",
       "      <td>80057.502930</td>\n",
       "    </tr>\n",
       "    <tr>\n",
       "      <th>2022-05-02T06:14:23Z</th>\n",
       "      <td>Wyvern Exchange Contract (-)</td>\n",
       "      <td>7901352473516036</td>\n",
       "      <td>157255.809326</td>\n",
       "    </tr>\n",
       "    <tr>\n",
       "      <th>2022-05-02T06:19:38Z</th>\n",
       "      <td>Gem: GemSwap 2</td>\n",
       "      <td>12414458871657650</td>\n",
       "      <td>77770.145703</td>\n",
       "    </tr>\n",
       "    <tr>\n",
       "      <th>...</th>\n",
       "      <td>...</td>\n",
       "      <td>...</td>\n",
       "      <td>...</td>\n",
       "    </tr>\n",
       "    <tr>\n",
       "      <th>2022-05-05T07:18:43Z</th>\n",
       "      <td>LooksRare: Exchange</td>\n",
       "      <td>9139240145431006</td>\n",
       "      <td>86009.860840</td>\n",
       "    </tr>\n",
       "    <tr>\n",
       "      <th>2022-05-05T07:32:36Z</th>\n",
       "      <td>LooksRare: Exchange</td>\n",
       "      <td>6107556000000000</td>\n",
       "      <td>99771.438574</td>\n",
       "    </tr>\n",
       "    <tr>\n",
       "      <th>2022-05-05T13:36:43Z</th>\n",
       "      <td>Wyvern Exchange Contract (-)</td>\n",
       "      <td>15143566684658802</td>\n",
       "      <td>129014.791260</td>\n",
       "    </tr>\n",
       "    <tr>\n",
       "      <th>2022-05-05T14:13:12Z</th>\n",
       "      <td>Wyvern Exchange Contract (-)</td>\n",
       "      <td>16027596053055548</td>\n",
       "      <td>89507.595181</td>\n",
       "    </tr>\n",
       "    <tr>\n",
       "      <th>2022-05-05T15:05:52Z</th>\n",
       "      <td>Wyvern Exchange Contract (-)</td>\n",
       "      <td>11705463714643594</td>\n",
       "      <td>79989.170581</td>\n",
       "    </tr>\n",
       "  </tbody>\n",
       "</table>\n",
       "<p>172 rows × 3 columns</p>\n",
       "</div>"
      ],
      "text/plain": [
       "                                  to_address_label          fees_paid  \\\n",
       "block_signed_at                                                         \n",
       "2022-05-02T05:26:16Z  Wyvern Exchange Contract (-)   9851883157320755   \n",
       "2022-05-02T05:36:24Z  Wyvern Exchange Contract (-)   9069046172323845   \n",
       "2022-05-02T05:56:51Z  Wyvern Exchange Contract (-)  10689576940401085   \n",
       "2022-05-02T06:14:23Z  Wyvern Exchange Contract (-)   7901352473516036   \n",
       "2022-05-02T06:19:38Z                Gem: GemSwap 2  12414458871657650   \n",
       "...                                            ...                ...   \n",
       "2022-05-05T07:18:43Z           LooksRare: Exchange   9139240145431006   \n",
       "2022-05-05T07:32:36Z           LooksRare: Exchange   6107556000000000   \n",
       "2022-05-05T13:36:43Z  Wyvern Exchange Contract (-)  15143566684658802   \n",
       "2022-05-05T14:13:12Z  Wyvern Exchange Contract (-)  16027596053055548   \n",
       "2022-05-05T15:05:52Z  Wyvern Exchange Contract (-)  11705463714643594   \n",
       "\n",
       "                        value_quote  \n",
       "block_signed_at                      \n",
       "2022-05-02T05:26:16Z   85489.976343  \n",
       "2022-05-02T05:36:24Z   81487.101196  \n",
       "2022-05-02T05:56:51Z   80057.502930  \n",
       "2022-05-02T06:14:23Z  157255.809326  \n",
       "2022-05-02T06:19:38Z   77770.145703  \n",
       "...                             ...  \n",
       "2022-05-05T07:18:43Z   86009.860840  \n",
       "2022-05-05T07:32:36Z   99771.438574  \n",
       "2022-05-05T13:36:43Z  129014.791260  \n",
       "2022-05-05T14:13:12Z   89507.595181  \n",
       "2022-05-05T15:05:52Z   79989.170581  \n",
       "\n",
       "[172 rows x 3 columns]"
      ]
     },
     "execution_count": 225,
     "metadata": {},
     "output_type": "execute_result"
    }
   ],
   "source": [
    "azuki_sales"
   ]
  },
  {
   "cell_type": "code",
   "execution_count": 253,
   "id": "b464b831-d4cd-4822-8bb5-45ffd1afb09c",
   "metadata": {},
   "outputs": [
    {
     "data": {
      "text/plain": [
       "6858.121702734551"
      ]
     },
     "execution_count": 253,
     "metadata": {},
     "output_type": "execute_result"
    }
   ],
   "source": [
    "# azuki_sales.groupby('to_address_label').mean('fees_paid')\n",
    "azuki_sales['fees_paid'].astype(int).sum()/10**18*eth_value"
   ]
  }
 ],
 "metadata": {
  "kernelspec": {
   "display_name": "Python (base)",
   "language": "python",
   "name": "base"
  },
  "language_info": {
   "codemirror_mode": {
    "name": "ipython",
    "version": 3
   },
   "file_extension": ".py",
   "mimetype": "text/x-python",
   "name": "python",
   "nbconvert_exporter": "python",
   "pygments_lexer": "ipython3",
   "version": "3.9.12"
  }
 },
 "nbformat": 4,
 "nbformat_minor": 5
}
