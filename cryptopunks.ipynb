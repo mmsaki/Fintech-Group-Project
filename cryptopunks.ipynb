{
 "cells": [
  {
   "cell_type": "markdown",
   "id": "921811fd-e496-4f5d-be13-e31b1b44b043",
   "metadata": {},
   "source": [
    "<img src=\"https://github.com/chris-groshong/Fintech-Group-Project/blob/8cb5348b7b3689c34a6f503436f7467d2d933afa/Images/punk-variety-2x.png\">"
   ]
  },
  {
   "cell_type": "markdown",
   "id": "40151e0a-a1ff-4512-9e6b-8acbb248fd85",
   "metadata": {},
   "source": [
    "# Cryptopunks Analysis"
   ]
  },
  {
   "cell_type": "code",
   "execution_count": 72,
   "id": "d5584bd6-fc30-4878-9a7a-950364bbfe49",
   "metadata": {},
   "outputs": [],
   "source": [
    "# Import dependancies\n",
    "\n",
    "import os\n",
    "import requests\n",
    "import pandas as pd\n",
    "import json\n",
    "import matplotlib.pyplot as plt  #chart visualization\n",
    "import hvplot.pandas\n",
    "from dotenv import load_dotenv\n"
   ]
  },
  {
   "cell_type": "code",
   "execution_count": 73,
   "id": "29ca8feb-6094-45b7-8dab-ef41a7ae367d",
   "metadata": {},
   "outputs": [
    {
     "data": {
      "text/plain": [
       "True"
      ]
     },
     "execution_count": 73,
     "metadata": {},
     "output_type": "execute_result"
    }
   ],
   "source": [
    "# Load .env enviroment variables\n",
    "load_dotenv()"
   ]
  },
  {
   "cell_type": "code",
   "execution_count": 74,
   "id": "01cbb1c7-8e90-4f86-8895-94aa0c8b2ef5",
   "metadata": {},
   "outputs": [],
   "source": [
    "# create variable for api key \n",
    "covalent_API_KEY = os.getenv(\"Covalent-API-KEY\")"
   ]
  },
  {
   "cell_type": "code",
   "execution_count": 75,
   "id": "32579bcf-9df0-48bd-a95a-fd43bc43275b",
   "metadata": {},
   "outputs": [
    {
     "data": {
      "text/plain": [
       "str"
      ]
     },
     "execution_count": 75,
     "metadata": {},
     "output_type": "execute_result"
    }
   ],
   "source": [
    "##TEMP VALIDATE KEY#\n",
    "type(covalent_API_KEY)"
   ]
  },
  {
   "cell_type": "code",
   "execution_count": 76,
   "id": "fbf54aca-4d9f-4a95-981b-ee4e7c00f5ed",
   "metadata": {},
   "outputs": [],
   "source": [
    "# create variable for api key  for etherscan\n",
    "ETHERSCAN_API_KEY = os.getenv(\"ETHERSCAN_API_KEY\")"
   ]
  },
  {
   "cell_type": "code",
   "execution_count": 77,
   "id": "c78b9310-dfea-4ee6-83ac-1d8ed970d0f5",
   "metadata": {},
   "outputs": [
    {
     "data": {
      "text/plain": [
       "str"
      ]
     },
     "execution_count": 77,
     "metadata": {},
     "output_type": "execute_result"
    }
   ],
   "source": [
    "##TEMP VALIDATE KEY#\n",
    "type(ETHERSCAN_API_KEY)"
   ]
  },
  {
   "cell_type": "code",
   "execution_count": 78,
   "id": "17dbde33-be41-4fbe-8d7a-aad77bed0e02",
   "metadata": {},
   "outputs": [],
   "source": [
    "#https://api.etherscan.io/api?module=contract&action=getsourcecode&address=0xb47e3cd837dDF8e4c57F05d70Ab865de6e193BBB&apikey=SH8K36E7IY9UIECKNN6JF1SCUGAK17U148"
   ]
  },
  {
   "cell_type": "markdown",
   "id": "4a80b360-846b-4442-99af-94d20a11fd93",
   "metadata": {},
   "source": [
    "# Etherscan Cryptopunks Contract Detail"
   ]
  },
  {
   "cell_type": "code",
   "execution_count": 79,
   "id": "4f4b10c6-7f8e-4993-b886-2cf2907d597c",
   "metadata": {},
   "outputs": [],
   "source": [
    "#set api url variables for Etherscan call \n",
    "cryptopunks_contract = \"0xb47e3cd837dDF8e4c57F05d70Ab865de6e193BBB\"\n",
    "etherscan_url = \"https://api.etherscan.io/api\"\n",
    "module = \"?module=contract\"\n",
    "action = \"&action=getsourcecode\"\n",
    "address =\"&address=\" + cryptopunks_contract  \n",
    "etherscan_key = \"&apikey=\" + ETHERSCAN_API_KEY"
   ]
  },
  {
   "cell_type": "code",
   "execution_count": 80,
   "id": "711801da-a8ae-4347-a39f-05384f7216df",
   "metadata": {},
   "outputs": [],
   "source": [
    "#set API call string\n",
    "url_cryptopunks_contract_details = etherscan_url+module+action+address+etherscan_key"
   ]
  },
  {
   "cell_type": "code",
   "execution_count": 81,
   "id": "383b9474-f83f-4994-85ae-86cbc3f0f1c8",
   "metadata": {},
   "outputs": [],
   "source": [
    "#get results from API call\n",
    "cryptopunk_contract_details= requests.get(url_cryptopunks_contract_details).json()"
   ]
  },
  {
   "cell_type": "code",
   "execution_count": 82,
   "id": "f8b7a5f6-ad03-48c1-bb26-39cacbc88dff",
   "metadata": {},
   "outputs": [
    {
     "data": {
      "text/plain": [
       "{'status': '1',\n",
       " 'message': 'OK',\n",
       " 'result': [{'SourceCode': 'pragma solidity ^0.4.8;\\r\\ncontract CryptoPunksMarket {\\r\\n\\r\\n    // You can use this hash to verify the image file containing all the punks\\r\\n    string public imageHash = \"ac39af4793119ee46bbff351d8cb6b5f23da60222126add4268e261199a2921b\";\\r\\n\\r\\n    address owner;\\r\\n\\r\\n    string public standard = \\'CryptoPunks\\';\\r\\n    string public name;\\r\\n    string public symbol;\\r\\n    uint8 public decimals;\\r\\n    uint256 public totalSupply;\\r\\n\\r\\n    uint public nextPunkIndexToAssign = 0;\\r\\n\\r\\n    bool public allPunksAssigned = false;\\r\\n    uint public punksRemainingToAssign = 0;\\r\\n\\r\\n    //mapping (address => uint) public addressToPunkIndex;\\r\\n    mapping (uint => address) public punkIndexToAddress;\\r\\n\\r\\n    /* This creates an array with all balances */\\r\\n    mapping (address => uint256) public balanceOf;\\r\\n\\r\\n    struct Offer {\\r\\n        bool isForSale;\\r\\n        uint punkIndex;\\r\\n        address seller;\\r\\n        uint minValue;          // in ether\\r\\n        address onlySellTo;     // specify to sell only to a specific person\\r\\n    }\\r\\n\\r\\n    struct Bid {\\r\\n        bool hasBid;\\r\\n        uint punkIndex;\\r\\n        address bidder;\\r\\n        uint value;\\r\\n    }\\r\\n\\r\\n    // A record of punks that are offered for sale at a specific minimum value, and perhaps to a specific person\\r\\n    mapping (uint => Offer) public punksOfferedForSale;\\r\\n\\r\\n    // A record of the highest punk bid\\r\\n    mapping (uint => Bid) public punkBids;\\r\\n\\r\\n    mapping (address => uint) public pendingWithdrawals;\\r\\n\\r\\n    event Assign(address indexed to, uint256 punkIndex);\\r\\n    event Transfer(address indexed from, address indexed to, uint256 value);\\r\\n    event PunkTransfer(address indexed from, address indexed to, uint256 punkIndex);\\r\\n    event PunkOffered(uint indexed punkIndex, uint minValue, address indexed toAddress);\\r\\n    event PunkBidEntered(uint indexed punkIndex, uint value, address indexed fromAddress);\\r\\n    event PunkBidWithdrawn(uint indexed punkIndex, uint value, address indexed fromAddress);\\r\\n    event PunkBought(uint indexed punkIndex, uint value, address indexed fromAddress, address indexed toAddress);\\r\\n    event PunkNoLongerForSale(uint indexed punkIndex);\\r\\n\\r\\n    /* Initializes contract with initial supply tokens to the creator of the contract */\\r\\n    function CryptoPunksMarket() payable {\\r\\n        //        balanceOf[msg.sender] = initialSupply;              // Give the creator all initial tokens\\r\\n        owner = msg.sender;\\r\\n        totalSupply = 10000;                        // Update total supply\\r\\n        punksRemainingToAssign = totalSupply;\\r\\n        name = \"CRYPTOPUNKS\";                                   // Set the name for display purposes\\r\\n        symbol = \"Ͼ\";                               // Set the symbol for display purposes\\r\\n        decimals = 0;                                       // Amount of decimals for display purposes\\r\\n    }\\r\\n\\r\\n    function setInitialOwner(address to, uint punkIndex) {\\r\\n        if (msg.sender != owner) throw;\\r\\n        if (allPunksAssigned) throw;\\r\\n        if (punkIndex >= 10000) throw;\\r\\n        if (punkIndexToAddress[punkIndex] != to) {\\r\\n            if (punkIndexToAddress[punkIndex] != 0x0) {\\r\\n                balanceOf[punkIndexToAddress[punkIndex]]--;\\r\\n            } else {\\r\\n                punksRemainingToAssign--;\\r\\n            }\\r\\n            punkIndexToAddress[punkIndex] = to;\\r\\n            balanceOf[to]++;\\r\\n            Assign(to, punkIndex);\\r\\n        }\\r\\n    }\\r\\n\\r\\n    function setInitialOwners(address[] addresses, uint[] indices) {\\r\\n        if (msg.sender != owner) throw;\\r\\n        uint n = addresses.length;\\r\\n        for (uint i = 0; i < n; i++) {\\r\\n            setInitialOwner(addresses[i], indices[i]);\\r\\n        }\\r\\n    }\\r\\n\\r\\n    function allInitialOwnersAssigned() {\\r\\n        if (msg.sender != owner) throw;\\r\\n        allPunksAssigned = true;\\r\\n    }\\r\\n\\r\\n    function getPunk(uint punkIndex) {\\r\\n        if (!allPunksAssigned) throw;\\r\\n        if (punksRemainingToAssign == 0) throw;\\r\\n        if (punkIndexToAddress[punkIndex] != 0x0) throw;\\r\\n        if (punkIndex >= 10000) throw;\\r\\n        punkIndexToAddress[punkIndex] = msg.sender;\\r\\n        balanceOf[msg.sender]++;\\r\\n        punksRemainingToAssign--;\\r\\n        Assign(msg.sender, punkIndex);\\r\\n    }\\r\\n\\r\\n    // Transfer ownership of a punk to another user without requiring payment\\r\\n    function transferPunk(address to, uint punkIndex) {\\r\\n        if (!allPunksAssigned) throw;\\r\\n        if (punkIndexToAddress[punkIndex] != msg.sender) throw;\\r\\n        if (punkIndex >= 10000) throw;\\r\\n        if (punksOfferedForSale[punkIndex].isForSale) {\\r\\n            punkNoLongerForSale(punkIndex);\\r\\n        }\\r\\n        punkIndexToAddress[punkIndex] = to;\\r\\n        balanceOf[msg.sender]--;\\r\\n        balanceOf[to]++;\\r\\n        Transfer(msg.sender, to, 1);\\r\\n        PunkTransfer(msg.sender, to, punkIndex);\\r\\n        // Check for the case where there is a bid from the new owner and refund it.\\r\\n        // Any other bid can stay in place.\\r\\n        Bid bid = punkBids[punkIndex];\\r\\n        if (bid.bidder == to) {\\r\\n            // Kill bid and refund value\\r\\n            pendingWithdrawals[to] += bid.value;\\r\\n            punkBids[punkIndex] = Bid(false, punkIndex, 0x0, 0);\\r\\n        }\\r\\n    }\\r\\n\\r\\n    function punkNoLongerForSale(uint punkIndex) {\\r\\n        if (!allPunksAssigned) throw;\\r\\n        if (punkIndexToAddress[punkIndex] != msg.sender) throw;\\r\\n        if (punkIndex >= 10000) throw;\\r\\n        punksOfferedForSale[punkIndex] = Offer(false, punkIndex, msg.sender, 0, 0x0);\\r\\n        PunkNoLongerForSale(punkIndex);\\r\\n    }\\r\\n\\r\\n    function offerPunkForSale(uint punkIndex, uint minSalePriceInWei) {\\r\\n        if (!allPunksAssigned) throw;\\r\\n        if (punkIndexToAddress[punkIndex] != msg.sender) throw;\\r\\n        if (punkIndex >= 10000) throw;\\r\\n        punksOfferedForSale[punkIndex] = Offer(true, punkIndex, msg.sender, minSalePriceInWei, 0x0);\\r\\n        PunkOffered(punkIndex, minSalePriceInWei, 0x0);\\r\\n    }\\r\\n\\r\\n    function offerPunkForSaleToAddress(uint punkIndex, uint minSalePriceInWei, address toAddress) {\\r\\n        if (!allPunksAssigned) throw;\\r\\n        if (punkIndexToAddress[punkIndex] != msg.sender) throw;\\r\\n        if (punkIndex >= 10000) throw;\\r\\n        punksOfferedForSale[punkIndex] = Offer(true, punkIndex, msg.sender, minSalePriceInWei, toAddress);\\r\\n        PunkOffered(punkIndex, minSalePriceInWei, toAddress);\\r\\n    }\\r\\n\\r\\n    function buyPunk(uint punkIndex) payable {\\r\\n        if (!allPunksAssigned) throw;\\r\\n        Offer offer = punksOfferedForSale[punkIndex];\\r\\n        if (punkIndex >= 10000) throw;\\r\\n        if (!offer.isForSale) throw;                // punk not actually for sale\\r\\n        if (offer.onlySellTo != 0x0 && offer.onlySellTo != msg.sender) throw;  // punk not supposed to be sold to this user\\r\\n        if (msg.value < offer.minValue) throw;      // Didn\\'t send enough ETH\\r\\n        if (offer.seller != punkIndexToAddress[punkIndex]) throw; // Seller no longer owner of punk\\r\\n\\r\\n        address seller = offer.seller;\\r\\n\\r\\n        punkIndexToAddress[punkIndex] = msg.sender;\\r\\n        balanceOf[seller]--;\\r\\n        balanceOf[msg.sender]++;\\r\\n        Transfer(seller, msg.sender, 1);\\r\\n\\r\\n        punkNoLongerForSale(punkIndex);\\r\\n        pendingWithdrawals[seller] += msg.value;\\r\\n        PunkBought(punkIndex, msg.value, seller, msg.sender);\\r\\n\\r\\n        // Check for the case where there is a bid from the new owner and refund it.\\r\\n        // Any other bid can stay in place.\\r\\n        Bid bid = punkBids[punkIndex];\\r\\n        if (bid.bidder == msg.sender) {\\r\\n            // Kill bid and refund value\\r\\n            pendingWithdrawals[msg.sender] += bid.value;\\r\\n            punkBids[punkIndex] = Bid(false, punkIndex, 0x0, 0);\\r\\n        }\\r\\n    }\\r\\n\\r\\n    function withdraw() {\\r\\n        if (!allPunksAssigned) throw;\\r\\n        uint amount = pendingWithdrawals[msg.sender];\\r\\n        // Remember to zero the pending refund before\\r\\n        // sending to prevent re-entrancy attacks\\r\\n        pendingWithdrawals[msg.sender] = 0;\\r\\n        msg.sender.transfer(amount);\\r\\n    }\\r\\n\\r\\n    function enterBidForPunk(uint punkIndex) payable {\\r\\n        if (punkIndex >= 10000) throw;\\r\\n        if (!allPunksAssigned) throw;                \\r\\n        if (punkIndexToAddress[punkIndex] == 0x0) throw;\\r\\n        if (punkIndexToAddress[punkIndex] == msg.sender) throw;\\r\\n        if (msg.value == 0) throw;\\r\\n        Bid existing = punkBids[punkIndex];\\r\\n        if (msg.value <= existing.value) throw;\\r\\n        if (existing.value > 0) {\\r\\n            // Refund the failing bid\\r\\n            pendingWithdrawals[existing.bidder] += existing.value;\\r\\n        }\\r\\n        punkBids[punkIndex] = Bid(true, punkIndex, msg.sender, msg.value);\\r\\n        PunkBidEntered(punkIndex, msg.value, msg.sender);\\r\\n    }\\r\\n\\r\\n    function acceptBidForPunk(uint punkIndex, uint minPrice) {\\r\\n        if (punkIndex >= 10000) throw;\\r\\n        if (!allPunksAssigned) throw;                \\r\\n        if (punkIndexToAddress[punkIndex] != msg.sender) throw;\\r\\n        address seller = msg.sender;\\r\\n        Bid bid = punkBids[punkIndex];\\r\\n        if (bid.value == 0) throw;\\r\\n        if (bid.value < minPrice) throw;\\r\\n\\r\\n        punkIndexToAddress[punkIndex] = bid.bidder;\\r\\n        balanceOf[seller]--;\\r\\n        balanceOf[bid.bidder]++;\\r\\n        Transfer(seller, bid.bidder, 1);\\r\\n\\r\\n        punksOfferedForSale[punkIndex] = Offer(false, punkIndex, bid.bidder, 0, 0x0);\\r\\n        uint amount = bid.value;\\r\\n        punkBids[punkIndex] = Bid(false, punkIndex, 0x0, 0);\\r\\n        pendingWithdrawals[seller] += amount;\\r\\n        PunkBought(punkIndex, bid.value, seller, bid.bidder);\\r\\n    }\\r\\n\\r\\n    function withdrawBidForPunk(uint punkIndex) {\\r\\n        if (punkIndex >= 10000) throw;\\r\\n        if (!allPunksAssigned) throw;                \\r\\n        if (punkIndexToAddress[punkIndex] == 0x0) throw;\\r\\n        if (punkIndexToAddress[punkIndex] == msg.sender) throw;\\r\\n        Bid bid = punkBids[punkIndex];\\r\\n        if (bid.bidder != msg.sender) throw;\\r\\n        PunkBidWithdrawn(punkIndex, bid.value, msg.sender);\\r\\n        uint amount = bid.value;\\r\\n        punkBids[punkIndex] = Bid(false, punkIndex, 0x0, 0);\\r\\n        // Refund the bid money\\r\\n        msg.sender.transfer(amount);\\r\\n    }\\r\\n\\r\\n}',\n",
       "   'ABI': '[{\"constant\":true,\"inputs\":[],\"name\":\"name\",\"outputs\":[{\"name\":\"\",\"type\":\"string\"}],\"payable\":false,\"type\":\"function\"},{\"constant\":true,\"inputs\":[{\"name\":\"\",\"type\":\"uint256\"}],\"name\":\"punksOfferedForSale\",\"outputs\":[{\"name\":\"isForSale\",\"type\":\"bool\"},{\"name\":\"punkIndex\",\"type\":\"uint256\"},{\"name\":\"seller\",\"type\":\"address\"},{\"name\":\"minValue\",\"type\":\"uint256\"},{\"name\":\"onlySellTo\",\"type\":\"address\"}],\"payable\":false,\"type\":\"function\"},{\"constant\":false,\"inputs\":[{\"name\":\"punkIndex\",\"type\":\"uint256\"}],\"name\":\"enterBidForPunk\",\"outputs\":[],\"payable\":true,\"type\":\"function\"},{\"constant\":true,\"inputs\":[],\"name\":\"totalSupply\",\"outputs\":[{\"name\":\"\",\"type\":\"uint256\"}],\"payable\":false,\"type\":\"function\"},{\"constant\":false,\"inputs\":[{\"name\":\"punkIndex\",\"type\":\"uint256\"},{\"name\":\"minPrice\",\"type\":\"uint256\"}],\"name\":\"acceptBidForPunk\",\"outputs\":[],\"payable\":false,\"type\":\"function\"},{\"constant\":true,\"inputs\":[],\"name\":\"decimals\",\"outputs\":[{\"name\":\"\",\"type\":\"uint8\"}],\"payable\":false,\"type\":\"function\"},{\"constant\":false,\"inputs\":[{\"name\":\"addresses\",\"type\":\"address[]\"},{\"name\":\"indices\",\"type\":\"uint256[]\"}],\"name\":\"setInitialOwners\",\"outputs\":[],\"payable\":false,\"type\":\"function\"},{\"constant\":false,\"inputs\":[],\"name\":\"withdraw\",\"outputs\":[],\"payable\":false,\"type\":\"function\"},{\"constant\":true,\"inputs\":[],\"name\":\"imageHash\",\"outputs\":[{\"name\":\"\",\"type\":\"string\"}],\"payable\":false,\"type\":\"function\"},{\"constant\":true,\"inputs\":[],\"name\":\"nextPunkIndexToAssign\",\"outputs\":[{\"name\":\"\",\"type\":\"uint256\"}],\"payable\":false,\"type\":\"function\"},{\"constant\":true,\"inputs\":[{\"name\":\"\",\"type\":\"uint256\"}],\"name\":\"punkIndexToAddress\",\"outputs\":[{\"name\":\"\",\"type\":\"address\"}],\"payable\":false,\"type\":\"function\"},{\"constant\":true,\"inputs\":[],\"name\":\"standard\",\"outputs\":[{\"name\":\"\",\"type\":\"string\"}],\"payable\":false,\"type\":\"function\"},{\"constant\":true,\"inputs\":[{\"name\":\"\",\"type\":\"uint256\"}],\"name\":\"punkBids\",\"outputs\":[{\"name\":\"hasBid\",\"type\":\"bool\"},{\"name\":\"punkIndex\",\"type\":\"uint256\"},{\"name\":\"bidder\",\"type\":\"address\"},{\"name\":\"value\",\"type\":\"uint256\"}],\"payable\":false,\"type\":\"function\"},{\"constant\":true,\"inputs\":[{\"name\":\"\",\"type\":\"address\"}],\"name\":\"balanceOf\",\"outputs\":[{\"name\":\"\",\"type\":\"uint256\"}],\"payable\":false,\"type\":\"function\"},{\"constant\":false,\"inputs\":[],\"name\":\"allInitialOwnersAssigned\",\"outputs\":[],\"payable\":false,\"type\":\"function\"},{\"constant\":true,\"inputs\":[],\"name\":\"allPunksAssigned\",\"outputs\":[{\"name\":\"\",\"type\":\"bool\"}],\"payable\":false,\"type\":\"function\"},{\"constant\":false,\"inputs\":[{\"name\":\"punkIndex\",\"type\":\"uint256\"}],\"name\":\"buyPunk\",\"outputs\":[],\"payable\":true,\"type\":\"function\"},{\"constant\":false,\"inputs\":[{\"name\":\"to\",\"type\":\"address\"},{\"name\":\"punkIndex\",\"type\":\"uint256\"}],\"name\":\"transferPunk\",\"outputs\":[],\"payable\":false,\"type\":\"function\"},{\"constant\":true,\"inputs\":[],\"name\":\"symbol\",\"outputs\":[{\"name\":\"\",\"type\":\"string\"}],\"payable\":false,\"type\":\"function\"},{\"constant\":false,\"inputs\":[{\"name\":\"punkIndex\",\"type\":\"uint256\"}],\"name\":\"withdrawBidForPunk\",\"outputs\":[],\"payable\":false,\"type\":\"function\"},{\"constant\":false,\"inputs\":[{\"name\":\"to\",\"type\":\"address\"},{\"name\":\"punkIndex\",\"type\":\"uint256\"}],\"name\":\"setInitialOwner\",\"outputs\":[],\"payable\":false,\"type\":\"function\"},{\"constant\":false,\"inputs\":[{\"name\":\"punkIndex\",\"type\":\"uint256\"},{\"name\":\"minSalePriceInWei\",\"type\":\"uint256\"},{\"name\":\"toAddress\",\"type\":\"address\"}],\"name\":\"offerPunkForSaleToAddress\",\"outputs\":[],\"payable\":false,\"type\":\"function\"},{\"constant\":true,\"inputs\":[],\"name\":\"punksRemainingToAssign\",\"outputs\":[{\"name\":\"\",\"type\":\"uint256\"}],\"payable\":false,\"type\":\"function\"},{\"constant\":false,\"inputs\":[{\"name\":\"punkIndex\",\"type\":\"uint256\"},{\"name\":\"minSalePriceInWei\",\"type\":\"uint256\"}],\"name\":\"offerPunkForSale\",\"outputs\":[],\"payable\":false,\"type\":\"function\"},{\"constant\":false,\"inputs\":[{\"name\":\"punkIndex\",\"type\":\"uint256\"}],\"name\":\"getPunk\",\"outputs\":[],\"payable\":false,\"type\":\"function\"},{\"constant\":true,\"inputs\":[{\"name\":\"\",\"type\":\"address\"}],\"name\":\"pendingWithdrawals\",\"outputs\":[{\"name\":\"\",\"type\":\"uint256\"}],\"payable\":false,\"type\":\"function\"},{\"constant\":false,\"inputs\":[{\"name\":\"punkIndex\",\"type\":\"uint256\"}],\"name\":\"punkNoLongerForSale\",\"outputs\":[],\"payable\":false,\"type\":\"function\"},{\"inputs\":[],\"payable\":true,\"type\":\"constructor\"},{\"anonymous\":false,\"inputs\":[{\"indexed\":true,\"name\":\"to\",\"type\":\"address\"},{\"indexed\":false,\"name\":\"punkIndex\",\"type\":\"uint256\"}],\"name\":\"Assign\",\"type\":\"event\"},{\"anonymous\":false,\"inputs\":[{\"indexed\":true,\"name\":\"from\",\"type\":\"address\"},{\"indexed\":true,\"name\":\"to\",\"type\":\"address\"},{\"indexed\":false,\"name\":\"value\",\"type\":\"uint256\"}],\"name\":\"Transfer\",\"type\":\"event\"},{\"anonymous\":false,\"inputs\":[{\"indexed\":true,\"name\":\"from\",\"type\":\"address\"},{\"indexed\":true,\"name\":\"to\",\"type\":\"address\"},{\"indexed\":false,\"name\":\"punkIndex\",\"type\":\"uint256\"}],\"name\":\"PunkTransfer\",\"type\":\"event\"},{\"anonymous\":false,\"inputs\":[{\"indexed\":true,\"name\":\"punkIndex\",\"type\":\"uint256\"},{\"indexed\":false,\"name\":\"minValue\",\"type\":\"uint256\"},{\"indexed\":true,\"name\":\"toAddress\",\"type\":\"address\"}],\"name\":\"PunkOffered\",\"type\":\"event\"},{\"anonymous\":false,\"inputs\":[{\"indexed\":true,\"name\":\"punkIndex\",\"type\":\"uint256\"},{\"indexed\":false,\"name\":\"value\",\"type\":\"uint256\"},{\"indexed\":true,\"name\":\"fromAddress\",\"type\":\"address\"}],\"name\":\"PunkBidEntered\",\"type\":\"event\"},{\"anonymous\":false,\"inputs\":[{\"indexed\":true,\"name\":\"punkIndex\",\"type\":\"uint256\"},{\"indexed\":false,\"name\":\"value\",\"type\":\"uint256\"},{\"indexed\":true,\"name\":\"fromAddress\",\"type\":\"address\"}],\"name\":\"PunkBidWithdrawn\",\"type\":\"event\"},{\"anonymous\":false,\"inputs\":[{\"indexed\":true,\"name\":\"punkIndex\",\"type\":\"uint256\"},{\"indexed\":false,\"name\":\"value\",\"type\":\"uint256\"},{\"indexed\":true,\"name\":\"fromAddress\",\"type\":\"address\"},{\"indexed\":true,\"name\":\"toAddress\",\"type\":\"address\"}],\"name\":\"PunkBought\",\"type\":\"event\"},{\"anonymous\":false,\"inputs\":[{\"indexed\":true,\"name\":\"punkIndex\",\"type\":\"uint256\"}],\"name\":\"PunkNoLongerForSale\",\"type\":\"event\"}]',\n",
       "   'ContractName': 'CryptoPunksMarket',\n",
       "   'CompilerVersion': 'v0.4.11+commit.68ef5810',\n",
       "   'OptimizationUsed': '1',\n",
       "   'Runs': '200',\n",
       "   'ConstructorArguments': '',\n",
       "   'EVMVersion': 'Default',\n",
       "   'Library': '',\n",
       "   'LicenseType': '',\n",
       "   'Proxy': '0',\n",
       "   'Implementation': '',\n",
       "   'SwarmSource': 'bzzr://e876fd2bb43babdd65d8ea9d7f8fb4a2de975957026c8b91057b2e1417ff38a2'}]}"
      ]
     },
     "execution_count": 82,
     "metadata": {},
     "output_type": "execute_result"
    }
   ],
   "source": [
    "#TEMP Validate call\n",
    "cryptopunk_contract_details"
   ]
  },
  {
   "cell_type": "markdown",
   "id": "2cab0ff6-9883-4dab-a35e-fb5433542fd1",
   "metadata": {},
   "source": [
    "# Etherscan Cryptopunks Transactions"
   ]
  },
  {
   "cell_type": "code",
   "execution_count": 83,
   "id": "0a5ce547-8771-4921-b634-aa685d59e56d",
   "metadata": {},
   "outputs": [],
   "source": [
    "#set api url variables for Etherscan call \n",
    "transaction_hash = \"0x15f8e5ea1079d9a0bb04a4c58ae5fe7654b5b2b4463375ff7ffb490aa0032f3a\" #replace with trans_hash\n",
    "etherscan_url = \"https://api.etherscan.io/api\"\n",
    "module = \"?module=transaction\"\n",
    "action = \"&action=getstatus\"\n",
    "address =\"&&txhash=\" + transaction_hash \n",
    "etherscan_key = \"&apikey=\" + ETHERSCAN_API_KEY"
   ]
  },
  {
   "cell_type": "code",
   "execution_count": 84,
   "id": "d70cfb1f-f67e-4716-a514-ed29080fe525",
   "metadata": {},
   "outputs": [],
   "source": [
    "#set API call string\n",
    "url_cryptopunks_transactions = etherscan_url+module+action+address+etherscan_key"
   ]
  },
  {
   "cell_type": "code",
   "execution_count": 85,
   "id": "e915e4cb-efc7-48b9-a494-5ab56d157e93",
   "metadata": {},
   "outputs": [],
   "source": [
    "#get results from API call\n",
    "cryptopunk_transaction=requests.get(url_cryptopunks_transactions).json()"
   ]
  },
  {
   "cell_type": "code",
   "execution_count": 86,
   "id": "9ffb999a-6906-4eb7-a431-922b50ef552c",
   "metadata": {},
   "outputs": [
    {
     "data": {
      "text/plain": [
       "{'status': '1',\n",
       " 'message': 'OK',\n",
       " 'result': {'isError': '1', 'errDescription': 'Bad jump destination'}}"
      ]
     },
     "execution_count": 86,
     "metadata": {},
     "output_type": "execute_result"
    }
   ],
   "source": [
    "#TEMP Validate call\n",
    "cryptopunk_transaction"
   ]
  },
  {
   "cell_type": "markdown",
   "id": "681fdec4-afe9-4fbc-8f98-eec6f2582cff",
   "metadata": {
    "tags": []
   },
   "source": [
    "# NFT Market Cap Detailed View"
   ]
  },
  {
   "cell_type": "markdown",
   "id": "9d142065-65b5-4711-96f1-6c8b754c5bbf",
   "metadata": {},
   "source": [
    "### Contract Address 0xb7f7f6c52f2e2fdb1963eab30438024864c313f6"
   ]
  },
  {
   "cell_type": "code",
   "execution_count": 207,
   "id": "c6019870-ac3d-4e23-94b5-dd7af80da19b",
   "metadata": {},
   "outputs": [],
   "source": [
    "# Append url for our api\n",
    "url = \"https://api.covalenthq.com/v1\"\n",
    "chain_id = \"/1\"    #TEMP is it always chain1 for most part?\n",
    "option = \"/nft_market/collection\"\n",
    "# Add search queries to api url\n",
    "contract_address = \"/0xb7f7f6c52f2e2fdb1963eab30438024864c313f6\"   #Do we want to compare other contracts\n",
    "currency = \"/?quote-currency=USD\"\n",
    "format_output = \"&format=JSON\"\n",
    "date_from =\"&from=2022-01-25\"\n",
    "date_to = \"&to=2022-04-25\"\n",
    "api_key = \"&key=\" + covalent_API_KEY\n",
    "\n",
    "url_nft_market_cap_detail = url + chain_id + option + contract_address + currency + format_output + date_from + date_to  + api_key "
   ]
  },
  {
   "cell_type": "code",
   "execution_count": 208,
   "id": "8b6a2788-eca9-4b93-8169-2effdd630d26",
   "metadata": {},
   "outputs": [],
   "source": [
    "#set API call string\n",
    "url_nft_market_cap_detail = url + chain_id + option + contract_address + currency + format_output + date_from + date_to  + api_key "
   ]
  },
  {
   "cell_type": "code",
   "execution_count": 209,
   "id": "c0a00299-f45e-4ebd-aa72-db98822b2681",
   "metadata": {},
   "outputs": [],
   "source": [
    "#get results from API call\n",
    "nft_market_cap = requests.get(url_nft_market_cap_detail).json()"
   ]
  },
  {
   "cell_type": "code",
   "execution_count": 210,
   "id": "49812799-9f86-4e16-a42f-0d90834a96ef",
   "metadata": {},
   "outputs": [],
   "source": [
    "#TEMP Validate call\n",
    "#nft_market_cap"
   ]
  },
  {
   "cell_type": "code",
   "execution_count": 211,
   "id": "3459c528-06b5-485b-b2d4-09e1d54b40a1",
   "metadata": {},
   "outputs": [],
   "source": [
    "#set data into a dataframe\n",
    "nft_market_cap_df = pd.DataFrame(nft_market_cap['data']['items'])"
   ]
  },
  {
   "cell_type": "code",
   "execution_count": 212,
   "id": "20454bc2-4f83-4d67-9ec3-6953d4a198be",
   "metadata": {},
   "outputs": [
    {
     "data": {
      "text/html": [
       "<div>\n",
       "<style scoped>\n",
       "    .dataframe tbody tr th:only-of-type {\n",
       "        vertical-align: middle;\n",
       "    }\n",
       "\n",
       "    .dataframe tbody tr th {\n",
       "        vertical-align: top;\n",
       "    }\n",
       "\n",
       "    .dataframe thead th {\n",
       "        text-align: right;\n",
       "    }\n",
       "</style>\n",
       "<table border=\"1\" class=\"dataframe\">\n",
       "  <thead>\n",
       "    <tr style=\"text-align: right;\">\n",
       "      <th></th>\n",
       "      <th>chain_id</th>\n",
       "      <th>collection_name</th>\n",
       "      <th>collection_address</th>\n",
       "      <th>collection_ticker_symbol</th>\n",
       "      <th>opening_date</th>\n",
       "      <th>volume_wei_day</th>\n",
       "      <th>volume_quote_day</th>\n",
       "      <th>average_volume_wei_day</th>\n",
       "      <th>average_volume_quote_day</th>\n",
       "      <th>unique_token_ids_sold_count_day</th>\n",
       "      <th>...</th>\n",
       "      <th>fourth_nft_image_token_id</th>\n",
       "      <th>fourth_nft_image</th>\n",
       "      <th>fourth_nft_image_256</th>\n",
       "      <th>fourth_nft_image_512</th>\n",
       "      <th>fourth_nft_image_1024</th>\n",
       "      <th>fifth_nft_image_token_id</th>\n",
       "      <th>fifth_nft_image</th>\n",
       "      <th>fifth_nft_image_256</th>\n",
       "      <th>fifth_nft_image_512</th>\n",
       "      <th>fifth_nft_image_1024</th>\n",
       "    </tr>\n",
       "  </thead>\n",
       "  <tbody>\n",
       "    <tr>\n",
       "      <th>0</th>\n",
       "      <td>1</td>\n",
       "      <td>Wrapped Cryptopunks</td>\n",
       "      <td>0xb7f7f6c52f2e2fdb1963eab30438024864c313f6</td>\n",
       "      <td>WPUNKS</td>\n",
       "      <td>2022-03-30</td>\n",
       "      <td>201500000000000000000</td>\n",
       "      <td>687428.9000</td>\n",
       "      <td>201500000000000000000</td>\n",
       "      <td>687428.9000</td>\n",
       "      <td>1</td>\n",
       "      <td>...</td>\n",
       "      <td>51</td>\n",
       "      <td>https://wrappedpunks.com:3000/images/punks/51.png</td>\n",
       "      <td>https://image-proxy.svc.prod.covalenthq.com/25...</td>\n",
       "      <td>https://image-proxy.svc.prod.covalenthq.com/51...</td>\n",
       "      <td>https://image-proxy.svc.prod.covalenthq.com/10...</td>\n",
       "      <td>60</td>\n",
       "      <td>https://wrappedpunks.com:3000/images/punks/60.png</td>\n",
       "      <td>https://image-proxy.svc.prod.covalenthq.com/25...</td>\n",
       "      <td>https://image-proxy.svc.prod.covalenthq.com/51...</td>\n",
       "      <td>https://image-proxy.svc.prod.covalenthq.com/10...</td>\n",
       "    </tr>\n",
       "    <tr>\n",
       "      <th>1</th>\n",
       "      <td>1</td>\n",
       "      <td>Wrapped Cryptopunks</td>\n",
       "      <td>0xb7f7f6c52f2e2fdb1963eab30438024864c313f6</td>\n",
       "      <td>WPUNKS</td>\n",
       "      <td>2022-02-03</td>\n",
       "      <td>250000000000000000</td>\n",
       "      <td>664.4058</td>\n",
       "      <td>250000000000000000</td>\n",
       "      <td>664.4058</td>\n",
       "      <td>1</td>\n",
       "      <td>...</td>\n",
       "      <td>51</td>\n",
       "      <td>https://wrappedpunks.com:3000/images/punks/51.png</td>\n",
       "      <td>https://image-proxy.svc.prod.covalenthq.com/25...</td>\n",
       "      <td>https://image-proxy.svc.prod.covalenthq.com/51...</td>\n",
       "      <td>https://image-proxy.svc.prod.covalenthq.com/10...</td>\n",
       "      <td>60</td>\n",
       "      <td>https://wrappedpunks.com:3000/images/punks/60.png</td>\n",
       "      <td>https://image-proxy.svc.prod.covalenthq.com/25...</td>\n",
       "      <td>https://image-proxy.svc.prod.covalenthq.com/51...</td>\n",
       "      <td>https://image-proxy.svc.prod.covalenthq.com/10...</td>\n",
       "    </tr>\n",
       "  </tbody>\n",
       "</table>\n",
       "<p>2 rows × 39 columns</p>\n",
       "</div>"
      ],
      "text/plain": [
       "   chain_id      collection_name                          collection_address  \\\n",
       "0         1  Wrapped Cryptopunks  0xb7f7f6c52f2e2fdb1963eab30438024864c313f6   \n",
       "1         1  Wrapped Cryptopunks  0xb7f7f6c52f2e2fdb1963eab30438024864c313f6   \n",
       "\n",
       "  collection_ticker_symbol opening_date         volume_wei_day  \\\n",
       "0                   WPUNKS   2022-03-30  201500000000000000000   \n",
       "1                   WPUNKS   2022-02-03     250000000000000000   \n",
       "\n",
       "   volume_quote_day average_volume_wei_day  average_volume_quote_day  \\\n",
       "0       687428.9000  201500000000000000000               687428.9000   \n",
       "1          664.4058     250000000000000000                  664.4058   \n",
       "\n",
       "   unique_token_ids_sold_count_day  ... fourth_nft_image_token_id  \\\n",
       "0                                1  ...                        51   \n",
       "1                                1  ...                        51   \n",
       "\n",
       "                                    fourth_nft_image  \\\n",
       "0  https://wrappedpunks.com:3000/images/punks/51.png   \n",
       "1  https://wrappedpunks.com:3000/images/punks/51.png   \n",
       "\n",
       "                                fourth_nft_image_256  \\\n",
       "0  https://image-proxy.svc.prod.covalenthq.com/25...   \n",
       "1  https://image-proxy.svc.prod.covalenthq.com/25...   \n",
       "\n",
       "                                fourth_nft_image_512  \\\n",
       "0  https://image-proxy.svc.prod.covalenthq.com/51...   \n",
       "1  https://image-proxy.svc.prod.covalenthq.com/51...   \n",
       "\n",
       "                               fourth_nft_image_1024 fifth_nft_image_token_id  \\\n",
       "0  https://image-proxy.svc.prod.covalenthq.com/10...                       60   \n",
       "1  https://image-proxy.svc.prod.covalenthq.com/10...                       60   \n",
       "\n",
       "                                     fifth_nft_image  \\\n",
       "0  https://wrappedpunks.com:3000/images/punks/60.png   \n",
       "1  https://wrappedpunks.com:3000/images/punks/60.png   \n",
       "\n",
       "                                 fifth_nft_image_256  \\\n",
       "0  https://image-proxy.svc.prod.covalenthq.com/25...   \n",
       "1  https://image-proxy.svc.prod.covalenthq.com/25...   \n",
       "\n",
       "                                 fifth_nft_image_512  \\\n",
       "0  https://image-proxy.svc.prod.covalenthq.com/51...   \n",
       "1  https://image-proxy.svc.prod.covalenthq.com/51...   \n",
       "\n",
       "                                fifth_nft_image_1024  \n",
       "0  https://image-proxy.svc.prod.covalenthq.com/10...  \n",
       "1  https://image-proxy.svc.prod.covalenthq.com/10...  \n",
       "\n",
       "[2 rows x 39 columns]"
      ]
     },
     "metadata": {},
     "output_type": "display_data"
    }
   ],
   "source": [
    "#display head and tail of df\n",
    "display(nft_market_cap_df.head())"
   ]
  },
  {
   "cell_type": "code",
   "execution_count": 213,
   "id": "84438aa2-c9e7-4c28-9fb0-d37bd0ec6fd3",
   "metadata": {},
   "outputs": [
    {
     "data": {
      "text/html": [
       "<div>\n",
       "<style scoped>\n",
       "    .dataframe tbody tr th:only-of-type {\n",
       "        vertical-align: middle;\n",
       "    }\n",
       "\n",
       "    .dataframe tbody tr th {\n",
       "        vertical-align: top;\n",
       "    }\n",
       "\n",
       "    .dataframe thead th {\n",
       "        text-align: right;\n",
       "    }\n",
       "</style>\n",
       "<table border=\"1\" class=\"dataframe\">\n",
       "  <thead>\n",
       "    <tr style=\"text-align: right;\">\n",
       "      <th></th>\n",
       "      <th>chain_id</th>\n",
       "      <th>volume_quote_day</th>\n",
       "      <th>average_volume_quote_day</th>\n",
       "      <th>unique_token_ids_sold_count_day</th>\n",
       "      <th>floor_price_quote_7d</th>\n",
       "      <th>gas_quote_rate_day</th>\n",
       "    </tr>\n",
       "  </thead>\n",
       "  <tbody>\n",
       "    <tr>\n",
       "      <th>count</th>\n",
       "      <td>2.0</td>\n",
       "      <td>2.000000</td>\n",
       "      <td>2.000000</td>\n",
       "      <td>2.0</td>\n",
       "      <td>2.000000</td>\n",
       "      <td>2.000000</td>\n",
       "    </tr>\n",
       "    <tr>\n",
       "      <th>mean</th>\n",
       "      <td>1.0</td>\n",
       "      <td>344046.652900</td>\n",
       "      <td>344046.652900</td>\n",
       "      <td>1.0</td>\n",
       "      <td>344046.652900</td>\n",
       "      <td>3034.590450</td>\n",
       "    </tr>\n",
       "    <tr>\n",
       "      <th>std</th>\n",
       "      <td>0.0</td>\n",
       "      <td>485615.830927</td>\n",
       "      <td>485615.830927</td>\n",
       "      <td>0.0</td>\n",
       "      <td>485615.830927</td>\n",
       "      <td>533.112056</td>\n",
       "    </tr>\n",
       "    <tr>\n",
       "      <th>min</th>\n",
       "      <td>1.0</td>\n",
       "      <td>664.405800</td>\n",
       "      <td>664.405800</td>\n",
       "      <td>1.0</td>\n",
       "      <td>664.405800</td>\n",
       "      <td>2657.623300</td>\n",
       "    </tr>\n",
       "    <tr>\n",
       "      <th>25%</th>\n",
       "      <td>1.0</td>\n",
       "      <td>172355.529350</td>\n",
       "      <td>172355.529350</td>\n",
       "      <td>1.0</td>\n",
       "      <td>172355.529350</td>\n",
       "      <td>2846.106875</td>\n",
       "    </tr>\n",
       "    <tr>\n",
       "      <th>50%</th>\n",
       "      <td>1.0</td>\n",
       "      <td>344046.652900</td>\n",
       "      <td>344046.652900</td>\n",
       "      <td>1.0</td>\n",
       "      <td>344046.652900</td>\n",
       "      <td>3034.590450</td>\n",
       "    </tr>\n",
       "    <tr>\n",
       "      <th>75%</th>\n",
       "      <td>1.0</td>\n",
       "      <td>515737.776450</td>\n",
       "      <td>515737.776450</td>\n",
       "      <td>1.0</td>\n",
       "      <td>515737.776450</td>\n",
       "      <td>3223.074025</td>\n",
       "    </tr>\n",
       "    <tr>\n",
       "      <th>max</th>\n",
       "      <td>1.0</td>\n",
       "      <td>687428.900000</td>\n",
       "      <td>687428.900000</td>\n",
       "      <td>1.0</td>\n",
       "      <td>687428.900000</td>\n",
       "      <td>3411.557600</td>\n",
       "    </tr>\n",
       "  </tbody>\n",
       "</table>\n",
       "</div>"
      ],
      "text/plain": [
       "       chain_id  volume_quote_day  average_volume_quote_day  \\\n",
       "count       2.0          2.000000                  2.000000   \n",
       "mean        1.0     344046.652900             344046.652900   \n",
       "std         0.0     485615.830927             485615.830927   \n",
       "min         1.0        664.405800                664.405800   \n",
       "25%         1.0     172355.529350             172355.529350   \n",
       "50%         1.0     344046.652900             344046.652900   \n",
       "75%         1.0     515737.776450             515737.776450   \n",
       "max         1.0     687428.900000             687428.900000   \n",
       "\n",
       "       unique_token_ids_sold_count_day  floor_price_quote_7d  \\\n",
       "count                              2.0              2.000000   \n",
       "mean                               1.0         344046.652900   \n",
       "std                                0.0         485615.830927   \n",
       "min                                1.0            664.405800   \n",
       "25%                                1.0         172355.529350   \n",
       "50%                                1.0         344046.652900   \n",
       "75%                                1.0         515737.776450   \n",
       "max                                1.0         687428.900000   \n",
       "\n",
       "       gas_quote_rate_day  \n",
       "count            2.000000  \n",
       "mean          3034.590450  \n",
       "std            533.112056  \n",
       "min           2657.623300  \n",
       "25%           2846.106875  \n",
       "50%           3034.590450  \n",
       "75%           3223.074025  \n",
       "max           3411.557600  "
      ]
     },
     "execution_count": 213,
     "metadata": {},
     "output_type": "execute_result"
    }
   ],
   "source": [
    "#TEMP descibe data\n",
    "nft_market_cap_df.describe()"
   ]
  },
  {
   "cell_type": "code",
   "execution_count": 214,
   "id": "2b62f779-b33c-40f3-8166-8473cd0a752f",
   "metadata": {},
   "outputs": [
    {
     "data": {
      "text/plain": [
       "Index(['chain_id', 'collection_name', 'collection_address',\n",
       "       'collection_ticker_symbol', 'opening_date', 'volume_wei_day',\n",
       "       'volume_quote_day', 'average_volume_wei_day',\n",
       "       'average_volume_quote_day', 'unique_token_ids_sold_count_day',\n",
       "       'floor_price_wei_7d', 'floor_price_quote_7d', 'gas_quote_rate_day',\n",
       "       'quote_currency', 'first_nft_image_token_id', 'first_nft_image',\n",
       "       'first_nft_image_256', 'first_nft_image_512', 'first_nft_image_1024',\n",
       "       'second_nft_image_token_id', 'second_nft_image', 'second_nft_image_256',\n",
       "       'second_nft_image_512', 'second_nft_image_1024',\n",
       "       'third_nft_image_token_id', 'third_nft_image', 'third_nft_image_256',\n",
       "       'third_nft_image_512', 'third_nft_image_1024',\n",
       "       'fourth_nft_image_token_id', 'fourth_nft_image', 'fourth_nft_image_256',\n",
       "       'fourth_nft_image_512', 'fourth_nft_image_1024',\n",
       "       'fifth_nft_image_token_id', 'fifth_nft_image', 'fifth_nft_image_256',\n",
       "       'fifth_nft_image_512', 'fifth_nft_image_1024'],\n",
       "      dtype='object')"
      ]
     },
     "execution_count": 214,
     "metadata": {},
     "output_type": "execute_result"
    }
   ],
   "source": [
    "#TEMP list columns of df\n",
    "nft_market_cap_df.columns"
   ]
  },
  {
   "cell_type": "code",
   "execution_count": 215,
   "id": "e6f291ce-8514-45bb-ae6d-99580361c005",
   "metadata": {},
   "outputs": [],
   "source": [
    "#create a new data frame for graphing volume, drop un-needed columns\n",
    "market_cap_df_graph_0xb7f7f6c52f2e2fdb1963eab30438024864c313f6 = nft_market_cap_df[[\"opening_date\",\"volume_quote_day\"]].copy()"
   ]
  },
  {
   "cell_type": "code",
   "execution_count": 216,
   "id": "c0203d71-256f-45dc-85b3-67d6784ced96",
   "metadata": {},
   "outputs": [
    {
     "data": {
      "text/html": [
       "<div>\n",
       "<style scoped>\n",
       "    .dataframe tbody tr th:only-of-type {\n",
       "        vertical-align: middle;\n",
       "    }\n",
       "\n",
       "    .dataframe tbody tr th {\n",
       "        vertical-align: top;\n",
       "    }\n",
       "\n",
       "    .dataframe thead th {\n",
       "        text-align: right;\n",
       "    }\n",
       "</style>\n",
       "<table border=\"1\" class=\"dataframe\">\n",
       "  <thead>\n",
       "    <tr style=\"text-align: right;\">\n",
       "      <th></th>\n",
       "      <th>opening_date</th>\n",
       "      <th>volume_quote_day</th>\n",
       "    </tr>\n",
       "  </thead>\n",
       "  <tbody>\n",
       "    <tr>\n",
       "      <th>0</th>\n",
       "      <td>2022-03-30</td>\n",
       "      <td>687428.9000</td>\n",
       "    </tr>\n",
       "    <tr>\n",
       "      <th>1</th>\n",
       "      <td>2022-02-03</td>\n",
       "      <td>664.4058</td>\n",
       "    </tr>\n",
       "  </tbody>\n",
       "</table>\n",
       "</div>"
      ],
      "text/plain": [
       "  opening_date  volume_quote_day\n",
       "0   2022-03-30       687428.9000\n",
       "1   2022-02-03          664.4058"
      ]
     },
     "execution_count": 216,
     "metadata": {},
     "output_type": "execute_result"
    }
   ],
   "source": [
    "#TEMP display market_cap_df_graph\n",
    "market_cap_df_graph_0xb7f7f6c52f2e2fdb1963eab30438024864c313f6"
   ]
  },
  {
   "cell_type": "code",
   "execution_count": 217,
   "id": "dee9c966-18a8-43f4-902f-c92eeaa9e3be",
   "metadata": {},
   "outputs": [
    {
     "data": {},
     "metadata": {},
     "output_type": "display_data"
    },
    {
     "data": {
      "application/vnd.holoviews_exec.v0+json": "",
      "text/html": [
       "<div id='2641'>\n",
       "\n",
       "\n",
       "\n",
       "\n",
       "\n",
       "  <div class=\"bk-root\" id=\"5fe8e2ee-639b-48c4-8f43-6887c456c526\" data-root-id=\"2641\"></div>\n",
       "</div>\n",
       "<script type=\"application/javascript\">(function(root) {\n",
       "  function embed_document(root) {\n",
       "    var docs_json = {\"cfaec8b7-2671-4852-b962-641d49de0a1a\":{\"defs\":[{\"extends\":null,\"module\":null,\"name\":\"ReactiveHTML1\",\"overrides\":[],\"properties\":[]},{\"extends\":null,\"module\":null,\"name\":\"FlexBox1\",\"overrides\":[],\"properties\":[{\"default\":\"flex-start\",\"kind\":null,\"name\":\"align_content\"},{\"default\":\"flex-start\",\"kind\":null,\"name\":\"align_items\"},{\"default\":\"row\",\"kind\":null,\"name\":\"flex_direction\"},{\"default\":\"wrap\",\"kind\":null,\"name\":\"flex_wrap\"},{\"default\":\"flex-start\",\"kind\":null,\"name\":\"justify_content\"}]},{\"extends\":null,\"module\":null,\"name\":\"TemplateActions1\",\"overrides\":[],\"properties\":[{\"default\":0,\"kind\":null,\"name\":\"open_modal\"},{\"default\":0,\"kind\":null,\"name\":\"close_modal\"}]},{\"extends\":null,\"module\":null,\"name\":\"MaterialTemplateActions1\",\"overrides\":[],\"properties\":[{\"default\":0,\"kind\":null,\"name\":\"open_modal\"},{\"default\":0,\"kind\":null,\"name\":\"close_modal\"}]}],\"roots\":{\"references\":[{\"attributes\":{},\"id\":\"2662\",\"type\":\"SaveTool\"},{\"attributes\":{\"factors\":[\"2022-03-30\",\"2022-02-03\"],\"tags\":[[[\"opening_date\",\"opening_date\",null]]]},\"id\":\"2643\",\"type\":\"FactorRange\"},{\"attributes\":{\"data\":{\"opening_date\":[\"2022-03-30\",\"2022-02-03\"],\"volume_quote_day\":{\"__ndarray__\":\"zczMzIn6JEG8BRIUP8OEQA==\",\"dtype\":\"float64\",\"order\":\"little\",\"shape\":[2]}},\"selected\":{\"id\":\"2676\"},\"selection_policy\":{\"id\":\"2698\"}},\"id\":\"2675\",\"type\":\"ColumnDataSource\"},{\"attributes\":{},\"id\":\"2663\",\"type\":\"PanTool\"},{\"attributes\":{},\"id\":\"2666\",\"type\":\"ResetTool\"},{\"attributes\":{},\"id\":\"2664\",\"type\":\"WheelZoomTool\"},{\"attributes\":{\"fill_alpha\":{\"value\":0.1},\"fill_color\":{\"value\":\"#30a2da\"},\"hatch_alpha\":{\"value\":0.1},\"hatch_color\":{\"value\":\"#30a2da\"},\"line_alpha\":{\"value\":0.1},\"top\":{\"field\":\"volume_quote_day\"},\"width\":{\"value\":0.8},\"x\":{\"field\":\"opening_date\"}},\"id\":\"2679\",\"type\":\"VBar\"},{\"attributes\":{\"overlay\":{\"id\":\"2667\"}},\"id\":\"2665\",\"type\":\"BoxZoomTool\"},{\"attributes\":{\"coordinates\":null,\"data_source\":{\"id\":\"2675\"},\"glyph\":{\"id\":\"2678\"},\"group\":null,\"hover_glyph\":null,\"muted_glyph\":{\"id\":\"2680\"},\"nonselection_glyph\":{\"id\":\"2679\"},\"selection_glyph\":{\"id\":\"2683\"},\"view\":{\"id\":\"2682\"}},\"id\":\"2681\",\"type\":\"GlyphRenderer\"},{\"attributes\":{\"callback\":null,\"renderers\":[{\"id\":\"2681\"}],\"tags\":[\"hv_created\"],\"tooltips\":[[\"opening_date\",\"@{opening_date}\"],[\"volume_quote_day\",\"@{volume_quote_day}\"]]},\"id\":\"2645\",\"type\":\"HoverTool\"},{\"attributes\":{\"end\":756105.34942,\"reset_end\":756105.34942,\"reset_start\":0.0,\"tags\":[[[\"volume_quote_day\",\"volume_quote_day\",null]]]},\"id\":\"2644\",\"type\":\"Range1d\"},{\"attributes\":{\"coordinates\":null,\"group\":null,\"text\":\"Volume Quote Per Day - 0xb7f7f6c52f2e2fdb1963eab30438024864c313f6\",\"text_color\":\"black\",\"text_font_size\":\"12pt\"},\"id\":\"2647\",\"type\":\"Title\"},{\"attributes\":{\"axis\":{\"id\":\"2655\"},\"coordinates\":null,\"grid_line_color\":null,\"group\":null,\"ticker\":null},\"id\":\"2657\",\"type\":\"Grid\"},{\"attributes\":{},\"id\":\"2651\",\"type\":\"CategoricalScale\"},{\"attributes\":{\"axis_label\":\"Opening Date\",\"coordinates\":null,\"formatter\":{\"id\":\"2685\"},\"group\":null,\"major_label_orientation\":1.5707963267948966,\"major_label_policy\":{\"id\":\"2686\"},\"ticker\":{\"id\":\"2656\"}},\"id\":\"2655\",\"type\":\"CategoricalAxis\"},{\"attributes\":{},\"id\":\"2653\",\"type\":\"LinearScale\"},{\"attributes\":{},\"id\":\"2659\",\"type\":\"BasicTicker\"},{\"attributes\":{},\"id\":\"2656\",\"type\":\"CategoricalTicker\"},{\"attributes\":{},\"id\":\"2686\",\"type\":\"AllLabels\"},{\"attributes\":{},\"id\":\"2689\",\"type\":\"AllLabels\"},{\"attributes\":{\"axis_label\":\"Volume\",\"coordinates\":null,\"formatter\":{\"id\":\"2640\"},\"group\":null,\"major_label_policy\":{\"id\":\"2689\"},\"ticker\":{\"id\":\"2659\"}},\"id\":\"2658\",\"type\":\"LinearAxis\"},{\"attributes\":{\"bottom_units\":\"screen\",\"coordinates\":null,\"fill_alpha\":0.5,\"fill_color\":\"lightgrey\",\"group\":null,\"left_units\":\"screen\",\"level\":\"overlay\",\"line_alpha\":1.0,\"line_color\":\"black\",\"line_dash\":[4,4],\"line_width\":2,\"right_units\":\"screen\",\"syncable\":false,\"top_units\":\"screen\"},\"id\":\"2667\",\"type\":\"BoxAnnotation\"},{\"attributes\":{\"below\":[{\"id\":\"2655\"}],\"center\":[{\"id\":\"2657\"},{\"id\":\"2661\"}],\"left\":[{\"id\":\"2658\"}],\"margin\":[5,5,5,5],\"min_border_bottom\":10,\"min_border_left\":10,\"min_border_right\":10,\"min_border_top\":10,\"renderers\":[{\"id\":\"2681\"}],\"sizing_mode\":\"fixed\",\"title\":{\"id\":\"2647\"},\"toolbar\":{\"id\":\"2668\"},\"width\":2000,\"x_range\":{\"id\":\"2643\"},\"x_scale\":{\"id\":\"2651\"},\"y_range\":{\"id\":\"2644\"},\"y_scale\":{\"id\":\"2653\"}},\"id\":\"2646\",\"subtype\":\"Figure\",\"type\":\"Plot\"},{\"attributes\":{\"axis\":{\"id\":\"2658\"},\"coordinates\":null,\"dimension\":1,\"grid_line_color\":null,\"group\":null,\"ticker\":null},\"id\":\"2661\",\"type\":\"Grid\"},{\"attributes\":{},\"id\":\"2640\",\"type\":\"NumeralTickFormatter\"},{\"attributes\":{},\"id\":\"2685\",\"type\":\"CategoricalTickFormatter\"},{\"attributes\":{},\"id\":\"2676\",\"type\":\"Selection\"},{\"attributes\":{},\"id\":\"2698\",\"type\":\"UnionRenderers\"},{\"attributes\":{\"fill_color\":{\"value\":\"#30a2da\"},\"hatch_color\":{\"value\":\"#30a2da\"},\"top\":{\"field\":\"volume_quote_day\"},\"width\":{\"value\":0.8},\"x\":{\"field\":\"opening_date\"}},\"id\":\"2678\",\"type\":\"VBar\"},{\"attributes\":{\"margin\":[5,5,5,5],\"name\":\"HSpacer04392\",\"sizing_mode\":\"stretch_width\"},\"id\":\"2710\",\"type\":\"Spacer\"},{\"attributes\":{\"bottom\":{\"value\":0},\"fill_alpha\":{\"value\":1.0},\"fill_color\":{\"value\":\"#30a2da\"},\"hatch_alpha\":{\"value\":1.0},\"hatch_color\":{\"value\":\"#30a2da\"},\"hatch_scale\":{\"value\":12.0},\"hatch_weight\":{\"value\":1.0},\"line_alpha\":{\"value\":1.0},\"line_cap\":{\"value\":\"butt\"},\"line_color\":{\"value\":\"black\"},\"line_dash\":{\"value\":[]},\"line_dash_offset\":{\"value\":0},\"line_join\":{\"value\":\"bevel\"},\"line_width\":{\"value\":1},\"top\":{\"field\":\"volume_quote_day\"},\"width\":{\"value\":0.8},\"x\":{\"field\":\"opening_date\"}},\"id\":\"2683\",\"type\":\"VBar\"},{\"attributes\":{\"children\":[{\"id\":\"2642\"},{\"id\":\"2646\"},{\"id\":\"2710\"}],\"margin\":[0,0,0,0],\"name\":\"Row04387\",\"tags\":[\"embedded\"]},\"id\":\"2641\",\"type\":\"Row\"},{\"attributes\":{\"margin\":[5,5,5,5],\"name\":\"HSpacer04391\",\"sizing_mode\":\"stretch_width\"},\"id\":\"2642\",\"type\":\"Spacer\"},{\"attributes\":{\"fill_alpha\":{\"value\":0.2},\"fill_color\":{\"value\":\"#30a2da\"},\"hatch_alpha\":{\"value\":0.2},\"hatch_color\":{\"value\":\"#30a2da\"},\"line_alpha\":{\"value\":0.2},\"top\":{\"field\":\"volume_quote_day\"},\"width\":{\"value\":0.8},\"x\":{\"field\":\"opening_date\"}},\"id\":\"2680\",\"type\":\"VBar\"},{\"attributes\":{\"tools\":[{\"id\":\"2645\"},{\"id\":\"2662\"},{\"id\":\"2663\"},{\"id\":\"2664\"},{\"id\":\"2665\"},{\"id\":\"2666\"}]},\"id\":\"2668\",\"type\":\"Toolbar\"},{\"attributes\":{\"source\":{\"id\":\"2675\"}},\"id\":\"2682\",\"type\":\"CDSView\"}],\"root_ids\":[\"2641\"]},\"title\":\"Bokeh Application\",\"version\":\"2.4.1\"}};\n",
       "    var render_items = [{\"docid\":\"cfaec8b7-2671-4852-b962-641d49de0a1a\",\"root_ids\":[\"2641\"],\"roots\":{\"2641\":\"5fe8e2ee-639b-48c4-8f43-6887c456c526\"}}];\n",
       "    root.Bokeh.embed.embed_items_notebook(docs_json, render_items);\n",
       "  }\n",
       "  if (root.Bokeh !== undefined && root.Bokeh.Panel !== undefined) {\n",
       "    embed_document(root);\n",
       "  } else {\n",
       "    var attempts = 0;\n",
       "    var timer = setInterval(function(root) {\n",
       "      if (root.Bokeh !== undefined && root.Bokeh.Panel !== undefined) {\n",
       "        clearInterval(timer);\n",
       "        embed_document(root);\n",
       "      } else if (document.readyState == \"complete\") {\n",
       "        attempts++;\n",
       "        if (attempts > 200) {\n",
       "          clearInterval(timer);\n",
       "          console.log(\"Bokeh: ERROR: Unable to run BokehJS code because BokehJS library is missing\");\n",
       "        }\n",
       "      }\n",
       "    }, 25, root)\n",
       "  }\n",
       "})(window);</script>"
      ],
      "text/plain": [
       ":Bars   [opening_date]   (volume_quote_day)"
      ]
     },
     "execution_count": 217,
     "metadata": {
      "application/vnd.holoviews_exec.v0+json": {
       "id": "2641"
      }
     },
     "output_type": "execute_result"
    }
   ],
   "source": [
    "#Graph dataframe for analysis\n",
    "from bokeh.models.formatters import NumeralTickFormatter\n",
    "formatter = NumeralTickFormatter(format=\"0,0\")\n",
    "\n",
    "market_cap_df_graph_0xb7f7f6c52f2e2fdb1963eab30438024864c313f6.hvplot.bar(\n",
    "    x='opening_date', \n",
    "    y='volume_quote_day',\n",
    "    xlabel='Opening Date',\n",
    "    ylabel='Volume',\n",
    "    rot=90,\n",
    "    title='Volume Quote Per Day - 0xb7f7f6c52f2e2fdb1963eab30438024864c313f6',\n",
    "    height= 600,\n",
    "    width = 2000\n",
    ").opts(\n",
    "  yformatter=formatter\n",
    ")   "
   ]
  },
  {
   "cell_type": "markdown",
   "id": "b92791a7-12f7-41b7-bee0-a6f5c17e90bf",
   "metadata": {},
   "source": []
  },
  {
   "cell_type": "markdown",
   "id": "c7e662ec-8b65-41bd-a6cd-405854910ca8",
   "metadata": {},
   "source": [
    "Contract Address 0xb47e3cd837dDF8e4c57F05d70Ab865de6e193BBB"
   ]
  },
  {
   "cell_type": "code",
   "execution_count": 202,
   "id": "cb2dbde9-bbe9-4d36-9b01-0ce645ed740b",
   "metadata": {},
   "outputs": [],
   "source": [
    "# Append url for our api\n",
    "url = \"https://api.covalenthq.com/v1\"\n",
    "chain_id = \"/1\"    #TEMP is it always chain1 for most part?\n",
    "option = \"/nft_market/collection\"\n",
    "# Add search queries to api url\n",
    "contract_address2 = \"/0xb47e3cd837dDF8e4c57F05d70Ab865de6e193BBB\"\n",
    "currency = \"/?quote-currency=USD\"\n",
    "format_output = \"&format=JSON\"\n",
    "date_from =\"&from=2022-01-25\"\n",
    "date_to = \"&to=2022-04-25\"\n",
    "api_key = \"&key=\" + covalent_API_KEY\n",
    "\n",
    "url_nft_market_cap_detail2 = url + chain_id + option + contract_address2 + currency + format_output + date_from + date_to  + api_key "
   ]
  },
  {
   "cell_type": "code",
   "execution_count": 203,
   "id": "c97fa945-3513-4a6e-97be-557148e933d3",
   "metadata": {},
   "outputs": [],
   "source": [
    "#set API call string\n",
    "url_nft_market_cap_detail2 = url + chain_id + option + contract_address2 + currency + format_output + date_from + date_to  + api_key \n",
    "#get results from API call\n",
    "nft_market_cap2 = requests.get(url_nft_market_cap_detail2).json()\n"
   ]
  },
  {
   "cell_type": "code",
   "execution_count": 204,
   "id": "51ac4a59-b5d5-4c7e-a884-19e915fae65c",
   "metadata": {},
   "outputs": [],
   "source": [
    "#set data into a dataframe\n",
    "nft_market_cap_df2 = pd.DataFrame(nft_market_cap2['data']['items'])"
   ]
  },
  {
   "cell_type": "code",
   "execution_count": 259,
   "id": "79e50c89-5e25-4af7-a228-48846e3d845e",
   "metadata": {},
   "outputs": [],
   "source": [
    "#set data into a dataframe\n",
    "nft_market_cap_df2 = pd.DataFrame(nft_market_cap2['data']['items'])\n",
    "#create a new data frame for graphing volume, drop un-needed columns\n",
    "market_cap_df_graph_2 = nft_market_cap_df2[[\"opening_date\",\"volume_quote_day\"]].copy()"
   ]
  },
  {
   "cell_type": "code",
   "execution_count": 315,
   "id": "face0287-f0b6-43f9-ac23-c642d13c8184",
   "metadata": {},
   "outputs": [
    {
     "data": {},
     "metadata": {},
     "output_type": "display_data"
    },
    {
     "data": {
      "application/vnd.holoviews_exec.v0+json": "",
      "text/html": [
       "<div id='11161'>\n",
       "\n",
       "\n",
       "\n",
       "\n",
       "\n",
       "  <div class=\"bk-root\" id=\"84f6a0e4-6dc2-4416-af1a-eba61211ba1d\" data-root-id=\"11161\"></div>\n",
       "</div>\n",
       "<script type=\"application/javascript\">(function(root) {\n",
       "  function embed_document(root) {\n",
       "    var docs_json = {\"0de7796a-5ccd-4c1b-8bb8-55907cd64171\":{\"defs\":[{\"extends\":null,\"module\":null,\"name\":\"ReactiveHTML1\",\"overrides\":[],\"properties\":[]},{\"extends\":null,\"module\":null,\"name\":\"FlexBox1\",\"overrides\":[],\"properties\":[{\"default\":\"flex-start\",\"kind\":null,\"name\":\"align_content\"},{\"default\":\"flex-start\",\"kind\":null,\"name\":\"align_items\"},{\"default\":\"row\",\"kind\":null,\"name\":\"flex_direction\"},{\"default\":\"wrap\",\"kind\":null,\"name\":\"flex_wrap\"},{\"default\":\"flex-start\",\"kind\":null,\"name\":\"justify_content\"}]},{\"extends\":null,\"module\":null,\"name\":\"TemplateActions1\",\"overrides\":[],\"properties\":[{\"default\":0,\"kind\":null,\"name\":\"open_modal\"},{\"default\":0,\"kind\":null,\"name\":\"close_modal\"}]},{\"extends\":null,\"module\":null,\"name\":\"MaterialTemplateActions1\",\"overrides\":[],\"properties\":[{\"default\":0,\"kind\":null,\"name\":\"open_modal\"},{\"default\":0,\"kind\":null,\"name\":\"close_modal\"}]}],\"roots\":{\"references\":[{\"attributes\":{\"end\":28676901.762000002,\"reset_end\":28676901.762000002,\"reset_start\":0.0,\"tags\":[[[\"volume_quote_day\",\"volume_quote_day\",null]]]},\"id\":\"11164\",\"type\":\"Range1d\"},{\"attributes\":{},\"id\":\"11209\",\"type\":\"AllLabels\"},{\"attributes\":{\"fill_color\":{\"value\":\"#30a2da\"},\"hatch_color\":{\"value\":\"#30a2da\"},\"top\":{\"field\":\"volume_quote_day\"},\"width\":{\"value\":0.8},\"x\":{\"field\":\"opening_date\"}},\"id\":\"11198\",\"type\":\"VBar\"},{\"attributes\":{},\"id\":\"11218\",\"type\":\"UnionRenderers\"},{\"attributes\":{\"bottom_units\":\"screen\",\"coordinates\":null,\"fill_alpha\":0.5,\"fill_color\":\"lightgrey\",\"group\":null,\"left_units\":\"screen\",\"level\":\"overlay\",\"line_alpha\":1.0,\"line_color\":\"black\",\"line_dash\":[4,4],\"line_width\":2,\"right_units\":\"screen\",\"syncable\":false,\"top_units\":\"screen\"},\"id\":\"11187\",\"type\":\"BoxAnnotation\"},{\"attributes\":{\"tools\":[{\"id\":\"11165\"},{\"id\":\"11182\"},{\"id\":\"11183\"},{\"id\":\"11184\"},{\"id\":\"11185\"},{\"id\":\"11186\"}]},\"id\":\"11188\",\"type\":\"Toolbar\"},{\"attributes\":{\"fill_alpha\":{\"value\":0.1},\"fill_color\":{\"value\":\"#30a2da\"},\"hatch_alpha\":{\"value\":0.1},\"hatch_color\":{\"value\":\"#30a2da\"},\"line_alpha\":{\"value\":0.1},\"top\":{\"field\":\"volume_quote_day\"},\"width\":{\"value\":0.8},\"x\":{\"field\":\"opening_date\"}},\"id\":\"11199\",\"type\":\"VBar\"},{\"attributes\":{},\"id\":\"11182\",\"type\":\"SaveTool\"},{\"attributes\":{\"bottom\":{\"value\":0},\"fill_alpha\":{\"value\":1.0},\"fill_color\":{\"value\":\"#30a2da\"},\"hatch_alpha\":{\"value\":1.0},\"hatch_color\":{\"value\":\"#30a2da\"},\"hatch_scale\":{\"value\":12.0},\"hatch_weight\":{\"value\":1.0},\"line_alpha\":{\"value\":1.0},\"line_cap\":{\"value\":\"butt\"},\"line_color\":{\"value\":\"black\"},\"line_dash\":{\"value\":[]},\"line_dash_offset\":{\"value\":0},\"line_join\":{\"value\":\"bevel\"},\"line_width\":{\"value\":1},\"top\":{\"field\":\"volume_quote_day\"},\"width\":{\"value\":0.8},\"x\":{\"field\":\"opening_date\"}},\"id\":\"11203\",\"type\":\"VBar\"},{\"attributes\":{},\"id\":\"11183\",\"type\":\"PanTool\"},{\"attributes\":{},\"id\":\"11160\",\"type\":\"NumeralTickFormatter\"},{\"attributes\":{\"coordinates\":null,\"data_source\":{\"id\":\"11195\"},\"glyph\":{\"id\":\"11198\"},\"group\":null,\"hover_glyph\":null,\"muted_glyph\":{\"id\":\"11200\"},\"nonselection_glyph\":{\"id\":\"11199\"},\"selection_glyph\":{\"id\":\"11203\"},\"view\":{\"id\":\"11202\"}},\"id\":\"11201\",\"type\":\"GlyphRenderer\"},{\"attributes\":{},\"id\":\"11186\",\"type\":\"ResetTool\"},{\"attributes\":{},\"id\":\"11196\",\"type\":\"Selection\"},{\"attributes\":{},\"id\":\"11184\",\"type\":\"WheelZoomTool\"},{\"attributes\":{\"below\":[{\"id\":\"11175\"}],\"center\":[{\"id\":\"11177\"},{\"id\":\"11181\"}],\"left\":[{\"id\":\"11178\"}],\"margin\":[5,5,5,5],\"min_border_bottom\":10,\"min_border_left\":10,\"min_border_right\":10,\"min_border_top\":10,\"renderers\":[{\"id\":\"11201\"}],\"sizing_mode\":\"fixed\",\"title\":{\"id\":\"11167\"},\"toolbar\":{\"id\":\"11188\"},\"width\":1000,\"x_range\":{\"id\":\"11163\"},\"x_scale\":{\"id\":\"11171\"},\"y_range\":{\"id\":\"11164\"},\"y_scale\":{\"id\":\"11173\"}},\"id\":\"11166\",\"subtype\":\"Figure\",\"type\":\"Plot\"},{\"attributes\":{\"overlay\":{\"id\":\"11187\"}},\"id\":\"11185\",\"type\":\"BoxZoomTool\"},{\"attributes\":{\"margin\":[5,5,5,5],\"name\":\"HSpacer21863\",\"sizing_mode\":\"stretch_width\"},\"id\":\"11162\",\"type\":\"Spacer\"},{\"attributes\":{\"data\":{\"opening_date\":[\"2022-03-05\",\"2022-03-04\",\"2022-03-03\",\"2022-03-02\",\"2022-03-01\",\"2022-02-28\",\"2022-02-27\",\"2022-02-26\",\"2022-02-25\",\"2022-02-24\",\"2022-02-23\",\"2022-02-22\",\"2022-02-21\",\"2022-02-20\",\"2022-02-19\",\"2022-02-18\",\"2022-02-17\",\"2022-02-16\",\"2022-02-15\",\"2022-02-14\",\"2022-02-13\",\"2022-02-12\",\"2022-02-11\",\"2022-02-10\",\"2022-02-09\",\"2022-02-08\",\"2022-02-07\",\"2022-02-06\",\"2022-02-05\",\"2022-02-04\",\"2022-02-03\",\"2022-02-02\",\"2022-02-01\",\"2022-01-31\",\"2022-01-30\",\"2022-01-29\",\"2022-01-28\",\"2022-01-27\",\"2022-01-26\",\"2022-01-25\"],\"volume_quote_day\":{\"__ndarray__\":\"FK5H4bjVIEHsUbgebacpQQAAAAB5gDNBZmZmZlmwQUHNzMzM2ZMpQZqZmZn9xzdBmpmZGcDvREHNzMzMuko5QZqZmRnyDDVBmpmZmc3RN0FmZmZmj7oqQZqZmZlmoSZB7FG4HjiVLEGamZmZ/10xQZqZmZmqxyhBAAAAgH6CKEEpXI/CMYAdQaRwPQoTmg1BAAAAgC4rIUFmZmZmk7gwQQAAAMB3oVJBAAAAQBvieEHNzMzMSyo3QexRuB7bIy1BAAAAII58ZEEAAACAWI8+QQAAAMAqe0hBZmZm5rDCOUFmZmZmYp0/Qc3MzMyVNDNBAAAAACbWNkFmZmZmC+pPQWZmZubj+EhBAAAAwDNcVkEAAAAAJB9VQWZmZmZzjUhBAAAAIJWcYkGamZmZfQFCQQAAAEAP1WBBAAAAAGl3c0E=\",\"dtype\":\"float64\",\"order\":\"little\",\"shape\":[40]}},\"selected\":{\"id\":\"11196\"},\"selection_policy\":{\"id\":\"11218\"}},\"id\":\"11195\",\"type\":\"ColumnDataSource\"},{\"attributes\":{\"fill_alpha\":{\"value\":0.2},\"fill_color\":{\"value\":\"#30a2da\"},\"hatch_alpha\":{\"value\":0.2},\"hatch_color\":{\"value\":\"#30a2da\"},\"line_alpha\":{\"value\":0.2},\"top\":{\"field\":\"volume_quote_day\"},\"width\":{\"value\":0.8},\"x\":{\"field\":\"opening_date\"}},\"id\":\"11200\",\"type\":\"VBar\"},{\"attributes\":{\"source\":{\"id\":\"11195\"}},\"id\":\"11202\",\"type\":\"CDSView\"},{\"attributes\":{\"coordinates\":null,\"group\":null,\"text\":\"Volume Quote Per Day - 0xb47e3cd837dDF8e4c57F05d70Ab865de6e193BBB\",\"text_color\":\"black\",\"text_font_size\":\"12pt\"},\"id\":\"11167\",\"type\":\"Title\"},{\"attributes\":{\"factors\":[\"2022-03-05\",\"2022-03-04\",\"2022-03-03\",\"2022-03-02\",\"2022-03-01\",\"2022-02-28\",\"2022-02-27\",\"2022-02-26\",\"2022-02-25\",\"2022-02-24\",\"2022-02-23\",\"2022-02-22\",\"2022-02-21\",\"2022-02-20\",\"2022-02-19\",\"2022-02-18\",\"2022-02-17\",\"2022-02-16\",\"2022-02-15\",\"2022-02-14\",\"2022-02-13\",\"2022-02-12\",\"2022-02-11\",\"2022-02-10\",\"2022-02-09\",\"2022-02-08\",\"2022-02-07\",\"2022-02-06\",\"2022-02-05\",\"2022-02-04\",\"2022-02-03\",\"2022-02-02\",\"2022-02-01\",\"2022-01-31\",\"2022-01-30\",\"2022-01-29\",\"2022-01-28\",\"2022-01-27\",\"2022-01-26\",\"2022-01-25\"],\"tags\":[[[\"opening_date\",\"opening_date\",null]]]},\"id\":\"11163\",\"type\":\"FactorRange\"},{\"attributes\":{\"axis\":{\"id\":\"11175\"},\"coordinates\":null,\"grid_line_color\":null,\"group\":null,\"ticker\":null},\"id\":\"11177\",\"type\":\"Grid\"},{\"attributes\":{},\"id\":\"11206\",\"type\":\"AllLabels\"},{\"attributes\":{},\"id\":\"11171\",\"type\":\"CategoricalScale\"},{\"attributes\":{},\"id\":\"11205\",\"type\":\"CategoricalTickFormatter\"},{\"attributes\":{\"children\":[{\"id\":\"11162\"},{\"id\":\"11166\"},{\"id\":\"11230\"}],\"margin\":[0,0,0,0],\"name\":\"Row21859\",\"tags\":[\"embedded\"]},\"id\":\"11161\",\"type\":\"Row\"},{\"attributes\":{\"axis_label\":\"Opening Date\",\"coordinates\":null,\"formatter\":{\"id\":\"11205\"},\"group\":null,\"major_label_orientation\":1.5707963267948966,\"major_label_policy\":{\"id\":\"11206\"},\"ticker\":{\"id\":\"11176\"}},\"id\":\"11175\",\"type\":\"CategoricalAxis\"},{\"attributes\":{\"callback\":null,\"renderers\":[{\"id\":\"11201\"}],\"tags\":[\"hv_created\"],\"tooltips\":[[\"opening_date\",\"@{opening_date}\"],[\"volume_quote_day\",\"@{volume_quote_day}\"]]},\"id\":\"11165\",\"type\":\"HoverTool\"},{\"attributes\":{},\"id\":\"11173\",\"type\":\"LinearScale\"},{\"attributes\":{\"margin\":[5,5,5,5],\"name\":\"HSpacer21864\",\"sizing_mode\":\"stretch_width\"},\"id\":\"11230\",\"type\":\"Spacer\"},{\"attributes\":{},\"id\":\"11179\",\"type\":\"BasicTicker\"},{\"attributes\":{},\"id\":\"11176\",\"type\":\"CategoricalTicker\"},{\"attributes\":{\"axis_label\":\"Volume\",\"coordinates\":null,\"formatter\":{\"id\":\"11160\"},\"group\":null,\"major_label_policy\":{\"id\":\"11209\"},\"ticker\":{\"id\":\"11179\"}},\"id\":\"11178\",\"type\":\"LinearAxis\"},{\"attributes\":{\"axis\":{\"id\":\"11178\"},\"coordinates\":null,\"dimension\":1,\"grid_line_color\":null,\"group\":null,\"ticker\":null},\"id\":\"11181\",\"type\":\"Grid\"}],\"root_ids\":[\"11161\"]},\"title\":\"Bokeh Application\",\"version\":\"2.4.1\"}};\n",
       "    var render_items = [{\"docid\":\"0de7796a-5ccd-4c1b-8bb8-55907cd64171\",\"root_ids\":[\"11161\"],\"roots\":{\"11161\":\"84f6a0e4-6dc2-4416-af1a-eba61211ba1d\"}}];\n",
       "    root.Bokeh.embed.embed_items_notebook(docs_json, render_items);\n",
       "  }\n",
       "  if (root.Bokeh !== undefined && root.Bokeh.Panel !== undefined) {\n",
       "    embed_document(root);\n",
       "  } else {\n",
       "    var attempts = 0;\n",
       "    var timer = setInterval(function(root) {\n",
       "      if (root.Bokeh !== undefined && root.Bokeh.Panel !== undefined) {\n",
       "        clearInterval(timer);\n",
       "        embed_document(root);\n",
       "      } else if (document.readyState == \"complete\") {\n",
       "        attempts++;\n",
       "        if (attempts > 200) {\n",
       "          clearInterval(timer);\n",
       "          console.log(\"Bokeh: ERROR: Unable to run BokehJS code because BokehJS library is missing\");\n",
       "        }\n",
       "      }\n",
       "    }, 25, root)\n",
       "  }\n",
       "})(window);</script>"
      ],
      "text/plain": [
       ":Bars   [opening_date]   (volume_quote_day)"
      ]
     },
     "execution_count": 315,
     "metadata": {
      "application/vnd.holoviews_exec.v0+json": {
       "id": "11161"
      }
     },
     "output_type": "execute_result"
    }
   ],
   "source": [
    "#Graph dataframe for analysis\n",
    "from bokeh.models.formatters import NumeralTickFormatter\n",
    "formatter = NumeralTickFormatter(format=\"0,0\")\n",
    "\n",
    "market_cap_df_graph_2.hvplot.bar(\n",
    "    x='opening_date', \n",
    "    y='volume_quote_day',\n",
    "    xlabel='Opening Date',\n",
    "    ylabel='Volume',\n",
    "    rot=90,\n",
    "    title='Volume Quote Per Day - 0xb47e3cd837dDF8e4c57F05d70Ab865de6e193BBB',\n",
    "    height= 600,\n",
    "    width = 1000\n",
    ").opts(\n",
    "  yformatter=formatter\n",
    ")   "
   ]
  },
  {
   "cell_type": "markdown",
   "id": "420be5a9-b49a-43f0-965b-64528bb4b12d",
   "metadata": {},
   "source": [
    "<img src=\"Images\\Volume Quote Per Day - 0xb47e3cd837dDF8e4c57F05d70Ab865de6e193BBB.png\">"
   ]
  },
  {
   "cell_type": "code",
   "execution_count": 248,
   "id": "f7352e0f-0ff8-48b7-995f-318cd24a5792",
   "metadata": {},
   "outputs": [
    {
     "data": {},
     "metadata": {},
     "output_type": "display_data"
    },
    {
     "data": {
      "application/vnd.holoviews_exec.v0+json": "",
      "text/html": [
       "<div id='6613'>\n",
       "\n",
       "\n",
       "\n",
       "\n",
       "\n",
       "  <div class=\"bk-root\" id=\"c6783c6d-9424-4266-a254-dedd6a5beb47\" data-root-id=\"6613\"></div>\n",
       "</div>\n",
       "<script type=\"application/javascript\">(function(root) {\n",
       "  function embed_document(root) {\n",
       "    var docs_json = {\"b6958a88-0ab8-4df1-ac41-a08704b26cf0\":{\"defs\":[{\"extends\":null,\"module\":null,\"name\":\"ReactiveHTML1\",\"overrides\":[],\"properties\":[]},{\"extends\":null,\"module\":null,\"name\":\"FlexBox1\",\"overrides\":[],\"properties\":[{\"default\":\"flex-start\",\"kind\":null,\"name\":\"align_content\"},{\"default\":\"flex-start\",\"kind\":null,\"name\":\"align_items\"},{\"default\":\"row\",\"kind\":null,\"name\":\"flex_direction\"},{\"default\":\"wrap\",\"kind\":null,\"name\":\"flex_wrap\"},{\"default\":\"flex-start\",\"kind\":null,\"name\":\"justify_content\"}]},{\"extends\":null,\"module\":null,\"name\":\"TemplateActions1\",\"overrides\":[],\"properties\":[{\"default\":0,\"kind\":null,\"name\":\"open_modal\"},{\"default\":0,\"kind\":null,\"name\":\"close_modal\"}]},{\"extends\":null,\"module\":null,\"name\":\"MaterialTemplateActions1\",\"overrides\":[],\"properties\":[{\"default\":0,\"kind\":null,\"name\":\"open_modal\"},{\"default\":0,\"kind\":null,\"name\":\"close_modal\"}]}],\"roots\":{\"references\":[{\"attributes\":{\"coordinates\":null,\"group\":null,\"text_color\":\"black\",\"text_font_size\":\"12pt\"},\"id\":\"6619\",\"type\":\"Title\"},{\"attributes\":{},\"id\":\"6660\",\"type\":\"BasicTickFormatter\"},{\"attributes\":{},\"id\":\"6669\",\"type\":\"UnionRenderers\"},{\"attributes\":{\"data\":{\"index\":[\"0\",\"1\",\"2\"],\"volume_quote_day\":{\"__ndarray__\":\"zczMzIn6JEG8BRIUP8OEQAAAAAAjARRB\",\"dtype\":\"float64\",\"order\":\"little\",\"shape\":[3]}},\"selected\":{\"id\":\"6648\"},\"selection_policy\":{\"id\":\"6669\"}},\"id\":\"6647\",\"type\":\"ColumnDataSource\"},{\"attributes\":{\"coordinates\":null,\"data_source\":{\"id\":\"6647\"},\"glyph\":{\"id\":\"6650\"},\"group\":null,\"hover_glyph\":null,\"muted_glyph\":{\"id\":\"6652\"},\"nonselection_glyph\":{\"id\":\"6651\"},\"selection_glyph\":{\"id\":\"6655\"},\"view\":{\"id\":\"6654\"}},\"id\":\"6653\",\"type\":\"GlyphRenderer\"},{\"attributes\":{\"below\":[{\"id\":\"6627\"}],\"center\":[{\"id\":\"6629\"},{\"id\":\"6633\"}],\"height\":300,\"left\":[{\"id\":\"6630\"}],\"margin\":[5,5,5,5],\"min_border_bottom\":10,\"min_border_left\":10,\"min_border_right\":10,\"min_border_top\":10,\"renderers\":[{\"id\":\"6653\"}],\"sizing_mode\":\"fixed\",\"title\":{\"id\":\"6619\"},\"toolbar\":{\"id\":\"6640\"},\"width\":700,\"x_range\":{\"id\":\"6615\"},\"x_scale\":{\"id\":\"6623\"},\"y_range\":{\"id\":\"6616\"},\"y_scale\":{\"id\":\"6625\"}},\"id\":\"6618\",\"subtype\":\"Figure\",\"type\":\"Plot\"},{\"attributes\":{},\"id\":\"6636\",\"type\":\"WheelZoomTool\"},{\"attributes\":{\"bottom\":{\"value\":0},\"fill_alpha\":{\"value\":1.0},\"fill_color\":{\"value\":\"#30a2da\"},\"hatch_alpha\":{\"value\":1.0},\"hatch_color\":{\"value\":\"#30a2da\"},\"hatch_scale\":{\"value\":12.0},\"hatch_weight\":{\"value\":1.0},\"line_alpha\":{\"value\":1.0},\"line_cap\":{\"value\":\"butt\"},\"line_color\":{\"value\":\"black\"},\"line_dash\":{\"value\":[]},\"line_dash_offset\":{\"value\":0},\"line_join\":{\"value\":\"bevel\"},\"line_width\":{\"value\":1},\"top\":{\"field\":\"volume_quote_day\"},\"width\":{\"value\":0.8},\"x\":{\"field\":\"index\"}},\"id\":\"6655\",\"type\":\"VBar\"},{\"attributes\":{},\"id\":\"6638\",\"type\":\"ResetTool\"},{\"attributes\":{},\"id\":\"6635\",\"type\":\"PanTool\"},{\"attributes\":{\"bottom_units\":\"screen\",\"coordinates\":null,\"fill_alpha\":0.5,\"fill_color\":\"lightgrey\",\"group\":null,\"left_units\":\"screen\",\"level\":\"overlay\",\"line_alpha\":1.0,\"line_color\":\"black\",\"line_dash\":[4,4],\"line_width\":2,\"right_units\":\"screen\",\"syncable\":false,\"top_units\":\"screen\"},\"id\":\"6639\",\"type\":\"BoxAnnotation\"},{\"attributes\":{\"axis_label\":\"\",\"coordinates\":null,\"formatter\":{\"id\":\"6657\"},\"group\":null,\"major_label_policy\":{\"id\":\"6658\"},\"ticker\":{\"id\":\"6628\"}},\"id\":\"6627\",\"type\":\"CategoricalAxis\"},{\"attributes\":{},\"id\":\"6634\",\"type\":\"SaveTool\"},{\"attributes\":{\"tools\":[{\"id\":\"6617\"},{\"id\":\"6634\"},{\"id\":\"6635\"},{\"id\":\"6636\"},{\"id\":\"6637\"},{\"id\":\"6638\"}]},\"id\":\"6640\",\"type\":\"Toolbar\"},{\"attributes\":{},\"id\":\"6657\",\"type\":\"CategoricalTickFormatter\"},{\"attributes\":{\"children\":[{\"id\":\"6614\"},{\"id\":\"6618\"},{\"id\":\"6682\"}],\"margin\":[0,0,0,0],\"name\":\"Row11360\",\"tags\":[\"embedded\"]},\"id\":\"6613\",\"type\":\"Row\"},{\"attributes\":{\"margin\":[5,5,5,5],\"name\":\"HSpacer11364\",\"sizing_mode\":\"stretch_width\"},\"id\":\"6614\",\"type\":\"Spacer\"},{\"attributes\":{},\"id\":\"6661\",\"type\":\"AllLabels\"},{\"attributes\":{\"source\":{\"id\":\"6647\"}},\"id\":\"6654\",\"type\":\"CDSView\"},{\"attributes\":{\"end\":756105.34942,\"reset_end\":756105.34942,\"reset_start\":0.0,\"tags\":[[[\"volume_quote_day\",\"volume_quote_day\",null]]]},\"id\":\"6616\",\"type\":\"Range1d\"},{\"attributes\":{},\"id\":\"6658\",\"type\":\"AllLabels\"},{\"attributes\":{\"fill_alpha\":{\"value\":0.2},\"fill_color\":{\"value\":\"#30a2da\"},\"hatch_alpha\":{\"value\":0.2},\"hatch_color\":{\"value\":\"#30a2da\"},\"line_alpha\":{\"value\":0.2},\"top\":{\"field\":\"volume_quote_day\"},\"width\":{\"value\":0.8},\"x\":{\"field\":\"index\"}},\"id\":\"6652\",\"type\":\"VBar\"},{\"attributes\":{\"axis_label\":\"volume_quote_day\",\"coordinates\":null,\"formatter\":{\"id\":\"6660\"},\"group\":null,\"major_label_policy\":{\"id\":\"6661\"},\"ticker\":{\"id\":\"6631\"}},\"id\":\"6630\",\"type\":\"LinearAxis\"},{\"attributes\":{\"factors\":[\"0\",\"1\",\"2\"],\"tags\":[[[\"index\",\"index\",null]]]},\"id\":\"6615\",\"type\":\"FactorRange\"},{\"attributes\":{},\"id\":\"6648\",\"type\":\"Selection\"},{\"attributes\":{},\"id\":\"6631\",\"type\":\"BasicTicker\"},{\"attributes\":{},\"id\":\"6628\",\"type\":\"CategoricalTicker\"},{\"attributes\":{\"margin\":[5,5,5,5],\"name\":\"HSpacer11365\",\"sizing_mode\":\"stretch_width\"},\"id\":\"6682\",\"type\":\"Spacer\"},{\"attributes\":{\"axis\":{\"id\":\"6630\"},\"coordinates\":null,\"dimension\":1,\"grid_line_color\":null,\"group\":null,\"ticker\":null},\"id\":\"6633\",\"type\":\"Grid\"},{\"attributes\":{\"fill_color\":{\"value\":\"#30a2da\"},\"hatch_color\":{\"value\":\"#30a2da\"},\"top\":{\"field\":\"volume_quote_day\"},\"width\":{\"value\":0.8},\"x\":{\"field\":\"index\"}},\"id\":\"6650\",\"type\":\"VBar\"},{\"attributes\":{\"callback\":null,\"renderers\":[{\"id\":\"6653\"}],\"tags\":[\"hv_created\"],\"tooltips\":[[\"index\",\"@{index}\"],[\"volume_quote_day\",\"@{volume_quote_day}\"]]},\"id\":\"6617\",\"type\":\"HoverTool\"},{\"attributes\":{\"axis\":{\"id\":\"6627\"},\"coordinates\":null,\"grid_line_color\":null,\"group\":null,\"ticker\":null},\"id\":\"6629\",\"type\":\"Grid\"},{\"attributes\":{\"fill_alpha\":{\"value\":0.1},\"fill_color\":{\"value\":\"#30a2da\"},\"hatch_alpha\":{\"value\":0.1},\"hatch_color\":{\"value\":\"#30a2da\"},\"line_alpha\":{\"value\":0.1},\"top\":{\"field\":\"volume_quote_day\"},\"width\":{\"value\":0.8},\"x\":{\"field\":\"index\"}},\"id\":\"6651\",\"type\":\"VBar\"},{\"attributes\":{\"overlay\":{\"id\":\"6639\"}},\"id\":\"6637\",\"type\":\"BoxZoomTool\"},{\"attributes\":{},\"id\":\"6625\",\"type\":\"LinearScale\"},{\"attributes\":{},\"id\":\"6623\",\"type\":\"CategoricalScale\"}],\"root_ids\":[\"6613\"]},\"title\":\"Bokeh Application\",\"version\":\"2.4.1\"}};\n",
       "    var render_items = [{\"docid\":\"b6958a88-0ab8-4df1-ac41-a08704b26cf0\",\"root_ids\":[\"6613\"],\"roots\":{\"6613\":\"c6783c6d-9424-4266-a254-dedd6a5beb47\"}}];\n",
       "    root.Bokeh.embed.embed_items_notebook(docs_json, render_items);\n",
       "  }\n",
       "  if (root.Bokeh !== undefined && root.Bokeh.Panel !== undefined) {\n",
       "    embed_document(root);\n",
       "  } else {\n",
       "    var attempts = 0;\n",
       "    var timer = setInterval(function(root) {\n",
       "      if (root.Bokeh !== undefined && root.Bokeh.Panel !== undefined) {\n",
       "        clearInterval(timer);\n",
       "        embed_document(root);\n",
       "      } else if (document.readyState == \"complete\") {\n",
       "        attempts++;\n",
       "        if (attempts > 200) {\n",
       "          clearInterval(timer);\n",
       "          console.log(\"Bokeh: ERROR: Unable to run BokehJS code because BokehJS library is missing\");\n",
       "        }\n",
       "      }\n",
       "    }, 25, root)\n",
       "  }\n",
       "})(window);</script>"
      ],
      "text/plain": [
       ":Bars   [index]   (volume_quote_day)"
      ]
     },
     "execution_count": 248,
     "metadata": {
      "application/vnd.holoviews_exec.v0+json": {
       "id": "6613"
      }
     },
     "output_type": "execute_result"
    }
   ],
   "source": [
    "market_cap_df_graph.hvplot.bar()"
   ]
  },
  {
   "cell_type": "code",
   "execution_count": 253,
   "id": "e37b58fd-7355-474b-93c2-62c1aed188e7",
   "metadata": {},
   "outputs": [],
   "source": [
    "from bokeh.models.formatters import NumeralTickFormatter\n",
    "formatter = NumeralTickFormatter(format=\"0,0\")\n",
    "graph2 = market_cap_df_graph_2.hvplot.bar(\n",
    "    x='opening_date', \n",
    "    y='volume_quote_day',\n",
    "    xlabel='Opening Date',\n",
    "    ylabel='Volume',\n",
    "    rot=90,\n",
    "    label='0xb47e3cd837dDF8e4c57F05d70Ab865de6e193BBB',\n",
    "    height= 600,\n",
    "    width = 1000\n",
    ").opts(\n",
    "  yformatter=formatter\n",
    ") \n",
    "\n",
    "graph1  = market_cap_df_graph.hvplot.bar(\n",
    "    x='opening_date', \n",
    "    y='volume_quote_day',\n",
    "    xlabel='Opening Date',\n",
    "    ylabel='Volume',\n",
    "    rot=90,\n",
    "    label='0xb7f7f6c52f2e2fdb1963eab30438024864c313f6',\n",
    "    height= 600,\n",
    "    width = 1000\n",
    ").opts(\n",
    "  yformatter=formatter\n",
    ") "
   ]
  },
  {
   "cell_type": "code",
   "execution_count": 313,
   "id": "55094bb4-dc69-43d1-b736-3ceaffd6d9bb",
   "metadata": {},
   "outputs": [
    {
     "data": {},
     "metadata": {},
     "output_type": "display_data"
    },
    {
     "data": {
      "application/vnd.holoviews_exec.v0+json": "",
      "text/html": [
       "<div id='10803'>\n",
       "\n",
       "\n",
       "\n",
       "\n",
       "\n",
       "  <div class=\"bk-root\" id=\"cc2140e2-bdd3-41dc-a522-21f2f28ea011\" data-root-id=\"10803\"></div>\n",
       "</div>\n",
       "<script type=\"application/javascript\">(function(root) {\n",
       "  function embed_document(root) {\n",
       "    var docs_json = {\"d8639020-f048-48f4-bcb7-c7c01914e620\":{\"defs\":[{\"extends\":null,\"module\":null,\"name\":\"ReactiveHTML1\",\"overrides\":[],\"properties\":[]},{\"extends\":null,\"module\":null,\"name\":\"FlexBox1\",\"overrides\":[],\"properties\":[{\"default\":\"flex-start\",\"kind\":null,\"name\":\"align_content\"},{\"default\":\"flex-start\",\"kind\":null,\"name\":\"align_items\"},{\"default\":\"row\",\"kind\":null,\"name\":\"flex_direction\"},{\"default\":\"wrap\",\"kind\":null,\"name\":\"flex_wrap\"},{\"default\":\"flex-start\",\"kind\":null,\"name\":\"justify_content\"}]},{\"extends\":null,\"module\":null,\"name\":\"TemplateActions1\",\"overrides\":[],\"properties\":[{\"default\":0,\"kind\":null,\"name\":\"open_modal\"},{\"default\":0,\"kind\":null,\"name\":\"close_modal\"}]},{\"extends\":null,\"module\":null,\"name\":\"MaterialTemplateActions1\",\"overrides\":[],\"properties\":[{\"default\":0,\"kind\":null,\"name\":\"open_modal\"},{\"default\":0,\"kind\":null,\"name\":\"close_modal\"}]}],\"roots\":{\"references\":[{\"attributes\":{\"axis\":{\"id\":\"10818\"},\"coordinates\":null,\"grid_line_color\":null,\"group\":null,\"ticker\":null},\"id\":\"10820\",\"type\":\"Grid\"},{\"attributes\":{},\"id\":\"10814\",\"type\":\"CategoricalScale\"},{\"attributes\":{},\"id\":\"10829\",\"type\":\"ResetTool\"},{\"attributes\":{\"label\":{\"value\":\"0xb7f7f6c52f2e2fdb1963eab30438024864c313f6\"},\"renderers\":[{\"id\":\"10872\"}]},\"id\":\"10885\",\"type\":\"LegendItem\"},{\"attributes\":{},\"id\":\"10840\",\"type\":\"AllLabels\"},{\"attributes\":{\"axis_label\":\"Opening Date\",\"coordinates\":null,\"formatter\":{\"id\":\"10839\"},\"group\":null,\"major_label_orientation\":1.5707963267948966,\"major_label_policy\":{\"id\":\"10840\"},\"ticker\":{\"id\":\"10819\"}},\"id\":\"10818\",\"type\":\"CategoricalAxis\"},{\"attributes\":{},\"id\":\"10816\",\"type\":\"LinearScale\"},{\"attributes\":{\"fill_color\":{\"value\":\"#30a2da\"},\"hatch_color\":{\"value\":\"#30a2da\"},\"top\":{\"field\":\"volume_quote_day\"},\"width\":{\"value\":0.8},\"x\":{\"field\":\"opening_date\"}},\"id\":\"10849\",\"type\":\"VBar\"},{\"attributes\":{},\"id\":\"10822\",\"type\":\"BasicTicker\"},{\"attributes\":{\"tools\":[{\"id\":\"10807\"},{\"id\":\"10825\"},{\"id\":\"10826\"},{\"id\":\"10827\"},{\"id\":\"10828\"},{\"id\":\"10829\"}]},\"id\":\"10831\",\"type\":\"Toolbar\"},{\"attributes\":{},\"id\":\"10819\",\"type\":\"CategoricalTicker\"},{\"attributes\":{\"fill_alpha\":{\"value\":0.2},\"fill_color\":{\"value\":\"#fc4f30\"},\"hatch_alpha\":{\"value\":0.2},\"hatch_color\":{\"value\":\"#fc4f30\"},\"line_alpha\":{\"value\":0.2},\"top\":{\"field\":\"volume_quote_day\"},\"width\":{\"value\":0.8},\"x\":{\"field\":\"opening_date\"}},\"id\":\"10871\",\"type\":\"VBar\"},{\"attributes\":{\"below\":[{\"id\":\"10818\"}],\"center\":[{\"id\":\"10820\"},{\"id\":\"10824\"}],\"left\":[{\"id\":\"10821\"}],\"margin\":[5,5,5,5],\"min_border_bottom\":10,\"min_border_left\":10,\"min_border_right\":10,\"min_border_top\":10,\"renderers\":[{\"id\":\"10852\"},{\"id\":\"10872\"}],\"right\":[{\"id\":\"10863\"}],\"sizing_mode\":\"fixed\",\"title\":{\"id\":\"10810\"},\"toolbar\":{\"id\":\"10831\"},\"width\":1000,\"x_range\":{\"id\":\"10805\"},\"x_scale\":{\"id\":\"10814\"},\"y_range\":{\"id\":\"10806\"},\"y_scale\":{\"id\":\"10816\"}},\"id\":\"10809\",\"subtype\":\"Figure\",\"type\":\"Plot\"},{\"attributes\":{\"axis_label\":\"Volume\",\"coordinates\":null,\"formatter\":{\"id\":\"7594\"},\"group\":null,\"major_label_policy\":{\"id\":\"10843\"},\"ticker\":{\"id\":\"10822\"}},\"id\":\"10821\",\"type\":\"LinearAxis\"},{\"attributes\":{\"fill_alpha\":{\"value\":0.1},\"fill_color\":{\"value\":\"#fc4f30\"},\"hatch_alpha\":{\"value\":0.1},\"hatch_color\":{\"value\":\"#fc4f30\"},\"line_alpha\":{\"value\":0.1},\"top\":{\"field\":\"volume_quote_day\"},\"width\":{\"value\":0.8},\"x\":{\"field\":\"opening_date\"}},\"id\":\"10870\",\"type\":\"VBar\"},{\"attributes\":{},\"id\":\"10867\",\"type\":\"Selection\"},{\"attributes\":{\"axis\":{\"id\":\"10821\"},\"coordinates\":null,\"dimension\":1,\"grid_line_color\":null,\"group\":null,\"ticker\":null},\"id\":\"10824\",\"type\":\"Grid\"},{\"attributes\":{},\"id\":\"10847\",\"type\":\"Selection\"},{\"attributes\":{\"fill_color\":{\"value\":\"#fc4f30\"},\"hatch_color\":{\"value\":\"#fc4f30\"},\"top\":{\"field\":\"volume_quote_day\"},\"width\":{\"value\":0.8},\"x\":{\"field\":\"opening_date\"}},\"id\":\"10869\",\"type\":\"VBar\"},{\"attributes\":{\"data\":{\"opening_date\":[\"2022-03-05\",\"2022-03-04\",\"2022-03-03\",\"2022-03-02\",\"2022-03-01\",\"2022-02-28\",\"2022-02-27\",\"2022-02-26\",\"2022-02-25\",\"2022-02-24\",\"2022-02-23\",\"2022-02-22\",\"2022-02-21\",\"2022-02-20\",\"2022-02-19\",\"2022-02-18\",\"2022-02-17\",\"2022-02-16\",\"2022-02-15\",\"2022-02-14\",\"2022-02-13\",\"2022-02-12\",\"2022-02-11\",\"2022-02-10\",\"2022-02-09\",\"2022-02-08\",\"2022-02-07\",\"2022-02-06\",\"2022-02-05\",\"2022-02-04\",\"2022-02-03\",\"2022-02-02\",\"2022-02-01\",\"2022-01-31\",\"2022-01-30\",\"2022-01-29\",\"2022-01-28\",\"2022-01-27\",\"2022-01-26\",\"2022-01-25\"],\"volume_quote_day\":{\"__ndarray__\":\"FK5H4bjVIEHsUbgebacpQQAAAAB5gDNBZmZmZlmwQUHNzMzM2ZMpQZqZmZn9xzdBmpmZGcDvREHNzMzMuko5QZqZmRnyDDVBmpmZmc3RN0FmZmZmj7oqQZqZmZlmoSZB7FG4HjiVLEGamZmZ/10xQZqZmZmqxyhBAAAAgH6CKEEpXI/CMYAdQaRwPQoTmg1BAAAAgC4rIUFmZmZmk7gwQQAAAMB3oVJBAAAAQBvieEHNzMzMSyo3QexRuB7bIy1BAAAAII58ZEEAAACAWI8+QQAAAMAqe0hBZmZm5rDCOUFmZmZmYp0/Qc3MzMyVNDNBAAAAACbWNkFmZmZmC+pPQWZmZubj+EhBAAAAwDNcVkEAAAAAJB9VQWZmZmZzjUhBAAAAIJWcYkGamZmZfQFCQQAAAEAP1WBBAAAAAGl3c0E=\",\"dtype\":\"float64\",\"order\":\"little\",\"shape\":[40]}},\"selected\":{\"id\":\"10847\"},\"selection_policy\":{\"id\":\"10860\"}},\"id\":\"10846\",\"type\":\"ColumnDataSource\"},{\"attributes\":{\"data\":{\"opening_date\":[\"2022-03-30\",\"2022-02-03\",\"2022-01-17\"],\"volume_quote_day\":{\"__ndarray__\":\"zczMzIn6JEG8BRIUP8OEQAAAAAAjARRB\",\"dtype\":\"float64\",\"order\":\"little\",\"shape\":[3]}},\"selected\":{\"id\":\"10867\"},\"selection_policy\":{\"id\":\"10882\"}},\"id\":\"10866\",\"type\":\"ColumnDataSource\"},{\"attributes\":{},\"id\":\"7594\",\"type\":\"NumeralTickFormatter\"},{\"attributes\":{},\"id\":\"10843\",\"type\":\"AllLabels\"},{\"attributes\":{\"bottom_units\":\"screen\",\"coordinates\":null,\"fill_alpha\":0.5,\"fill_color\":\"lightgrey\",\"group\":null,\"left_units\":\"screen\",\"level\":\"overlay\",\"line_alpha\":1.0,\"line_color\":\"black\",\"line_dash\":[4,4],\"line_width\":2,\"right_units\":\"screen\",\"syncable\":false,\"top_units\":\"screen\"},\"id\":\"10830\",\"type\":\"BoxAnnotation\"},{\"attributes\":{\"factors\":[\"2022-03-05\",\"2022-03-04\",\"2022-03-03\",\"2022-03-02\",\"2022-03-01\",\"2022-02-28\",\"2022-02-27\",\"2022-02-26\",\"2022-02-25\",\"2022-02-24\",\"2022-02-23\",\"2022-02-22\",\"2022-02-21\",\"2022-02-20\",\"2022-02-19\",\"2022-02-18\",\"2022-02-17\",\"2022-02-16\",\"2022-02-15\",\"2022-02-14\",\"2022-02-13\",\"2022-02-12\",\"2022-02-11\",\"2022-02-10\",\"2022-02-09\",\"2022-02-08\",\"2022-02-07\",\"2022-02-06\",\"2022-02-05\",\"2022-02-04\",\"2022-02-03\",\"2022-02-02\",\"2022-02-01\",\"2022-01-31\",\"2022-01-30\",\"2022-01-29\",\"2022-01-28\",\"2022-01-27\",\"2022-01-26\",\"2022-01-25\",\"2022-03-30\",\"2022-01-17\"],\"tags\":[[[\"opening_date\",\"opening_date\",null]]]},\"id\":\"10805\",\"type\":\"FactorRange\"},{\"attributes\":{\"callback\":null,\"renderers\":[{\"id\":\"10852\"},{\"id\":\"10872\"}],\"tags\":[\"hv_created\"],\"tooltips\":[[\"opening_date\",\"@{opening_date}\"],[\"volume_quote_day\",\"@{volume_quote_day}\"]]},\"id\":\"10807\",\"type\":\"HoverTool\"},{\"attributes\":{\"label\":{\"value\":\"0xb47e3cd837dDF8e4c57F05d70Ab865de6e193BBB\"},\"renderers\":[{\"id\":\"10852\"}]},\"id\":\"10864\",\"type\":\"LegendItem\"},{\"attributes\":{\"children\":[{\"id\":\"10804\"},{\"id\":\"10809\"},{\"id\":\"10986\"}],\"margin\":[0,0,0,0],\"name\":\"Row21228\",\"tags\":[\"embedded\"]},\"id\":\"10803\",\"type\":\"Row\"},{\"attributes\":{\"margin\":[5,5,5,5],\"name\":\"HSpacer21232\",\"sizing_mode\":\"stretch_width\"},\"id\":\"10804\",\"type\":\"Spacer\"},{\"attributes\":{\"fill_alpha\":{\"value\":0.1},\"fill_color\":{\"value\":\"#30a2da\"},\"hatch_alpha\":{\"value\":0.1},\"hatch_color\":{\"value\":\"#30a2da\"},\"line_alpha\":{\"value\":0.1},\"top\":{\"field\":\"volume_quote_day\"},\"width\":{\"value\":0.8},\"x\":{\"field\":\"opening_date\"}},\"id\":\"10850\",\"type\":\"VBar\"},{\"attributes\":{\"bottom\":{\"value\":0},\"fill_alpha\":{\"value\":1.0},\"fill_color\":{\"value\":\"#fc4f30\"},\"hatch_alpha\":{\"value\":1.0},\"hatch_color\":{\"value\":\"#fc4f30\"},\"hatch_scale\":{\"value\":12.0},\"hatch_weight\":{\"value\":1.0},\"line_alpha\":{\"value\":1.0},\"line_cap\":{\"value\":\"butt\"},\"line_color\":{\"value\":\"black\"},\"line_dash\":{\"value\":[]},\"line_dash_offset\":{\"value\":0},\"line_join\":{\"value\":\"bevel\"},\"line_width\":{\"value\":1},\"top\":{\"field\":\"volume_quote_day\"},\"width\":{\"value\":0.8},\"x\":{\"field\":\"opening_date\"}},\"id\":\"10886\",\"type\":\"VBar\"},{\"attributes\":{\"coordinates\":null,\"data_source\":{\"id\":\"10866\"},\"glyph\":{\"id\":\"10869\"},\"group\":null,\"hover_glyph\":null,\"muted_glyph\":{\"id\":\"10871\"},\"nonselection_glyph\":{\"id\":\"10870\"},\"selection_glyph\":{\"id\":\"10886\"},\"view\":{\"id\":\"10873\"}},\"id\":\"10872\",\"type\":\"GlyphRenderer\"},{\"attributes\":{\"fill_alpha\":{\"value\":0.2},\"fill_color\":{\"value\":\"#30a2da\"},\"hatch_alpha\":{\"value\":0.2},\"hatch_color\":{\"value\":\"#30a2da\"},\"line_alpha\":{\"value\":0.2},\"top\":{\"field\":\"volume_quote_day\"},\"width\":{\"value\":0.8},\"x\":{\"field\":\"opening_date\"}},\"id\":\"10851\",\"type\":\"VBar\"},{\"attributes\":{},\"id\":\"10825\",\"type\":\"SaveTool\"},{\"attributes\":{\"margin\":[5,5,5,5],\"name\":\"HSpacer21233\",\"sizing_mode\":\"stretch_width\"},\"id\":\"10986\",\"type\":\"Spacer\"},{\"attributes\":{\"bottom\":{\"value\":0},\"fill_alpha\":{\"value\":1.0},\"fill_color\":{\"value\":\"#30a2da\"},\"hatch_alpha\":{\"value\":1.0},\"hatch_color\":{\"value\":\"#30a2da\"},\"hatch_scale\":{\"value\":12.0},\"hatch_weight\":{\"value\":1.0},\"line_alpha\":{\"value\":1.0},\"line_cap\":{\"value\":\"butt\"},\"line_color\":{\"value\":\"black\"},\"line_dash\":{\"value\":[]},\"line_dash_offset\":{\"value\":0},\"line_join\":{\"value\":\"bevel\"},\"line_width\":{\"value\":1},\"top\":{\"field\":\"volume_quote_day\"},\"width\":{\"value\":0.8},\"x\":{\"field\":\"opening_date\"}},\"id\":\"10865\",\"type\":\"VBar\"},{\"attributes\":{},\"id\":\"10826\",\"type\":\"PanTool\"},{\"attributes\":{\"source\":{\"id\":\"10846\"}},\"id\":\"10853\",\"type\":\"CDSView\"},{\"attributes\":{\"source\":{\"id\":\"10866\"}},\"id\":\"10873\",\"type\":\"CDSView\"},{\"attributes\":{},\"id\":\"10827\",\"type\":\"WheelZoomTool\"},{\"attributes\":{\"coordinates\":null,\"group\":null,\"text_color\":\"black\",\"text_font_size\":\"12pt\"},\"id\":\"10810\",\"type\":\"Title\"},{\"attributes\":{},\"id\":\"10839\",\"type\":\"CategoricalTickFormatter\"},{\"attributes\":{},\"id\":\"10882\",\"type\":\"UnionRenderers\"},{\"attributes\":{\"coordinates\":null,\"data_source\":{\"id\":\"10846\"},\"glyph\":{\"id\":\"10849\"},\"group\":null,\"hover_glyph\":null,\"muted_glyph\":{\"id\":\"10851\"},\"nonselection_glyph\":{\"id\":\"10850\"},\"selection_glyph\":{\"id\":\"10865\"},\"view\":{\"id\":\"10853\"}},\"id\":\"10852\",\"type\":\"GlyphRenderer\"},{\"attributes\":{\"click_policy\":\"mute\",\"coordinates\":null,\"group\":null,\"items\":[{\"id\":\"10864\"},{\"id\":\"10885\"}],\"location\":[0,0]},\"id\":\"10863\",\"type\":\"Legend\"},{\"attributes\":{\"overlay\":{\"id\":\"10830\"}},\"id\":\"10828\",\"type\":\"BoxZoomTool\"},{\"attributes\":{},\"id\":\"10860\",\"type\":\"UnionRenderers\"},{\"attributes\":{\"end\":28701085.15942,\"reset_end\":28701085.15942,\"reset_start\":0.0,\"tags\":[[[\"volume_quote_day\",\"volume_quote_day\",null]]]},\"id\":\"10806\",\"type\":\"Range1d\"}],\"root_ids\":[\"10803\"]},\"title\":\"Bokeh Application\",\"version\":\"2.4.1\"}};\n",
       "    var render_items = [{\"docid\":\"d8639020-f048-48f4-bcb7-c7c01914e620\",\"root_ids\":[\"10803\"],\"roots\":{\"10803\":\"cc2140e2-bdd3-41dc-a522-21f2f28ea011\"}}];\n",
       "    root.Bokeh.embed.embed_items_notebook(docs_json, render_items);\n",
       "  }\n",
       "  if (root.Bokeh !== undefined && root.Bokeh.Panel !== undefined) {\n",
       "    embed_document(root);\n",
       "  } else {\n",
       "    var attempts = 0;\n",
       "    var timer = setInterval(function(root) {\n",
       "      if (root.Bokeh !== undefined && root.Bokeh.Panel !== undefined) {\n",
       "        clearInterval(timer);\n",
       "        embed_document(root);\n",
       "      } else if (document.readyState == \"complete\") {\n",
       "        attempts++;\n",
       "        if (attempts > 200) {\n",
       "          clearInterval(timer);\n",
       "          console.log(\"Bokeh: ERROR: Unable to run BokehJS code because BokehJS library is missing\");\n",
       "        }\n",
       "      }\n",
       "    }, 25, root)\n",
       "  }\n",
       "})(window);</script>"
      ],
      "text/plain": [
       ":Overlay\n",
       "   .Bars.A_0xb47e3cd837dDF8e4c57F05d70Ab865de6e193BBB :Bars   [opening_date]   (volume_quote_day)\n",
       "   .Bars.A_0xb7f7f6c52f2e2fdb1963eab30438024864c313f6 :Bars   [opening_date]   (volume_quote_day)"
      ]
     },
     "execution_count": 313,
     "metadata": {
      "application/vnd.holoviews_exec.v0+json": {
       "id": "10803"
      }
     },
     "output_type": "execute_result"
    }
   ],
   "source": [
    "graph2 * graph1"
   ]
  },
  {
   "cell_type": "code",
   "execution_count": 257,
   "id": "e0172e33-c2f9-4291-beb1-0aa0c71bd113",
   "metadata": {},
   "outputs": [
    {
     "data": {
      "text/html": [
       "<div>\n",
       "<style scoped>\n",
       "    .dataframe tbody tr th:only-of-type {\n",
       "        vertical-align: middle;\n",
       "    }\n",
       "\n",
       "    .dataframe tbody tr th {\n",
       "        vertical-align: top;\n",
       "    }\n",
       "\n",
       "    .dataframe thead th {\n",
       "        text-align: right;\n",
       "    }\n",
       "</style>\n",
       "<table border=\"1\" class=\"dataframe\">\n",
       "  <thead>\n",
       "    <tr style=\"text-align: right;\">\n",
       "      <th></th>\n",
       "      <th>opening_date</th>\n",
       "      <th>volume_quote_day</th>\n",
       "    </tr>\n",
       "  </thead>\n",
       "  <tbody>\n",
       "    <tr>\n",
       "      <th>0</th>\n",
       "      <td>2022-03-30</td>\n",
       "      <td>687428.9000</td>\n",
       "    </tr>\n",
       "    <tr>\n",
       "      <th>1</th>\n",
       "      <td>2022-02-03</td>\n",
       "      <td>664.4058</td>\n",
       "    </tr>\n",
       "    <tr>\n",
       "      <th>2</th>\n",
       "      <td>2022-01-17</td>\n",
       "      <td>327752.7500</td>\n",
       "    </tr>\n",
       "  </tbody>\n",
       "</table>\n",
       "</div>"
      ],
      "text/plain": [
       "  opening_date  volume_quote_day\n",
       "0   2022-03-30       687428.9000\n",
       "1   2022-02-03          664.4058\n",
       "2   2022-01-17       327752.7500"
      ]
     },
     "execution_count": 257,
     "metadata": {},
     "output_type": "execute_result"
    }
   ],
   "source": [
    "market_cap_df_graph"
   ]
  },
  {
   "cell_type": "code",
   "execution_count": 261,
   "id": "7c661fef-a829-419a-a623-a3453b978a89",
   "metadata": {},
   "outputs": [
    {
     "data": {
      "text/html": [
       "<div>\n",
       "<style scoped>\n",
       "    .dataframe tbody tr th:only-of-type {\n",
       "        vertical-align: middle;\n",
       "    }\n",
       "\n",
       "    .dataframe tbody tr th {\n",
       "        vertical-align: top;\n",
       "    }\n",
       "\n",
       "    .dataframe thead th {\n",
       "        text-align: right;\n",
       "    }\n",
       "</style>\n",
       "<table border=\"1\" class=\"dataframe\">\n",
       "  <thead>\n",
       "    <tr style=\"text-align: right;\">\n",
       "      <th></th>\n",
       "      <th>opening_date</th>\n",
       "      <th>volume_quote_day</th>\n",
       "    </tr>\n",
       "  </thead>\n",
       "  <tbody>\n",
       "    <tr>\n",
       "      <th>0</th>\n",
       "      <td>2022-03-05</td>\n",
       "      <td>551644.44</td>\n",
       "    </tr>\n",
       "    <tr>\n",
       "      <th>1</th>\n",
       "      <td>2022-03-04</td>\n",
       "      <td>840630.56</td>\n",
       "    </tr>\n",
       "    <tr>\n",
       "      <th>2</th>\n",
       "      <td>2022-03-03</td>\n",
       "      <td>1278073.00</td>\n",
       "    </tr>\n",
       "    <tr>\n",
       "      <th>3</th>\n",
       "      <td>2022-03-02</td>\n",
       "      <td>2318514.80</td>\n",
       "    </tr>\n",
       "    <tr>\n",
       "      <th>4</th>\n",
       "      <td>2022-03-01</td>\n",
       "      <td>838124.90</td>\n",
       "    </tr>\n",
       "    <tr>\n",
       "      <th>5</th>\n",
       "      <td>2022-02-28</td>\n",
       "      <td>1558525.60</td>\n",
       "    </tr>\n",
       "    <tr>\n",
       "      <th>6</th>\n",
       "      <td>2022-02-27</td>\n",
       "      <td>2744192.20</td>\n",
       "    </tr>\n",
       "    <tr>\n",
       "      <th>7</th>\n",
       "      <td>2022-02-26</td>\n",
       "      <td>1657530.80</td>\n",
       "    </tr>\n",
       "    <tr>\n",
       "      <th>8</th>\n",
       "      <td>2022-02-25</td>\n",
       "      <td>1379570.10</td>\n",
       "    </tr>\n",
       "    <tr>\n",
       "      <th>9</th>\n",
       "      <td>2022-02-24</td>\n",
       "      <td>1561037.60</td>\n",
       "    </tr>\n",
       "    <tr>\n",
       "      <th>10</th>\n",
       "      <td>2022-02-23</td>\n",
       "      <td>875847.70</td>\n",
       "    </tr>\n",
       "    <tr>\n",
       "      <th>11</th>\n",
       "      <td>2022-02-22</td>\n",
       "      <td>741555.30</td>\n",
       "    </tr>\n",
       "    <tr>\n",
       "      <th>12</th>\n",
       "      <td>2022-02-21</td>\n",
       "      <td>936604.06</td>\n",
       "    </tr>\n",
       "    <tr>\n",
       "      <th>13</th>\n",
       "      <td>2022-02-20</td>\n",
       "      <td>1138175.60</td>\n",
       "    </tr>\n",
       "    <tr>\n",
       "      <th>14</th>\n",
       "      <td>2022-02-19</td>\n",
       "      <td>811989.30</td>\n",
       "    </tr>\n",
       "    <tr>\n",
       "      <th>15</th>\n",
       "      <td>2022-02-18</td>\n",
       "      <td>803135.25</td>\n",
       "    </tr>\n",
       "    <tr>\n",
       "      <th>16</th>\n",
       "      <td>2022-02-17</td>\n",
       "      <td>483340.44</td>\n",
       "    </tr>\n",
       "    <tr>\n",
       "      <th>17</th>\n",
       "      <td>2022-02-16</td>\n",
       "      <td>242498.38</td>\n",
       "    </tr>\n",
       "    <tr>\n",
       "      <th>18</th>\n",
       "      <td>2022-02-15</td>\n",
       "      <td>562583.25</td>\n",
       "    </tr>\n",
       "    <tr>\n",
       "      <th>19</th>\n",
       "      <td>2022-02-14</td>\n",
       "      <td>1095827.40</td>\n",
       "    </tr>\n",
       "    <tr>\n",
       "      <th>20</th>\n",
       "      <td>2022-02-13</td>\n",
       "      <td>4883935.00</td>\n",
       "    </tr>\n",
       "    <tr>\n",
       "      <th>21</th>\n",
       "      <td>2022-02-12</td>\n",
       "      <td>26091956.00</td>\n",
       "    </tr>\n",
       "    <tr>\n",
       "      <th>22</th>\n",
       "      <td>2022-02-11</td>\n",
       "      <td>1518155.80</td>\n",
       "    </tr>\n",
       "    <tr>\n",
       "      <th>23</th>\n",
       "      <td>2022-02-10</td>\n",
       "      <td>954861.56</td>\n",
       "    </tr>\n",
       "    <tr>\n",
       "      <th>24</th>\n",
       "      <td>2022-02-09</td>\n",
       "      <td>10740849.00</td>\n",
       "    </tr>\n",
       "    <tr>\n",
       "      <th>25</th>\n",
       "      <td>2022-02-08</td>\n",
       "      <td>2002776.50</td>\n",
       "    </tr>\n",
       "    <tr>\n",
       "      <th>26</th>\n",
       "      <td>2022-02-07</td>\n",
       "      <td>3208789.50</td>\n",
       "    </tr>\n",
       "    <tr>\n",
       "      <th>27</th>\n",
       "      <td>2022-02-06</td>\n",
       "      <td>1688240.90</td>\n",
       "    </tr>\n",
       "    <tr>\n",
       "      <th>28</th>\n",
       "      <td>2022-02-05</td>\n",
       "      <td>2071906.40</td>\n",
       "    </tr>\n",
       "    <tr>\n",
       "      <th>29</th>\n",
       "      <td>2022-02-04</td>\n",
       "      <td>1258645.80</td>\n",
       "    </tr>\n",
       "    <tr>\n",
       "      <th>30</th>\n",
       "      <td>2022-02-03</td>\n",
       "      <td>1496614.00</td>\n",
       "    </tr>\n",
       "    <tr>\n",
       "      <th>31</th>\n",
       "      <td>2022-02-02</td>\n",
       "      <td>4183062.80</td>\n",
       "    </tr>\n",
       "    <tr>\n",
       "      <th>32</th>\n",
       "      <td>2022-02-01</td>\n",
       "      <td>3273159.80</td>\n",
       "    </tr>\n",
       "    <tr>\n",
       "      <th>33</th>\n",
       "      <td>2022-01-31</td>\n",
       "      <td>5861583.00</td>\n",
       "    </tr>\n",
       "    <tr>\n",
       "      <th>34</th>\n",
       "      <td>2022-01-30</td>\n",
       "      <td>5536912.00</td>\n",
       "    </tr>\n",
       "    <tr>\n",
       "      <th>35</th>\n",
       "      <td>2022-01-29</td>\n",
       "      <td>3218150.80</td>\n",
       "    </tr>\n",
       "    <tr>\n",
       "      <th>36</th>\n",
       "      <td>2022-01-28</td>\n",
       "      <td>9757865.00</td>\n",
       "    </tr>\n",
       "    <tr>\n",
       "      <th>37</th>\n",
       "      <td>2022-01-27</td>\n",
       "      <td>2360059.20</td>\n",
       "    </tr>\n",
       "    <tr>\n",
       "      <th>38</th>\n",
       "      <td>2022-01-26</td>\n",
       "      <td>8824954.00</td>\n",
       "    </tr>\n",
       "    <tr>\n",
       "      <th>39</th>\n",
       "      <td>2022-01-25</td>\n",
       "      <td>20412048.00</td>\n",
       "    </tr>\n",
       "  </tbody>\n",
       "</table>\n",
       "</div>"
      ],
      "text/plain": [
       "   opening_date  volume_quote_day\n",
       "0    2022-03-05         551644.44\n",
       "1    2022-03-04         840630.56\n",
       "2    2022-03-03        1278073.00\n",
       "3    2022-03-02        2318514.80\n",
       "4    2022-03-01         838124.90\n",
       "5    2022-02-28        1558525.60\n",
       "6    2022-02-27        2744192.20\n",
       "7    2022-02-26        1657530.80\n",
       "8    2022-02-25        1379570.10\n",
       "9    2022-02-24        1561037.60\n",
       "10   2022-02-23         875847.70\n",
       "11   2022-02-22         741555.30\n",
       "12   2022-02-21         936604.06\n",
       "13   2022-02-20        1138175.60\n",
       "14   2022-02-19         811989.30\n",
       "15   2022-02-18         803135.25\n",
       "16   2022-02-17         483340.44\n",
       "17   2022-02-16         242498.38\n",
       "18   2022-02-15         562583.25\n",
       "19   2022-02-14        1095827.40\n",
       "20   2022-02-13        4883935.00\n",
       "21   2022-02-12       26091956.00\n",
       "22   2022-02-11        1518155.80\n",
       "23   2022-02-10         954861.56\n",
       "24   2022-02-09       10740849.00\n",
       "25   2022-02-08        2002776.50\n",
       "26   2022-02-07        3208789.50\n",
       "27   2022-02-06        1688240.90\n",
       "28   2022-02-05        2071906.40\n",
       "29   2022-02-04        1258645.80\n",
       "30   2022-02-03        1496614.00\n",
       "31   2022-02-02        4183062.80\n",
       "32   2022-02-01        3273159.80\n",
       "33   2022-01-31        5861583.00\n",
       "34   2022-01-30        5536912.00\n",
       "35   2022-01-29        3218150.80\n",
       "36   2022-01-28        9757865.00\n",
       "37   2022-01-27        2360059.20\n",
       "38   2022-01-26        8824954.00\n",
       "39   2022-01-25       20412048.00"
      ]
     },
     "execution_count": 261,
     "metadata": {},
     "output_type": "execute_result"
    }
   ],
   "source": [
    "market_cap_df_graph_2"
   ]
  },
  {
   "cell_type": "code",
   "execution_count": 267,
   "id": "c5b8b460-f228-411e-b3ac-fca808830b32",
   "metadata": {},
   "outputs": [
    {
     "data": {
      "text/html": [
       "<div>\n",
       "<style scoped>\n",
       "    .dataframe tbody tr th:only-of-type {\n",
       "        vertical-align: middle;\n",
       "    }\n",
       "\n",
       "    .dataframe tbody tr th {\n",
       "        vertical-align: top;\n",
       "    }\n",
       "\n",
       "    .dataframe thead th {\n",
       "        text-align: right;\n",
       "    }\n",
       "</style>\n",
       "<table border=\"1\" class=\"dataframe\">\n",
       "  <thead>\n",
       "    <tr style=\"text-align: right;\">\n",
       "      <th></th>\n",
       "      <th>opening_date</th>\n",
       "      <th>volume_quote_day</th>\n",
       "    </tr>\n",
       "  </thead>\n",
       "  <tbody>\n",
       "    <tr>\n",
       "      <th>0</th>\n",
       "      <td>2022-03-30</td>\n",
       "      <td>687428.9000</td>\n",
       "    </tr>\n",
       "    <tr>\n",
       "      <th>1</th>\n",
       "      <td>2022-02-03</td>\n",
       "      <td>664.4058</td>\n",
       "    </tr>\n",
       "    <tr>\n",
       "      <th>2</th>\n",
       "      <td>2022-01-17</td>\n",
       "      <td>327752.7500</td>\n",
       "    </tr>\n",
       "  </tbody>\n",
       "</table>\n",
       "</div>"
      ],
      "text/plain": [
       "  opening_date  volume_quote_day\n",
       "0   2022-03-30       687428.9000\n",
       "1   2022-02-03          664.4058\n",
       "2   2022-01-17       327752.7500"
      ]
     },
     "execution_count": 267,
     "metadata": {},
     "output_type": "execute_result"
    }
   ],
   "source": [
    "market_cap_df_graph"
   ]
  },
  {
   "cell_type": "code",
   "execution_count": 268,
   "id": "7c2fcc88-160e-4bad-b379-13ff94aeee93",
   "metadata": {},
   "outputs": [],
   "source": [
    "market_cap_df_graph['Token'] = '0xb7f7f6c52f2e2fdb1963eab30438024864c313f6'"
   ]
  },
  {
   "cell_type": "code",
   "execution_count": 269,
   "id": "80897766-04a8-4eff-8a9e-3a0270c8fb3d",
   "metadata": {},
   "outputs": [
    {
     "data": {
      "text/html": [
       "<div>\n",
       "<style scoped>\n",
       "    .dataframe tbody tr th:only-of-type {\n",
       "        vertical-align: middle;\n",
       "    }\n",
       "\n",
       "    .dataframe tbody tr th {\n",
       "        vertical-align: top;\n",
       "    }\n",
       "\n",
       "    .dataframe thead th {\n",
       "        text-align: right;\n",
       "    }\n",
       "</style>\n",
       "<table border=\"1\" class=\"dataframe\">\n",
       "  <thead>\n",
       "    <tr style=\"text-align: right;\">\n",
       "      <th></th>\n",
       "      <th>opening_date</th>\n",
       "      <th>volume_quote_day</th>\n",
       "      <th>Token</th>\n",
       "    </tr>\n",
       "  </thead>\n",
       "  <tbody>\n",
       "    <tr>\n",
       "      <th>0</th>\n",
       "      <td>2022-03-30</td>\n",
       "      <td>687428.9000</td>\n",
       "      <td>0xb7f7f6c52f2e2fdb1963eab30438024864c313f6</td>\n",
       "    </tr>\n",
       "    <tr>\n",
       "      <th>1</th>\n",
       "      <td>2022-02-03</td>\n",
       "      <td>664.4058</td>\n",
       "      <td>0xb7f7f6c52f2e2fdb1963eab30438024864c313f6</td>\n",
       "    </tr>\n",
       "    <tr>\n",
       "      <th>2</th>\n",
       "      <td>2022-01-17</td>\n",
       "      <td>327752.7500</td>\n",
       "      <td>0xb7f7f6c52f2e2fdb1963eab30438024864c313f6</td>\n",
       "    </tr>\n",
       "  </tbody>\n",
       "</table>\n",
       "</div>"
      ],
      "text/plain": [
       "  opening_date  volume_quote_day                                       Token\n",
       "0   2022-03-30       687428.9000  0xb7f7f6c52f2e2fdb1963eab30438024864c313f6\n",
       "1   2022-02-03          664.4058  0xb7f7f6c52f2e2fdb1963eab30438024864c313f6\n",
       "2   2022-01-17       327752.7500  0xb7f7f6c52f2e2fdb1963eab30438024864c313f6"
      ]
     },
     "execution_count": 269,
     "metadata": {},
     "output_type": "execute_result"
    }
   ],
   "source": [
    "market_cap_df_graph"
   ]
  },
  {
   "cell_type": "code",
   "execution_count": 277,
   "id": "9fa94fc7-526d-44b3-bd8c-cb2e6ed8d4ca",
   "metadata": {},
   "outputs": [],
   "source": [
    "market_cap_df_graph_2['Token'] = '0xb47e3cd837dDF8e4c57F05d70Ab865de6e193BBB'"
   ]
  },
  {
   "cell_type": "code",
   "execution_count": 278,
   "id": "97d9de32-52bb-48f3-8a76-057ee56b82ac",
   "metadata": {},
   "outputs": [
    {
     "data": {
      "text/html": [
       "<div>\n",
       "<style scoped>\n",
       "    .dataframe tbody tr th:only-of-type {\n",
       "        vertical-align: middle;\n",
       "    }\n",
       "\n",
       "    .dataframe tbody tr th {\n",
       "        vertical-align: top;\n",
       "    }\n",
       "\n",
       "    .dataframe thead th {\n",
       "        text-align: right;\n",
       "    }\n",
       "</style>\n",
       "<table border=\"1\" class=\"dataframe\">\n",
       "  <thead>\n",
       "    <tr style=\"text-align: right;\">\n",
       "      <th></th>\n",
       "      <th>opening_date</th>\n",
       "      <th>volume_quote_day</th>\n",
       "      <th>Token</th>\n",
       "    </tr>\n",
       "  </thead>\n",
       "  <tbody>\n",
       "    <tr>\n",
       "      <th>0</th>\n",
       "      <td>2022-03-05</td>\n",
       "      <td>551644.44</td>\n",
       "      <td>0xb47e3cd837dDF8e4c57F05d70Ab865de6e193BBB</td>\n",
       "    </tr>\n",
       "    <tr>\n",
       "      <th>1</th>\n",
       "      <td>2022-03-04</td>\n",
       "      <td>840630.56</td>\n",
       "      <td>0xb47e3cd837dDF8e4c57F05d70Ab865de6e193BBB</td>\n",
       "    </tr>\n",
       "    <tr>\n",
       "      <th>2</th>\n",
       "      <td>2022-03-03</td>\n",
       "      <td>1278073.00</td>\n",
       "      <td>0xb47e3cd837dDF8e4c57F05d70Ab865de6e193BBB</td>\n",
       "    </tr>\n",
       "    <tr>\n",
       "      <th>3</th>\n",
       "      <td>2022-03-02</td>\n",
       "      <td>2318514.80</td>\n",
       "      <td>0xb47e3cd837dDF8e4c57F05d70Ab865de6e193BBB</td>\n",
       "    </tr>\n",
       "    <tr>\n",
       "      <th>4</th>\n",
       "      <td>2022-03-01</td>\n",
       "      <td>838124.90</td>\n",
       "      <td>0xb47e3cd837dDF8e4c57F05d70Ab865de6e193BBB</td>\n",
       "    </tr>\n",
       "  </tbody>\n",
       "</table>\n",
       "</div>"
      ],
      "text/plain": [
       "  opening_date  volume_quote_day                                       Token\n",
       "0   2022-03-05         551644.44  0xb47e3cd837dDF8e4c57F05d70Ab865de6e193BBB\n",
       "1   2022-03-04         840630.56  0xb47e3cd837dDF8e4c57F05d70Ab865de6e193BBB\n",
       "2   2022-03-03        1278073.00  0xb47e3cd837dDF8e4c57F05d70Ab865de6e193BBB\n",
       "3   2022-03-02        2318514.80  0xb47e3cd837dDF8e4c57F05d70Ab865de6e193BBB\n",
       "4   2022-03-01         838124.90  0xb47e3cd837dDF8e4c57F05d70Ab865de6e193BBB"
      ]
     },
     "execution_count": 278,
     "metadata": {},
     "output_type": "execute_result"
    }
   ],
   "source": [
    "market_cap_df_graph_2.head()"
   ]
  },
  {
   "cell_type": "code",
   "execution_count": 290,
   "id": "5380d5b5-e3b1-4656-b467-1ba8ae8b66ee",
   "metadata": {},
   "outputs": [],
   "source": [
    "#combine dataframes into a single df\n",
    "combined_df = pd.concat([market_cap_df_graph, market_cap_df_graph_2], join=\"outer\", ignore_index=False)\n"
   ]
  },
  {
   "cell_type": "code",
   "execution_count": 291,
   "id": "3d5c51d0-8798-4166-bff3-107322b626a3",
   "metadata": {},
   "outputs": [
    {
     "data": {
      "text/html": [
       "<div>\n",
       "<style scoped>\n",
       "    .dataframe tbody tr th:only-of-type {\n",
       "        vertical-align: middle;\n",
       "    }\n",
       "\n",
       "    .dataframe tbody tr th {\n",
       "        vertical-align: top;\n",
       "    }\n",
       "\n",
       "    .dataframe thead th {\n",
       "        text-align: right;\n",
       "    }\n",
       "</style>\n",
       "<table border=\"1\" class=\"dataframe\">\n",
       "  <thead>\n",
       "    <tr style=\"text-align: right;\">\n",
       "      <th></th>\n",
       "      <th>opening_date</th>\n",
       "      <th>volume_quote_day</th>\n",
       "      <th>Token</th>\n",
       "    </tr>\n",
       "  </thead>\n",
       "  <tbody>\n",
       "    <tr>\n",
       "      <th>0</th>\n",
       "      <td>2022-03-30</td>\n",
       "      <td>687428.9000</td>\n",
       "      <td>0xb7f7f6c52f2e2fdb1963eab30438024864c313f6</td>\n",
       "    </tr>\n",
       "    <tr>\n",
       "      <th>1</th>\n",
       "      <td>2022-02-03</td>\n",
       "      <td>664.4058</td>\n",
       "      <td>0xb7f7f6c52f2e2fdb1963eab30438024864c313f6</td>\n",
       "    </tr>\n",
       "    <tr>\n",
       "      <th>2</th>\n",
       "      <td>2022-01-17</td>\n",
       "      <td>327752.7500</td>\n",
       "      <td>0xb7f7f6c52f2e2fdb1963eab30438024864c313f6</td>\n",
       "    </tr>\n",
       "    <tr>\n",
       "      <th>0</th>\n",
       "      <td>2022-03-05</td>\n",
       "      <td>551644.4400</td>\n",
       "      <td>0xb47e3cd837dDF8e4c57F05d70Ab865de6e193BBB</td>\n",
       "    </tr>\n",
       "    <tr>\n",
       "      <th>1</th>\n",
       "      <td>2022-03-04</td>\n",
       "      <td>840630.5600</td>\n",
       "      <td>0xb47e3cd837dDF8e4c57F05d70Ab865de6e193BBB</td>\n",
       "    </tr>\n",
       "  </tbody>\n",
       "</table>\n",
       "</div>"
      ],
      "text/plain": [
       "  opening_date  volume_quote_day                                       Token\n",
       "0   2022-03-30       687428.9000  0xb7f7f6c52f2e2fdb1963eab30438024864c313f6\n",
       "1   2022-02-03          664.4058  0xb7f7f6c52f2e2fdb1963eab30438024864c313f6\n",
       "2   2022-01-17       327752.7500  0xb7f7f6c52f2e2fdb1963eab30438024864c313f6\n",
       "0   2022-03-05       551644.4400  0xb47e3cd837dDF8e4c57F05d70Ab865de6e193BBB\n",
       "1   2022-03-04       840630.5600  0xb47e3cd837dDF8e4c57F05d70Ab865de6e193BBB"
      ]
     },
     "execution_count": 291,
     "metadata": {},
     "output_type": "execute_result"
    }
   ],
   "source": [
    "#validate data\n",
    "combined_df.head()"
   ]
  },
  {
   "cell_type": "code",
   "execution_count": 312,
   "id": "1055286f-b044-49f8-875a-4126bea9fb31",
   "metadata": {},
   "outputs": [
    {
     "data": {},
     "metadata": {},
     "output_type": "display_data"
    },
    {
     "data": {
      "application/vnd.holoviews_exec.v0+json": "",
      "text/html": [
       "<div id='10563'>\n",
       "\n",
       "\n",
       "\n",
       "\n",
       "\n",
       "  <div class=\"bk-root\" id=\"73a07faf-ec27-4495-9729-13e696487d33\" data-root-id=\"10563\"></div>\n",
       "</div>\n",
       "<script type=\"application/javascript\">(function(root) {\n",
       "  function embed_document(root) {\n",
       "    var docs_json = {\"ca9438cc-3815-41eb-b5db-3ab57608f8fc\":{\"defs\":[{\"extends\":null,\"module\":null,\"name\":\"ReactiveHTML1\",\"overrides\":[],\"properties\":[]},{\"extends\":null,\"module\":null,\"name\":\"FlexBox1\",\"overrides\":[],\"properties\":[{\"default\":\"flex-start\",\"kind\":null,\"name\":\"align_content\"},{\"default\":\"flex-start\",\"kind\":null,\"name\":\"align_items\"},{\"default\":\"row\",\"kind\":null,\"name\":\"flex_direction\"},{\"default\":\"wrap\",\"kind\":null,\"name\":\"flex_wrap\"},{\"default\":\"flex-start\",\"kind\":null,\"name\":\"justify_content\"}]},{\"extends\":null,\"module\":null,\"name\":\"TemplateActions1\",\"overrides\":[],\"properties\":[{\"default\":0,\"kind\":null,\"name\":\"open_modal\"},{\"default\":0,\"kind\":null,\"name\":\"close_modal\"}]},{\"extends\":null,\"module\":null,\"name\":\"MaterialTemplateActions1\",\"overrides\":[],\"properties\":[{\"default\":0,\"kind\":null,\"name\":\"open_modal\"},{\"default\":0,\"kind\":null,\"name\":\"close_modal\"}]}],\"roots\":{\"references\":[{\"attributes\":{\"fill_color\":{\"value\":\"#fc4f30\"},\"hatch_color\":{\"value\":\"#fc4f30\"},\"line_color\":{\"value\":\"#fc4f30\"},\"size\":{\"value\":5.477225575051661},\"x\":{\"field\":\"opening_date\"},\"y\":{\"field\":\"volume_quote_day\"}},\"id\":\"10629\",\"type\":\"Scatter\"},{\"attributes\":{\"axis\":{\"id\":\"10581\"},\"coordinates\":null,\"dimension\":1,\"grid_line_color\":null,\"group\":null,\"ticker\":null},\"id\":\"10584\",\"type\":\"Grid\"},{\"attributes\":{},\"id\":\"10582\",\"type\":\"BasicTicker\"},{\"attributes\":{\"axis\":{\"id\":\"10578\"},\"coordinates\":null,\"grid_line_color\":null,\"group\":null,\"ticker\":null},\"id\":\"10580\",\"type\":\"Grid\"},{\"attributes\":{},\"id\":\"10600\",\"type\":\"AllLabels\"},{\"attributes\":{\"margin\":[5,5,5,5],\"name\":\"HSpacer20873\",\"sizing_mode\":\"stretch_width\"},\"id\":\"10564\",\"type\":\"Spacer\"},{\"attributes\":{\"angle\":{\"value\":0.0},\"fill_alpha\":{\"value\":1.0},\"fill_color\":{\"value\":\"#fc4f30\"},\"hatch_alpha\":{\"value\":1.0},\"hatch_color\":{\"value\":\"#fc4f30\"},\"hatch_scale\":{\"value\":12.0},\"hatch_weight\":{\"value\":1.0},\"line_alpha\":{\"value\":1.0},\"line_cap\":{\"value\":\"butt\"},\"line_color\":{\"value\":\"#fc4f30\"},\"line_dash\":{\"value\":[]},\"line_dash_offset\":{\"value\":0},\"line_join\":{\"value\":\"bevel\"},\"line_width\":{\"value\":1},\"marker\":{\"value\":\"circle\"},\"size\":{\"value\":5.477225575051661},\"x\":{\"field\":\"opening_date\"},\"y\":{\"field\":\"volume_quote_day\"}},\"id\":\"10646\",\"type\":\"Scatter\"},{\"attributes\":{\"fill_alpha\":{\"value\":0.1},\"fill_color\":{\"value\":\"#30a2da\"},\"hatch_alpha\":{\"value\":0.1},\"hatch_color\":{\"value\":\"#30a2da\"},\"line_alpha\":{\"value\":0.1},\"line_color\":{\"value\":\"#30a2da\"},\"size\":{\"value\":5.477225575051661},\"x\":{\"field\":\"opening_date\"},\"y\":{\"field\":\"volume_quote_day\"}},\"id\":\"10610\",\"type\":\"Scatter\"},{\"attributes\":{},\"id\":\"10579\",\"type\":\"CategoricalTicker\"},{\"attributes\":{\"tools\":[{\"id\":\"10567\"},{\"id\":\"10585\"},{\"id\":\"10586\"},{\"id\":\"10587\"},{\"id\":\"10588\"},{\"id\":\"10589\"}]},\"id\":\"10591\",\"type\":\"Toolbar\"},{\"attributes\":{\"data\":{\"Token\":[\"0xb47e3cd837dDF8e4c57F05d70Ab865de6e193BBB\",\"0xb47e3cd837dDF8e4c57F05d70Ab865de6e193BBB\",\"0xb47e3cd837dDF8e4c57F05d70Ab865de6e193BBB\",\"0xb47e3cd837dDF8e4c57F05d70Ab865de6e193BBB\",\"0xb47e3cd837dDF8e4c57F05d70Ab865de6e193BBB\",\"0xb47e3cd837dDF8e4c57F05d70Ab865de6e193BBB\",\"0xb47e3cd837dDF8e4c57F05d70Ab865de6e193BBB\",\"0xb47e3cd837dDF8e4c57F05d70Ab865de6e193BBB\",\"0xb47e3cd837dDF8e4c57F05d70Ab865de6e193BBB\",\"0xb47e3cd837dDF8e4c57F05d70Ab865de6e193BBB\",\"0xb47e3cd837dDF8e4c57F05d70Ab865de6e193BBB\",\"0xb47e3cd837dDF8e4c57F05d70Ab865de6e193BBB\",\"0xb47e3cd837dDF8e4c57F05d70Ab865de6e193BBB\",\"0xb47e3cd837dDF8e4c57F05d70Ab865de6e193BBB\",\"0xb47e3cd837dDF8e4c57F05d70Ab865de6e193BBB\",\"0xb47e3cd837dDF8e4c57F05d70Ab865de6e193BBB\",\"0xb47e3cd837dDF8e4c57F05d70Ab865de6e193BBB\",\"0xb47e3cd837dDF8e4c57F05d70Ab865de6e193BBB\",\"0xb47e3cd837dDF8e4c57F05d70Ab865de6e193BBB\",\"0xb47e3cd837dDF8e4c57F05d70Ab865de6e193BBB\",\"0xb47e3cd837dDF8e4c57F05d70Ab865de6e193BBB\",\"0xb47e3cd837dDF8e4c57F05d70Ab865de6e193BBB\",\"0xb47e3cd837dDF8e4c57F05d70Ab865de6e193BBB\",\"0xb47e3cd837dDF8e4c57F05d70Ab865de6e193BBB\",\"0xb47e3cd837dDF8e4c57F05d70Ab865de6e193BBB\",\"0xb47e3cd837dDF8e4c57F05d70Ab865de6e193BBB\",\"0xb47e3cd837dDF8e4c57F05d70Ab865de6e193BBB\",\"0xb47e3cd837dDF8e4c57F05d70Ab865de6e193BBB\",\"0xb47e3cd837dDF8e4c57F05d70Ab865de6e193BBB\",\"0xb47e3cd837dDF8e4c57F05d70Ab865de6e193BBB\",\"0xb47e3cd837dDF8e4c57F05d70Ab865de6e193BBB\",\"0xb47e3cd837dDF8e4c57F05d70Ab865de6e193BBB\",\"0xb47e3cd837dDF8e4c57F05d70Ab865de6e193BBB\",\"0xb47e3cd837dDF8e4c57F05d70Ab865de6e193BBB\",\"0xb47e3cd837dDF8e4c57F05d70Ab865de6e193BBB\",\"0xb47e3cd837dDF8e4c57F05d70Ab865de6e193BBB\",\"0xb47e3cd837dDF8e4c57F05d70Ab865de6e193BBB\",\"0xb47e3cd837dDF8e4c57F05d70Ab865de6e193BBB\",\"0xb47e3cd837dDF8e4c57F05d70Ab865de6e193BBB\",\"0xb47e3cd837dDF8e4c57F05d70Ab865de6e193BBB\"],\"opening_date\":[\"2022-03-05\",\"2022-03-04\",\"2022-03-03\",\"2022-03-02\",\"2022-03-01\",\"2022-02-28\",\"2022-02-27\",\"2022-02-26\",\"2022-02-25\",\"2022-02-24\",\"2022-02-23\",\"2022-02-22\",\"2022-02-21\",\"2022-02-20\",\"2022-02-19\",\"2022-02-18\",\"2022-02-17\",\"2022-02-16\",\"2022-02-15\",\"2022-02-14\",\"2022-02-13\",\"2022-02-12\",\"2022-02-11\",\"2022-02-10\",\"2022-02-09\",\"2022-02-08\",\"2022-02-07\",\"2022-02-06\",\"2022-02-05\",\"2022-02-04\",\"2022-02-03\",\"2022-02-02\",\"2022-02-01\",\"2022-01-31\",\"2022-01-30\",\"2022-01-29\",\"2022-01-28\",\"2022-01-27\",\"2022-01-26\",\"2022-01-25\"],\"volume_quote_day\":{\"__ndarray__\":\"FK5H4bjVIEHsUbgebacpQQAAAAB5gDNBZmZmZlmwQUHNzMzM2ZMpQZqZmZn9xzdBmpmZGcDvREHNzMzMuko5QZqZmRnyDDVBmpmZmc3RN0FmZmZmj7oqQZqZmZlmoSZB7FG4HjiVLEGamZmZ/10xQZqZmZmqxyhBAAAAgH6CKEEpXI/CMYAdQaRwPQoTmg1BAAAAgC4rIUFmZmZmk7gwQQAAAMB3oVJBAAAAQBvieEHNzMzMSyo3QexRuB7bIy1BAAAAII58ZEEAAACAWI8+QQAAAMAqe0hBZmZm5rDCOUFmZmZmYp0/Qc3MzMyVNDNBAAAAACbWNkFmZmZmC+pPQWZmZubj+EhBAAAAwDNcVkEAAAAAJB9VQWZmZmZzjUhBAAAAIJWcYkGamZmZfQFCQQAAAEAP1WBBAAAAAGl3c0E=\",\"dtype\":\"float64\",\"order\":\"little\",\"shape\":[40]}},\"selected\":{\"id\":\"10607\"},\"selection_policy\":{\"id\":\"10620\"}},\"id\":\"10606\",\"type\":\"ColumnDataSource\"},{\"attributes\":{\"angle\":{\"value\":0.0},\"fill_alpha\":{\"value\":1.0},\"fill_color\":{\"value\":\"#30a2da\"},\"hatch_alpha\":{\"value\":1.0},\"hatch_color\":{\"value\":\"#30a2da\"},\"hatch_scale\":{\"value\":12.0},\"hatch_weight\":{\"value\":1.0},\"line_alpha\":{\"value\":1.0},\"line_cap\":{\"value\":\"butt\"},\"line_color\":{\"value\":\"#30a2da\"},\"line_dash\":{\"value\":[]},\"line_dash_offset\":{\"value\":0},\"line_join\":{\"value\":\"bevel\"},\"line_width\":{\"value\":1},\"marker\":{\"value\":\"circle\"},\"size\":{\"value\":5.477225575051661},\"x\":{\"field\":\"opening_date\"},\"y\":{\"field\":\"volume_quote_day\"}},\"id\":\"10625\",\"type\":\"Scatter\"},{\"attributes\":{\"callback\":null,\"renderers\":[{\"id\":\"10612\"},{\"id\":\"10632\"}],\"tags\":[\"hv_created\"],\"tooltips\":[[\"Token\",\"@{Token}\"],[\"opening_date\",\"@{opening_date}\"],[\"volume_quote_day\",\"@{volume_quote_day}\"]]},\"id\":\"10567\",\"type\":\"HoverTool\"},{\"attributes\":{},\"id\":\"10607\",\"type\":\"Selection\"},{\"attributes\":{\"margin\":[5,5,5,5],\"name\":\"HSpacer20874\",\"sizing_mode\":\"stretch_width\"},\"id\":\"10746\",\"type\":\"Spacer\"},{\"attributes\":{},\"id\":\"10576\",\"type\":\"LinearScale\"},{\"attributes\":{\"coordinates\":null,\"group\":null,\"text\":\"Combined Analysis\",\"text_color\":\"black\",\"text_font_size\":\"12pt\"},\"id\":\"10570\",\"type\":\"Title\"},{\"attributes\":{\"axis_label\":\"Date\",\"coordinates\":null,\"formatter\":{\"id\":\"10599\"},\"group\":null,\"major_label_orientation\":1.5707963267948966,\"major_label_policy\":{\"id\":\"10600\"},\"ticker\":{\"id\":\"10579\"}},\"id\":\"10578\",\"type\":\"CategoricalAxis\"},{\"attributes\":{},\"id\":\"10585\",\"type\":\"SaveTool\"},{\"attributes\":{},\"id\":\"10586\",\"type\":\"PanTool\"},{\"attributes\":{},\"id\":\"10589\",\"type\":\"ResetTool\"},{\"attributes\":{},\"id\":\"10574\",\"type\":\"CategoricalScale\"},{\"attributes\":{\"source\":{\"id\":\"10626\"}},\"id\":\"10633\",\"type\":\"CDSView\"},{\"attributes\":{},\"id\":\"10587\",\"type\":\"WheelZoomTool\"},{\"attributes\":{},\"id\":\"10642\",\"type\":\"UnionRenderers\"},{\"attributes\":{\"below\":[{\"id\":\"10578\"}],\"center\":[{\"id\":\"10580\"},{\"id\":\"10584\"}],\"left\":[{\"id\":\"10581\"}],\"margin\":[5,5,5,5],\"min_border_bottom\":10,\"min_border_left\":10,\"min_border_right\":10,\"min_border_top\":10,\"renderers\":[{\"id\":\"10612\"},{\"id\":\"10632\"}],\"right\":[{\"id\":\"10623\"}],\"sizing_mode\":\"fixed\",\"title\":{\"id\":\"10570\"},\"toolbar\":{\"id\":\"10591\"},\"width\":1000,\"x_range\":{\"id\":\"10565\"},\"x_scale\":{\"id\":\"10574\"},\"y_range\":{\"id\":\"10566\"},\"y_scale\":{\"id\":\"10576\"}},\"id\":\"10569\",\"subtype\":\"Figure\",\"type\":\"Plot\"},{\"attributes\":{\"bottom_units\":\"screen\",\"coordinates\":null,\"fill_alpha\":0.5,\"fill_color\":\"lightgrey\",\"group\":null,\"left_units\":\"screen\",\"level\":\"overlay\",\"line_alpha\":1.0,\"line_color\":\"black\",\"line_dash\":[4,4],\"line_width\":2,\"right_units\":\"screen\",\"syncable\":false,\"top_units\":\"screen\"},\"id\":\"10590\",\"type\":\"BoxAnnotation\"},{\"attributes\":{\"overlay\":{\"id\":\"10590\"}},\"id\":\"10588\",\"type\":\"BoxZoomTool\"},{\"attributes\":{\"label\":{\"value\":\"0xb7f7f6c52f2e2fdb1963eab30438024864c313f6\"},\"renderers\":[{\"id\":\"10632\"}]},\"id\":\"10645\",\"type\":\"LegendItem\"},{\"attributes\":{\"fill_alpha\":{\"value\":0.2},\"fill_color\":{\"value\":\"#30a2da\"},\"hatch_alpha\":{\"value\":0.2},\"hatch_color\":{\"value\":\"#30a2da\"},\"line_alpha\":{\"value\":0.2},\"line_color\":{\"value\":\"#30a2da\"},\"size\":{\"value\":5.477225575051661},\"x\":{\"field\":\"opening_date\"},\"y\":{\"field\":\"volume_quote_day\"}},\"id\":\"10611\",\"type\":\"Scatter\"},{\"attributes\":{\"data\":{\"Token\":[\"0xb7f7f6c52f2e2fdb1963eab30438024864c313f6\",\"0xb7f7f6c52f2e2fdb1963eab30438024864c313f6\",\"0xb7f7f6c52f2e2fdb1963eab30438024864c313f6\"],\"opening_date\":[\"2022-03-30\",\"2022-02-03\",\"2022-01-17\"],\"volume_quote_day\":{\"__ndarray__\":\"zczMzIn6JEG8BRIUP8OEQAAAAAAjARRB\",\"dtype\":\"float64\",\"order\":\"little\",\"shape\":[3]}},\"selected\":{\"id\":\"10627\"},\"selection_policy\":{\"id\":\"10642\"}},\"id\":\"10626\",\"type\":\"ColumnDataSource\"},{\"attributes\":{\"coordinates\":null,\"data_source\":{\"id\":\"10606\"},\"glyph\":{\"id\":\"10609\"},\"group\":null,\"hover_glyph\":null,\"muted_glyph\":{\"id\":\"10611\"},\"nonselection_glyph\":{\"id\":\"10610\"},\"selection_glyph\":{\"id\":\"10625\"},\"view\":{\"id\":\"10613\"}},\"id\":\"10612\",\"type\":\"GlyphRenderer\"},{\"attributes\":{\"click_policy\":\"mute\",\"coordinates\":null,\"group\":null,\"items\":[{\"id\":\"10624\"},{\"id\":\"10645\"}],\"location\":[0,0],\"title\":\"Token\"},\"id\":\"10623\",\"type\":\"Legend\"},{\"attributes\":{},\"id\":\"10620\",\"type\":\"UnionRenderers\"},{\"attributes\":{},\"id\":\"10627\",\"type\":\"Selection\"},{\"attributes\":{\"children\":[{\"id\":\"10564\"},{\"id\":\"10569\"},{\"id\":\"10746\"}],\"margin\":[0,0,0,0],\"name\":\"Row20869\",\"tags\":[\"embedded\"]},\"id\":\"10563\",\"type\":\"Row\"},{\"attributes\":{\"source\":{\"id\":\"10606\"}},\"id\":\"10613\",\"type\":\"CDSView\"},{\"attributes\":{\"fill_color\":{\"value\":\"#30a2da\"},\"hatch_color\":{\"value\":\"#30a2da\"},\"line_color\":{\"value\":\"#30a2da\"},\"size\":{\"value\":5.477225575051661},\"x\":{\"field\":\"opening_date\"},\"y\":{\"field\":\"volume_quote_day\"}},\"id\":\"10609\",\"type\":\"Scatter\"},{\"attributes\":{},\"id\":\"10562\",\"type\":\"NumeralTickFormatter\"},{\"attributes\":{},\"id\":\"10599\",\"type\":\"CategoricalTickFormatter\"},{\"attributes\":{\"axis_label\":\"Volume\",\"coordinates\":null,\"formatter\":{\"id\":\"10562\"},\"group\":null,\"major_label_policy\":{\"id\":\"10603\"},\"ticker\":{\"id\":\"10582\"}},\"id\":\"10581\",\"type\":\"LinearAxis\"},{\"attributes\":{\"fill_alpha\":{\"value\":0.1},\"fill_color\":{\"value\":\"#fc4f30\"},\"hatch_alpha\":{\"value\":0.1},\"hatch_color\":{\"value\":\"#fc4f30\"},\"line_alpha\":{\"value\":0.1},\"line_color\":{\"value\":\"#fc4f30\"},\"size\":{\"value\":5.477225575051661},\"x\":{\"field\":\"opening_date\"},\"y\":{\"field\":\"volume_quote_day\"}},\"id\":\"10630\",\"type\":\"Scatter\"},{\"attributes\":{\"fill_alpha\":{\"value\":0.2},\"fill_color\":{\"value\":\"#fc4f30\"},\"hatch_alpha\":{\"value\":0.2},\"hatch_color\":{\"value\":\"#fc4f30\"},\"line_alpha\":{\"value\":0.2},\"line_color\":{\"value\":\"#fc4f30\"},\"size\":{\"value\":5.477225575051661},\"x\":{\"field\":\"opening_date\"},\"y\":{\"field\":\"volume_quote_day\"}},\"id\":\"10631\",\"type\":\"Scatter\"},{\"attributes\":{\"label\":{\"value\":\"0xb47e3cd837dDF8e4c57F05d70Ab865de6e193BBB\"},\"renderers\":[{\"id\":\"10612\"}]},\"id\":\"10624\",\"type\":\"LegendItem\"},{\"attributes\":{\"factors\":[\"2022-03-05\",\"2022-03-04\",\"2022-03-03\",\"2022-03-02\",\"2022-03-01\",\"2022-02-28\",\"2022-02-27\",\"2022-02-26\",\"2022-02-25\",\"2022-02-24\",\"2022-02-23\",\"2022-02-22\",\"2022-02-21\",\"2022-02-20\",\"2022-02-19\",\"2022-02-18\",\"2022-02-17\",\"2022-02-16\",\"2022-02-15\",\"2022-02-14\",\"2022-02-13\",\"2022-02-12\",\"2022-02-11\",\"2022-02-10\",\"2022-02-09\",\"2022-02-08\",\"2022-02-07\",\"2022-02-06\",\"2022-02-05\",\"2022-02-04\",\"2022-02-03\",\"2022-02-02\",\"2022-02-01\",\"2022-01-31\",\"2022-01-30\",\"2022-01-29\",\"2022-01-28\",\"2022-01-27\",\"2022-01-26\",\"2022-01-25\",\"2022-03-30\",\"2022-01-17\"],\"tags\":[[[\"opening_date\",\"opening_date\",null]]]},\"id\":\"10565\",\"type\":\"FactorRange\"},{\"attributes\":{},\"id\":\"10603\",\"type\":\"AllLabels\"},{\"attributes\":{\"end\":28701085.15942,\"reset_end\":28701085.15942,\"reset_start\":-2608464.7536200006,\"start\":-2608464.7536200006,\"tags\":[[[\"volume_quote_day\",\"volume_quote_day\",null]]]},\"id\":\"10566\",\"type\":\"Range1d\"},{\"attributes\":{\"coordinates\":null,\"data_source\":{\"id\":\"10626\"},\"glyph\":{\"id\":\"10629\"},\"group\":null,\"hover_glyph\":null,\"muted_glyph\":{\"id\":\"10631\"},\"nonselection_glyph\":{\"id\":\"10630\"},\"selection_glyph\":{\"id\":\"10646\"},\"view\":{\"id\":\"10633\"}},\"id\":\"10632\",\"type\":\"GlyphRenderer\"}],\"root_ids\":[\"10563\"]},\"title\":\"Bokeh Application\",\"version\":\"2.4.1\"}};\n",
       "    var render_items = [{\"docid\":\"ca9438cc-3815-41eb-b5db-3ab57608f8fc\",\"root_ids\":[\"10563\"],\"roots\":{\"10563\":\"73a07faf-ec27-4495-9729-13e696487d33\"}}];\n",
       "    root.Bokeh.embed.embed_items_notebook(docs_json, render_items);\n",
       "  }\n",
       "  if (root.Bokeh !== undefined && root.Bokeh.Panel !== undefined) {\n",
       "    embed_document(root);\n",
       "  } else {\n",
       "    var attempts = 0;\n",
       "    var timer = setInterval(function(root) {\n",
       "      if (root.Bokeh !== undefined && root.Bokeh.Panel !== undefined) {\n",
       "        clearInterval(timer);\n",
       "        embed_document(root);\n",
       "      } else if (document.readyState == \"complete\") {\n",
       "        attempts++;\n",
       "        if (attempts > 200) {\n",
       "          clearInterval(timer);\n",
       "          console.log(\"Bokeh: ERROR: Unable to run BokehJS code because BokehJS library is missing\");\n",
       "        }\n",
       "      }\n",
       "    }, 25, root)\n",
       "  }\n",
       "})(window);</script>"
      ],
      "text/plain": [
       ":NdOverlay   [Token]\n",
       "   :Scatter   [opening_date]   (volume_quote_day)"
      ]
     },
     "execution_count": 312,
     "metadata": {
      "application/vnd.holoviews_exec.v0+json": {
       "id": "10563"
      }
     },
     "output_type": "execute_result"
    }
   ],
   "source": [
    "#Combined Token graph\n",
    "\n",
    "from bokeh.models.formatters import NumeralTickFormatter\n",
    "formatter = NumeralTickFormatter(format=\"0,0\")\n",
    "combined_df.hvplot.scatter(\n",
    "    x='opening_date', \n",
    "    y='volume_quote_day',\n",
    "    xlabel='Date',\n",
    "    ylabel='Volume',\n",
    "    rot=90,\n",
    "    label='Combined Analysis',\n",
    "    by='Token',\n",
    "    attr_labels=False,\n",
    "    height= 600,\n",
    "    width = 1000\n",
    ").opts(\n",
    "  yformatter=formatter\n",
    ") \n"
   ]
  },
  {
   "cell_type": "code",
   "execution_count": null,
   "id": "de9ec822-8609-4eaa-a76b-a759656c099a",
   "metadata": {},
   "outputs": [],
   "source": []
  },
  {
   "cell_type": "code",
   "execution_count": null,
   "id": "a9d4c9a9-188b-4f0b-8576-a5b0bb80c5a9",
   "metadata": {},
   "outputs": [],
   "source": []
  },
  {
   "cell_type": "code",
   "execution_count": null,
   "id": "f53dbb58-6e2f-4937-883d-b8059b2e0de1",
   "metadata": {},
   "outputs": [],
   "source": []
  }
 ],
 "metadata": {
  "kernelspec": {
   "display_name": "Python 3 (ipykernel)",
   "language": "python",
   "name": "python3"
  },
  "language_info": {
   "codemirror_mode": {
    "name": "ipython",
    "version": 3
   },
   "file_extension": ".py",
   "mimetype": "text/x-python",
   "name": "python",
   "nbconvert_exporter": "python",
   "pygments_lexer": "ipython3",
   "version": "3.7.11"
  }
 },
 "nbformat": 4,
 "nbformat_minor": 5
}
