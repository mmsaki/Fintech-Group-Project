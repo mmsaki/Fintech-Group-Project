{
 "cells": [
  {
   "cell_type": "markdown",
   "id": "921811fd-e496-4f5d-be13-e31b1b44b043",
   "metadata": {},
   "source": [
    "<img src=\"Images/punk-variety-2x.png\">"
   ]
  },
  {
   "cell_type": "markdown",
   "id": "40151e0a-a1ff-4512-9e6b-8acbb248fd85",
   "metadata": {},
   "source": [
    "# Cryptopunks Analysis"
   ]
  },
  {
   "cell_type": "code",
   "execution_count": 332,
   "id": "d5584bd6-fc30-4878-9a7a-950364bbfe49",
   "metadata": {},
   "outputs": [],
   "source": [
    "# Import dependancies\n",
    "\n",
    "import os\n",
    "import requests\n",
    "import pandas as pd\n",
    "import json\n",
    "import matplotlib.pyplot as plt  #chart visualization\n",
    "import hvplot.pandas\n",
    "from dotenv import load_dotenv\n",
    "\n",
    "# Initial imports\n",
    "import numpy as np\n",
    "import datetime as dt\n",
    "import seaborn as sns\n",
    "from pathlib import Path\n",
    "\n",
    "%matplotlib inline\n"
   ]
  },
  {
   "cell_type": "code",
   "execution_count": 73,
   "id": "29ca8feb-6094-45b7-8dab-ef41a7ae367d",
   "metadata": {},
   "outputs": [
    {
     "data": {
      "text/plain": [
       "True"
      ]
     },
     "execution_count": 73,
     "metadata": {},
     "output_type": "execute_result"
    }
   ],
   "source": [
    "# Load .env enviroment variables\n",
    "load_dotenv()"
   ]
  },
  {
   "cell_type": "code",
   "execution_count": 74,
   "id": "01cbb1c7-8e90-4f86-8895-94aa0c8b2ef5",
   "metadata": {},
   "outputs": [],
   "source": [
    "# create variable for api key \n",
    "covalent_API_KEY = os.getenv(\"Covalent-API-KEY\")"
   ]
  },
  {
   "cell_type": "code",
   "execution_count": 75,
   "id": "32579bcf-9df0-48bd-a95a-fd43bc43275b",
   "metadata": {},
   "outputs": [
    {
     "data": {
      "text/plain": [
       "str"
      ]
     },
     "execution_count": 75,
     "metadata": {},
     "output_type": "execute_result"
    }
   ],
   "source": [
    "##TEMP VALIDATE KEY#\n",
    "type(covalent_API_KEY)"
   ]
  },
  {
   "cell_type": "code",
   "execution_count": 76,
   "id": "fbf54aca-4d9f-4a95-981b-ee4e7c00f5ed",
   "metadata": {},
   "outputs": [],
   "source": [
    "# create variable for api key  for etherscan\n",
    "ETHERSCAN_API_KEY = os.getenv(\"ETHERSCAN_API_KEY\")"
   ]
  },
  {
   "cell_type": "code",
   "execution_count": 77,
   "id": "c78b9310-dfea-4ee6-83ac-1d8ed970d0f5",
   "metadata": {},
   "outputs": [
    {
     "data": {
      "text/plain": [
       "str"
      ]
     },
     "execution_count": 77,
     "metadata": {},
     "output_type": "execute_result"
    }
   ],
   "source": [
    "##TEMP VALIDATE KEY#\n",
    "type(ETHERSCAN_API_KEY)"
   ]
  },
  {
   "cell_type": "code",
   "execution_count": 78,
   "id": "17dbde33-be41-4fbe-8d7a-aad77bed0e02",
   "metadata": {},
   "outputs": [],
   "source": [
    "#https://api.etherscan.io/api?module=contract&action=getsourcecode&address=0xb47e3cd837dDF8e4c57F05d70Ab865de6e193BBB&apikey=SH8K36E7IY9UIECKNN6JF1SCUGAK17U148"
   ]
  },
  {
   "cell_type": "markdown",
   "id": "4a80b360-846b-4442-99af-94d20a11fd93",
   "metadata": {},
   "source": [
    "# Etherscan Cryptopunks Contract Detail"
   ]
  },
  {
   "cell_type": "code",
   "execution_count": 79,
   "id": "4f4b10c6-7f8e-4993-b886-2cf2907d597c",
   "metadata": {},
   "outputs": [],
   "source": [
    "#set api url variables for Etherscan call \n",
    "cryptopunks_contract = \"0xb47e3cd837dDF8e4c57F05d70Ab865de6e193BBB\"\n",
    "etherscan_url = \"https://api.etherscan.io/api\"\n",
    "module = \"?module=contract\"\n",
    "action = \"&action=getsourcecode\"\n",
    "address =\"&address=\" + cryptopunks_contract  \n",
    "etherscan_key = \"&apikey=\" + ETHERSCAN_API_KEY"
   ]
  },
  {
   "cell_type": "code",
   "execution_count": 80,
   "id": "711801da-a8ae-4347-a39f-05384f7216df",
   "metadata": {},
   "outputs": [],
   "source": [
    "#set API call string\n",
    "url_cryptopunks_contract_details = etherscan_url+module+action+address+etherscan_key"
   ]
  },
  {
   "cell_type": "code",
   "execution_count": 81,
   "id": "383b9474-f83f-4994-85ae-86cbc3f0f1c8",
   "metadata": {},
   "outputs": [],
   "source": [
    "#get results from API call\n",
    "cryptopunk_contract_details= requests.get(url_cryptopunks_contract_details).json()"
   ]
  },
  {
   "cell_type": "code",
   "execution_count": 316,
   "id": "f8b7a5f6-ad03-48c1-bb26-39cacbc88dff",
   "metadata": {},
   "outputs": [],
   "source": [
    "#TEMP Validate call\n",
    "#cryptopunk_contract_details"
   ]
  },
  {
   "cell_type": "markdown",
   "id": "2cab0ff6-9883-4dab-a35e-fb5433542fd1",
   "metadata": {},
   "source": [
    "# Etherscan Cryptopunks Transactions"
   ]
  },
  {
   "cell_type": "code",
   "execution_count": 83,
   "id": "0a5ce547-8771-4921-b634-aa685d59e56d",
   "metadata": {},
   "outputs": [],
   "source": [
    "#set api url variables for Etherscan call \n",
    "transaction_hash = \"0x15f8e5ea1079d9a0bb04a4c58ae5fe7654b5b2b4463375ff7ffb490aa0032f3a\" #replace with trans_hash\n",
    "etherscan_url = \"https://api.etherscan.io/api\"\n",
    "module = \"?module=transaction\"\n",
    "action = \"&action=getstatus\"\n",
    "address =\"&&txhash=\" + transaction_hash \n",
    "etherscan_key = \"&apikey=\" + ETHERSCAN_API_KEY"
   ]
  },
  {
   "cell_type": "code",
   "execution_count": 84,
   "id": "d70cfb1f-f67e-4716-a514-ed29080fe525",
   "metadata": {},
   "outputs": [],
   "source": [
    "#set API call string\n",
    "url_cryptopunks_transactions = etherscan_url+module+action+address+etherscan_key"
   ]
  },
  {
   "cell_type": "code",
   "execution_count": 85,
   "id": "e915e4cb-efc7-48b9-a494-5ab56d157e93",
   "metadata": {},
   "outputs": [],
   "source": [
    "#get results from API call\n",
    "cryptopunk_transaction=requests.get(url_cryptopunks_transactions).json()"
   ]
  },
  {
   "cell_type": "code",
   "execution_count": 86,
   "id": "9ffb999a-6906-4eb7-a431-922b50ef552c",
   "metadata": {},
   "outputs": [
    {
     "data": {
      "text/plain": [
       "{'status': '1',\n",
       " 'message': 'OK',\n",
       " 'result': {'isError': '1', 'errDescription': 'Bad jump destination'}}"
      ]
     },
     "execution_count": 86,
     "metadata": {},
     "output_type": "execute_result"
    }
   ],
   "source": [
    "#TEMP Validate call\n",
    "cryptopunk_transaction"
   ]
  },
  {
   "cell_type": "markdown",
   "id": "681fdec4-afe9-4fbc-8f98-eec6f2582cff",
   "metadata": {
    "tags": []
   },
   "source": [
    "# NFT Market Cap Detailed View"
   ]
  },
  {
   "cell_type": "markdown",
   "id": "9d142065-65b5-4711-96f1-6c8b754c5bbf",
   "metadata": {},
   "source": [
    "### Contract Address 0xb7f7f6c52f2e2fdb1963eab30438024864c313f6"
   ]
  },
  {
   "cell_type": "code",
   "execution_count": 207,
   "id": "c6019870-ac3d-4e23-94b5-dd7af80da19b",
   "metadata": {},
   "outputs": [],
   "source": [
    "# Append url for our api\n",
    "url = \"https://api.covalenthq.com/v1\"\n",
    "chain_id = \"/1\"    #TEMP is it always chain1 for most part?\n",
    "option = \"/nft_market/collection\"\n",
    "# Add search queries to api url\n",
    "contract_address = \"/0xb7f7f6c52f2e2fdb1963eab30438024864c313f6\"   #Do we want to compare other contracts\n",
    "currency = \"/?quote-currency=USD\"\n",
    "format_output = \"&format=JSON\"\n",
    "date_from =\"&from=2022-01-25\"\n",
    "date_to = \"&to=2022-04-25\"\n",
    "api_key = \"&key=\" + covalent_API_KEY\n",
    "\n",
    "url_nft_market_cap_detail = url + chain_id + option + contract_address + currency + format_output + date_from + date_to  + api_key "
   ]
  },
  {
   "cell_type": "code",
   "execution_count": 208,
   "id": "8b6a2788-eca9-4b93-8169-2effdd630d26",
   "metadata": {},
   "outputs": [],
   "source": [
    "#set API call string\n",
    "url_nft_market_cap_detail = url + chain_id + option + contract_address + currency + format_output + date_from + date_to  + api_key "
   ]
  },
  {
   "cell_type": "code",
   "execution_count": 209,
   "id": "c0a00299-f45e-4ebd-aa72-db98822b2681",
   "metadata": {},
   "outputs": [],
   "source": [
    "#get results from API call\n",
    "nft_market_cap = requests.get(url_nft_market_cap_detail).json()"
   ]
  },
  {
   "cell_type": "code",
   "execution_count": 210,
   "id": "49812799-9f86-4e16-a42f-0d90834a96ef",
   "metadata": {},
   "outputs": [],
   "source": [
    "#TEMP Validate call\n",
    "#nft_market_cap"
   ]
  },
  {
   "cell_type": "code",
   "execution_count": 211,
   "id": "3459c528-06b5-485b-b2d4-09e1d54b40a1",
   "metadata": {},
   "outputs": [],
   "source": [
    "#set data into a dataframe\n",
    "nft_market_cap_df = pd.DataFrame(nft_market_cap['data']['items'])"
   ]
  },
  {
   "cell_type": "code",
   "execution_count": 212,
   "id": "20454bc2-4f83-4d67-9ec3-6953d4a198be",
   "metadata": {},
   "outputs": [
    {
     "data": {
      "text/html": [
       "<div>\n",
       "<style scoped>\n",
       "    .dataframe tbody tr th:only-of-type {\n",
       "        vertical-align: middle;\n",
       "    }\n",
       "\n",
       "    .dataframe tbody tr th {\n",
       "        vertical-align: top;\n",
       "    }\n",
       "\n",
       "    .dataframe thead th {\n",
       "        text-align: right;\n",
       "    }\n",
       "</style>\n",
       "<table border=\"1\" class=\"dataframe\">\n",
       "  <thead>\n",
       "    <tr style=\"text-align: right;\">\n",
       "      <th></th>\n",
       "      <th>chain_id</th>\n",
       "      <th>collection_name</th>\n",
       "      <th>collection_address</th>\n",
       "      <th>collection_ticker_symbol</th>\n",
       "      <th>opening_date</th>\n",
       "      <th>volume_wei_day</th>\n",
       "      <th>volume_quote_day</th>\n",
       "      <th>average_volume_wei_day</th>\n",
       "      <th>average_volume_quote_day</th>\n",
       "      <th>unique_token_ids_sold_count_day</th>\n",
       "      <th>...</th>\n",
       "      <th>fourth_nft_image_token_id</th>\n",
       "      <th>fourth_nft_image</th>\n",
       "      <th>fourth_nft_image_256</th>\n",
       "      <th>fourth_nft_image_512</th>\n",
       "      <th>fourth_nft_image_1024</th>\n",
       "      <th>fifth_nft_image_token_id</th>\n",
       "      <th>fifth_nft_image</th>\n",
       "      <th>fifth_nft_image_256</th>\n",
       "      <th>fifth_nft_image_512</th>\n",
       "      <th>fifth_nft_image_1024</th>\n",
       "    </tr>\n",
       "  </thead>\n",
       "  <tbody>\n",
       "    <tr>\n",
       "      <th>0</th>\n",
       "      <td>1</td>\n",
       "      <td>Wrapped Cryptopunks</td>\n",
       "      <td>0xb7f7f6c52f2e2fdb1963eab30438024864c313f6</td>\n",
       "      <td>WPUNKS</td>\n",
       "      <td>2022-03-30</td>\n",
       "      <td>201500000000000000000</td>\n",
       "      <td>687428.9000</td>\n",
       "      <td>201500000000000000000</td>\n",
       "      <td>687428.9000</td>\n",
       "      <td>1</td>\n",
       "      <td>...</td>\n",
       "      <td>51</td>\n",
       "      <td>https://wrappedpunks.com:3000/images/punks/51.png</td>\n",
       "      <td>https://image-proxy.svc.prod.covalenthq.com/25...</td>\n",
       "      <td>https://image-proxy.svc.prod.covalenthq.com/51...</td>\n",
       "      <td>https://image-proxy.svc.prod.covalenthq.com/10...</td>\n",
       "      <td>60</td>\n",
       "      <td>https://wrappedpunks.com:3000/images/punks/60.png</td>\n",
       "      <td>https://image-proxy.svc.prod.covalenthq.com/25...</td>\n",
       "      <td>https://image-proxy.svc.prod.covalenthq.com/51...</td>\n",
       "      <td>https://image-proxy.svc.prod.covalenthq.com/10...</td>\n",
       "    </tr>\n",
       "    <tr>\n",
       "      <th>1</th>\n",
       "      <td>1</td>\n",
       "      <td>Wrapped Cryptopunks</td>\n",
       "      <td>0xb7f7f6c52f2e2fdb1963eab30438024864c313f6</td>\n",
       "      <td>WPUNKS</td>\n",
       "      <td>2022-02-03</td>\n",
       "      <td>250000000000000000</td>\n",
       "      <td>664.4058</td>\n",
       "      <td>250000000000000000</td>\n",
       "      <td>664.4058</td>\n",
       "      <td>1</td>\n",
       "      <td>...</td>\n",
       "      <td>51</td>\n",
       "      <td>https://wrappedpunks.com:3000/images/punks/51.png</td>\n",
       "      <td>https://image-proxy.svc.prod.covalenthq.com/25...</td>\n",
       "      <td>https://image-proxy.svc.prod.covalenthq.com/51...</td>\n",
       "      <td>https://image-proxy.svc.prod.covalenthq.com/10...</td>\n",
       "      <td>60</td>\n",
       "      <td>https://wrappedpunks.com:3000/images/punks/60.png</td>\n",
       "      <td>https://image-proxy.svc.prod.covalenthq.com/25...</td>\n",
       "      <td>https://image-proxy.svc.prod.covalenthq.com/51...</td>\n",
       "      <td>https://image-proxy.svc.prod.covalenthq.com/10...</td>\n",
       "    </tr>\n",
       "  </tbody>\n",
       "</table>\n",
       "<p>2 rows × 39 columns</p>\n",
       "</div>"
      ],
      "text/plain": [
       "   chain_id      collection_name                          collection_address  \\\n",
       "0         1  Wrapped Cryptopunks  0xb7f7f6c52f2e2fdb1963eab30438024864c313f6   \n",
       "1         1  Wrapped Cryptopunks  0xb7f7f6c52f2e2fdb1963eab30438024864c313f6   \n",
       "\n",
       "  collection_ticker_symbol opening_date         volume_wei_day  \\\n",
       "0                   WPUNKS   2022-03-30  201500000000000000000   \n",
       "1                   WPUNKS   2022-02-03     250000000000000000   \n",
       "\n",
       "   volume_quote_day average_volume_wei_day  average_volume_quote_day  \\\n",
       "0       687428.9000  201500000000000000000               687428.9000   \n",
       "1          664.4058     250000000000000000                  664.4058   \n",
       "\n",
       "   unique_token_ids_sold_count_day  ... fourth_nft_image_token_id  \\\n",
       "0                                1  ...                        51   \n",
       "1                                1  ...                        51   \n",
       "\n",
       "                                    fourth_nft_image  \\\n",
       "0  https://wrappedpunks.com:3000/images/punks/51.png   \n",
       "1  https://wrappedpunks.com:3000/images/punks/51.png   \n",
       "\n",
       "                                fourth_nft_image_256  \\\n",
       "0  https://image-proxy.svc.prod.covalenthq.com/25...   \n",
       "1  https://image-proxy.svc.prod.covalenthq.com/25...   \n",
       "\n",
       "                                fourth_nft_image_512  \\\n",
       "0  https://image-proxy.svc.prod.covalenthq.com/51...   \n",
       "1  https://image-proxy.svc.prod.covalenthq.com/51...   \n",
       "\n",
       "                               fourth_nft_image_1024 fifth_nft_image_token_id  \\\n",
       "0  https://image-proxy.svc.prod.covalenthq.com/10...                       60   \n",
       "1  https://image-proxy.svc.prod.covalenthq.com/10...                       60   \n",
       "\n",
       "                                     fifth_nft_image  \\\n",
       "0  https://wrappedpunks.com:3000/images/punks/60.png   \n",
       "1  https://wrappedpunks.com:3000/images/punks/60.png   \n",
       "\n",
       "                                 fifth_nft_image_256  \\\n",
       "0  https://image-proxy.svc.prod.covalenthq.com/25...   \n",
       "1  https://image-proxy.svc.prod.covalenthq.com/25...   \n",
       "\n",
       "                                 fifth_nft_image_512  \\\n",
       "0  https://image-proxy.svc.prod.covalenthq.com/51...   \n",
       "1  https://image-proxy.svc.prod.covalenthq.com/51...   \n",
       "\n",
       "                                fifth_nft_image_1024  \n",
       "0  https://image-proxy.svc.prod.covalenthq.com/10...  \n",
       "1  https://image-proxy.svc.prod.covalenthq.com/10...  \n",
       "\n",
       "[2 rows x 39 columns]"
      ]
     },
     "metadata": {},
     "output_type": "display_data"
    }
   ],
   "source": [
    "#display head and tail of df\n",
    "display(nft_market_cap_df.head())"
   ]
  },
  {
   "cell_type": "code",
   "execution_count": 213,
   "id": "84438aa2-c9e7-4c28-9fb0-d37bd0ec6fd3",
   "metadata": {},
   "outputs": [
    {
     "data": {
      "text/html": [
       "<div>\n",
       "<style scoped>\n",
       "    .dataframe tbody tr th:only-of-type {\n",
       "        vertical-align: middle;\n",
       "    }\n",
       "\n",
       "    .dataframe tbody tr th {\n",
       "        vertical-align: top;\n",
       "    }\n",
       "\n",
       "    .dataframe thead th {\n",
       "        text-align: right;\n",
       "    }\n",
       "</style>\n",
       "<table border=\"1\" class=\"dataframe\">\n",
       "  <thead>\n",
       "    <tr style=\"text-align: right;\">\n",
       "      <th></th>\n",
       "      <th>chain_id</th>\n",
       "      <th>volume_quote_day</th>\n",
       "      <th>average_volume_quote_day</th>\n",
       "      <th>unique_token_ids_sold_count_day</th>\n",
       "      <th>floor_price_quote_7d</th>\n",
       "      <th>gas_quote_rate_day</th>\n",
       "    </tr>\n",
       "  </thead>\n",
       "  <tbody>\n",
       "    <tr>\n",
       "      <th>count</th>\n",
       "      <td>2.0</td>\n",
       "      <td>2.000000</td>\n",
       "      <td>2.000000</td>\n",
       "      <td>2.0</td>\n",
       "      <td>2.000000</td>\n",
       "      <td>2.000000</td>\n",
       "    </tr>\n",
       "    <tr>\n",
       "      <th>mean</th>\n",
       "      <td>1.0</td>\n",
       "      <td>344046.652900</td>\n",
       "      <td>344046.652900</td>\n",
       "      <td>1.0</td>\n",
       "      <td>344046.652900</td>\n",
       "      <td>3034.590450</td>\n",
       "    </tr>\n",
       "    <tr>\n",
       "      <th>std</th>\n",
       "      <td>0.0</td>\n",
       "      <td>485615.830927</td>\n",
       "      <td>485615.830927</td>\n",
       "      <td>0.0</td>\n",
       "      <td>485615.830927</td>\n",
       "      <td>533.112056</td>\n",
       "    </tr>\n",
       "    <tr>\n",
       "      <th>min</th>\n",
       "      <td>1.0</td>\n",
       "      <td>664.405800</td>\n",
       "      <td>664.405800</td>\n",
       "      <td>1.0</td>\n",
       "      <td>664.405800</td>\n",
       "      <td>2657.623300</td>\n",
       "    </tr>\n",
       "    <tr>\n",
       "      <th>25%</th>\n",
       "      <td>1.0</td>\n",
       "      <td>172355.529350</td>\n",
       "      <td>172355.529350</td>\n",
       "      <td>1.0</td>\n",
       "      <td>172355.529350</td>\n",
       "      <td>2846.106875</td>\n",
       "    </tr>\n",
       "    <tr>\n",
       "      <th>50%</th>\n",
       "      <td>1.0</td>\n",
       "      <td>344046.652900</td>\n",
       "      <td>344046.652900</td>\n",
       "      <td>1.0</td>\n",
       "      <td>344046.652900</td>\n",
       "      <td>3034.590450</td>\n",
       "    </tr>\n",
       "    <tr>\n",
       "      <th>75%</th>\n",
       "      <td>1.0</td>\n",
       "      <td>515737.776450</td>\n",
       "      <td>515737.776450</td>\n",
       "      <td>1.0</td>\n",
       "      <td>515737.776450</td>\n",
       "      <td>3223.074025</td>\n",
       "    </tr>\n",
       "    <tr>\n",
       "      <th>max</th>\n",
       "      <td>1.0</td>\n",
       "      <td>687428.900000</td>\n",
       "      <td>687428.900000</td>\n",
       "      <td>1.0</td>\n",
       "      <td>687428.900000</td>\n",
       "      <td>3411.557600</td>\n",
       "    </tr>\n",
       "  </tbody>\n",
       "</table>\n",
       "</div>"
      ],
      "text/plain": [
       "       chain_id  volume_quote_day  average_volume_quote_day  \\\n",
       "count       2.0          2.000000                  2.000000   \n",
       "mean        1.0     344046.652900             344046.652900   \n",
       "std         0.0     485615.830927             485615.830927   \n",
       "min         1.0        664.405800                664.405800   \n",
       "25%         1.0     172355.529350             172355.529350   \n",
       "50%         1.0     344046.652900             344046.652900   \n",
       "75%         1.0     515737.776450             515737.776450   \n",
       "max         1.0     687428.900000             687428.900000   \n",
       "\n",
       "       unique_token_ids_sold_count_day  floor_price_quote_7d  \\\n",
       "count                              2.0              2.000000   \n",
       "mean                               1.0         344046.652900   \n",
       "std                                0.0         485615.830927   \n",
       "min                                1.0            664.405800   \n",
       "25%                                1.0         172355.529350   \n",
       "50%                                1.0         344046.652900   \n",
       "75%                                1.0         515737.776450   \n",
       "max                                1.0         687428.900000   \n",
       "\n",
       "       gas_quote_rate_day  \n",
       "count            2.000000  \n",
       "mean          3034.590450  \n",
       "std            533.112056  \n",
       "min           2657.623300  \n",
       "25%           2846.106875  \n",
       "50%           3034.590450  \n",
       "75%           3223.074025  \n",
       "max           3411.557600  "
      ]
     },
     "execution_count": 213,
     "metadata": {},
     "output_type": "execute_result"
    }
   ],
   "source": [
    "#TEMP descibe data\n",
    "nft_market_cap_df.describe()"
   ]
  },
  {
   "cell_type": "code",
   "execution_count": 214,
   "id": "2b62f779-b33c-40f3-8166-8473cd0a752f",
   "metadata": {},
   "outputs": [
    {
     "data": {
      "text/plain": [
       "Index(['chain_id', 'collection_name', 'collection_address',\n",
       "       'collection_ticker_symbol', 'opening_date', 'volume_wei_day',\n",
       "       'volume_quote_day', 'average_volume_wei_day',\n",
       "       'average_volume_quote_day', 'unique_token_ids_sold_count_day',\n",
       "       'floor_price_wei_7d', 'floor_price_quote_7d', 'gas_quote_rate_day',\n",
       "       'quote_currency', 'first_nft_image_token_id', 'first_nft_image',\n",
       "       'first_nft_image_256', 'first_nft_image_512', 'first_nft_image_1024',\n",
       "       'second_nft_image_token_id', 'second_nft_image', 'second_nft_image_256',\n",
       "       'second_nft_image_512', 'second_nft_image_1024',\n",
       "       'third_nft_image_token_id', 'third_nft_image', 'third_nft_image_256',\n",
       "       'third_nft_image_512', 'third_nft_image_1024',\n",
       "       'fourth_nft_image_token_id', 'fourth_nft_image', 'fourth_nft_image_256',\n",
       "       'fourth_nft_image_512', 'fourth_nft_image_1024',\n",
       "       'fifth_nft_image_token_id', 'fifth_nft_image', 'fifth_nft_image_256',\n",
       "       'fifth_nft_image_512', 'fifth_nft_image_1024'],\n",
       "      dtype='object')"
      ]
     },
     "execution_count": 214,
     "metadata": {},
     "output_type": "execute_result"
    }
   ],
   "source": [
    "#TEMP list columns of df\n",
    "nft_market_cap_df.columns"
   ]
  },
  {
   "cell_type": "code",
   "execution_count": 215,
   "id": "e6f291ce-8514-45bb-ae6d-99580361c005",
   "metadata": {},
   "outputs": [],
   "source": [
    "#create a new data frame for graphing volume, drop un-needed columns\n",
    "market_cap_df_graph_0xb7f7f6c52f2e2fdb1963eab30438024864c313f6 = nft_market_cap_df[[\"opening_date\",\"volume_quote_day\"]].copy()"
   ]
  },
  {
   "cell_type": "code",
   "execution_count": 216,
   "id": "c0203d71-256f-45dc-85b3-67d6784ced96",
   "metadata": {},
   "outputs": [
    {
     "data": {
      "text/html": [
       "<div>\n",
       "<style scoped>\n",
       "    .dataframe tbody tr th:only-of-type {\n",
       "        vertical-align: middle;\n",
       "    }\n",
       "\n",
       "    .dataframe tbody tr th {\n",
       "        vertical-align: top;\n",
       "    }\n",
       "\n",
       "    .dataframe thead th {\n",
       "        text-align: right;\n",
       "    }\n",
       "</style>\n",
       "<table border=\"1\" class=\"dataframe\">\n",
       "  <thead>\n",
       "    <tr style=\"text-align: right;\">\n",
       "      <th></th>\n",
       "      <th>opening_date</th>\n",
       "      <th>volume_quote_day</th>\n",
       "    </tr>\n",
       "  </thead>\n",
       "  <tbody>\n",
       "    <tr>\n",
       "      <th>0</th>\n",
       "      <td>2022-03-30</td>\n",
       "      <td>687428.9000</td>\n",
       "    </tr>\n",
       "    <tr>\n",
       "      <th>1</th>\n",
       "      <td>2022-02-03</td>\n",
       "      <td>664.4058</td>\n",
       "    </tr>\n",
       "  </tbody>\n",
       "</table>\n",
       "</div>"
      ],
      "text/plain": [
       "  opening_date  volume_quote_day\n",
       "0   2022-03-30       687428.9000\n",
       "1   2022-02-03          664.4058"
      ]
     },
     "execution_count": 216,
     "metadata": {},
     "output_type": "execute_result"
    }
   ],
   "source": [
    "#TEMP display market_cap_df_graph\n",
    "market_cap_df_graph_0xb7f7f6c52f2e2fdb1963eab30438024864c313f6"
   ]
  },
  {
   "cell_type": "code",
   "execution_count": 317,
   "id": "dee9c966-18a8-43f4-902f-c92eeaa9e3be",
   "metadata": {},
   "outputs": [
    {
     "data": {},
     "metadata": {},
     "output_type": "display_data"
    },
    {
     "data": {
      "application/vnd.holoviews_exec.v0+json": "",
      "text/html": [
       "<div id='11278'>\n",
       "\n",
       "\n",
       "\n",
       "\n",
       "\n",
       "  <div class=\"bk-root\" id=\"8bc87815-31e6-43be-9f86-b4d0580d93c6\" data-root-id=\"11278\"></div>\n",
       "</div>\n",
       "<script type=\"application/javascript\">(function(root) {\n",
       "  function embed_document(root) {\n",
       "    var docs_json = {\"8ba8aa6f-4587-46e3-847b-2f20bff9b77f\":{\"defs\":[{\"extends\":null,\"module\":null,\"name\":\"ReactiveHTML1\",\"overrides\":[],\"properties\":[]},{\"extends\":null,\"module\":null,\"name\":\"FlexBox1\",\"overrides\":[],\"properties\":[{\"default\":\"flex-start\",\"kind\":null,\"name\":\"align_content\"},{\"default\":\"flex-start\",\"kind\":null,\"name\":\"align_items\"},{\"default\":\"row\",\"kind\":null,\"name\":\"flex_direction\"},{\"default\":\"wrap\",\"kind\":null,\"name\":\"flex_wrap\"},{\"default\":\"flex-start\",\"kind\":null,\"name\":\"justify_content\"}]},{\"extends\":null,\"module\":null,\"name\":\"TemplateActions1\",\"overrides\":[],\"properties\":[{\"default\":0,\"kind\":null,\"name\":\"open_modal\"},{\"default\":0,\"kind\":null,\"name\":\"close_modal\"}]},{\"extends\":null,\"module\":null,\"name\":\"MaterialTemplateActions1\",\"overrides\":[],\"properties\":[{\"default\":0,\"kind\":null,\"name\":\"open_modal\"},{\"default\":0,\"kind\":null,\"name\":\"close_modal\"}]}],\"roots\":{\"references\":[{\"attributes\":{},\"id\":\"11293\",\"type\":\"CategoricalTicker\"},{\"attributes\":{\"tools\":[{\"id\":\"11282\"},{\"id\":\"11299\"},{\"id\":\"11300\"},{\"id\":\"11301\"},{\"id\":\"11302\"},{\"id\":\"11303\"}]},\"id\":\"11305\",\"type\":\"Toolbar\"},{\"attributes\":{\"axis\":{\"id\":\"11292\"},\"coordinates\":null,\"grid_line_color\":null,\"group\":null,\"ticker\":null},\"id\":\"11294\",\"type\":\"Grid\"},{\"attributes\":{},\"id\":\"11296\",\"type\":\"BasicTicker\"},{\"attributes\":{\"axis_label\":\"Volume\",\"coordinates\":null,\"formatter\":{\"id\":\"11277\"},\"group\":null,\"major_label_policy\":{\"id\":\"11326\"},\"ticker\":{\"id\":\"11296\"}},\"id\":\"11295\",\"type\":\"LinearAxis\"},{\"attributes\":{\"axis\":{\"id\":\"11295\"},\"coordinates\":null,\"dimension\":1,\"grid_line_color\":null,\"group\":null,\"ticker\":null},\"id\":\"11298\",\"type\":\"Grid\"},{\"attributes\":{},\"id\":\"11323\",\"type\":\"AllLabels\"},{\"attributes\":{\"children\":[{\"id\":\"11279\"},{\"id\":\"11283\"},{\"id\":\"11347\"}],\"margin\":[0,0,0,0],\"name\":\"Row22053\",\"tags\":[\"embedded\"]},\"id\":\"11278\",\"type\":\"Row\"},{\"attributes\":{\"bottom\":{\"value\":0},\"fill_alpha\":{\"value\":1.0},\"fill_color\":{\"value\":\"#30a2da\"},\"hatch_alpha\":{\"value\":1.0},\"hatch_color\":{\"value\":\"#30a2da\"},\"hatch_scale\":{\"value\":12.0},\"hatch_weight\":{\"value\":1.0},\"line_alpha\":{\"value\":1.0},\"line_cap\":{\"value\":\"butt\"},\"line_color\":{\"value\":\"black\"},\"line_dash\":{\"value\":[]},\"line_dash_offset\":{\"value\":0},\"line_join\":{\"value\":\"bevel\"},\"line_width\":{\"value\":1},\"top\":{\"field\":\"volume_quote_day\"},\"width\":{\"value\":0.8},\"x\":{\"field\":\"opening_date\"}},\"id\":\"11320\",\"type\":\"VBar\"},{\"attributes\":{\"fill_alpha\":{\"value\":0.2},\"fill_color\":{\"value\":\"#30a2da\"},\"hatch_alpha\":{\"value\":0.2},\"hatch_color\":{\"value\":\"#30a2da\"},\"line_alpha\":{\"value\":0.2},\"top\":{\"field\":\"volume_quote_day\"},\"width\":{\"value\":0.8},\"x\":{\"field\":\"opening_date\"}},\"id\":\"11317\",\"type\":\"VBar\"},{\"attributes\":{\"coordinates\":null,\"data_source\":{\"id\":\"11312\"},\"glyph\":{\"id\":\"11315\"},\"group\":null,\"hover_glyph\":null,\"muted_glyph\":{\"id\":\"11317\"},\"nonselection_glyph\":{\"id\":\"11316\"},\"selection_glyph\":{\"id\":\"11320\"},\"view\":{\"id\":\"11319\"}},\"id\":\"11318\",\"type\":\"GlyphRenderer\"},{\"attributes\":{\"bottom_units\":\"screen\",\"coordinates\":null,\"fill_alpha\":0.5,\"fill_color\":\"lightgrey\",\"group\":null,\"left_units\":\"screen\",\"level\":\"overlay\",\"line_alpha\":1.0,\"line_color\":\"black\",\"line_dash\":[4,4],\"line_width\":2,\"right_units\":\"screen\",\"syncable\":false,\"top_units\":\"screen\"},\"id\":\"11304\",\"type\":\"BoxAnnotation\"},{\"attributes\":{\"data\":{\"opening_date\":[\"2022-03-30\",\"2022-02-03\"],\"volume_quote_day\":{\"__ndarray__\":\"zczMzIn6JEG8BRIUP8OEQA==\",\"dtype\":\"float64\",\"order\":\"little\",\"shape\":[2]}},\"selected\":{\"id\":\"11313\"},\"selection_policy\":{\"id\":\"11335\"}},\"id\":\"11312\",\"type\":\"ColumnDataSource\"},{\"attributes\":{},\"id\":\"11326\",\"type\":\"AllLabels\"},{\"attributes\":{\"source\":{\"id\":\"11312\"}},\"id\":\"11319\",\"type\":\"CDSView\"},{\"attributes\":{\"below\":[{\"id\":\"11292\"}],\"center\":[{\"id\":\"11294\"},{\"id\":\"11298\"}],\"left\":[{\"id\":\"11295\"}],\"margin\":[5,5,5,5],\"min_border_bottom\":10,\"min_border_left\":10,\"min_border_right\":10,\"min_border_top\":10,\"renderers\":[{\"id\":\"11318\"}],\"sizing_mode\":\"fixed\",\"title\":{\"id\":\"11284\"},\"toolbar\":{\"id\":\"11305\"},\"width\":2000,\"x_range\":{\"id\":\"11280\"},\"x_scale\":{\"id\":\"11288\"},\"y_range\":{\"id\":\"11281\"},\"y_scale\":{\"id\":\"11290\"}},\"id\":\"11283\",\"subtype\":\"Figure\",\"type\":\"Plot\"},{\"attributes\":{\"factors\":[\"2022-03-30\",\"2022-02-03\"],\"tags\":[[[\"opening_date\",\"opening_date\",null]]]},\"id\":\"11280\",\"type\":\"FactorRange\"},{\"attributes\":{\"axis_label\":\"Opening Date\",\"coordinates\":null,\"formatter\":{\"id\":\"11322\"},\"group\":null,\"major_label_orientation\":1.5707963267948966,\"major_label_policy\":{\"id\":\"11323\"},\"ticker\":{\"id\":\"11293\"}},\"id\":\"11292\",\"type\":\"CategoricalAxis\"},{\"attributes\":{\"margin\":[5,5,5,5],\"name\":\"HSpacer22057\",\"sizing_mode\":\"stretch_width\"},\"id\":\"11279\",\"type\":\"Spacer\"},{\"attributes\":{\"callback\":null,\"renderers\":[{\"id\":\"11318\"}],\"tags\":[\"hv_created\"],\"tooltips\":[[\"opening_date\",\"@{opening_date}\"],[\"volume_quote_day\",\"@{volume_quote_day}\"]]},\"id\":\"11282\",\"type\":\"HoverTool\"},{\"attributes\":{},\"id\":\"11299\",\"type\":\"SaveTool\"},{\"attributes\":{\"fill_alpha\":{\"value\":0.1},\"fill_color\":{\"value\":\"#30a2da\"},\"hatch_alpha\":{\"value\":0.1},\"hatch_color\":{\"value\":\"#30a2da\"},\"line_alpha\":{\"value\":0.1},\"top\":{\"field\":\"volume_quote_day\"},\"width\":{\"value\":0.8},\"x\":{\"field\":\"opening_date\"}},\"id\":\"11316\",\"type\":\"VBar\"},{\"attributes\":{},\"id\":\"11300\",\"type\":\"PanTool\"},{\"attributes\":{},\"id\":\"11303\",\"type\":\"ResetTool\"},{\"attributes\":{\"end\":756105.34942,\"reset_end\":756105.34942,\"reset_start\":0.0,\"tags\":[[[\"volume_quote_day\",\"volume_quote_day\",null]]]},\"id\":\"11281\",\"type\":\"Range1d\"},{\"attributes\":{},\"id\":\"11301\",\"type\":\"WheelZoomTool\"},{\"attributes\":{},\"id\":\"11313\",\"type\":\"Selection\"},{\"attributes\":{\"fill_color\":{\"value\":\"#30a2da\"},\"hatch_color\":{\"value\":\"#30a2da\"},\"top\":{\"field\":\"volume_quote_day\"},\"width\":{\"value\":0.8},\"x\":{\"field\":\"opening_date\"}},\"id\":\"11315\",\"type\":\"VBar\"},{\"attributes\":{\"overlay\":{\"id\":\"11304\"}},\"id\":\"11302\",\"type\":\"BoxZoomTool\"},{\"attributes\":{},\"id\":\"11277\",\"type\":\"NumeralTickFormatter\"},{\"attributes\":{},\"id\":\"11335\",\"type\":\"UnionRenderers\"},{\"attributes\":{\"coordinates\":null,\"group\":null,\"text\":\"Volume Quote Per Day - 0xb7f7f6c52f2e2fdb1963eab30438024864c313f6\",\"text_color\":\"black\",\"text_font_size\":\"12pt\"},\"id\":\"11284\",\"type\":\"Title\"},{\"attributes\":{},\"id\":\"11290\",\"type\":\"LinearScale\"},{\"attributes\":{},\"id\":\"11288\",\"type\":\"CategoricalScale\"},{\"attributes\":{\"margin\":[5,5,5,5],\"name\":\"HSpacer22058\",\"sizing_mode\":\"stretch_width\"},\"id\":\"11347\",\"type\":\"Spacer\"},{\"attributes\":{},\"id\":\"11322\",\"type\":\"CategoricalTickFormatter\"}],\"root_ids\":[\"11278\"]},\"title\":\"Bokeh Application\",\"version\":\"2.4.1\"}};\n",
       "    var render_items = [{\"docid\":\"8ba8aa6f-4587-46e3-847b-2f20bff9b77f\",\"root_ids\":[\"11278\"],\"roots\":{\"11278\":\"8bc87815-31e6-43be-9f86-b4d0580d93c6\"}}];\n",
       "    root.Bokeh.embed.embed_items_notebook(docs_json, render_items);\n",
       "  }\n",
       "  if (root.Bokeh !== undefined && root.Bokeh.Panel !== undefined) {\n",
       "    embed_document(root);\n",
       "  } else {\n",
       "    var attempts = 0;\n",
       "    var timer = setInterval(function(root) {\n",
       "      if (root.Bokeh !== undefined && root.Bokeh.Panel !== undefined) {\n",
       "        clearInterval(timer);\n",
       "        embed_document(root);\n",
       "      } else if (document.readyState == \"complete\") {\n",
       "        attempts++;\n",
       "        if (attempts > 200) {\n",
       "          clearInterval(timer);\n",
       "          console.log(\"Bokeh: ERROR: Unable to run BokehJS code because BokehJS library is missing\");\n",
       "        }\n",
       "      }\n",
       "    }, 25, root)\n",
       "  }\n",
       "})(window);</script>"
      ],
      "text/plain": [
       ":Bars   [opening_date]   (volume_quote_day)"
      ]
     },
     "execution_count": 317,
     "metadata": {
      "application/vnd.holoviews_exec.v0+json": {
       "id": "11278"
      }
     },
     "output_type": "execute_result"
    }
   ],
   "source": [
    "#Graph dataframe for analysis\n",
    "from bokeh.models.formatters import NumeralTickFormatter\n",
    "formatter = NumeralTickFormatter(format=\"0,0\")\n",
    "\n",
    "market_cap_df_graph_0xb7f7f6c52f2e2fdb1963eab30438024864c313f6.hvplot.bar(\n",
    "    x='opening_date', \n",
    "    y='volume_quote_day',\n",
    "    xlabel='Opening Date',\n",
    "    ylabel='Volume',\n",
    "    rot=90,\n",
    "    title='Volume Quote Per Day - 0xb7f7f6c52f2e2fdb1963eab30438024864c313f6',\n",
    "    height= 600,\n",
    "    width = 2000\n",
    ").opts(\n",
    "  yformatter=formatter\n",
    ")   "
   ]
  },
  {
   "cell_type": "markdown",
   "id": "c7e662ec-8b65-41bd-a6cd-405854910ca8",
   "metadata": {},
   "source": [
    "Contract Address 0xb47e3cd837dDF8e4c57F05d70Ab865de6e193BBB"
   ]
  },
  {
   "cell_type": "code",
   "execution_count": 202,
   "id": "cb2dbde9-bbe9-4d36-9b01-0ce645ed740b",
   "metadata": {},
   "outputs": [],
   "source": [
    "# Append url for our api\n",
    "url = \"https://api.covalenthq.com/v1\"\n",
    "chain_id = \"/1\"    #TEMP is it always chain1 for most part?\n",
    "option = \"/nft_market/collection\"\n",
    "# Add search queries to api url\n",
    "contract_address2 = \"/0xb47e3cd837dDF8e4c57F05d70Ab865de6e193BBB\"\n",
    "currency = \"/?quote-currency=USD\"\n",
    "format_output = \"&format=JSON\"\n",
    "date_from =\"&from=2022-01-25\"\n",
    "date_to = \"&to=2022-04-25\"\n",
    "api_key = \"&key=\" + covalent_API_KEY\n",
    "\n",
    "url_nft_market_cap_detail2 = url + chain_id + option + contract_address2 + currency + format_output + date_from + date_to  + api_key "
   ]
  },
  {
   "cell_type": "code",
   "execution_count": 203,
   "id": "c97fa945-3513-4a6e-97be-557148e933d3",
   "metadata": {},
   "outputs": [],
   "source": [
    "#set API call string\n",
    "url_nft_market_cap_detail2 = url + chain_id + option + contract_address2 + currency + format_output + date_from + date_to  + api_key \n",
    "#get results from API call\n",
    "nft_market_cap2 = requests.get(url_nft_market_cap_detail2).json()\n"
   ]
  },
  {
   "cell_type": "code",
   "execution_count": null,
   "id": "a6b66088-3a27-475f-984a-ef465358f895",
   "metadata": {},
   "outputs": [],
   "source": []
  },
  {
   "cell_type": "code",
   "execution_count": 204,
   "id": "51ac4a59-b5d5-4c7e-a884-19e915fae65c",
   "metadata": {},
   "outputs": [],
   "source": [
    "#set data into a dataframe\n",
    "nft_market_cap_df2 = pd.DataFrame(nft_market_cap2['data']['items'])"
   ]
  },
  {
   "cell_type": "code",
   "execution_count": 259,
   "id": "79e50c89-5e25-4af7-a228-48846e3d845e",
   "metadata": {},
   "outputs": [],
   "source": [
    "#set data into a dataframe\n",
    "nft_market_cap_df2 = pd.DataFrame(nft_market_cap2['data']['items'])\n",
    "#create a new data frame for graphing volume, drop un-needed columns\n",
    "market_cap_df_graph_2 = nft_market_cap_df2[[\"opening_date\",\"volume_quote_day\"]].copy()"
   ]
  },
  {
   "cell_type": "code",
   "execution_count": 318,
   "id": "face0287-f0b6-43f9-ac23-c642d13c8184",
   "metadata": {},
   "outputs": [
    {
     "data": {},
     "metadata": {},
     "output_type": "display_data"
    },
    {
     "data": {
      "application/vnd.holoviews_exec.v0+json": "",
      "text/html": [
       "<div id='11395'>\n",
       "\n",
       "\n",
       "\n",
       "\n",
       "\n",
       "  <div class=\"bk-root\" id=\"f45cf161-0ea7-4ede-807b-4615b40d6a3d\" data-root-id=\"11395\"></div>\n",
       "</div>\n",
       "<script type=\"application/javascript\">(function(root) {\n",
       "  function embed_document(root) {\n",
       "    var docs_json = {\"b3951b45-cf1d-4097-86a1-f0371c01dcff\":{\"defs\":[{\"extends\":null,\"module\":null,\"name\":\"ReactiveHTML1\",\"overrides\":[],\"properties\":[]},{\"extends\":null,\"module\":null,\"name\":\"FlexBox1\",\"overrides\":[],\"properties\":[{\"default\":\"flex-start\",\"kind\":null,\"name\":\"align_content\"},{\"default\":\"flex-start\",\"kind\":null,\"name\":\"align_items\"},{\"default\":\"row\",\"kind\":null,\"name\":\"flex_direction\"},{\"default\":\"wrap\",\"kind\":null,\"name\":\"flex_wrap\"},{\"default\":\"flex-start\",\"kind\":null,\"name\":\"justify_content\"}]},{\"extends\":null,\"module\":null,\"name\":\"TemplateActions1\",\"overrides\":[],\"properties\":[{\"default\":0,\"kind\":null,\"name\":\"open_modal\"},{\"default\":0,\"kind\":null,\"name\":\"close_modal\"}]},{\"extends\":null,\"module\":null,\"name\":\"MaterialTemplateActions1\",\"overrides\":[],\"properties\":[{\"default\":0,\"kind\":null,\"name\":\"open_modal\"},{\"default\":0,\"kind\":null,\"name\":\"close_modal\"}]}],\"roots\":{\"references\":[{\"attributes\":{\"axis\":{\"id\":\"11412\"},\"coordinates\":null,\"dimension\":1,\"grid_line_color\":null,\"group\":null,\"ticker\":null},\"id\":\"11415\",\"type\":\"Grid\"},{\"attributes\":{},\"id\":\"11416\",\"type\":\"SaveTool\"},{\"attributes\":{},\"id\":\"11394\",\"type\":\"NumeralTickFormatter\"},{\"attributes\":{\"coordinates\":null,\"group\":null,\"text\":\"Volume Quote Per Day - 0xb47e3cd837dDF8e4c57F05d70Ab865de6e193BBB\",\"text_color\":\"black\",\"text_font_size\":\"12pt\"},\"id\":\"11401\",\"type\":\"Title\"},{\"attributes\":{\"source\":{\"id\":\"11429\"}},\"id\":\"11436\",\"type\":\"CDSView\"},{\"attributes\":{\"margin\":[5,5,5,5],\"name\":\"HSpacer22253\",\"sizing_mode\":\"stretch_width\"},\"id\":\"11464\",\"type\":\"Spacer\"},{\"attributes\":{\"axis_label\":\"Volume\",\"coordinates\":null,\"formatter\":{\"id\":\"11394\"},\"group\":null,\"major_label_policy\":{\"id\":\"11443\"},\"ticker\":{\"id\":\"11413\"}},\"id\":\"11412\",\"type\":\"LinearAxis\"},{\"attributes\":{\"axis\":{\"id\":\"11409\"},\"coordinates\":null,\"grid_line_color\":null,\"group\":null,\"ticker\":null},\"id\":\"11411\",\"type\":\"Grid\"},{\"attributes\":{},\"id\":\"11407\",\"type\":\"LinearScale\"},{\"attributes\":{\"axis_label\":\"Opening Date\",\"coordinates\":null,\"formatter\":{\"id\":\"11439\"},\"group\":null,\"major_label_orientation\":1.5707963267948966,\"major_label_policy\":{\"id\":\"11440\"},\"ticker\":{\"id\":\"11410\"}},\"id\":\"11409\",\"type\":\"CategoricalAxis\"},{\"attributes\":{},\"id\":\"11413\",\"type\":\"BasicTicker\"},{\"attributes\":{},\"id\":\"11443\",\"type\":\"AllLabels\"},{\"attributes\":{},\"id\":\"11430\",\"type\":\"Selection\"},{\"attributes\":{\"bottom\":{\"value\":0},\"fill_alpha\":{\"value\":1.0},\"fill_color\":{\"value\":\"#30a2da\"},\"hatch_alpha\":{\"value\":1.0},\"hatch_color\":{\"value\":\"#30a2da\"},\"hatch_scale\":{\"value\":12.0},\"hatch_weight\":{\"value\":1.0},\"line_alpha\":{\"value\":1.0},\"line_cap\":{\"value\":\"butt\"},\"line_color\":{\"value\":\"black\"},\"line_dash\":{\"value\":[]},\"line_dash_offset\":{\"value\":0},\"line_join\":{\"value\":\"bevel\"},\"line_width\":{\"value\":1},\"top\":{\"field\":\"volume_quote_day\"},\"width\":{\"value\":0.8},\"x\":{\"field\":\"opening_date\"}},\"id\":\"11437\",\"type\":\"VBar\"},{\"attributes\":{\"children\":[{\"id\":\"11396\"},{\"id\":\"11400\"},{\"id\":\"11464\"}],\"margin\":[0,0,0,0],\"name\":\"Row22248\",\"tags\":[\"embedded\"]},\"id\":\"11395\",\"type\":\"Row\"},{\"attributes\":{\"data\":{\"opening_date\":[\"2022-03-05\",\"2022-03-04\",\"2022-03-03\",\"2022-03-02\",\"2022-03-01\",\"2022-02-28\",\"2022-02-27\",\"2022-02-26\",\"2022-02-25\",\"2022-02-24\",\"2022-02-23\",\"2022-02-22\",\"2022-02-21\",\"2022-02-20\",\"2022-02-19\",\"2022-02-18\",\"2022-02-17\",\"2022-02-16\",\"2022-02-15\",\"2022-02-14\",\"2022-02-13\",\"2022-02-12\",\"2022-02-11\",\"2022-02-10\",\"2022-02-09\",\"2022-02-08\",\"2022-02-07\",\"2022-02-06\",\"2022-02-05\",\"2022-02-04\",\"2022-02-03\",\"2022-02-02\",\"2022-02-01\",\"2022-01-31\",\"2022-01-30\",\"2022-01-29\",\"2022-01-28\",\"2022-01-27\",\"2022-01-26\",\"2022-01-25\"],\"volume_quote_day\":{\"__ndarray__\":\"FK5H4bjVIEHsUbgebacpQQAAAAB5gDNBZmZmZlmwQUHNzMzM2ZMpQZqZmZn9xzdBmpmZGcDvREHNzMzMuko5QZqZmRnyDDVBmpmZmc3RN0FmZmZmj7oqQZqZmZlmoSZB7FG4HjiVLEGamZmZ/10xQZqZmZmqxyhBAAAAgH6CKEEpXI/CMYAdQaRwPQoTmg1BAAAAgC4rIUFmZmZmk7gwQQAAAMB3oVJBAAAAQBvieEHNzMzMSyo3QexRuB7bIy1BAAAAII58ZEEAAACAWI8+QQAAAMAqe0hBZmZm5rDCOUFmZmZmYp0/Qc3MzMyVNDNBAAAAACbWNkFmZmZmC+pPQWZmZubj+EhBAAAAwDNcVkEAAAAAJB9VQWZmZmZzjUhBAAAAIJWcYkGamZmZfQFCQQAAAEAP1WBBAAAAAGl3c0E=\",\"dtype\":\"float64\",\"order\":\"little\",\"shape\":[40]}},\"selected\":{\"id\":\"11430\"},\"selection_policy\":{\"id\":\"11452\"}},\"id\":\"11429\",\"type\":\"ColumnDataSource\"},{\"attributes\":{\"fill_alpha\":{\"value\":0.1},\"fill_color\":{\"value\":\"#30a2da\"},\"hatch_alpha\":{\"value\":0.1},\"hatch_color\":{\"value\":\"#30a2da\"},\"line_alpha\":{\"value\":0.1},\"top\":{\"field\":\"volume_quote_day\"},\"width\":{\"value\":0.8},\"x\":{\"field\":\"opening_date\"}},\"id\":\"11433\",\"type\":\"VBar\"},{\"attributes\":{\"overlay\":{\"id\":\"11421\"}},\"id\":\"11419\",\"type\":\"BoxZoomTool\"},{\"attributes\":{},\"id\":\"11410\",\"type\":\"CategoricalTicker\"},{\"attributes\":{\"factors\":[\"2022-03-05\",\"2022-03-04\",\"2022-03-03\",\"2022-03-02\",\"2022-03-01\",\"2022-02-28\",\"2022-02-27\",\"2022-02-26\",\"2022-02-25\",\"2022-02-24\",\"2022-02-23\",\"2022-02-22\",\"2022-02-21\",\"2022-02-20\",\"2022-02-19\",\"2022-02-18\",\"2022-02-17\",\"2022-02-16\",\"2022-02-15\",\"2022-02-14\",\"2022-02-13\",\"2022-02-12\",\"2022-02-11\",\"2022-02-10\",\"2022-02-09\",\"2022-02-08\",\"2022-02-07\",\"2022-02-06\",\"2022-02-05\",\"2022-02-04\",\"2022-02-03\",\"2022-02-02\",\"2022-02-01\",\"2022-01-31\",\"2022-01-30\",\"2022-01-29\",\"2022-01-28\",\"2022-01-27\",\"2022-01-26\",\"2022-01-25\"],\"tags\":[[[\"opening_date\",\"opening_date\",null]]]},\"id\":\"11397\",\"type\":\"FactorRange\"},{\"attributes\":{},\"id\":\"11440\",\"type\":\"AllLabels\"},{\"attributes\":{\"tools\":[{\"id\":\"11399\"},{\"id\":\"11416\"},{\"id\":\"11417\"},{\"id\":\"11418\"},{\"id\":\"11419\"},{\"id\":\"11420\"}]},\"id\":\"11422\",\"type\":\"Toolbar\"},{\"attributes\":{},\"id\":\"11417\",\"type\":\"PanTool\"},{\"attributes\":{\"coordinates\":null,\"data_source\":{\"id\":\"11429\"},\"glyph\":{\"id\":\"11432\"},\"group\":null,\"hover_glyph\":null,\"muted_glyph\":{\"id\":\"11434\"},\"nonselection_glyph\":{\"id\":\"11433\"},\"selection_glyph\":{\"id\":\"11437\"},\"view\":{\"id\":\"11436\"}},\"id\":\"11435\",\"type\":\"GlyphRenderer\"},{\"attributes\":{\"callback\":null,\"renderers\":[{\"id\":\"11435\"}],\"tags\":[\"hv_created\"],\"tooltips\":[[\"opening_date\",\"@{opening_date}\"],[\"volume_quote_day\",\"@{volume_quote_day}\"]]},\"id\":\"11399\",\"type\":\"HoverTool\"},{\"attributes\":{},\"id\":\"11439\",\"type\":\"CategoricalTickFormatter\"},{\"attributes\":{},\"id\":\"11420\",\"type\":\"ResetTool\"},{\"attributes\":{},\"id\":\"11405\",\"type\":\"CategoricalScale\"},{\"attributes\":{\"fill_alpha\":{\"value\":0.2},\"fill_color\":{\"value\":\"#30a2da\"},\"hatch_alpha\":{\"value\":0.2},\"hatch_color\":{\"value\":\"#30a2da\"},\"line_alpha\":{\"value\":0.2},\"top\":{\"field\":\"volume_quote_day\"},\"width\":{\"value\":0.8},\"x\":{\"field\":\"opening_date\"}},\"id\":\"11434\",\"type\":\"VBar\"},{\"attributes\":{},\"id\":\"11452\",\"type\":\"UnionRenderers\"},{\"attributes\":{\"bottom_units\":\"screen\",\"coordinates\":null,\"fill_alpha\":0.5,\"fill_color\":\"lightgrey\",\"group\":null,\"left_units\":\"screen\",\"level\":\"overlay\",\"line_alpha\":1.0,\"line_color\":\"black\",\"line_dash\":[4,4],\"line_width\":2,\"right_units\":\"screen\",\"syncable\":false,\"top_units\":\"screen\"},\"id\":\"11421\",\"type\":\"BoxAnnotation\"},{\"attributes\":{\"end\":28676901.762000002,\"reset_end\":28676901.762000002,\"reset_start\":0.0,\"tags\":[[[\"volume_quote_day\",\"volume_quote_day\",null]]]},\"id\":\"11398\",\"type\":\"Range1d\"},{\"attributes\":{},\"id\":\"11418\",\"type\":\"WheelZoomTool\"},{\"attributes\":{\"margin\":[5,5,5,5],\"name\":\"HSpacer22252\",\"sizing_mode\":\"stretch_width\"},\"id\":\"11396\",\"type\":\"Spacer\"},{\"attributes\":{\"fill_color\":{\"value\":\"#30a2da\"},\"hatch_color\":{\"value\":\"#30a2da\"},\"top\":{\"field\":\"volume_quote_day\"},\"width\":{\"value\":0.8},\"x\":{\"field\":\"opening_date\"}},\"id\":\"11432\",\"type\":\"VBar\"},{\"attributes\":{\"below\":[{\"id\":\"11409\"}],\"center\":[{\"id\":\"11411\"},{\"id\":\"11415\"}],\"left\":[{\"id\":\"11412\"}],\"margin\":[5,5,5,5],\"min_border_bottom\":10,\"min_border_left\":10,\"min_border_right\":10,\"min_border_top\":10,\"renderers\":[{\"id\":\"11435\"}],\"sizing_mode\":\"fixed\",\"title\":{\"id\":\"11401\"},\"toolbar\":{\"id\":\"11422\"},\"width\":1000,\"x_range\":{\"id\":\"11397\"},\"x_scale\":{\"id\":\"11405\"},\"y_range\":{\"id\":\"11398\"},\"y_scale\":{\"id\":\"11407\"}},\"id\":\"11400\",\"subtype\":\"Figure\",\"type\":\"Plot\"}],\"root_ids\":[\"11395\"]},\"title\":\"Bokeh Application\",\"version\":\"2.4.1\"}};\n",
       "    var render_items = [{\"docid\":\"b3951b45-cf1d-4097-86a1-f0371c01dcff\",\"root_ids\":[\"11395\"],\"roots\":{\"11395\":\"f45cf161-0ea7-4ede-807b-4615b40d6a3d\"}}];\n",
       "    root.Bokeh.embed.embed_items_notebook(docs_json, render_items);\n",
       "  }\n",
       "  if (root.Bokeh !== undefined && root.Bokeh.Panel !== undefined) {\n",
       "    embed_document(root);\n",
       "  } else {\n",
       "    var attempts = 0;\n",
       "    var timer = setInterval(function(root) {\n",
       "      if (root.Bokeh !== undefined && root.Bokeh.Panel !== undefined) {\n",
       "        clearInterval(timer);\n",
       "        embed_document(root);\n",
       "      } else if (document.readyState == \"complete\") {\n",
       "        attempts++;\n",
       "        if (attempts > 200) {\n",
       "          clearInterval(timer);\n",
       "          console.log(\"Bokeh: ERROR: Unable to run BokehJS code because BokehJS library is missing\");\n",
       "        }\n",
       "      }\n",
       "    }, 25, root)\n",
       "  }\n",
       "})(window);</script>"
      ],
      "text/plain": [
       ":Bars   [opening_date]   (volume_quote_day)"
      ]
     },
     "execution_count": 318,
     "metadata": {
      "application/vnd.holoviews_exec.v0+json": {
       "id": "11395"
      }
     },
     "output_type": "execute_result"
    }
   ],
   "source": [
    "#Graph dataframe for analysis\n",
    "from bokeh.models.formatters import NumeralTickFormatter\n",
    "formatter = NumeralTickFormatter(format=\"0,0\")\n",
    "\n",
    "market_cap_df_graph_2.hvplot.bar(\n",
    "    x='opening_date', \n",
    "    y='volume_quote_day',\n",
    "    xlabel='Opening Date',\n",
    "    ylabel='Volume',\n",
    "    rot=90,\n",
    "    title='Volume Quote Per Day - 0xb47e3cd837dDF8e4c57F05d70Ab865de6e193BBB',\n",
    "    height= 600,\n",
    "    width = 1000\n",
    ").opts(\n",
    "  yformatter=formatter\n",
    ")   "
   ]
  },
  {
   "cell_type": "markdown",
   "id": "420be5a9-b49a-43f0-965b-64528bb4b12d",
   "metadata": {},
   "source": [
    "<img src=\"Images\\Volume Quote Per Day - 0xb47e3cd837dDF8e4c57F05d70Ab865de6e193BBB.png\">"
   ]
  },
  {
   "cell_type": "code",
   "execution_count": 248,
   "id": "f7352e0f-0ff8-48b7-995f-318cd24a5792",
   "metadata": {},
   "outputs": [
    {
     "data": {},
     "metadata": {},
     "output_type": "display_data"
    },
    {
     "data": {
      "application/vnd.holoviews_exec.v0+json": "",
      "text/html": [
       "<div id='6613'>\n",
       "\n",
       "\n",
       "\n",
       "\n",
       "\n",
       "  <div class=\"bk-root\" id=\"c6783c6d-9424-4266-a254-dedd6a5beb47\" data-root-id=\"6613\"></div>\n",
       "</div>\n",
       "<script type=\"application/javascript\">(function(root) {\n",
       "  function embed_document(root) {\n",
       "    var docs_json = {\"b6958a88-0ab8-4df1-ac41-a08704b26cf0\":{\"defs\":[{\"extends\":null,\"module\":null,\"name\":\"ReactiveHTML1\",\"overrides\":[],\"properties\":[]},{\"extends\":null,\"module\":null,\"name\":\"FlexBox1\",\"overrides\":[],\"properties\":[{\"default\":\"flex-start\",\"kind\":null,\"name\":\"align_content\"},{\"default\":\"flex-start\",\"kind\":null,\"name\":\"align_items\"},{\"default\":\"row\",\"kind\":null,\"name\":\"flex_direction\"},{\"default\":\"wrap\",\"kind\":null,\"name\":\"flex_wrap\"},{\"default\":\"flex-start\",\"kind\":null,\"name\":\"justify_content\"}]},{\"extends\":null,\"module\":null,\"name\":\"TemplateActions1\",\"overrides\":[],\"properties\":[{\"default\":0,\"kind\":null,\"name\":\"open_modal\"},{\"default\":0,\"kind\":null,\"name\":\"close_modal\"}]},{\"extends\":null,\"module\":null,\"name\":\"MaterialTemplateActions1\",\"overrides\":[],\"properties\":[{\"default\":0,\"kind\":null,\"name\":\"open_modal\"},{\"default\":0,\"kind\":null,\"name\":\"close_modal\"}]}],\"roots\":{\"references\":[{\"attributes\":{\"coordinates\":null,\"group\":null,\"text_color\":\"black\",\"text_font_size\":\"12pt\"},\"id\":\"6619\",\"type\":\"Title\"},{\"attributes\":{},\"id\":\"6660\",\"type\":\"BasicTickFormatter\"},{\"attributes\":{},\"id\":\"6669\",\"type\":\"UnionRenderers\"},{\"attributes\":{\"data\":{\"index\":[\"0\",\"1\",\"2\"],\"volume_quote_day\":{\"__ndarray__\":\"zczMzIn6JEG8BRIUP8OEQAAAAAAjARRB\",\"dtype\":\"float64\",\"order\":\"little\",\"shape\":[3]}},\"selected\":{\"id\":\"6648\"},\"selection_policy\":{\"id\":\"6669\"}},\"id\":\"6647\",\"type\":\"ColumnDataSource\"},{\"attributes\":{\"coordinates\":null,\"data_source\":{\"id\":\"6647\"},\"glyph\":{\"id\":\"6650\"},\"group\":null,\"hover_glyph\":null,\"muted_glyph\":{\"id\":\"6652\"},\"nonselection_glyph\":{\"id\":\"6651\"},\"selection_glyph\":{\"id\":\"6655\"},\"view\":{\"id\":\"6654\"}},\"id\":\"6653\",\"type\":\"GlyphRenderer\"},{\"attributes\":{\"below\":[{\"id\":\"6627\"}],\"center\":[{\"id\":\"6629\"},{\"id\":\"6633\"}],\"height\":300,\"left\":[{\"id\":\"6630\"}],\"margin\":[5,5,5,5],\"min_border_bottom\":10,\"min_border_left\":10,\"min_border_right\":10,\"min_border_top\":10,\"renderers\":[{\"id\":\"6653\"}],\"sizing_mode\":\"fixed\",\"title\":{\"id\":\"6619\"},\"toolbar\":{\"id\":\"6640\"},\"width\":700,\"x_range\":{\"id\":\"6615\"},\"x_scale\":{\"id\":\"6623\"},\"y_range\":{\"id\":\"6616\"},\"y_scale\":{\"id\":\"6625\"}},\"id\":\"6618\",\"subtype\":\"Figure\",\"type\":\"Plot\"},{\"attributes\":{},\"id\":\"6636\",\"type\":\"WheelZoomTool\"},{\"attributes\":{\"bottom\":{\"value\":0},\"fill_alpha\":{\"value\":1.0},\"fill_color\":{\"value\":\"#30a2da\"},\"hatch_alpha\":{\"value\":1.0},\"hatch_color\":{\"value\":\"#30a2da\"},\"hatch_scale\":{\"value\":12.0},\"hatch_weight\":{\"value\":1.0},\"line_alpha\":{\"value\":1.0},\"line_cap\":{\"value\":\"butt\"},\"line_color\":{\"value\":\"black\"},\"line_dash\":{\"value\":[]},\"line_dash_offset\":{\"value\":0},\"line_join\":{\"value\":\"bevel\"},\"line_width\":{\"value\":1},\"top\":{\"field\":\"volume_quote_day\"},\"width\":{\"value\":0.8},\"x\":{\"field\":\"index\"}},\"id\":\"6655\",\"type\":\"VBar\"},{\"attributes\":{},\"id\":\"6638\",\"type\":\"ResetTool\"},{\"attributes\":{},\"id\":\"6635\",\"type\":\"PanTool\"},{\"attributes\":{\"bottom_units\":\"screen\",\"coordinates\":null,\"fill_alpha\":0.5,\"fill_color\":\"lightgrey\",\"group\":null,\"left_units\":\"screen\",\"level\":\"overlay\",\"line_alpha\":1.0,\"line_color\":\"black\",\"line_dash\":[4,4],\"line_width\":2,\"right_units\":\"screen\",\"syncable\":false,\"top_units\":\"screen\"},\"id\":\"6639\",\"type\":\"BoxAnnotation\"},{\"attributes\":{\"axis_label\":\"\",\"coordinates\":null,\"formatter\":{\"id\":\"6657\"},\"group\":null,\"major_label_policy\":{\"id\":\"6658\"},\"ticker\":{\"id\":\"6628\"}},\"id\":\"6627\",\"type\":\"CategoricalAxis\"},{\"attributes\":{},\"id\":\"6634\",\"type\":\"SaveTool\"},{\"attributes\":{\"tools\":[{\"id\":\"6617\"},{\"id\":\"6634\"},{\"id\":\"6635\"},{\"id\":\"6636\"},{\"id\":\"6637\"},{\"id\":\"6638\"}]},\"id\":\"6640\",\"type\":\"Toolbar\"},{\"attributes\":{},\"id\":\"6657\",\"type\":\"CategoricalTickFormatter\"},{\"attributes\":{\"children\":[{\"id\":\"6614\"},{\"id\":\"6618\"},{\"id\":\"6682\"}],\"margin\":[0,0,0,0],\"name\":\"Row11360\",\"tags\":[\"embedded\"]},\"id\":\"6613\",\"type\":\"Row\"},{\"attributes\":{\"margin\":[5,5,5,5],\"name\":\"HSpacer11364\",\"sizing_mode\":\"stretch_width\"},\"id\":\"6614\",\"type\":\"Spacer\"},{\"attributes\":{},\"id\":\"6661\",\"type\":\"AllLabels\"},{\"attributes\":{\"source\":{\"id\":\"6647\"}},\"id\":\"6654\",\"type\":\"CDSView\"},{\"attributes\":{\"end\":756105.34942,\"reset_end\":756105.34942,\"reset_start\":0.0,\"tags\":[[[\"volume_quote_day\",\"volume_quote_day\",null]]]},\"id\":\"6616\",\"type\":\"Range1d\"},{\"attributes\":{},\"id\":\"6658\",\"type\":\"AllLabels\"},{\"attributes\":{\"fill_alpha\":{\"value\":0.2},\"fill_color\":{\"value\":\"#30a2da\"},\"hatch_alpha\":{\"value\":0.2},\"hatch_color\":{\"value\":\"#30a2da\"},\"line_alpha\":{\"value\":0.2},\"top\":{\"field\":\"volume_quote_day\"},\"width\":{\"value\":0.8},\"x\":{\"field\":\"index\"}},\"id\":\"6652\",\"type\":\"VBar\"},{\"attributes\":{\"axis_label\":\"volume_quote_day\",\"coordinates\":null,\"formatter\":{\"id\":\"6660\"},\"group\":null,\"major_label_policy\":{\"id\":\"6661\"},\"ticker\":{\"id\":\"6631\"}},\"id\":\"6630\",\"type\":\"LinearAxis\"},{\"attributes\":{\"factors\":[\"0\",\"1\",\"2\"],\"tags\":[[[\"index\",\"index\",null]]]},\"id\":\"6615\",\"type\":\"FactorRange\"},{\"attributes\":{},\"id\":\"6648\",\"type\":\"Selection\"},{\"attributes\":{},\"id\":\"6631\",\"type\":\"BasicTicker\"},{\"attributes\":{},\"id\":\"6628\",\"type\":\"CategoricalTicker\"},{\"attributes\":{\"margin\":[5,5,5,5],\"name\":\"HSpacer11365\",\"sizing_mode\":\"stretch_width\"},\"id\":\"6682\",\"type\":\"Spacer\"},{\"attributes\":{\"axis\":{\"id\":\"6630\"},\"coordinates\":null,\"dimension\":1,\"grid_line_color\":null,\"group\":null,\"ticker\":null},\"id\":\"6633\",\"type\":\"Grid\"},{\"attributes\":{\"fill_color\":{\"value\":\"#30a2da\"},\"hatch_color\":{\"value\":\"#30a2da\"},\"top\":{\"field\":\"volume_quote_day\"},\"width\":{\"value\":0.8},\"x\":{\"field\":\"index\"}},\"id\":\"6650\",\"type\":\"VBar\"},{\"attributes\":{\"callback\":null,\"renderers\":[{\"id\":\"6653\"}],\"tags\":[\"hv_created\"],\"tooltips\":[[\"index\",\"@{index}\"],[\"volume_quote_day\",\"@{volume_quote_day}\"]]},\"id\":\"6617\",\"type\":\"HoverTool\"},{\"attributes\":{\"axis\":{\"id\":\"6627\"},\"coordinates\":null,\"grid_line_color\":null,\"group\":null,\"ticker\":null},\"id\":\"6629\",\"type\":\"Grid\"},{\"attributes\":{\"fill_alpha\":{\"value\":0.1},\"fill_color\":{\"value\":\"#30a2da\"},\"hatch_alpha\":{\"value\":0.1},\"hatch_color\":{\"value\":\"#30a2da\"},\"line_alpha\":{\"value\":0.1},\"top\":{\"field\":\"volume_quote_day\"},\"width\":{\"value\":0.8},\"x\":{\"field\":\"index\"}},\"id\":\"6651\",\"type\":\"VBar\"},{\"attributes\":{\"overlay\":{\"id\":\"6639\"}},\"id\":\"6637\",\"type\":\"BoxZoomTool\"},{\"attributes\":{},\"id\":\"6625\",\"type\":\"LinearScale\"},{\"attributes\":{},\"id\":\"6623\",\"type\":\"CategoricalScale\"}],\"root_ids\":[\"6613\"]},\"title\":\"Bokeh Application\",\"version\":\"2.4.1\"}};\n",
       "    var render_items = [{\"docid\":\"b6958a88-0ab8-4df1-ac41-a08704b26cf0\",\"root_ids\":[\"6613\"],\"roots\":{\"6613\":\"c6783c6d-9424-4266-a254-dedd6a5beb47\"}}];\n",
       "    root.Bokeh.embed.embed_items_notebook(docs_json, render_items);\n",
       "  }\n",
       "  if (root.Bokeh !== undefined && root.Bokeh.Panel !== undefined) {\n",
       "    embed_document(root);\n",
       "  } else {\n",
       "    var attempts = 0;\n",
       "    var timer = setInterval(function(root) {\n",
       "      if (root.Bokeh !== undefined && root.Bokeh.Panel !== undefined) {\n",
       "        clearInterval(timer);\n",
       "        embed_document(root);\n",
       "      } else if (document.readyState == \"complete\") {\n",
       "        attempts++;\n",
       "        if (attempts > 200) {\n",
       "          clearInterval(timer);\n",
       "          console.log(\"Bokeh: ERROR: Unable to run BokehJS code because BokehJS library is missing\");\n",
       "        }\n",
       "      }\n",
       "    }, 25, root)\n",
       "  }\n",
       "})(window);</script>"
      ],
      "text/plain": [
       ":Bars   [index]   (volume_quote_day)"
      ]
     },
     "execution_count": 248,
     "metadata": {
      "application/vnd.holoviews_exec.v0+json": {
       "id": "6613"
      }
     },
     "output_type": "execute_result"
    }
   ],
   "source": [
    "market_cap_df_graph.hvplot.bar()"
   ]
  },
  {
   "cell_type": "code",
   "execution_count": 253,
   "id": "e37b58fd-7355-474b-93c2-62c1aed188e7",
   "metadata": {},
   "outputs": [],
   "source": [
    "from bokeh.models.formatters import NumeralTickFormatter\n",
    "formatter = NumeralTickFormatter(format=\"0,0\")\n",
    "graph2 = market_cap_df_graph_2.hvplot.bar(\n",
    "    x='opening_date', \n",
    "    y='volume_quote_day',\n",
    "    xlabel='Opening Date',\n",
    "    ylabel='Volume',\n",
    "    rot=90,\n",
    "    label='0xb47e3cd837dDF8e4c57F05d70Ab865de6e193BBB',\n",
    "    height= 600,\n",
    "    width = 1000\n",
    ").opts(\n",
    "  yformatter=formatter\n",
    ") \n",
    "\n",
    "graph1  = market_cap_df_graph.hvplot.bar(\n",
    "    x='opening_date', \n",
    "    y='volume_quote_day',\n",
    "    xlabel='Opening Date',\n",
    "    ylabel='Volume',\n",
    "    rot=90,\n",
    "    label='0xb7f7f6c52f2e2fdb1963eab30438024864c313f6',\n",
    "    height= 600,\n",
    "    width = 1000\n",
    ").opts(\n",
    "  yformatter=formatter\n",
    ") "
   ]
  },
  {
   "cell_type": "code",
   "execution_count": 313,
   "id": "55094bb4-dc69-43d1-b736-3ceaffd6d9bb",
   "metadata": {},
   "outputs": [
    {
     "data": {},
     "metadata": {},
     "output_type": "display_data"
    },
    {
     "data": {
      "application/vnd.holoviews_exec.v0+json": "",
      "text/html": [
       "<div id='10803'>\n",
       "\n",
       "\n",
       "\n",
       "\n",
       "\n",
       "  <div class=\"bk-root\" id=\"cc2140e2-bdd3-41dc-a522-21f2f28ea011\" data-root-id=\"10803\"></div>\n",
       "</div>\n",
       "<script type=\"application/javascript\">(function(root) {\n",
       "  function embed_document(root) {\n",
       "    var docs_json = {\"d8639020-f048-48f4-bcb7-c7c01914e620\":{\"defs\":[{\"extends\":null,\"module\":null,\"name\":\"ReactiveHTML1\",\"overrides\":[],\"properties\":[]},{\"extends\":null,\"module\":null,\"name\":\"FlexBox1\",\"overrides\":[],\"properties\":[{\"default\":\"flex-start\",\"kind\":null,\"name\":\"align_content\"},{\"default\":\"flex-start\",\"kind\":null,\"name\":\"align_items\"},{\"default\":\"row\",\"kind\":null,\"name\":\"flex_direction\"},{\"default\":\"wrap\",\"kind\":null,\"name\":\"flex_wrap\"},{\"default\":\"flex-start\",\"kind\":null,\"name\":\"justify_content\"}]},{\"extends\":null,\"module\":null,\"name\":\"TemplateActions1\",\"overrides\":[],\"properties\":[{\"default\":0,\"kind\":null,\"name\":\"open_modal\"},{\"default\":0,\"kind\":null,\"name\":\"close_modal\"}]},{\"extends\":null,\"module\":null,\"name\":\"MaterialTemplateActions1\",\"overrides\":[],\"properties\":[{\"default\":0,\"kind\":null,\"name\":\"open_modal\"},{\"default\":0,\"kind\":null,\"name\":\"close_modal\"}]}],\"roots\":{\"references\":[{\"attributes\":{\"axis\":{\"id\":\"10818\"},\"coordinates\":null,\"grid_line_color\":null,\"group\":null,\"ticker\":null},\"id\":\"10820\",\"type\":\"Grid\"},{\"attributes\":{},\"id\":\"10814\",\"type\":\"CategoricalScale\"},{\"attributes\":{},\"id\":\"10829\",\"type\":\"ResetTool\"},{\"attributes\":{\"label\":{\"value\":\"0xb7f7f6c52f2e2fdb1963eab30438024864c313f6\"},\"renderers\":[{\"id\":\"10872\"}]},\"id\":\"10885\",\"type\":\"LegendItem\"},{\"attributes\":{},\"id\":\"10840\",\"type\":\"AllLabels\"},{\"attributes\":{\"axis_label\":\"Opening Date\",\"coordinates\":null,\"formatter\":{\"id\":\"10839\"},\"group\":null,\"major_label_orientation\":1.5707963267948966,\"major_label_policy\":{\"id\":\"10840\"},\"ticker\":{\"id\":\"10819\"}},\"id\":\"10818\",\"type\":\"CategoricalAxis\"},{\"attributes\":{},\"id\":\"10816\",\"type\":\"LinearScale\"},{\"attributes\":{\"fill_color\":{\"value\":\"#30a2da\"},\"hatch_color\":{\"value\":\"#30a2da\"},\"top\":{\"field\":\"volume_quote_day\"},\"width\":{\"value\":0.8},\"x\":{\"field\":\"opening_date\"}},\"id\":\"10849\",\"type\":\"VBar\"},{\"attributes\":{},\"id\":\"10822\",\"type\":\"BasicTicker\"},{\"attributes\":{\"tools\":[{\"id\":\"10807\"},{\"id\":\"10825\"},{\"id\":\"10826\"},{\"id\":\"10827\"},{\"id\":\"10828\"},{\"id\":\"10829\"}]},\"id\":\"10831\",\"type\":\"Toolbar\"},{\"attributes\":{},\"id\":\"10819\",\"type\":\"CategoricalTicker\"},{\"attributes\":{\"fill_alpha\":{\"value\":0.2},\"fill_color\":{\"value\":\"#fc4f30\"},\"hatch_alpha\":{\"value\":0.2},\"hatch_color\":{\"value\":\"#fc4f30\"},\"line_alpha\":{\"value\":0.2},\"top\":{\"field\":\"volume_quote_day\"},\"width\":{\"value\":0.8},\"x\":{\"field\":\"opening_date\"}},\"id\":\"10871\",\"type\":\"VBar\"},{\"attributes\":{\"below\":[{\"id\":\"10818\"}],\"center\":[{\"id\":\"10820\"},{\"id\":\"10824\"}],\"left\":[{\"id\":\"10821\"}],\"margin\":[5,5,5,5],\"min_border_bottom\":10,\"min_border_left\":10,\"min_border_right\":10,\"min_border_top\":10,\"renderers\":[{\"id\":\"10852\"},{\"id\":\"10872\"}],\"right\":[{\"id\":\"10863\"}],\"sizing_mode\":\"fixed\",\"title\":{\"id\":\"10810\"},\"toolbar\":{\"id\":\"10831\"},\"width\":1000,\"x_range\":{\"id\":\"10805\"},\"x_scale\":{\"id\":\"10814\"},\"y_range\":{\"id\":\"10806\"},\"y_scale\":{\"id\":\"10816\"}},\"id\":\"10809\",\"subtype\":\"Figure\",\"type\":\"Plot\"},{\"attributes\":{\"axis_label\":\"Volume\",\"coordinates\":null,\"formatter\":{\"id\":\"7594\"},\"group\":null,\"major_label_policy\":{\"id\":\"10843\"},\"ticker\":{\"id\":\"10822\"}},\"id\":\"10821\",\"type\":\"LinearAxis\"},{\"attributes\":{\"fill_alpha\":{\"value\":0.1},\"fill_color\":{\"value\":\"#fc4f30\"},\"hatch_alpha\":{\"value\":0.1},\"hatch_color\":{\"value\":\"#fc4f30\"},\"line_alpha\":{\"value\":0.1},\"top\":{\"field\":\"volume_quote_day\"},\"width\":{\"value\":0.8},\"x\":{\"field\":\"opening_date\"}},\"id\":\"10870\",\"type\":\"VBar\"},{\"attributes\":{},\"id\":\"10867\",\"type\":\"Selection\"},{\"attributes\":{\"axis\":{\"id\":\"10821\"},\"coordinates\":null,\"dimension\":1,\"grid_line_color\":null,\"group\":null,\"ticker\":null},\"id\":\"10824\",\"type\":\"Grid\"},{\"attributes\":{},\"id\":\"10847\",\"type\":\"Selection\"},{\"attributes\":{\"fill_color\":{\"value\":\"#fc4f30\"},\"hatch_color\":{\"value\":\"#fc4f30\"},\"top\":{\"field\":\"volume_quote_day\"},\"width\":{\"value\":0.8},\"x\":{\"field\":\"opening_date\"}},\"id\":\"10869\",\"type\":\"VBar\"},{\"attributes\":{\"data\":{\"opening_date\":[\"2022-03-05\",\"2022-03-04\",\"2022-03-03\",\"2022-03-02\",\"2022-03-01\",\"2022-02-28\",\"2022-02-27\",\"2022-02-26\",\"2022-02-25\",\"2022-02-24\",\"2022-02-23\",\"2022-02-22\",\"2022-02-21\",\"2022-02-20\",\"2022-02-19\",\"2022-02-18\",\"2022-02-17\",\"2022-02-16\",\"2022-02-15\",\"2022-02-14\",\"2022-02-13\",\"2022-02-12\",\"2022-02-11\",\"2022-02-10\",\"2022-02-09\",\"2022-02-08\",\"2022-02-07\",\"2022-02-06\",\"2022-02-05\",\"2022-02-04\",\"2022-02-03\",\"2022-02-02\",\"2022-02-01\",\"2022-01-31\",\"2022-01-30\",\"2022-01-29\",\"2022-01-28\",\"2022-01-27\",\"2022-01-26\",\"2022-01-25\"],\"volume_quote_day\":{\"__ndarray__\":\"FK5H4bjVIEHsUbgebacpQQAAAAB5gDNBZmZmZlmwQUHNzMzM2ZMpQZqZmZn9xzdBmpmZGcDvREHNzMzMuko5QZqZmRnyDDVBmpmZmc3RN0FmZmZmj7oqQZqZmZlmoSZB7FG4HjiVLEGamZmZ/10xQZqZmZmqxyhBAAAAgH6CKEEpXI/CMYAdQaRwPQoTmg1BAAAAgC4rIUFmZmZmk7gwQQAAAMB3oVJBAAAAQBvieEHNzMzMSyo3QexRuB7bIy1BAAAAII58ZEEAAACAWI8+QQAAAMAqe0hBZmZm5rDCOUFmZmZmYp0/Qc3MzMyVNDNBAAAAACbWNkFmZmZmC+pPQWZmZubj+EhBAAAAwDNcVkEAAAAAJB9VQWZmZmZzjUhBAAAAIJWcYkGamZmZfQFCQQAAAEAP1WBBAAAAAGl3c0E=\",\"dtype\":\"float64\",\"order\":\"little\",\"shape\":[40]}},\"selected\":{\"id\":\"10847\"},\"selection_policy\":{\"id\":\"10860\"}},\"id\":\"10846\",\"type\":\"ColumnDataSource\"},{\"attributes\":{\"data\":{\"opening_date\":[\"2022-03-30\",\"2022-02-03\",\"2022-01-17\"],\"volume_quote_day\":{\"__ndarray__\":\"zczMzIn6JEG8BRIUP8OEQAAAAAAjARRB\",\"dtype\":\"float64\",\"order\":\"little\",\"shape\":[3]}},\"selected\":{\"id\":\"10867\"},\"selection_policy\":{\"id\":\"10882\"}},\"id\":\"10866\",\"type\":\"ColumnDataSource\"},{\"attributes\":{},\"id\":\"7594\",\"type\":\"NumeralTickFormatter\"},{\"attributes\":{},\"id\":\"10843\",\"type\":\"AllLabels\"},{\"attributes\":{\"bottom_units\":\"screen\",\"coordinates\":null,\"fill_alpha\":0.5,\"fill_color\":\"lightgrey\",\"group\":null,\"left_units\":\"screen\",\"level\":\"overlay\",\"line_alpha\":1.0,\"line_color\":\"black\",\"line_dash\":[4,4],\"line_width\":2,\"right_units\":\"screen\",\"syncable\":false,\"top_units\":\"screen\"},\"id\":\"10830\",\"type\":\"BoxAnnotation\"},{\"attributes\":{\"factors\":[\"2022-03-05\",\"2022-03-04\",\"2022-03-03\",\"2022-03-02\",\"2022-03-01\",\"2022-02-28\",\"2022-02-27\",\"2022-02-26\",\"2022-02-25\",\"2022-02-24\",\"2022-02-23\",\"2022-02-22\",\"2022-02-21\",\"2022-02-20\",\"2022-02-19\",\"2022-02-18\",\"2022-02-17\",\"2022-02-16\",\"2022-02-15\",\"2022-02-14\",\"2022-02-13\",\"2022-02-12\",\"2022-02-11\",\"2022-02-10\",\"2022-02-09\",\"2022-02-08\",\"2022-02-07\",\"2022-02-06\",\"2022-02-05\",\"2022-02-04\",\"2022-02-03\",\"2022-02-02\",\"2022-02-01\",\"2022-01-31\",\"2022-01-30\",\"2022-01-29\",\"2022-01-28\",\"2022-01-27\",\"2022-01-26\",\"2022-01-25\",\"2022-03-30\",\"2022-01-17\"],\"tags\":[[[\"opening_date\",\"opening_date\",null]]]},\"id\":\"10805\",\"type\":\"FactorRange\"},{\"attributes\":{\"callback\":null,\"renderers\":[{\"id\":\"10852\"},{\"id\":\"10872\"}],\"tags\":[\"hv_created\"],\"tooltips\":[[\"opening_date\",\"@{opening_date}\"],[\"volume_quote_day\",\"@{volume_quote_day}\"]]},\"id\":\"10807\",\"type\":\"HoverTool\"},{\"attributes\":{\"label\":{\"value\":\"0xb47e3cd837dDF8e4c57F05d70Ab865de6e193BBB\"},\"renderers\":[{\"id\":\"10852\"}]},\"id\":\"10864\",\"type\":\"LegendItem\"},{\"attributes\":{\"children\":[{\"id\":\"10804\"},{\"id\":\"10809\"},{\"id\":\"10986\"}],\"margin\":[0,0,0,0],\"name\":\"Row21228\",\"tags\":[\"embedded\"]},\"id\":\"10803\",\"type\":\"Row\"},{\"attributes\":{\"margin\":[5,5,5,5],\"name\":\"HSpacer21232\",\"sizing_mode\":\"stretch_width\"},\"id\":\"10804\",\"type\":\"Spacer\"},{\"attributes\":{\"fill_alpha\":{\"value\":0.1},\"fill_color\":{\"value\":\"#30a2da\"},\"hatch_alpha\":{\"value\":0.1},\"hatch_color\":{\"value\":\"#30a2da\"},\"line_alpha\":{\"value\":0.1},\"top\":{\"field\":\"volume_quote_day\"},\"width\":{\"value\":0.8},\"x\":{\"field\":\"opening_date\"}},\"id\":\"10850\",\"type\":\"VBar\"},{\"attributes\":{\"bottom\":{\"value\":0},\"fill_alpha\":{\"value\":1.0},\"fill_color\":{\"value\":\"#fc4f30\"},\"hatch_alpha\":{\"value\":1.0},\"hatch_color\":{\"value\":\"#fc4f30\"},\"hatch_scale\":{\"value\":12.0},\"hatch_weight\":{\"value\":1.0},\"line_alpha\":{\"value\":1.0},\"line_cap\":{\"value\":\"butt\"},\"line_color\":{\"value\":\"black\"},\"line_dash\":{\"value\":[]},\"line_dash_offset\":{\"value\":0},\"line_join\":{\"value\":\"bevel\"},\"line_width\":{\"value\":1},\"top\":{\"field\":\"volume_quote_day\"},\"width\":{\"value\":0.8},\"x\":{\"field\":\"opening_date\"}},\"id\":\"10886\",\"type\":\"VBar\"},{\"attributes\":{\"coordinates\":null,\"data_source\":{\"id\":\"10866\"},\"glyph\":{\"id\":\"10869\"},\"group\":null,\"hover_glyph\":null,\"muted_glyph\":{\"id\":\"10871\"},\"nonselection_glyph\":{\"id\":\"10870\"},\"selection_glyph\":{\"id\":\"10886\"},\"view\":{\"id\":\"10873\"}},\"id\":\"10872\",\"type\":\"GlyphRenderer\"},{\"attributes\":{\"fill_alpha\":{\"value\":0.2},\"fill_color\":{\"value\":\"#30a2da\"},\"hatch_alpha\":{\"value\":0.2},\"hatch_color\":{\"value\":\"#30a2da\"},\"line_alpha\":{\"value\":0.2},\"top\":{\"field\":\"volume_quote_day\"},\"width\":{\"value\":0.8},\"x\":{\"field\":\"opening_date\"}},\"id\":\"10851\",\"type\":\"VBar\"},{\"attributes\":{},\"id\":\"10825\",\"type\":\"SaveTool\"},{\"attributes\":{\"margin\":[5,5,5,5],\"name\":\"HSpacer21233\",\"sizing_mode\":\"stretch_width\"},\"id\":\"10986\",\"type\":\"Spacer\"},{\"attributes\":{\"bottom\":{\"value\":0},\"fill_alpha\":{\"value\":1.0},\"fill_color\":{\"value\":\"#30a2da\"},\"hatch_alpha\":{\"value\":1.0},\"hatch_color\":{\"value\":\"#30a2da\"},\"hatch_scale\":{\"value\":12.0},\"hatch_weight\":{\"value\":1.0},\"line_alpha\":{\"value\":1.0},\"line_cap\":{\"value\":\"butt\"},\"line_color\":{\"value\":\"black\"},\"line_dash\":{\"value\":[]},\"line_dash_offset\":{\"value\":0},\"line_join\":{\"value\":\"bevel\"},\"line_width\":{\"value\":1},\"top\":{\"field\":\"volume_quote_day\"},\"width\":{\"value\":0.8},\"x\":{\"field\":\"opening_date\"}},\"id\":\"10865\",\"type\":\"VBar\"},{\"attributes\":{},\"id\":\"10826\",\"type\":\"PanTool\"},{\"attributes\":{\"source\":{\"id\":\"10846\"}},\"id\":\"10853\",\"type\":\"CDSView\"},{\"attributes\":{\"source\":{\"id\":\"10866\"}},\"id\":\"10873\",\"type\":\"CDSView\"},{\"attributes\":{},\"id\":\"10827\",\"type\":\"WheelZoomTool\"},{\"attributes\":{\"coordinates\":null,\"group\":null,\"text_color\":\"black\",\"text_font_size\":\"12pt\"},\"id\":\"10810\",\"type\":\"Title\"},{\"attributes\":{},\"id\":\"10839\",\"type\":\"CategoricalTickFormatter\"},{\"attributes\":{},\"id\":\"10882\",\"type\":\"UnionRenderers\"},{\"attributes\":{\"coordinates\":null,\"data_source\":{\"id\":\"10846\"},\"glyph\":{\"id\":\"10849\"},\"group\":null,\"hover_glyph\":null,\"muted_glyph\":{\"id\":\"10851\"},\"nonselection_glyph\":{\"id\":\"10850\"},\"selection_glyph\":{\"id\":\"10865\"},\"view\":{\"id\":\"10853\"}},\"id\":\"10852\",\"type\":\"GlyphRenderer\"},{\"attributes\":{\"click_policy\":\"mute\",\"coordinates\":null,\"group\":null,\"items\":[{\"id\":\"10864\"},{\"id\":\"10885\"}],\"location\":[0,0]},\"id\":\"10863\",\"type\":\"Legend\"},{\"attributes\":{\"overlay\":{\"id\":\"10830\"}},\"id\":\"10828\",\"type\":\"BoxZoomTool\"},{\"attributes\":{},\"id\":\"10860\",\"type\":\"UnionRenderers\"},{\"attributes\":{\"end\":28701085.15942,\"reset_end\":28701085.15942,\"reset_start\":0.0,\"tags\":[[[\"volume_quote_day\",\"volume_quote_day\",null]]]},\"id\":\"10806\",\"type\":\"Range1d\"}],\"root_ids\":[\"10803\"]},\"title\":\"Bokeh Application\",\"version\":\"2.4.1\"}};\n",
       "    var render_items = [{\"docid\":\"d8639020-f048-48f4-bcb7-c7c01914e620\",\"root_ids\":[\"10803\"],\"roots\":{\"10803\":\"cc2140e2-bdd3-41dc-a522-21f2f28ea011\"}}];\n",
       "    root.Bokeh.embed.embed_items_notebook(docs_json, render_items);\n",
       "  }\n",
       "  if (root.Bokeh !== undefined && root.Bokeh.Panel !== undefined) {\n",
       "    embed_document(root);\n",
       "  } else {\n",
       "    var attempts = 0;\n",
       "    var timer = setInterval(function(root) {\n",
       "      if (root.Bokeh !== undefined && root.Bokeh.Panel !== undefined) {\n",
       "        clearInterval(timer);\n",
       "        embed_document(root);\n",
       "      } else if (document.readyState == \"complete\") {\n",
       "        attempts++;\n",
       "        if (attempts > 200) {\n",
       "          clearInterval(timer);\n",
       "          console.log(\"Bokeh: ERROR: Unable to run BokehJS code because BokehJS library is missing\");\n",
       "        }\n",
       "      }\n",
       "    }, 25, root)\n",
       "  }\n",
       "})(window);</script>"
      ],
      "text/plain": [
       ":Overlay\n",
       "   .Bars.A_0xb47e3cd837dDF8e4c57F05d70Ab865de6e193BBB :Bars   [opening_date]   (volume_quote_day)\n",
       "   .Bars.A_0xb7f7f6c52f2e2fdb1963eab30438024864c313f6 :Bars   [opening_date]   (volume_quote_day)"
      ]
     },
     "execution_count": 313,
     "metadata": {
      "application/vnd.holoviews_exec.v0+json": {
       "id": "10803"
      }
     },
     "output_type": "execute_result"
    }
   ],
   "source": [
    "graph2 * graph1"
   ]
  },
  {
   "cell_type": "code",
   "execution_count": 257,
   "id": "e0172e33-c2f9-4291-beb1-0aa0c71bd113",
   "metadata": {},
   "outputs": [
    {
     "data": {
      "text/html": [
       "<div>\n",
       "<style scoped>\n",
       "    .dataframe tbody tr th:only-of-type {\n",
       "        vertical-align: middle;\n",
       "    }\n",
       "\n",
       "    .dataframe tbody tr th {\n",
       "        vertical-align: top;\n",
       "    }\n",
       "\n",
       "    .dataframe thead th {\n",
       "        text-align: right;\n",
       "    }\n",
       "</style>\n",
       "<table border=\"1\" class=\"dataframe\">\n",
       "  <thead>\n",
       "    <tr style=\"text-align: right;\">\n",
       "      <th></th>\n",
       "      <th>opening_date</th>\n",
       "      <th>volume_quote_day</th>\n",
       "    </tr>\n",
       "  </thead>\n",
       "  <tbody>\n",
       "    <tr>\n",
       "      <th>0</th>\n",
       "      <td>2022-03-30</td>\n",
       "      <td>687428.9000</td>\n",
       "    </tr>\n",
       "    <tr>\n",
       "      <th>1</th>\n",
       "      <td>2022-02-03</td>\n",
       "      <td>664.4058</td>\n",
       "    </tr>\n",
       "    <tr>\n",
       "      <th>2</th>\n",
       "      <td>2022-01-17</td>\n",
       "      <td>327752.7500</td>\n",
       "    </tr>\n",
       "  </tbody>\n",
       "</table>\n",
       "</div>"
      ],
      "text/plain": [
       "  opening_date  volume_quote_day\n",
       "0   2022-03-30       687428.9000\n",
       "1   2022-02-03          664.4058\n",
       "2   2022-01-17       327752.7500"
      ]
     },
     "execution_count": 257,
     "metadata": {},
     "output_type": "execute_result"
    }
   ],
   "source": [
    "market_cap_df_graph"
   ]
  },
  {
   "cell_type": "code",
   "execution_count": 261,
   "id": "7c661fef-a829-419a-a623-a3453b978a89",
   "metadata": {},
   "outputs": [
    {
     "data": {
      "text/html": [
       "<div>\n",
       "<style scoped>\n",
       "    .dataframe tbody tr th:only-of-type {\n",
       "        vertical-align: middle;\n",
       "    }\n",
       "\n",
       "    .dataframe tbody tr th {\n",
       "        vertical-align: top;\n",
       "    }\n",
       "\n",
       "    .dataframe thead th {\n",
       "        text-align: right;\n",
       "    }\n",
       "</style>\n",
       "<table border=\"1\" class=\"dataframe\">\n",
       "  <thead>\n",
       "    <tr style=\"text-align: right;\">\n",
       "      <th></th>\n",
       "      <th>opening_date</th>\n",
       "      <th>volume_quote_day</th>\n",
       "    </tr>\n",
       "  </thead>\n",
       "  <tbody>\n",
       "    <tr>\n",
       "      <th>0</th>\n",
       "      <td>2022-03-05</td>\n",
       "      <td>551644.44</td>\n",
       "    </tr>\n",
       "    <tr>\n",
       "      <th>1</th>\n",
       "      <td>2022-03-04</td>\n",
       "      <td>840630.56</td>\n",
       "    </tr>\n",
       "    <tr>\n",
       "      <th>2</th>\n",
       "      <td>2022-03-03</td>\n",
       "      <td>1278073.00</td>\n",
       "    </tr>\n",
       "    <tr>\n",
       "      <th>3</th>\n",
       "      <td>2022-03-02</td>\n",
       "      <td>2318514.80</td>\n",
       "    </tr>\n",
       "    <tr>\n",
       "      <th>4</th>\n",
       "      <td>2022-03-01</td>\n",
       "      <td>838124.90</td>\n",
       "    </tr>\n",
       "    <tr>\n",
       "      <th>5</th>\n",
       "      <td>2022-02-28</td>\n",
       "      <td>1558525.60</td>\n",
       "    </tr>\n",
       "    <tr>\n",
       "      <th>6</th>\n",
       "      <td>2022-02-27</td>\n",
       "      <td>2744192.20</td>\n",
       "    </tr>\n",
       "    <tr>\n",
       "      <th>7</th>\n",
       "      <td>2022-02-26</td>\n",
       "      <td>1657530.80</td>\n",
       "    </tr>\n",
       "    <tr>\n",
       "      <th>8</th>\n",
       "      <td>2022-02-25</td>\n",
       "      <td>1379570.10</td>\n",
       "    </tr>\n",
       "    <tr>\n",
       "      <th>9</th>\n",
       "      <td>2022-02-24</td>\n",
       "      <td>1561037.60</td>\n",
       "    </tr>\n",
       "    <tr>\n",
       "      <th>10</th>\n",
       "      <td>2022-02-23</td>\n",
       "      <td>875847.70</td>\n",
       "    </tr>\n",
       "    <tr>\n",
       "      <th>11</th>\n",
       "      <td>2022-02-22</td>\n",
       "      <td>741555.30</td>\n",
       "    </tr>\n",
       "    <tr>\n",
       "      <th>12</th>\n",
       "      <td>2022-02-21</td>\n",
       "      <td>936604.06</td>\n",
       "    </tr>\n",
       "    <tr>\n",
       "      <th>13</th>\n",
       "      <td>2022-02-20</td>\n",
       "      <td>1138175.60</td>\n",
       "    </tr>\n",
       "    <tr>\n",
       "      <th>14</th>\n",
       "      <td>2022-02-19</td>\n",
       "      <td>811989.30</td>\n",
       "    </tr>\n",
       "    <tr>\n",
       "      <th>15</th>\n",
       "      <td>2022-02-18</td>\n",
       "      <td>803135.25</td>\n",
       "    </tr>\n",
       "    <tr>\n",
       "      <th>16</th>\n",
       "      <td>2022-02-17</td>\n",
       "      <td>483340.44</td>\n",
       "    </tr>\n",
       "    <tr>\n",
       "      <th>17</th>\n",
       "      <td>2022-02-16</td>\n",
       "      <td>242498.38</td>\n",
       "    </tr>\n",
       "    <tr>\n",
       "      <th>18</th>\n",
       "      <td>2022-02-15</td>\n",
       "      <td>562583.25</td>\n",
       "    </tr>\n",
       "    <tr>\n",
       "      <th>19</th>\n",
       "      <td>2022-02-14</td>\n",
       "      <td>1095827.40</td>\n",
       "    </tr>\n",
       "    <tr>\n",
       "      <th>20</th>\n",
       "      <td>2022-02-13</td>\n",
       "      <td>4883935.00</td>\n",
       "    </tr>\n",
       "    <tr>\n",
       "      <th>21</th>\n",
       "      <td>2022-02-12</td>\n",
       "      <td>26091956.00</td>\n",
       "    </tr>\n",
       "    <tr>\n",
       "      <th>22</th>\n",
       "      <td>2022-02-11</td>\n",
       "      <td>1518155.80</td>\n",
       "    </tr>\n",
       "    <tr>\n",
       "      <th>23</th>\n",
       "      <td>2022-02-10</td>\n",
       "      <td>954861.56</td>\n",
       "    </tr>\n",
       "    <tr>\n",
       "      <th>24</th>\n",
       "      <td>2022-02-09</td>\n",
       "      <td>10740849.00</td>\n",
       "    </tr>\n",
       "    <tr>\n",
       "      <th>25</th>\n",
       "      <td>2022-02-08</td>\n",
       "      <td>2002776.50</td>\n",
       "    </tr>\n",
       "    <tr>\n",
       "      <th>26</th>\n",
       "      <td>2022-02-07</td>\n",
       "      <td>3208789.50</td>\n",
       "    </tr>\n",
       "    <tr>\n",
       "      <th>27</th>\n",
       "      <td>2022-02-06</td>\n",
       "      <td>1688240.90</td>\n",
       "    </tr>\n",
       "    <tr>\n",
       "      <th>28</th>\n",
       "      <td>2022-02-05</td>\n",
       "      <td>2071906.40</td>\n",
       "    </tr>\n",
       "    <tr>\n",
       "      <th>29</th>\n",
       "      <td>2022-02-04</td>\n",
       "      <td>1258645.80</td>\n",
       "    </tr>\n",
       "    <tr>\n",
       "      <th>30</th>\n",
       "      <td>2022-02-03</td>\n",
       "      <td>1496614.00</td>\n",
       "    </tr>\n",
       "    <tr>\n",
       "      <th>31</th>\n",
       "      <td>2022-02-02</td>\n",
       "      <td>4183062.80</td>\n",
       "    </tr>\n",
       "    <tr>\n",
       "      <th>32</th>\n",
       "      <td>2022-02-01</td>\n",
       "      <td>3273159.80</td>\n",
       "    </tr>\n",
       "    <tr>\n",
       "      <th>33</th>\n",
       "      <td>2022-01-31</td>\n",
       "      <td>5861583.00</td>\n",
       "    </tr>\n",
       "    <tr>\n",
       "      <th>34</th>\n",
       "      <td>2022-01-30</td>\n",
       "      <td>5536912.00</td>\n",
       "    </tr>\n",
       "    <tr>\n",
       "      <th>35</th>\n",
       "      <td>2022-01-29</td>\n",
       "      <td>3218150.80</td>\n",
       "    </tr>\n",
       "    <tr>\n",
       "      <th>36</th>\n",
       "      <td>2022-01-28</td>\n",
       "      <td>9757865.00</td>\n",
       "    </tr>\n",
       "    <tr>\n",
       "      <th>37</th>\n",
       "      <td>2022-01-27</td>\n",
       "      <td>2360059.20</td>\n",
       "    </tr>\n",
       "    <tr>\n",
       "      <th>38</th>\n",
       "      <td>2022-01-26</td>\n",
       "      <td>8824954.00</td>\n",
       "    </tr>\n",
       "    <tr>\n",
       "      <th>39</th>\n",
       "      <td>2022-01-25</td>\n",
       "      <td>20412048.00</td>\n",
       "    </tr>\n",
       "  </tbody>\n",
       "</table>\n",
       "</div>"
      ],
      "text/plain": [
       "   opening_date  volume_quote_day\n",
       "0    2022-03-05         551644.44\n",
       "1    2022-03-04         840630.56\n",
       "2    2022-03-03        1278073.00\n",
       "3    2022-03-02        2318514.80\n",
       "4    2022-03-01         838124.90\n",
       "5    2022-02-28        1558525.60\n",
       "6    2022-02-27        2744192.20\n",
       "7    2022-02-26        1657530.80\n",
       "8    2022-02-25        1379570.10\n",
       "9    2022-02-24        1561037.60\n",
       "10   2022-02-23         875847.70\n",
       "11   2022-02-22         741555.30\n",
       "12   2022-02-21         936604.06\n",
       "13   2022-02-20        1138175.60\n",
       "14   2022-02-19         811989.30\n",
       "15   2022-02-18         803135.25\n",
       "16   2022-02-17         483340.44\n",
       "17   2022-02-16         242498.38\n",
       "18   2022-02-15         562583.25\n",
       "19   2022-02-14        1095827.40\n",
       "20   2022-02-13        4883935.00\n",
       "21   2022-02-12       26091956.00\n",
       "22   2022-02-11        1518155.80\n",
       "23   2022-02-10         954861.56\n",
       "24   2022-02-09       10740849.00\n",
       "25   2022-02-08        2002776.50\n",
       "26   2022-02-07        3208789.50\n",
       "27   2022-02-06        1688240.90\n",
       "28   2022-02-05        2071906.40\n",
       "29   2022-02-04        1258645.80\n",
       "30   2022-02-03        1496614.00\n",
       "31   2022-02-02        4183062.80\n",
       "32   2022-02-01        3273159.80\n",
       "33   2022-01-31        5861583.00\n",
       "34   2022-01-30        5536912.00\n",
       "35   2022-01-29        3218150.80\n",
       "36   2022-01-28        9757865.00\n",
       "37   2022-01-27        2360059.20\n",
       "38   2022-01-26        8824954.00\n",
       "39   2022-01-25       20412048.00"
      ]
     },
     "execution_count": 261,
     "metadata": {},
     "output_type": "execute_result"
    }
   ],
   "source": [
    "market_cap_df_graph_2"
   ]
  },
  {
   "cell_type": "code",
   "execution_count": 267,
   "id": "c5b8b460-f228-411e-b3ac-fca808830b32",
   "metadata": {},
   "outputs": [
    {
     "data": {
      "text/html": [
       "<div>\n",
       "<style scoped>\n",
       "    .dataframe tbody tr th:only-of-type {\n",
       "        vertical-align: middle;\n",
       "    }\n",
       "\n",
       "    .dataframe tbody tr th {\n",
       "        vertical-align: top;\n",
       "    }\n",
       "\n",
       "    .dataframe thead th {\n",
       "        text-align: right;\n",
       "    }\n",
       "</style>\n",
       "<table border=\"1\" class=\"dataframe\">\n",
       "  <thead>\n",
       "    <tr style=\"text-align: right;\">\n",
       "      <th></th>\n",
       "      <th>opening_date</th>\n",
       "      <th>volume_quote_day</th>\n",
       "    </tr>\n",
       "  </thead>\n",
       "  <tbody>\n",
       "    <tr>\n",
       "      <th>0</th>\n",
       "      <td>2022-03-30</td>\n",
       "      <td>687428.9000</td>\n",
       "    </tr>\n",
       "    <tr>\n",
       "      <th>1</th>\n",
       "      <td>2022-02-03</td>\n",
       "      <td>664.4058</td>\n",
       "    </tr>\n",
       "    <tr>\n",
       "      <th>2</th>\n",
       "      <td>2022-01-17</td>\n",
       "      <td>327752.7500</td>\n",
       "    </tr>\n",
       "  </tbody>\n",
       "</table>\n",
       "</div>"
      ],
      "text/plain": [
       "  opening_date  volume_quote_day\n",
       "0   2022-03-30       687428.9000\n",
       "1   2022-02-03          664.4058\n",
       "2   2022-01-17       327752.7500"
      ]
     },
     "execution_count": 267,
     "metadata": {},
     "output_type": "execute_result"
    }
   ],
   "source": [
    "market_cap_df_graph"
   ]
  },
  {
   "cell_type": "code",
   "execution_count": 268,
   "id": "7c2fcc88-160e-4bad-b379-13ff94aeee93",
   "metadata": {},
   "outputs": [],
   "source": [
    "market_cap_df_graph['Token'] = '0xb7f7f6c52f2e2fdb1963eab30438024864c313f6'"
   ]
  },
  {
   "cell_type": "code",
   "execution_count": 269,
   "id": "80897766-04a8-4eff-8a9e-3a0270c8fb3d",
   "metadata": {},
   "outputs": [
    {
     "data": {
      "text/html": [
       "<div>\n",
       "<style scoped>\n",
       "    .dataframe tbody tr th:only-of-type {\n",
       "        vertical-align: middle;\n",
       "    }\n",
       "\n",
       "    .dataframe tbody tr th {\n",
       "        vertical-align: top;\n",
       "    }\n",
       "\n",
       "    .dataframe thead th {\n",
       "        text-align: right;\n",
       "    }\n",
       "</style>\n",
       "<table border=\"1\" class=\"dataframe\">\n",
       "  <thead>\n",
       "    <tr style=\"text-align: right;\">\n",
       "      <th></th>\n",
       "      <th>opening_date</th>\n",
       "      <th>volume_quote_day</th>\n",
       "      <th>Token</th>\n",
       "    </tr>\n",
       "  </thead>\n",
       "  <tbody>\n",
       "    <tr>\n",
       "      <th>0</th>\n",
       "      <td>2022-03-30</td>\n",
       "      <td>687428.9000</td>\n",
       "      <td>0xb7f7f6c52f2e2fdb1963eab30438024864c313f6</td>\n",
       "    </tr>\n",
       "    <tr>\n",
       "      <th>1</th>\n",
       "      <td>2022-02-03</td>\n",
       "      <td>664.4058</td>\n",
       "      <td>0xb7f7f6c52f2e2fdb1963eab30438024864c313f6</td>\n",
       "    </tr>\n",
       "    <tr>\n",
       "      <th>2</th>\n",
       "      <td>2022-01-17</td>\n",
       "      <td>327752.7500</td>\n",
       "      <td>0xb7f7f6c52f2e2fdb1963eab30438024864c313f6</td>\n",
       "    </tr>\n",
       "  </tbody>\n",
       "</table>\n",
       "</div>"
      ],
      "text/plain": [
       "  opening_date  volume_quote_day                                       Token\n",
       "0   2022-03-30       687428.9000  0xb7f7f6c52f2e2fdb1963eab30438024864c313f6\n",
       "1   2022-02-03          664.4058  0xb7f7f6c52f2e2fdb1963eab30438024864c313f6\n",
       "2   2022-01-17       327752.7500  0xb7f7f6c52f2e2fdb1963eab30438024864c313f6"
      ]
     },
     "execution_count": 269,
     "metadata": {},
     "output_type": "execute_result"
    }
   ],
   "source": [
    "market_cap_df_graph"
   ]
  },
  {
   "cell_type": "code",
   "execution_count": 277,
   "id": "9fa94fc7-526d-44b3-bd8c-cb2e6ed8d4ca",
   "metadata": {},
   "outputs": [],
   "source": [
    "market_cap_df_graph_2['Token'] = '0xb47e3cd837dDF8e4c57F05d70Ab865de6e193BBB'"
   ]
  },
  {
   "cell_type": "code",
   "execution_count": 278,
   "id": "97d9de32-52bb-48f3-8a76-057ee56b82ac",
   "metadata": {},
   "outputs": [
    {
     "data": {
      "text/html": [
       "<div>\n",
       "<style scoped>\n",
       "    .dataframe tbody tr th:only-of-type {\n",
       "        vertical-align: middle;\n",
       "    }\n",
       "\n",
       "    .dataframe tbody tr th {\n",
       "        vertical-align: top;\n",
       "    }\n",
       "\n",
       "    .dataframe thead th {\n",
       "        text-align: right;\n",
       "    }\n",
       "</style>\n",
       "<table border=\"1\" class=\"dataframe\">\n",
       "  <thead>\n",
       "    <tr style=\"text-align: right;\">\n",
       "      <th></th>\n",
       "      <th>opening_date</th>\n",
       "      <th>volume_quote_day</th>\n",
       "      <th>Token</th>\n",
       "    </tr>\n",
       "  </thead>\n",
       "  <tbody>\n",
       "    <tr>\n",
       "      <th>0</th>\n",
       "      <td>2022-03-05</td>\n",
       "      <td>551644.44</td>\n",
       "      <td>0xb47e3cd837dDF8e4c57F05d70Ab865de6e193BBB</td>\n",
       "    </tr>\n",
       "    <tr>\n",
       "      <th>1</th>\n",
       "      <td>2022-03-04</td>\n",
       "      <td>840630.56</td>\n",
       "      <td>0xb47e3cd837dDF8e4c57F05d70Ab865de6e193BBB</td>\n",
       "    </tr>\n",
       "    <tr>\n",
       "      <th>2</th>\n",
       "      <td>2022-03-03</td>\n",
       "      <td>1278073.00</td>\n",
       "      <td>0xb47e3cd837dDF8e4c57F05d70Ab865de6e193BBB</td>\n",
       "    </tr>\n",
       "    <tr>\n",
       "      <th>3</th>\n",
       "      <td>2022-03-02</td>\n",
       "      <td>2318514.80</td>\n",
       "      <td>0xb47e3cd837dDF8e4c57F05d70Ab865de6e193BBB</td>\n",
       "    </tr>\n",
       "    <tr>\n",
       "      <th>4</th>\n",
       "      <td>2022-03-01</td>\n",
       "      <td>838124.90</td>\n",
       "      <td>0xb47e3cd837dDF8e4c57F05d70Ab865de6e193BBB</td>\n",
       "    </tr>\n",
       "  </tbody>\n",
       "</table>\n",
       "</div>"
      ],
      "text/plain": [
       "  opening_date  volume_quote_day                                       Token\n",
       "0   2022-03-05         551644.44  0xb47e3cd837dDF8e4c57F05d70Ab865de6e193BBB\n",
       "1   2022-03-04         840630.56  0xb47e3cd837dDF8e4c57F05d70Ab865de6e193BBB\n",
       "2   2022-03-03        1278073.00  0xb47e3cd837dDF8e4c57F05d70Ab865de6e193BBB\n",
       "3   2022-03-02        2318514.80  0xb47e3cd837dDF8e4c57F05d70Ab865de6e193BBB\n",
       "4   2022-03-01         838124.90  0xb47e3cd837dDF8e4c57F05d70Ab865de6e193BBB"
      ]
     },
     "execution_count": 278,
     "metadata": {},
     "output_type": "execute_result"
    }
   ],
   "source": [
    "market_cap_df_graph_2.head()"
   ]
  },
  {
   "cell_type": "code",
   "execution_count": 290,
   "id": "5380d5b5-e3b1-4656-b467-1ba8ae8b66ee",
   "metadata": {},
   "outputs": [],
   "source": [
    "#combine dataframes into a single df\n",
    "combined_df = pd.concat([market_cap_df_graph, market_cap_df_graph_2], join=\"outer\", ignore_index=False)\n"
   ]
  },
  {
   "cell_type": "code",
   "execution_count": 291,
   "id": "3d5c51d0-8798-4166-bff3-107322b626a3",
   "metadata": {},
   "outputs": [
    {
     "data": {
      "text/html": [
       "<div>\n",
       "<style scoped>\n",
       "    .dataframe tbody tr th:only-of-type {\n",
       "        vertical-align: middle;\n",
       "    }\n",
       "\n",
       "    .dataframe tbody tr th {\n",
       "        vertical-align: top;\n",
       "    }\n",
       "\n",
       "    .dataframe thead th {\n",
       "        text-align: right;\n",
       "    }\n",
       "</style>\n",
       "<table border=\"1\" class=\"dataframe\">\n",
       "  <thead>\n",
       "    <tr style=\"text-align: right;\">\n",
       "      <th></th>\n",
       "      <th>opening_date</th>\n",
       "      <th>volume_quote_day</th>\n",
       "      <th>Token</th>\n",
       "    </tr>\n",
       "  </thead>\n",
       "  <tbody>\n",
       "    <tr>\n",
       "      <th>0</th>\n",
       "      <td>2022-03-30</td>\n",
       "      <td>687428.9000</td>\n",
       "      <td>0xb7f7f6c52f2e2fdb1963eab30438024864c313f6</td>\n",
       "    </tr>\n",
       "    <tr>\n",
       "      <th>1</th>\n",
       "      <td>2022-02-03</td>\n",
       "      <td>664.4058</td>\n",
       "      <td>0xb7f7f6c52f2e2fdb1963eab30438024864c313f6</td>\n",
       "    </tr>\n",
       "    <tr>\n",
       "      <th>2</th>\n",
       "      <td>2022-01-17</td>\n",
       "      <td>327752.7500</td>\n",
       "      <td>0xb7f7f6c52f2e2fdb1963eab30438024864c313f6</td>\n",
       "    </tr>\n",
       "    <tr>\n",
       "      <th>0</th>\n",
       "      <td>2022-03-05</td>\n",
       "      <td>551644.4400</td>\n",
       "      <td>0xb47e3cd837dDF8e4c57F05d70Ab865de6e193BBB</td>\n",
       "    </tr>\n",
       "    <tr>\n",
       "      <th>1</th>\n",
       "      <td>2022-03-04</td>\n",
       "      <td>840630.5600</td>\n",
       "      <td>0xb47e3cd837dDF8e4c57F05d70Ab865de6e193BBB</td>\n",
       "    </tr>\n",
       "  </tbody>\n",
       "</table>\n",
       "</div>"
      ],
      "text/plain": [
       "  opening_date  volume_quote_day                                       Token\n",
       "0   2022-03-30       687428.9000  0xb7f7f6c52f2e2fdb1963eab30438024864c313f6\n",
       "1   2022-02-03          664.4058  0xb7f7f6c52f2e2fdb1963eab30438024864c313f6\n",
       "2   2022-01-17       327752.7500  0xb7f7f6c52f2e2fdb1963eab30438024864c313f6\n",
       "0   2022-03-05       551644.4400  0xb47e3cd837dDF8e4c57F05d70Ab865de6e193BBB\n",
       "1   2022-03-04       840630.5600  0xb47e3cd837dDF8e4c57F05d70Ab865de6e193BBB"
      ]
     },
     "execution_count": 291,
     "metadata": {},
     "output_type": "execute_result"
    }
   ],
   "source": [
    "#validate data\n",
    "combined_df.head()"
   ]
  },
  {
   "cell_type": "code",
   "execution_count": 312,
   "id": "1055286f-b044-49f8-875a-4126bea9fb31",
   "metadata": {},
   "outputs": [
    {
     "data": {},
     "metadata": {},
     "output_type": "display_data"
    },
    {
     "data": {
      "application/vnd.holoviews_exec.v0+json": "",
      "text/html": [
       "<div id='10563'>\n",
       "\n",
       "\n",
       "\n",
       "\n",
       "\n",
       "  <div class=\"bk-root\" id=\"73a07faf-ec27-4495-9729-13e696487d33\" data-root-id=\"10563\"></div>\n",
       "</div>\n",
       "<script type=\"application/javascript\">(function(root) {\n",
       "  function embed_document(root) {\n",
       "    var docs_json = {\"ca9438cc-3815-41eb-b5db-3ab57608f8fc\":{\"defs\":[{\"extends\":null,\"module\":null,\"name\":\"ReactiveHTML1\",\"overrides\":[],\"properties\":[]},{\"extends\":null,\"module\":null,\"name\":\"FlexBox1\",\"overrides\":[],\"properties\":[{\"default\":\"flex-start\",\"kind\":null,\"name\":\"align_content\"},{\"default\":\"flex-start\",\"kind\":null,\"name\":\"align_items\"},{\"default\":\"row\",\"kind\":null,\"name\":\"flex_direction\"},{\"default\":\"wrap\",\"kind\":null,\"name\":\"flex_wrap\"},{\"default\":\"flex-start\",\"kind\":null,\"name\":\"justify_content\"}]},{\"extends\":null,\"module\":null,\"name\":\"TemplateActions1\",\"overrides\":[],\"properties\":[{\"default\":0,\"kind\":null,\"name\":\"open_modal\"},{\"default\":0,\"kind\":null,\"name\":\"close_modal\"}]},{\"extends\":null,\"module\":null,\"name\":\"MaterialTemplateActions1\",\"overrides\":[],\"properties\":[{\"default\":0,\"kind\":null,\"name\":\"open_modal\"},{\"default\":0,\"kind\":null,\"name\":\"close_modal\"}]}],\"roots\":{\"references\":[{\"attributes\":{\"fill_color\":{\"value\":\"#fc4f30\"},\"hatch_color\":{\"value\":\"#fc4f30\"},\"line_color\":{\"value\":\"#fc4f30\"},\"size\":{\"value\":5.477225575051661},\"x\":{\"field\":\"opening_date\"},\"y\":{\"field\":\"volume_quote_day\"}},\"id\":\"10629\",\"type\":\"Scatter\"},{\"attributes\":{\"axis\":{\"id\":\"10581\"},\"coordinates\":null,\"dimension\":1,\"grid_line_color\":null,\"group\":null,\"ticker\":null},\"id\":\"10584\",\"type\":\"Grid\"},{\"attributes\":{},\"id\":\"10582\",\"type\":\"BasicTicker\"},{\"attributes\":{\"axis\":{\"id\":\"10578\"},\"coordinates\":null,\"grid_line_color\":null,\"group\":null,\"ticker\":null},\"id\":\"10580\",\"type\":\"Grid\"},{\"attributes\":{},\"id\":\"10600\",\"type\":\"AllLabels\"},{\"attributes\":{\"margin\":[5,5,5,5],\"name\":\"HSpacer20873\",\"sizing_mode\":\"stretch_width\"},\"id\":\"10564\",\"type\":\"Spacer\"},{\"attributes\":{\"angle\":{\"value\":0.0},\"fill_alpha\":{\"value\":1.0},\"fill_color\":{\"value\":\"#fc4f30\"},\"hatch_alpha\":{\"value\":1.0},\"hatch_color\":{\"value\":\"#fc4f30\"},\"hatch_scale\":{\"value\":12.0},\"hatch_weight\":{\"value\":1.0},\"line_alpha\":{\"value\":1.0},\"line_cap\":{\"value\":\"butt\"},\"line_color\":{\"value\":\"#fc4f30\"},\"line_dash\":{\"value\":[]},\"line_dash_offset\":{\"value\":0},\"line_join\":{\"value\":\"bevel\"},\"line_width\":{\"value\":1},\"marker\":{\"value\":\"circle\"},\"size\":{\"value\":5.477225575051661},\"x\":{\"field\":\"opening_date\"},\"y\":{\"field\":\"volume_quote_day\"}},\"id\":\"10646\",\"type\":\"Scatter\"},{\"attributes\":{\"fill_alpha\":{\"value\":0.1},\"fill_color\":{\"value\":\"#30a2da\"},\"hatch_alpha\":{\"value\":0.1},\"hatch_color\":{\"value\":\"#30a2da\"},\"line_alpha\":{\"value\":0.1},\"line_color\":{\"value\":\"#30a2da\"},\"size\":{\"value\":5.477225575051661},\"x\":{\"field\":\"opening_date\"},\"y\":{\"field\":\"volume_quote_day\"}},\"id\":\"10610\",\"type\":\"Scatter\"},{\"attributes\":{},\"id\":\"10579\",\"type\":\"CategoricalTicker\"},{\"attributes\":{\"tools\":[{\"id\":\"10567\"},{\"id\":\"10585\"},{\"id\":\"10586\"},{\"id\":\"10587\"},{\"id\":\"10588\"},{\"id\":\"10589\"}]},\"id\":\"10591\",\"type\":\"Toolbar\"},{\"attributes\":{\"data\":{\"Token\":[\"0xb47e3cd837dDF8e4c57F05d70Ab865de6e193BBB\",\"0xb47e3cd837dDF8e4c57F05d70Ab865de6e193BBB\",\"0xb47e3cd837dDF8e4c57F05d70Ab865de6e193BBB\",\"0xb47e3cd837dDF8e4c57F05d70Ab865de6e193BBB\",\"0xb47e3cd837dDF8e4c57F05d70Ab865de6e193BBB\",\"0xb47e3cd837dDF8e4c57F05d70Ab865de6e193BBB\",\"0xb47e3cd837dDF8e4c57F05d70Ab865de6e193BBB\",\"0xb47e3cd837dDF8e4c57F05d70Ab865de6e193BBB\",\"0xb47e3cd837dDF8e4c57F05d70Ab865de6e193BBB\",\"0xb47e3cd837dDF8e4c57F05d70Ab865de6e193BBB\",\"0xb47e3cd837dDF8e4c57F05d70Ab865de6e193BBB\",\"0xb47e3cd837dDF8e4c57F05d70Ab865de6e193BBB\",\"0xb47e3cd837dDF8e4c57F05d70Ab865de6e193BBB\",\"0xb47e3cd837dDF8e4c57F05d70Ab865de6e193BBB\",\"0xb47e3cd837dDF8e4c57F05d70Ab865de6e193BBB\",\"0xb47e3cd837dDF8e4c57F05d70Ab865de6e193BBB\",\"0xb47e3cd837dDF8e4c57F05d70Ab865de6e193BBB\",\"0xb47e3cd837dDF8e4c57F05d70Ab865de6e193BBB\",\"0xb47e3cd837dDF8e4c57F05d70Ab865de6e193BBB\",\"0xb47e3cd837dDF8e4c57F05d70Ab865de6e193BBB\",\"0xb47e3cd837dDF8e4c57F05d70Ab865de6e193BBB\",\"0xb47e3cd837dDF8e4c57F05d70Ab865de6e193BBB\",\"0xb47e3cd837dDF8e4c57F05d70Ab865de6e193BBB\",\"0xb47e3cd837dDF8e4c57F05d70Ab865de6e193BBB\",\"0xb47e3cd837dDF8e4c57F05d70Ab865de6e193BBB\",\"0xb47e3cd837dDF8e4c57F05d70Ab865de6e193BBB\",\"0xb47e3cd837dDF8e4c57F05d70Ab865de6e193BBB\",\"0xb47e3cd837dDF8e4c57F05d70Ab865de6e193BBB\",\"0xb47e3cd837dDF8e4c57F05d70Ab865de6e193BBB\",\"0xb47e3cd837dDF8e4c57F05d70Ab865de6e193BBB\",\"0xb47e3cd837dDF8e4c57F05d70Ab865de6e193BBB\",\"0xb47e3cd837dDF8e4c57F05d70Ab865de6e193BBB\",\"0xb47e3cd837dDF8e4c57F05d70Ab865de6e193BBB\",\"0xb47e3cd837dDF8e4c57F05d70Ab865de6e193BBB\",\"0xb47e3cd837dDF8e4c57F05d70Ab865de6e193BBB\",\"0xb47e3cd837dDF8e4c57F05d70Ab865de6e193BBB\",\"0xb47e3cd837dDF8e4c57F05d70Ab865de6e193BBB\",\"0xb47e3cd837dDF8e4c57F05d70Ab865de6e193BBB\",\"0xb47e3cd837dDF8e4c57F05d70Ab865de6e193BBB\",\"0xb47e3cd837dDF8e4c57F05d70Ab865de6e193BBB\"],\"opening_date\":[\"2022-03-05\",\"2022-03-04\",\"2022-03-03\",\"2022-03-02\",\"2022-03-01\",\"2022-02-28\",\"2022-02-27\",\"2022-02-26\",\"2022-02-25\",\"2022-02-24\",\"2022-02-23\",\"2022-02-22\",\"2022-02-21\",\"2022-02-20\",\"2022-02-19\",\"2022-02-18\",\"2022-02-17\",\"2022-02-16\",\"2022-02-15\",\"2022-02-14\",\"2022-02-13\",\"2022-02-12\",\"2022-02-11\",\"2022-02-10\",\"2022-02-09\",\"2022-02-08\",\"2022-02-07\",\"2022-02-06\",\"2022-02-05\",\"2022-02-04\",\"2022-02-03\",\"2022-02-02\",\"2022-02-01\",\"2022-01-31\",\"2022-01-30\",\"2022-01-29\",\"2022-01-28\",\"2022-01-27\",\"2022-01-26\",\"2022-01-25\"],\"volume_quote_day\":{\"__ndarray__\":\"FK5H4bjVIEHsUbgebacpQQAAAAB5gDNBZmZmZlmwQUHNzMzM2ZMpQZqZmZn9xzdBmpmZGcDvREHNzMzMuko5QZqZmRnyDDVBmpmZmc3RN0FmZmZmj7oqQZqZmZlmoSZB7FG4HjiVLEGamZmZ/10xQZqZmZmqxyhBAAAAgH6CKEEpXI/CMYAdQaRwPQoTmg1BAAAAgC4rIUFmZmZmk7gwQQAAAMB3oVJBAAAAQBvieEHNzMzMSyo3QexRuB7bIy1BAAAAII58ZEEAAACAWI8+QQAAAMAqe0hBZmZm5rDCOUFmZmZmYp0/Qc3MzMyVNDNBAAAAACbWNkFmZmZmC+pPQWZmZubj+EhBAAAAwDNcVkEAAAAAJB9VQWZmZmZzjUhBAAAAIJWcYkGamZmZfQFCQQAAAEAP1WBBAAAAAGl3c0E=\",\"dtype\":\"float64\",\"order\":\"little\",\"shape\":[40]}},\"selected\":{\"id\":\"10607\"},\"selection_policy\":{\"id\":\"10620\"}},\"id\":\"10606\",\"type\":\"ColumnDataSource\"},{\"attributes\":{\"angle\":{\"value\":0.0},\"fill_alpha\":{\"value\":1.0},\"fill_color\":{\"value\":\"#30a2da\"},\"hatch_alpha\":{\"value\":1.0},\"hatch_color\":{\"value\":\"#30a2da\"},\"hatch_scale\":{\"value\":12.0},\"hatch_weight\":{\"value\":1.0},\"line_alpha\":{\"value\":1.0},\"line_cap\":{\"value\":\"butt\"},\"line_color\":{\"value\":\"#30a2da\"},\"line_dash\":{\"value\":[]},\"line_dash_offset\":{\"value\":0},\"line_join\":{\"value\":\"bevel\"},\"line_width\":{\"value\":1},\"marker\":{\"value\":\"circle\"},\"size\":{\"value\":5.477225575051661},\"x\":{\"field\":\"opening_date\"},\"y\":{\"field\":\"volume_quote_day\"}},\"id\":\"10625\",\"type\":\"Scatter\"},{\"attributes\":{\"callback\":null,\"renderers\":[{\"id\":\"10612\"},{\"id\":\"10632\"}],\"tags\":[\"hv_created\"],\"tooltips\":[[\"Token\",\"@{Token}\"],[\"opening_date\",\"@{opening_date}\"],[\"volume_quote_day\",\"@{volume_quote_day}\"]]},\"id\":\"10567\",\"type\":\"HoverTool\"},{\"attributes\":{},\"id\":\"10607\",\"type\":\"Selection\"},{\"attributes\":{\"margin\":[5,5,5,5],\"name\":\"HSpacer20874\",\"sizing_mode\":\"stretch_width\"},\"id\":\"10746\",\"type\":\"Spacer\"},{\"attributes\":{},\"id\":\"10576\",\"type\":\"LinearScale\"},{\"attributes\":{\"coordinates\":null,\"group\":null,\"text\":\"Combined Analysis\",\"text_color\":\"black\",\"text_font_size\":\"12pt\"},\"id\":\"10570\",\"type\":\"Title\"},{\"attributes\":{\"axis_label\":\"Date\",\"coordinates\":null,\"formatter\":{\"id\":\"10599\"},\"group\":null,\"major_label_orientation\":1.5707963267948966,\"major_label_policy\":{\"id\":\"10600\"},\"ticker\":{\"id\":\"10579\"}},\"id\":\"10578\",\"type\":\"CategoricalAxis\"},{\"attributes\":{},\"id\":\"10585\",\"type\":\"SaveTool\"},{\"attributes\":{},\"id\":\"10586\",\"type\":\"PanTool\"},{\"attributes\":{},\"id\":\"10589\",\"type\":\"ResetTool\"},{\"attributes\":{},\"id\":\"10574\",\"type\":\"CategoricalScale\"},{\"attributes\":{\"source\":{\"id\":\"10626\"}},\"id\":\"10633\",\"type\":\"CDSView\"},{\"attributes\":{},\"id\":\"10587\",\"type\":\"WheelZoomTool\"},{\"attributes\":{},\"id\":\"10642\",\"type\":\"UnionRenderers\"},{\"attributes\":{\"below\":[{\"id\":\"10578\"}],\"center\":[{\"id\":\"10580\"},{\"id\":\"10584\"}],\"left\":[{\"id\":\"10581\"}],\"margin\":[5,5,5,5],\"min_border_bottom\":10,\"min_border_left\":10,\"min_border_right\":10,\"min_border_top\":10,\"renderers\":[{\"id\":\"10612\"},{\"id\":\"10632\"}],\"right\":[{\"id\":\"10623\"}],\"sizing_mode\":\"fixed\",\"title\":{\"id\":\"10570\"},\"toolbar\":{\"id\":\"10591\"},\"width\":1000,\"x_range\":{\"id\":\"10565\"},\"x_scale\":{\"id\":\"10574\"},\"y_range\":{\"id\":\"10566\"},\"y_scale\":{\"id\":\"10576\"}},\"id\":\"10569\",\"subtype\":\"Figure\",\"type\":\"Plot\"},{\"attributes\":{\"bottom_units\":\"screen\",\"coordinates\":null,\"fill_alpha\":0.5,\"fill_color\":\"lightgrey\",\"group\":null,\"left_units\":\"screen\",\"level\":\"overlay\",\"line_alpha\":1.0,\"line_color\":\"black\",\"line_dash\":[4,4],\"line_width\":2,\"right_units\":\"screen\",\"syncable\":false,\"top_units\":\"screen\"},\"id\":\"10590\",\"type\":\"BoxAnnotation\"},{\"attributes\":{\"overlay\":{\"id\":\"10590\"}},\"id\":\"10588\",\"type\":\"BoxZoomTool\"},{\"attributes\":{\"label\":{\"value\":\"0xb7f7f6c52f2e2fdb1963eab30438024864c313f6\"},\"renderers\":[{\"id\":\"10632\"}]},\"id\":\"10645\",\"type\":\"LegendItem\"},{\"attributes\":{\"fill_alpha\":{\"value\":0.2},\"fill_color\":{\"value\":\"#30a2da\"},\"hatch_alpha\":{\"value\":0.2},\"hatch_color\":{\"value\":\"#30a2da\"},\"line_alpha\":{\"value\":0.2},\"line_color\":{\"value\":\"#30a2da\"},\"size\":{\"value\":5.477225575051661},\"x\":{\"field\":\"opening_date\"},\"y\":{\"field\":\"volume_quote_day\"}},\"id\":\"10611\",\"type\":\"Scatter\"},{\"attributes\":{\"data\":{\"Token\":[\"0xb7f7f6c52f2e2fdb1963eab30438024864c313f6\",\"0xb7f7f6c52f2e2fdb1963eab30438024864c313f6\",\"0xb7f7f6c52f2e2fdb1963eab30438024864c313f6\"],\"opening_date\":[\"2022-03-30\",\"2022-02-03\",\"2022-01-17\"],\"volume_quote_day\":{\"__ndarray__\":\"zczMzIn6JEG8BRIUP8OEQAAAAAAjARRB\",\"dtype\":\"float64\",\"order\":\"little\",\"shape\":[3]}},\"selected\":{\"id\":\"10627\"},\"selection_policy\":{\"id\":\"10642\"}},\"id\":\"10626\",\"type\":\"ColumnDataSource\"},{\"attributes\":{\"coordinates\":null,\"data_source\":{\"id\":\"10606\"},\"glyph\":{\"id\":\"10609\"},\"group\":null,\"hover_glyph\":null,\"muted_glyph\":{\"id\":\"10611\"},\"nonselection_glyph\":{\"id\":\"10610\"},\"selection_glyph\":{\"id\":\"10625\"},\"view\":{\"id\":\"10613\"}},\"id\":\"10612\",\"type\":\"GlyphRenderer\"},{\"attributes\":{\"click_policy\":\"mute\",\"coordinates\":null,\"group\":null,\"items\":[{\"id\":\"10624\"},{\"id\":\"10645\"}],\"location\":[0,0],\"title\":\"Token\"},\"id\":\"10623\",\"type\":\"Legend\"},{\"attributes\":{},\"id\":\"10620\",\"type\":\"UnionRenderers\"},{\"attributes\":{},\"id\":\"10627\",\"type\":\"Selection\"},{\"attributes\":{\"children\":[{\"id\":\"10564\"},{\"id\":\"10569\"},{\"id\":\"10746\"}],\"margin\":[0,0,0,0],\"name\":\"Row20869\",\"tags\":[\"embedded\"]},\"id\":\"10563\",\"type\":\"Row\"},{\"attributes\":{\"source\":{\"id\":\"10606\"}},\"id\":\"10613\",\"type\":\"CDSView\"},{\"attributes\":{\"fill_color\":{\"value\":\"#30a2da\"},\"hatch_color\":{\"value\":\"#30a2da\"},\"line_color\":{\"value\":\"#30a2da\"},\"size\":{\"value\":5.477225575051661},\"x\":{\"field\":\"opening_date\"},\"y\":{\"field\":\"volume_quote_day\"}},\"id\":\"10609\",\"type\":\"Scatter\"},{\"attributes\":{},\"id\":\"10562\",\"type\":\"NumeralTickFormatter\"},{\"attributes\":{},\"id\":\"10599\",\"type\":\"CategoricalTickFormatter\"},{\"attributes\":{\"axis_label\":\"Volume\",\"coordinates\":null,\"formatter\":{\"id\":\"10562\"},\"group\":null,\"major_label_policy\":{\"id\":\"10603\"},\"ticker\":{\"id\":\"10582\"}},\"id\":\"10581\",\"type\":\"LinearAxis\"},{\"attributes\":{\"fill_alpha\":{\"value\":0.1},\"fill_color\":{\"value\":\"#fc4f30\"},\"hatch_alpha\":{\"value\":0.1},\"hatch_color\":{\"value\":\"#fc4f30\"},\"line_alpha\":{\"value\":0.1},\"line_color\":{\"value\":\"#fc4f30\"},\"size\":{\"value\":5.477225575051661},\"x\":{\"field\":\"opening_date\"},\"y\":{\"field\":\"volume_quote_day\"}},\"id\":\"10630\",\"type\":\"Scatter\"},{\"attributes\":{\"fill_alpha\":{\"value\":0.2},\"fill_color\":{\"value\":\"#fc4f30\"},\"hatch_alpha\":{\"value\":0.2},\"hatch_color\":{\"value\":\"#fc4f30\"},\"line_alpha\":{\"value\":0.2},\"line_color\":{\"value\":\"#fc4f30\"},\"size\":{\"value\":5.477225575051661},\"x\":{\"field\":\"opening_date\"},\"y\":{\"field\":\"volume_quote_day\"}},\"id\":\"10631\",\"type\":\"Scatter\"},{\"attributes\":{\"label\":{\"value\":\"0xb47e3cd837dDF8e4c57F05d70Ab865de6e193BBB\"},\"renderers\":[{\"id\":\"10612\"}]},\"id\":\"10624\",\"type\":\"LegendItem\"},{\"attributes\":{\"factors\":[\"2022-03-05\",\"2022-03-04\",\"2022-03-03\",\"2022-03-02\",\"2022-03-01\",\"2022-02-28\",\"2022-02-27\",\"2022-02-26\",\"2022-02-25\",\"2022-02-24\",\"2022-02-23\",\"2022-02-22\",\"2022-02-21\",\"2022-02-20\",\"2022-02-19\",\"2022-02-18\",\"2022-02-17\",\"2022-02-16\",\"2022-02-15\",\"2022-02-14\",\"2022-02-13\",\"2022-02-12\",\"2022-02-11\",\"2022-02-10\",\"2022-02-09\",\"2022-02-08\",\"2022-02-07\",\"2022-02-06\",\"2022-02-05\",\"2022-02-04\",\"2022-02-03\",\"2022-02-02\",\"2022-02-01\",\"2022-01-31\",\"2022-01-30\",\"2022-01-29\",\"2022-01-28\",\"2022-01-27\",\"2022-01-26\",\"2022-01-25\",\"2022-03-30\",\"2022-01-17\"],\"tags\":[[[\"opening_date\",\"opening_date\",null]]]},\"id\":\"10565\",\"type\":\"FactorRange\"},{\"attributes\":{},\"id\":\"10603\",\"type\":\"AllLabels\"},{\"attributes\":{\"end\":28701085.15942,\"reset_end\":28701085.15942,\"reset_start\":-2608464.7536200006,\"start\":-2608464.7536200006,\"tags\":[[[\"volume_quote_day\",\"volume_quote_day\",null]]]},\"id\":\"10566\",\"type\":\"Range1d\"},{\"attributes\":{\"coordinates\":null,\"data_source\":{\"id\":\"10626\"},\"glyph\":{\"id\":\"10629\"},\"group\":null,\"hover_glyph\":null,\"muted_glyph\":{\"id\":\"10631\"},\"nonselection_glyph\":{\"id\":\"10630\"},\"selection_glyph\":{\"id\":\"10646\"},\"view\":{\"id\":\"10633\"}},\"id\":\"10632\",\"type\":\"GlyphRenderer\"}],\"root_ids\":[\"10563\"]},\"title\":\"Bokeh Application\",\"version\":\"2.4.1\"}};\n",
       "    var render_items = [{\"docid\":\"ca9438cc-3815-41eb-b5db-3ab57608f8fc\",\"root_ids\":[\"10563\"],\"roots\":{\"10563\":\"73a07faf-ec27-4495-9729-13e696487d33\"}}];\n",
       "    root.Bokeh.embed.embed_items_notebook(docs_json, render_items);\n",
       "  }\n",
       "  if (root.Bokeh !== undefined && root.Bokeh.Panel !== undefined) {\n",
       "    embed_document(root);\n",
       "  } else {\n",
       "    var attempts = 0;\n",
       "    var timer = setInterval(function(root) {\n",
       "      if (root.Bokeh !== undefined && root.Bokeh.Panel !== undefined) {\n",
       "        clearInterval(timer);\n",
       "        embed_document(root);\n",
       "      } else if (document.readyState == \"complete\") {\n",
       "        attempts++;\n",
       "        if (attempts > 200) {\n",
       "          clearInterval(timer);\n",
       "          console.log(\"Bokeh: ERROR: Unable to run BokehJS code because BokehJS library is missing\");\n",
       "        }\n",
       "      }\n",
       "    }, 25, root)\n",
       "  }\n",
       "})(window);</script>"
      ],
      "text/plain": [
       ":NdOverlay   [Token]\n",
       "   :Scatter   [opening_date]   (volume_quote_day)"
      ]
     },
     "execution_count": 312,
     "metadata": {
      "application/vnd.holoviews_exec.v0+json": {
       "id": "10563"
      }
     },
     "output_type": "execute_result"
    }
   ],
   "source": [
    "#Combined Token graph\n",
    "\n",
    "from bokeh.models.formatters import NumeralTickFormatter\n",
    "formatter = NumeralTickFormatter(format=\"0,0\")\n",
    "combined_df.hvplot.scatter(\n",
    "    x='opening_date', \n",
    "    y='volume_quote_day',\n",
    "    xlabel='Date',\n",
    "    ylabel='Volume',\n",
    "    rot=90,\n",
    "    label='Combined Analysis',\n",
    "    by='Token',\n",
    "    attr_labels=False,\n",
    "    height= 600,\n",
    "    width = 1000\n",
    ").opts(\n",
    "  yformatter=formatter\n",
    ") \n"
   ]
  },
  {
   "cell_type": "markdown",
   "id": "ee711921-70d7-466f-afae-f603837a920b",
   "metadata": {},
   "source": [
    "# Import Historical Data"
   ]
  },
  {
   "cell_type": "markdown",
   "id": "3f0c67d3-05f9-4b84-9ebb-5caea21003b6",
   "metadata": {},
   "source": [
    "<img src=\"Images/cryptopunks_historical_analytics.png\">"
   ]
  },
  {
   "cell_type": "code",
   "execution_count": 349,
   "id": "8c8292aa-23fc-470e-9581-64e6550ca830",
   "metadata": {},
   "outputs": [],
   "source": [
    "#read in all cryptopunkowners\n",
    "cryptopunk_owners_path = Path(\"C:/Users/miscg/zzz/Fintech-Group-Project/Resources/2022-05_all_cryptopunk_owners.csv\")\n",
    "#cryptopunk_owners_path = Path(\"../Resources/2022-05_all_cryptopunk_owners.csv\")"
   ]
  },
  {
   "cell_type": "code",
   "execution_count": 350,
   "id": "0bbc1e4a-5971-4a44-8a91-4de09b627ffb",
   "metadata": {},
   "outputs": [],
   "source": [
    "#read in top20 sales, by ether value\n",
    "top20_sales_path = Path(\"C:/Users/miscg/zzz/Fintech-Group-Project/Resources/top20_sales_by_ether_value.csv\")\n",
    "#top20_sales_path = Path(\"../Resources/top20_sales_by_ether_value.csv\")"
   ]
  },
  {
   "cell_type": "code",
   "execution_count": 352,
   "id": "d1267468-9904-4957-83b5-3b5cd65048c0",
   "metadata": {},
   "outputs": [],
   "source": [
    "#import into dataframes\n",
    "cryptopunk_owners_df = pd.read_csv(cryptopunk_owners_path, index_col=\"#\", parse_dates=True, infer_datetime_format=True)\n",
    "top20_sales_df = pd.read_csv(top20_sales_path, index_col=\"Punk\", parse_dates=True, infer_datetime_format=True)"
   ]
  },
  {
   "cell_type": "code",
   "execution_count": 355,
   "id": "4b3fd127-89b6-4b60-be39-268dbbb7203f",
   "metadata": {},
   "outputs": [
    {
     "data": {
      "text/html": [
       "<div>\n",
       "<style scoped>\n",
       "    .dataframe tbody tr th:only-of-type {\n",
       "        vertical-align: middle;\n",
       "    }\n",
       "\n",
       "    .dataframe tbody tr th {\n",
       "        vertical-align: top;\n",
       "    }\n",
       "\n",
       "    .dataframe thead th {\n",
       "        text-align: right;\n",
       "    }\n",
       "</style>\n",
       "<table border=\"1\" class=\"dataframe\">\n",
       "  <thead>\n",
       "    <tr style=\"text-align: right;\">\n",
       "      <th></th>\n",
       "      <th>Account</th>\n",
       "      <th>OpenSea / ENS</th>\n",
       "      <th>Number Owned</th>\n",
       "      <th>last Active</th>\n",
       "    </tr>\n",
       "    <tr>\n",
       "      <th>#</th>\n",
       "      <th></th>\n",
       "      <th></th>\n",
       "      <th></th>\n",
       "      <th></th>\n",
       "    </tr>\n",
       "  </thead>\n",
       "  <tbody>\n",
       "    <tr>\n",
       "      <th>1</th>\n",
       "      <td>0xb7f7f6c52f2e2</td>\n",
       "      <td>WrappedCryptoPu</td>\n",
       "      <td>428</td>\n",
       "      <td>7 hours ago</td>\n",
       "    </tr>\n",
       "    <tr>\n",
       "      <th>2</th>\n",
       "      <td>0xa858ddc0445d8</td>\n",
       "      <td>NaN</td>\n",
       "      <td>423</td>\n",
       "      <td>1 month ago</td>\n",
       "    </tr>\n",
       "    <tr>\n",
       "      <th>3</th>\n",
       "      <td>0xa25803ab86a32</td>\n",
       "      <td>wilcox.eth</td>\n",
       "      <td>238</td>\n",
       "      <td>28 days ago</td>\n",
       "    </tr>\n",
       "    <tr>\n",
       "      <th>4</th>\n",
       "      <td>0xb88f61e6fbda8</td>\n",
       "      <td>NaN</td>\n",
       "      <td>215</td>\n",
       "      <td>11 months ago</td>\n",
       "    </tr>\n",
       "    <tr>\n",
       "      <th>5</th>\n",
       "      <td>0x577ebc5de943e</td>\n",
       "      <td>NaN</td>\n",
       "      <td>165</td>\n",
       "      <td>5 days ago</td>\n",
       "    </tr>\n",
       "  </tbody>\n",
       "</table>\n",
       "</div>"
      ],
      "text/plain": [
       "           Account    OpenSea / ENS  Number Owned    last Active\n",
       "#                                                               \n",
       "1  0xb7f7f6c52f2e2  WrappedCryptoPu           428    7 hours ago\n",
       "2  0xa858ddc0445d8              NaN           423    1 month ago\n",
       "3  0xa25803ab86a32       wilcox.eth           238    28 days ago\n",
       "4  0xb88f61e6fbda8              NaN           215  11 months ago\n",
       "5  0x577ebc5de943e              NaN           165     5 days ago"
      ]
     },
     "metadata": {},
     "output_type": "display_data"
    },
    {
     "data": {
      "text/html": [
       "<div>\n",
       "<style scoped>\n",
       "    .dataframe tbody tr th:only-of-type {\n",
       "        vertical-align: middle;\n",
       "    }\n",
       "\n",
       "    .dataframe tbody tr th {\n",
       "        vertical-align: top;\n",
       "    }\n",
       "\n",
       "    .dataframe thead th {\n",
       "        text-align: right;\n",
       "    }\n",
       "</style>\n",
       "<table border=\"1\" class=\"dataframe\">\n",
       "  <thead>\n",
       "    <tr style=\"text-align: right;\">\n",
       "      <th></th>\n",
       "      <th>Ether</th>\n",
       "      <th>EtherValueUSD_M</th>\n",
       "      <th>Date</th>\n",
       "    </tr>\n",
       "    <tr>\n",
       "      <th>Punk</th>\n",
       "      <th></th>\n",
       "      <th></th>\n",
       "      <th></th>\n",
       "    </tr>\n",
       "  </thead>\n",
       "  <tbody>\n",
       "    <tr>\n",
       "      <th>5822</th>\n",
       "      <td>8000</td>\n",
       "      <td>23.70</td>\n",
       "      <td>02/12/22</td>\n",
       "    </tr>\n",
       "    <tr>\n",
       "      <th>7804</th>\n",
       "      <td>4200</td>\n",
       "      <td>7.57</td>\n",
       "      <td>03/11/21</td>\n",
       "    </tr>\n",
       "    <tr>\n",
       "      <th>3100</th>\n",
       "      <td>4200</td>\n",
       "      <td>7.58</td>\n",
       "      <td>03/11/22</td>\n",
       "    </tr>\n",
       "    <tr>\n",
       "      <th>5577</th>\n",
       "      <td>2500</td>\n",
       "      <td>7.70</td>\n",
       "      <td>02/09/22</td>\n",
       "    </tr>\n",
       "    <tr>\n",
       "      <th>4156</th>\n",
       "      <td>2500</td>\n",
       "      <td>10.26</td>\n",
       "      <td>12/09/21</td>\n",
       "    </tr>\n",
       "  </tbody>\n",
       "</table>\n",
       "</div>"
      ],
      "text/plain": [
       "      Ether  EtherValueUSD_M      Date\n",
       "Punk                                  \n",
       "5822   8000            23.70  02/12/22\n",
       "7804   4200             7.57  03/11/21\n",
       "3100   4200             7.58  03/11/22\n",
       "5577   2500             7.70  02/09/22\n",
       "4156   2500            10.26  12/09/21"
      ]
     },
     "metadata": {},
     "output_type": "display_data"
    }
   ],
   "source": [
    "#TEMP display tem values for dataframes\n",
    "display(cryptopunk_owners_df.head())\n",
    "display(top20_sales_df.head())"
   ]
  },
  {
   "cell_type": "code",
   "execution_count": 386,
   "id": "0d472238-3ca2-48a5-86f8-442a738935bf",
   "metadata": {},
   "outputs": [
    {
     "data": {},
     "metadata": {},
     "output_type": "display_data"
    },
    {
     "data": {
      "application/vnd.holoviews_exec.v0+json": "",
      "text/html": [
       "<div id='35515'>\n",
       "\n",
       "\n",
       "\n",
       "\n",
       "\n",
       "  <div class=\"bk-root\" id=\"a8a610d8-0d06-4251-8b2d-f74bfc62f0ad\" data-root-id=\"35515\"></div>\n",
       "</div>\n",
       "<script type=\"application/javascript\">(function(root) {\n",
       "  function embed_document(root) {\n",
       "    var docs_json = {\"2ff67d63-5191-424a-917d-54c435562de1\":{\"defs\":[{\"extends\":null,\"module\":null,\"name\":\"ReactiveHTML1\",\"overrides\":[],\"properties\":[]},{\"extends\":null,\"module\":null,\"name\":\"FlexBox1\",\"overrides\":[],\"properties\":[{\"default\":\"flex-start\",\"kind\":null,\"name\":\"align_content\"},{\"default\":\"flex-start\",\"kind\":null,\"name\":\"align_items\"},{\"default\":\"row\",\"kind\":null,\"name\":\"flex_direction\"},{\"default\":\"wrap\",\"kind\":null,\"name\":\"flex_wrap\"},{\"default\":\"flex-start\",\"kind\":null,\"name\":\"justify_content\"}]},{\"extends\":null,\"module\":null,\"name\":\"TemplateActions1\",\"overrides\":[],\"properties\":[{\"default\":0,\"kind\":null,\"name\":\"open_modal\"},{\"default\":0,\"kind\":null,\"name\":\"close_modal\"}]},{\"extends\":null,\"module\":null,\"name\":\"MaterialTemplateActions1\",\"overrides\":[],\"properties\":[{\"default\":0,\"kind\":null,\"name\":\"open_modal\"},{\"default\":0,\"kind\":null,\"name\":\"close_modal\"}]}],\"roots\":{\"references\":[{\"attributes\":{\"coordinates\":null,\"data_source\":{\"id\":\"35791\"},\"glyph\":{\"id\":\"35794\"},\"group\":null,\"hover_glyph\":null,\"muted_glyph\":{\"id\":\"35796\"},\"nonselection_glyph\":{\"id\":\"35795\"},\"selection_glyph\":{\"id\":\"35826\"},\"view\":{\"id\":\"35798\"}},\"id\":\"35797\",\"type\":\"GlyphRenderer\"},{\"attributes\":{},\"id\":\"35556\",\"type\":\"PanTool\"},{\"attributes\":{\"fill_color\":{\"value\":\"#6d904f\"},\"hatch_color\":{\"value\":\"#6d904f\"},\"line_color\":{\"value\":\"#6d904f\"},\"size\":{\"value\":5.477225575051661},\"x\":{\"field\":\"EtherValueUSD_M\"},\"y\":{\"field\":\"Ether\"}},\"id\":\"35644\",\"type\":\"Scatter\"},{\"attributes\":{\"fill_alpha\":{\"value\":0.1},\"fill_color\":{\"value\":\"#e5ae38\"},\"hatch_alpha\":{\"value\":0.1},\"hatch_color\":{\"value\":\"#e5ae38\"},\"line_alpha\":{\"value\":0.1},\"line_color\":{\"value\":\"#e5ae38\"},\"size\":{\"value\":5.477225575051661},\"x\":{\"field\":\"EtherValueUSD_M\"},\"y\":{\"field\":\"Ether\"}},\"id\":\"36041\",\"type\":\"Scatter\"},{\"attributes\":{},\"id\":\"35559\",\"type\":\"ResetTool\"},{\"attributes\":{\"angle\":{\"value\":0.0},\"fill_alpha\":{\"value\":1.0},\"fill_color\":{\"value\":\"#8b8b8b\"},\"hatch_alpha\":{\"value\":1.0},\"hatch_color\":{\"value\":\"#8b8b8b\"},\"hatch_scale\":{\"value\":12.0},\"hatch_weight\":{\"value\":1.0},\"line_alpha\":{\"value\":1.0},\"line_cap\":{\"value\":\"butt\"},\"line_color\":{\"value\":\"#8b8b8b\"},\"line_dash\":{\"value\":[]},\"line_dash_offset\":{\"value\":0},\"line_join\":{\"value\":\"bevel\"},\"line_width\":{\"value\":1},\"marker\":{\"value\":\"circle\"},\"size\":{\"value\":5.477225575051661},\"x\":{\"field\":\"EtherValueUSD_M\"},\"y\":{\"field\":\"Ether\"}},\"id\":\"36186\",\"type\":\"Scatter\"},{\"attributes\":{},\"id\":\"35557\",\"type\":\"WheelZoomTool\"},{\"attributes\":{\"fill_color\":{\"value\":\"#1f77b4\"},\"hatch_color\":{\"value\":\"#1f77b4\"},\"line_color\":{\"value\":\"#1f77b4\"},\"size\":{\"value\":5.477225575051661},\"x\":{\"field\":\"EtherValueUSD_M\"},\"y\":{\"field\":\"Ether\"}},\"id\":\"35794\",\"type\":\"Scatter\"},{\"attributes\":{\"label\":{\"value\":\"2140\"},\"renderers\":[{\"id\":\"35580\"}]},\"id\":\"35593\",\"type\":\"LegendItem\"},{\"attributes\":{\"label\":{\"value\":\"5577\"},\"renderers\":[{\"id\":\"35763\"}]},\"id\":\"35789\",\"type\":\"LegendItem\"},{\"attributes\":{\"overlay\":{\"id\":\"35560\"}},\"id\":\"35558\",\"type\":\"BoxZoomTool\"},{\"attributes\":{},\"id\":\"35569\",\"type\":\"BasicTickFormatter\"},{\"attributes\":{\"label\":{\"value\":\"4156\"},\"renderers\":[{\"id\":\"35701\"}]},\"id\":\"35723\",\"type\":\"LegendItem\"},{\"attributes\":{\"source\":{\"id\":\"35695\"}},\"id\":\"35702\",\"type\":\"CDSView\"},{\"attributes\":{\"angle\":{\"value\":0.0},\"fill_alpha\":{\"value\":1.0},\"fill_color\":{\"value\":\"#17becf\"},\"hatch_alpha\":{\"value\":1.0},\"hatch_color\":{\"value\":\"#17becf\"},\"hatch_scale\":{\"value\":12.0},\"hatch_weight\":{\"value\":1.0},\"line_alpha\":{\"value\":1.0},\"line_cap\":{\"value\":\"butt\"},\"line_color\":{\"value\":\"#17becf\"},\"line_dash\":{\"value\":[]},\"line_dash_offset\":{\"value\":0},\"line_join\":{\"value\":\"bevel\"},\"line_width\":{\"value\":1},\"marker\":{\"value\":\"circle\"},\"size\":{\"value\":5.477225575051661},\"x\":{\"field\":\"EtherValueUSD_M\"},\"y\":{\"field\":\"Ether\"}},\"id\":\"35724\",\"type\":\"Scatter\"},{\"attributes\":{},\"id\":\"36188\",\"type\":\"Selection\"},{\"attributes\":{\"source\":{\"id\":\"35574\"}},\"id\":\"35581\",\"type\":\"CDSView\"},{\"attributes\":{\"label\":{\"value\":\"5217\"},\"renderers\":[{\"id\":\"35731\"}]},\"id\":\"35755\",\"type\":\"LegendItem\"},{\"attributes\":{},\"id\":\"35792\",\"type\":\"Selection\"},{\"attributes\":{\"coordinates\":null,\"data_source\":{\"id\":\"35695\"},\"glyph\":{\"id\":\"35698\"},\"group\":null,\"hover_glyph\":null,\"muted_glyph\":{\"id\":\"35700\"},\"nonselection_glyph\":{\"id\":\"35699\"},\"selection_glyph\":{\"id\":\"35724\"},\"view\":{\"id\":\"35702\"}},\"id\":\"35701\",\"type\":\"GlyphRenderer\"},{\"attributes\":{\"data\":{\"Ether\":[888],\"EtherValueUSD_M\":{\"__ndarray__\":\"9ihcj8L1BkA=\",\"dtype\":\"float64\",\"order\":\"little\",\"shape\":[1]},\"Punk\":[8888]},\"selected\":{\"id\":\"36242\"},\"selection_policy\":{\"id\":\"36292\"}},\"id\":\"36241\",\"type\":\"ColumnDataSource\"},{\"attributes\":{\"fill_color\":{\"value\":\"#8b8b8b\"},\"hatch_color\":{\"value\":\"#8b8b8b\"},\"line_color\":{\"value\":\"#8b8b8b\"},\"size\":{\"value\":5.477225575051661},\"x\":{\"field\":\"EtherValueUSD_M\"},\"y\":{\"field\":\"Ether\"}},\"id\":\"35670\",\"type\":\"Scatter\"},{\"attributes\":{},\"id\":\"35720\",\"type\":\"UnionRenderers\"},{\"attributes\":{\"coordinates\":null,\"data_source\":{\"id\":\"35574\"},\"glyph\":{\"id\":\"35577\"},\"group\":null,\"hover_glyph\":null,\"muted_glyph\":{\"id\":\"35579\"},\"nonselection_glyph\":{\"id\":\"35578\"},\"selection_glyph\":{\"id\":\"35594\"},\"view\":{\"id\":\"35581\"}},\"id\":\"35580\",\"type\":\"GlyphRenderer\"},{\"attributes\":{\"angle\":{\"value\":0.0},\"fill_alpha\":{\"value\":1.0},\"fill_color\":{\"value\":\"#9467bd\"},\"hatch_alpha\":{\"value\":1.0},\"hatch_color\":{\"value\":\"#9467bd\"},\"hatch_scale\":{\"value\":12.0},\"hatch_weight\":{\"value\":1.0},\"line_alpha\":{\"value\":1.0},\"line_cap\":{\"value\":\"butt\"},\"line_color\":{\"value\":\"#9467bd\"},\"line_dash\":{\"value\":[]},\"line_dash_offset\":{\"value\":0},\"line_join\":{\"value\":\"bevel\"},\"line_width\":{\"value\":1},\"marker\":{\"value\":\"circle\"},\"size\":{\"value\":5.477225575051661},\"x\":{\"field\":\"EtherValueUSD_M\"},\"y\":{\"field\":\"Ether\"}},\"id\":\"35756\",\"type\":\"Scatter\"},{\"attributes\":{\"fill_alpha\":{\"value\":0.2},\"fill_color\":{\"value\":\"#9467bd\"},\"hatch_alpha\":{\"value\":0.2},\"hatch_color\":{\"value\":\"#9467bd\"},\"line_alpha\":{\"value\":0.2},\"line_color\":{\"value\":\"#9467bd\"},\"size\":{\"value\":5.477225575051661},\"x\":{\"field\":\"EtherValueUSD_M\"},\"y\":{\"field\":\"Ether\"}},\"id\":\"35730\",\"type\":\"Scatter\"},{\"attributes\":{\"angle\":{\"value\":0.0},\"fill_alpha\":{\"value\":1.0},\"fill_color\":{\"value\":\"#1f77b4\"},\"hatch_alpha\":{\"value\":1.0},\"hatch_color\":{\"value\":\"#1f77b4\"},\"hatch_scale\":{\"value\":12.0},\"hatch_weight\":{\"value\":1.0},\"line_alpha\":{\"value\":1.0},\"line_cap\":{\"value\":\"butt\"},\"line_color\":{\"value\":\"#1f77b4\"},\"line_dash\":{\"value\":[]},\"line_dash_offset\":{\"value\":0},\"line_join\":{\"value\":\"bevel\"},\"line_width\":{\"value\":1},\"marker\":{\"value\":\"circle\"},\"size\":{\"value\":5.477225575051661},\"x\":{\"field\":\"EtherValueUSD_M\"},\"y\":{\"field\":\"Ether\"}},\"id\":\"35826\",\"type\":\"Scatter\"},{\"attributes\":{\"fill_alpha\":{\"value\":0.2},\"fill_color\":{\"value\":\"#bcbd22\"},\"hatch_alpha\":{\"value\":0.2},\"hatch_color\":{\"value\":\"#bcbd22\"},\"line_alpha\":{\"value\":0.2},\"line_color\":{\"value\":\"#bcbd22\"},\"size\":{\"value\":5.477225575051661},\"x\":{\"field\":\"EtherValueUSD_M\"},\"y\":{\"field\":\"Ether\"}},\"id\":\"35910\",\"type\":\"Scatter\"},{\"attributes\":{},\"id\":\"35642\",\"type\":\"Selection\"},{\"attributes\":{},\"id\":\"35906\",\"type\":\"Selection\"},{\"attributes\":{\"source\":{\"id\":\"35595\"}},\"id\":\"35602\",\"type\":\"CDSView\"},{\"attributes\":{\"angle\":{\"value\":0.0},\"fill_alpha\":{\"value\":1.0},\"fill_color\":{\"value\":\"#e377c2\"},\"hatch_alpha\":{\"value\":1.0},\"hatch_color\":{\"value\":\"#e377c2\"},\"hatch_scale\":{\"value\":12.0},\"hatch_weight\":{\"value\":1.0},\"line_alpha\":{\"value\":1.0},\"line_cap\":{\"value\":\"butt\"},\"line_color\":{\"value\":\"#e377c2\"},\"line_dash\":{\"value\":[]},\"line_dash_offset\":{\"value\":0},\"line_join\":{\"value\":\"bevel\"},\"line_width\":{\"value\":1},\"marker\":{\"value\":\"circle\"},\"size\":{\"value\":5.477225575051661},\"x\":{\"field\":\"EtherValueUSD_M\"},\"y\":{\"field\":\"Ether\"}},\"id\":\"35864\",\"type\":\"Scatter\"},{\"attributes\":{\"fill_alpha\":{\"value\":0.1},\"fill_color\":{\"value\":\"#9467bd\"},\"hatch_alpha\":{\"value\":0.1},\"hatch_color\":{\"value\":\"#9467bd\"},\"line_alpha\":{\"value\":0.1},\"line_color\":{\"value\":\"#9467bd\"},\"size\":{\"value\":5.477225575051661},\"x\":{\"field\":\"EtherValueUSD_M\"},\"y\":{\"field\":\"Ether\"}},\"id\":\"35729\",\"type\":\"Scatter\"},{\"attributes\":{\"tools\":[{\"id\":\"35519\"},{\"id\":\"35555\"},{\"id\":\"35556\"},{\"id\":\"35557\"},{\"id\":\"35558\"},{\"id\":\"35559\"}]},\"id\":\"35561\",\"type\":\"Toolbar\"},{\"attributes\":{\"angle\":{\"value\":0.0},\"fill_alpha\":{\"value\":1.0},\"fill_color\":{\"value\":\"#d62728\"},\"hatch_alpha\":{\"value\":1.0},\"hatch_color\":{\"value\":\"#d62728\"},\"hatch_scale\":{\"value\":12.0},\"hatch_weight\":{\"value\":1.0},\"line_alpha\":{\"value\":1.0},\"line_cap\":{\"value\":\"butt\"},\"line_color\":{\"value\":\"#d62728\"},\"line_dash\":{\"value\":[]},\"line_dash_offset\":{\"value\":0},\"line_join\":{\"value\":\"bevel\"},\"line_width\":{\"value\":1},\"marker\":{\"value\":\"circle\"},\"size\":{\"value\":5.477225575051661},\"x\":{\"field\":\"EtherValueUSD_M\"},\"y\":{\"field\":\"Ether\"}},\"id\":\"35790\",\"type\":\"Scatter\"},{\"attributes\":{\"angle\":{\"value\":0.0},\"fill_alpha\":{\"value\":1.0},\"fill_color\":{\"value\":\"#8c564b\"},\"hatch_alpha\":{\"value\":1.0},\"hatch_color\":{\"value\":\"#8c564b\"},\"hatch_scale\":{\"value\":12.0},\"hatch_weight\":{\"value\":1.0},\"line_alpha\":{\"value\":1.0},\"line_cap\":{\"value\":\"butt\"},\"line_color\":{\"value\":\"#8c564b\"},\"line_dash\":{\"value\":[]},\"line_dash_offset\":{\"value\":0},\"line_join\":{\"value\":\"bevel\"},\"line_width\":{\"value\":1},\"marker\":{\"value\":\"circle\"},\"size\":{\"value\":5.477225575051661},\"x\":{\"field\":\"EtherValueUSD_M\"},\"y\":{\"field\":\"Ether\"}},\"id\":\"35904\",\"type\":\"Scatter\"},{\"attributes\":{\"source\":{\"id\":\"36187\"}},\"id\":\"36194\",\"type\":\"CDSView\"},{\"attributes\":{\"fill_color\":{\"value\":\"#e377c2\"},\"hatch_color\":{\"value\":\"#e377c2\"},\"line_color\":{\"value\":\"#e377c2\"},\"size\":{\"value\":5.477225575051661},\"x\":{\"field\":\"EtherValueUSD_M\"},\"y\":{\"field\":\"Ether\"}},\"id\":\"35830\",\"type\":\"Scatter\"},{\"attributes\":{},\"id\":\"35726\",\"type\":\"Selection\"},{\"attributes\":{\"source\":{\"id\":\"35617\"}},\"id\":\"35624\",\"type\":\"CDSView\"},{\"attributes\":{\"fill_alpha\":{\"value\":0.2},\"fill_color\":{\"value\":\"#e377c2\"},\"hatch_alpha\":{\"value\":0.2},\"hatch_color\":{\"value\":\"#e377c2\"},\"line_alpha\":{\"value\":0.2},\"line_color\":{\"value\":\"#e377c2\"},\"size\":{\"value\":5.477225575051661},\"x\":{\"field\":\"EtherValueUSD_M\"},\"y\":{\"field\":\"Ether\"}},\"id\":\"35832\",\"type\":\"Scatter\"},{\"attributes\":{\"fill_color\":{\"value\":\"#30a2da\"},\"hatch_color\":{\"value\":\"#30a2da\"},\"line_color\":{\"value\":\"#30a2da\"},\"size\":{\"value\":5.477225575051661},\"x\":{\"field\":\"EtherValueUSD_M\"},\"y\":{\"field\":\"Ether\"}},\"id\":\"35950\",\"type\":\"Scatter\"},{\"attributes\":{\"label\":{\"value\":\"5822\"},\"renderers\":[{\"id\":\"35797\"}]},\"id\":\"35825\",\"type\":\"LegendItem\"},{\"attributes\":{\"fill_color\":{\"value\":\"#fc4f30\"},\"hatch_color\":{\"value\":\"#fc4f30\"},\"line_color\":{\"value\":\"#fc4f30\"},\"size\":{\"value\":5.477225575051661},\"x\":{\"field\":\"EtherValueUSD_M\"},\"y\":{\"field\":\"Ether\"}},\"id\":\"35598\",\"type\":\"Scatter\"},{\"attributes\":{},\"id\":\"35690\",\"type\":\"UnionRenderers\"},{\"attributes\":{},\"id\":\"35786\",\"type\":\"UnionRenderers\"},{\"attributes\":{},\"id\":\"35828\",\"type\":\"Selection\"},{\"attributes\":{\"data\":{\"Ether\":[810],\"EtherValueUSD_M\":{\"__ndarray__\":\"rkfhehSu/z8=\",\"dtype\":\"float64\",\"order\":\"little\",\"shape\":[1]},\"Punk\":[6649]},\"selected\":{\"id\":\"35906\"},\"selection_policy\":{\"id\":\"35942\"}},\"id\":\"35905\",\"type\":\"ColumnDataSource\"},{\"attributes\":{},\"id\":\"36236\",\"type\":\"UnionRenderers\"},{\"attributes\":{\"angle\":{\"value\":0.0},\"fill_alpha\":{\"value\":1.0},\"fill_color\":{\"value\":\"#e5ae38\"},\"hatch_alpha\":{\"value\":1.0},\"hatch_color\":{\"value\":\"#e5ae38\"},\"hatch_scale\":{\"value\":12.0},\"hatch_weight\":{\"value\":1.0},\"line_alpha\":{\"value\":1.0},\"line_cap\":{\"value\":\"butt\"},\"line_color\":{\"value\":\"#e5ae38\"},\"line_dash\":{\"value\":[]},\"line_dash_offset\":{\"value\":0},\"line_join\":{\"value\":\"bevel\"},\"line_width\":{\"value\":1},\"marker\":{\"value\":\"circle\"},\"size\":{\"value\":5.477225575051661},\"x\":{\"field\":\"EtherValueUSD_M\"},\"y\":{\"field\":\"Ether\"}},\"id\":\"35640\",\"type\":\"Scatter\"},{\"attributes\":{\"fill_alpha\":{\"value\":0.1},\"fill_color\":{\"value\":\"#17becf\"},\"hatch_alpha\":{\"value\":0.1},\"hatch_color\":{\"value\":\"#17becf\"},\"line_alpha\":{\"value\":0.1},\"line_color\":{\"value\":\"#17becf\"},\"size\":{\"value\":5.477225575051661},\"x\":{\"field\":\"EtherValueUSD_M\"},\"y\":{\"field\":\"Ether\"}},\"id\":\"35699\",\"type\":\"Scatter\"},{\"attributes\":{\"coordinates\":null,\"data_source\":{\"id\":\"35725\"},\"glyph\":{\"id\":\"35728\"},\"group\":null,\"hover_glyph\":null,\"muted_glyph\":{\"id\":\"35730\"},\"nonselection_glyph\":{\"id\":\"35729\"},\"selection_glyph\":{\"id\":\"35756\"},\"view\":{\"id\":\"35732\"}},\"id\":\"35731\",\"type\":\"GlyphRenderer\"},{\"attributes\":{\"fill_alpha\":{\"value\":0.1},\"fill_color\":{\"value\":\"#e5ae38\"},\"hatch_alpha\":{\"value\":0.1},\"hatch_color\":{\"value\":\"#e5ae38\"},\"line_alpha\":{\"value\":0.1},\"line_color\":{\"value\":\"#e5ae38\"},\"size\":{\"value\":5.477225575051661},\"x\":{\"field\":\"EtherValueUSD_M\"},\"y\":{\"field\":\"Ether\"}},\"id\":\"35621\",\"type\":\"Scatter\"},{\"attributes\":{},\"id\":\"35822\",\"type\":\"UnionRenderers\"},{\"attributes\":{\"data\":{\"Ether\":[1500],\"EtherValueUSD_M\":{\"__ndarray__\":\"SOF6FK5HEUA=\",\"dtype\":\"float64\",\"order\":\"little\",\"shape\":[1]},\"Punk\":[2238]},\"selected\":{\"id\":\"35596\"},\"selection_policy\":{\"id\":\"35612\"}},\"id\":\"35595\",\"type\":\"ColumnDataSource\"},{\"attributes\":{\"fill_color\":{\"value\":\"#8c564b\"},\"hatch_color\":{\"value\":\"#8c564b\"},\"line_color\":{\"value\":\"#8c564b\"},\"size\":{\"value\":5.477225575051661},\"x\":{\"field\":\"EtherValueUSD_M\"},\"y\":{\"field\":\"Ether\"}},\"id\":\"35868\",\"type\":\"Scatter\"},{\"attributes\":{\"coordinates\":null,\"data_source\":{\"id\":\"36187\"},\"glyph\":{\"id\":\"36190\"},\"group\":null,\"hover_glyph\":null,\"muted_glyph\":{\"id\":\"36192\"},\"nonselection_glyph\":{\"id\":\"36191\"},\"selection_glyph\":{\"id\":\"36240\"},\"view\":{\"id\":\"36194\"}},\"id\":\"36193\",\"type\":\"GlyphRenderer\"},{\"attributes\":{\"fill_alpha\":{\"value\":0.2},\"fill_color\":{\"value\":\"#17becf\"},\"hatch_alpha\":{\"value\":0.2},\"hatch_color\":{\"value\":\"#17becf\"},\"line_alpha\":{\"value\":0.2},\"line_color\":{\"value\":\"#17becf\"},\"size\":{\"value\":5.477225575051661},\"x\":{\"field\":\"EtherValueUSD_M\"},\"y\":{\"field\":\"Ether\"}},\"id\":\"35700\",\"type\":\"Scatter\"},{\"attributes\":{},\"id\":\"35636\",\"type\":\"UnionRenderers\"},{\"attributes\":{\"fill_alpha\":{\"value\":0.1},\"fill_color\":{\"value\":\"#bcbd22\"},\"hatch_alpha\":{\"value\":0.1},\"hatch_color\":{\"value\":\"#bcbd22\"},\"line_alpha\":{\"value\":0.1},\"line_color\":{\"value\":\"#bcbd22\"},\"size\":{\"value\":5.477225575051661},\"x\":{\"field\":\"EtherValueUSD_M\"},\"y\":{\"field\":\"Ether\"}},\"id\":\"35909\",\"type\":\"Scatter\"},{\"attributes\":{\"label\":{\"value\":\"2238\"},\"renderers\":[{\"id\":\"35601\"}]},\"id\":\"35615\",\"type\":\"LegendItem\"},{\"attributes\":{\"label\":{\"value\":\"2681\"},\"renderers\":[{\"id\":\"35623\"}]},\"id\":\"35639\",\"type\":\"LegendItem\"},{\"attributes\":{\"source\":{\"id\":\"35757\"}},\"id\":\"35764\",\"type\":\"CDSView\"},{\"attributes\":{\"label\":{\"value\":\"8857\"},\"renderers\":[{\"id\":\"36193\"}]},\"id\":\"36239\",\"type\":\"LegendItem\"},{\"attributes\":{\"fill_alpha\":{\"value\":0.2},\"fill_color\":{\"value\":\"#17becf\"},\"hatch_alpha\":{\"value\":0.2},\"hatch_color\":{\"value\":\"#17becf\"},\"line_alpha\":{\"value\":0.2},\"line_color\":{\"value\":\"#17becf\"},\"size\":{\"value\":5.477225575051661},\"x\":{\"field\":\"EtherValueUSD_M\"},\"y\":{\"field\":\"Ether\"}},\"id\":\"36192\",\"type\":\"Scatter\"},{\"attributes\":{},\"id\":\"35668\",\"type\":\"Selection\"},{\"attributes\":{\"fill_color\":{\"value\":\"#d62728\"},\"hatch_color\":{\"value\":\"#d62728\"},\"line_color\":{\"value\":\"#d62728\"},\"size\":{\"value\":5.477225575051661},\"x\":{\"field\":\"EtherValueUSD_M\"},\"y\":{\"field\":\"Ether\"}},\"id\":\"35760\",\"type\":\"Scatter\"},{\"attributes\":{\"background_fill_color\":\"lightgray\",\"below\":[{\"id\":\"35547\"}],\"center\":[{\"id\":\"35550\"},{\"id\":\"35554\"}],\"left\":[{\"id\":\"35551\"}],\"margin\":[5,5,5,5],\"min_border_bottom\":10,\"min_border_left\":10,\"min_border_right\":10,\"min_border_top\":10,\"renderers\":[{\"id\":\"35580\"},{\"id\":\"35601\"},{\"id\":\"35623\"},{\"id\":\"35647\"},{\"id\":\"35673\"},{\"id\":\"35701\"},{\"id\":\"35731\"},{\"id\":\"35763\"},{\"id\":\"35797\"},{\"id\":\"35833\"},{\"id\":\"35871\"},{\"id\":\"35911\"},{\"id\":\"35953\"},{\"id\":\"35997\"},{\"id\":\"36043\"},{\"id\":\"36091\"},{\"id\":\"36141\"},{\"id\":\"36193\"},{\"id\":\"36247\"}],\"right\":[{\"id\":\"35592\"}],\"sizing_mode\":\"fixed\",\"title\":{\"id\":\"35539\"},\"toolbar\":{\"id\":\"35561\"},\"width\":1000,\"x_range\":{\"id\":\"35517\"},\"x_scale\":{\"id\":\"35543\"},\"y_range\":{\"id\":\"35518\"},\"y_scale\":{\"id\":\"35545\"}},\"id\":\"35538\",\"subtype\":\"Figure\",\"type\":\"Plot\"},{\"attributes\":{\"fill_alpha\":{\"value\":0.1},\"fill_color\":{\"value\":\"#6d904f\"},\"hatch_alpha\":{\"value\":0.1},\"hatch_color\":{\"value\":\"#6d904f\"},\"line_alpha\":{\"value\":0.1},\"line_color\":{\"value\":\"#6d904f\"},\"size\":{\"value\":5.477225575051661},\"x\":{\"field\":\"EtherValueUSD_M\"},\"y\":{\"field\":\"Ether\"}},\"id\":\"35645\",\"type\":\"Scatter\"},{\"attributes\":{},\"id\":\"35752\",\"type\":\"UnionRenderers\"},{\"attributes\":{\"click_policy\":\"mute\",\"coordinates\":null,\"group\":null,\"items\":[{\"id\":\"35593\"},{\"id\":\"35615\"},{\"id\":\"35639\"},{\"id\":\"35665\"},{\"id\":\"35693\"},{\"id\":\"35723\"},{\"id\":\"35755\"},{\"id\":\"35789\"},{\"id\":\"35825\"},{\"id\":\"35863\"},{\"id\":\"35903\"},{\"id\":\"35945\"},{\"id\":\"35989\"},{\"id\":\"36035\"},{\"id\":\"36083\"},{\"id\":\"36133\"},{\"id\":\"36185\"},{\"id\":\"36239\"},{\"id\":\"36295\"}],\"location\":[0,0],\"title\":\"Punk\"},\"id\":\"35592\",\"type\":\"Legend\"},{\"attributes\":{\"source\":{\"id\":\"35641\"}},\"id\":\"35648\",\"type\":\"CDSView\"},{\"attributes\":{\"children\":[{\"id\":\"35516\"},{\"id\":\"35538\"},{\"id\":\"36711\"}],\"margin\":[0,0,0,0],\"name\":\"Row82434\",\"tags\":[\"embedded\"]},\"id\":\"35515\",\"type\":\"Row\"},{\"attributes\":{\"fill_alpha\":{\"value\":0.1},\"fill_color\":{\"value\":\"#d62728\"},\"hatch_alpha\":{\"value\":0.1},\"hatch_color\":{\"value\":\"#d62728\"},\"line_alpha\":{\"value\":0.1},\"line_color\":{\"value\":\"#d62728\"},\"size\":{\"value\":5.477225575051661},\"x\":{\"field\":\"EtherValueUSD_M\"},\"y\":{\"field\":\"Ether\"}},\"id\":\"35761\",\"type\":\"Scatter\"},{\"attributes\":{},\"id\":\"35570\",\"type\":\"AllLabels\"},{\"attributes\":{},\"id\":\"35589\",\"type\":\"UnionRenderers\"},{\"attributes\":{},\"id\":\"35758\",\"type\":\"Selection\"},{\"attributes\":{\"fill_alpha\":{\"value\":0.2},\"fill_color\":{\"value\":\"#6d904f\"},\"hatch_alpha\":{\"value\":0.2},\"hatch_color\":{\"value\":\"#6d904f\"},\"line_alpha\":{\"value\":0.2},\"line_color\":{\"value\":\"#6d904f\"},\"size\":{\"value\":5.477225575051661},\"x\":{\"field\":\"EtherValueUSD_M\"},\"y\":{\"field\":\"Ether\"}},\"id\":\"35646\",\"type\":\"Scatter\"},{\"attributes\":{},\"id\":\"35696\",\"type\":\"Selection\"},{\"attributes\":{\"data\":{\"Ether\":[1600],\"EtherValueUSD_M\":{\"__ndarray__\":\"FK5H4XoUDkA=\",\"dtype\":\"float64\",\"order\":\"little\",\"shape\":[1]},\"Punk\":[2140]},\"selected\":{\"id\":\"35575\"},\"selection_policy\":{\"id\":\"35589\"}},\"id\":\"35574\",\"type\":\"ColumnDataSource\"},{\"attributes\":{\"fill_alpha\":{\"value\":0.1},\"fill_color\":{\"value\":\"#30a2da\"},\"hatch_alpha\":{\"value\":0.1},\"hatch_color\":{\"value\":\"#30a2da\"},\"line_alpha\":{\"value\":0.1},\"line_color\":{\"value\":\"#30a2da\"},\"size\":{\"value\":5.477225575051661},\"x\":{\"field\":\"EtherValueUSD_M\"},\"y\":{\"field\":\"Ether\"}},\"id\":\"35578\",\"type\":\"Scatter\"},{\"attributes\":{\"callback\":null,\"renderers\":[{\"id\":\"35580\"},{\"id\":\"35601\"},{\"id\":\"35623\"},{\"id\":\"35647\"},{\"id\":\"35673\"},{\"id\":\"35701\"},{\"id\":\"35731\"},{\"id\":\"35763\"},{\"id\":\"35797\"},{\"id\":\"35833\"},{\"id\":\"35871\"},{\"id\":\"35911\"},{\"id\":\"35953\"},{\"id\":\"35997\"},{\"id\":\"36043\"},{\"id\":\"36091\"},{\"id\":\"36141\"},{\"id\":\"36193\"},{\"id\":\"36247\"}],\"tags\":[\"hv_created\"],\"tooltips\":[[\"Punk\",\"@{Punk}\"],[\"EtherValueUSD_M\",\"@{EtherValueUSD_M}\"],[\"Ether\",\"@{Ether}\"]]},\"id\":\"35519\",\"type\":\"HoverTool\"},{\"attributes\":{\"fill_alpha\":{\"value\":0.1},\"fill_color\":{\"value\":\"#1f77b4\"},\"hatch_alpha\":{\"value\":0.1},\"hatch_color\":{\"value\":\"#1f77b4\"},\"line_alpha\":{\"value\":0.1},\"line_color\":{\"value\":\"#1f77b4\"},\"size\":{\"value\":5.477225575051661},\"x\":{\"field\":\"EtherValueUSD_M\"},\"y\":{\"field\":\"Ether\"}},\"id\":\"35795\",\"type\":\"Scatter\"},{\"attributes\":{\"coordinates\":null,\"data_source\":{\"id\":\"35827\"},\"glyph\":{\"id\":\"35830\"},\"group\":null,\"hover_glyph\":null,\"muted_glyph\":{\"id\":\"35832\"},\"nonselection_glyph\":{\"id\":\"35831\"},\"selection_glyph\":{\"id\":\"35864\"},\"view\":{\"id\":\"35834\"}},\"id\":\"35833\",\"type\":\"GlyphRenderer\"},{\"attributes\":{},\"id\":\"35860\",\"type\":\"UnionRenderers\"},{\"attributes\":{\"end\":25.0296,\"reset_end\":25.0296,\"reset_start\":0.21040000000000014,\"start\":0.21040000000000014,\"tags\":[[[\"EtherValueUSD_M\",\"EtherValueUSD_M\",null]]]},\"id\":\"35517\",\"type\":\"Range1d\"},{\"attributes\":{},\"id\":\"35986\",\"type\":\"UnionRenderers\"},{\"attributes\":{\"label\":{\"value\":\"6275\"},\"renderers\":[{\"id\":\"35833\"}]},\"id\":\"35863\",\"type\":\"LegendItem\"},{\"attributes\":{\"fill_color\":{\"value\":\"#30a2da\"},\"hatch_color\":{\"value\":\"#30a2da\"},\"line_color\":{\"value\":\"#30a2da\"},\"size\":{\"value\":5.477225575051661},\"x\":{\"field\":\"EtherValueUSD_M\"},\"y\":{\"field\":\"Ether\"}},\"id\":\"35577\",\"type\":\"Scatter\"},{\"attributes\":{\"fill_color\":{\"value\":\"#e5ae38\"},\"hatch_color\":{\"value\":\"#e5ae38\"},\"line_color\":{\"value\":\"#e5ae38\"},\"size\":{\"value\":5.477225575051661},\"x\":{\"field\":\"EtherValueUSD_M\"},\"y\":{\"field\":\"Ether\"}},\"id\":\"36040\",\"type\":\"Scatter\"},{\"attributes\":{\"source\":{\"id\":\"35827\"}},\"id\":\"35834\",\"type\":\"CDSView\"},{\"attributes\":{\"fill_alpha\":{\"value\":0.1},\"fill_color\":{\"value\":\"#e377c2\"},\"hatch_alpha\":{\"value\":0.1},\"hatch_color\":{\"value\":\"#e377c2\"},\"line_alpha\":{\"value\":0.1},\"line_color\":{\"value\":\"#e377c2\"},\"size\":{\"value\":5.477225575051661},\"x\":{\"field\":\"EtherValueUSD_M\"},\"y\":{\"field\":\"Ether\"}},\"id\":\"35831\",\"type\":\"Scatter\"},{\"attributes\":{\"coordinates\":null,\"data_source\":{\"id\":\"35905\"},\"glyph\":{\"id\":\"35908\"},\"group\":null,\"hover_glyph\":null,\"muted_glyph\":{\"id\":\"35910\"},\"nonselection_glyph\":{\"id\":\"35909\"},\"selection_glyph\":{\"id\":\"35946\"},\"view\":{\"id\":\"35912\"}},\"id\":\"35911\",\"type\":\"GlyphRenderer\"},{\"attributes\":{\"source\":{\"id\":\"35991\"}},\"id\":\"35998\",\"type\":\"CDSView\"},{\"attributes\":{\"coordinates\":null,\"data_source\":{\"id\":\"35947\"},\"glyph\":{\"id\":\"35950\"},\"group\":null,\"hover_glyph\":null,\"muted_glyph\":{\"id\":\"35952\"},\"nonselection_glyph\":{\"id\":\"35951\"},\"selection_glyph\":{\"id\":\"35990\"},\"view\":{\"id\":\"35954\"}},\"id\":\"35953\",\"type\":\"GlyphRenderer\"},{\"attributes\":{\"data\":{\"Ether\":[2000],\"EtherValueUSD_M\":{\"__ndarray__\":\"hetRuB6FGkA=\",\"dtype\":\"float64\",\"order\":\"little\",\"shape\":[1]},\"Punk\":[8857]},\"selected\":{\"id\":\"36188\"},\"selection_policy\":{\"id\":\"36236\"}},\"id\":\"36187\",\"type\":\"ColumnDataSource\"},{\"attributes\":{},\"id\":\"35866\",\"type\":\"Selection\"},{\"attributes\":{\"coordinates\":null,\"data_source\":{\"id\":\"36037\"},\"glyph\":{\"id\":\"36040\"},\"group\":null,\"hover_glyph\":null,\"muted_glyph\":{\"id\":\"36042\"},\"nonselection_glyph\":{\"id\":\"36041\"},\"selection_glyph\":{\"id\":\"36084\"},\"view\":{\"id\":\"36044\"}},\"id\":\"36043\",\"type\":\"GlyphRenderer\"},{\"attributes\":{\"fill_alpha\":{\"value\":0.2},\"fill_color\":{\"value\":\"#d62728\"},\"hatch_alpha\":{\"value\":0.2},\"hatch_color\":{\"value\":\"#d62728\"},\"line_alpha\":{\"value\":0.2},\"line_color\":{\"value\":\"#d62728\"},\"size\":{\"value\":5.477225575051661},\"x\":{\"field\":\"EtherValueUSD_M\"},\"y\":{\"field\":\"Ether\"}},\"id\":\"35762\",\"type\":\"Scatter\"},{\"attributes\":{\"fill_alpha\":{\"value\":0.2},\"fill_color\":{\"value\":\"#1f77b4\"},\"hatch_alpha\":{\"value\":0.2},\"hatch_color\":{\"value\":\"#1f77b4\"},\"line_alpha\":{\"value\":0.2},\"line_color\":{\"value\":\"#1f77b4\"},\"size\":{\"value\":5.477225575051661},\"x\":{\"field\":\"EtherValueUSD_M\"},\"y\":{\"field\":\"Ether\"}},\"id\":\"35796\",\"type\":\"Scatter\"},{\"attributes\":{\"coordinates\":null,\"data_source\":{\"id\":\"35667\"},\"glyph\":{\"id\":\"35670\"},\"group\":null,\"hover_glyph\":null,\"muted_glyph\":{\"id\":\"35672\"},\"nonselection_glyph\":{\"id\":\"35671\"},\"selection_glyph\":{\"id\":\"35694\"},\"view\":{\"id\":\"35674\"}},\"id\":\"35673\",\"type\":\"GlyphRenderer\"},{\"attributes\":{\"coordinates\":null,\"data_source\":{\"id\":\"35757\"},\"glyph\":{\"id\":\"35760\"},\"group\":null,\"hover_glyph\":null,\"muted_glyph\":{\"id\":\"35762\"},\"nonselection_glyph\":{\"id\":\"35761\"},\"selection_glyph\":{\"id\":\"35790\"},\"view\":{\"id\":\"35764\"}},\"id\":\"35763\",\"type\":\"GlyphRenderer\"},{\"attributes\":{\"end\":8720.0,\"reset_end\":8720.0,\"reset_start\":80.0,\"start\":80.0,\"tags\":[[[\"Ether\",\"Ether\",null]]]},\"id\":\"35518\",\"type\":\"Range1d\"},{\"attributes\":{\"data\":{\"Ether\":[1320],\"EtherValueUSD_M\":{\"__ndarray__\":\"exSuR+F6FEA=\",\"dtype\":\"float64\",\"order\":\"little\",\"shape\":[1]},\"Punk\":[6276]},\"selected\":{\"id\":\"35866\"},\"selection_policy\":{\"id\":\"35900\"}},\"id\":\"35865\",\"type\":\"ColumnDataSource\"},{\"attributes\":{\"data\":{\"Ether\":[800],\"EtherValueUSD_M\":{\"__ndarray__\":\"pHA9Ctej+D8=\",\"dtype\":\"float64\",\"order\":\"little\",\"shape\":[1]},\"Punk\":[6965]},\"selected\":{\"id\":\"35948\"},\"selection_policy\":{\"id\":\"35986\"}},\"id\":\"35947\",\"type\":\"ColumnDataSource\"},{\"attributes\":{\"source\":{\"id\":\"35725\"}},\"id\":\"35732\",\"type\":\"CDSView\"},{\"attributes\":{\"source\":{\"id\":\"35791\"}},\"id\":\"35798\",\"type\":\"CDSView\"},{\"attributes\":{\"fill_color\":{\"value\":\"#9467bd\"},\"hatch_color\":{\"value\":\"#9467bd\"},\"line_color\":{\"value\":\"#9467bd\"},\"size\":{\"value\":5.477225575051661},\"x\":{\"field\":\"EtherValueUSD_M\"},\"y\":{\"field\":\"Ether\"}},\"id\":\"35728\",\"type\":\"Scatter\"},{\"attributes\":{\"fill_alpha\":{\"value\":0.1},\"fill_color\":{\"value\":\"#30a2da\"},\"hatch_alpha\":{\"value\":0.1},\"hatch_color\":{\"value\":\"#30a2da\"},\"line_alpha\":{\"value\":0.1},\"line_color\":{\"value\":\"#30a2da\"},\"size\":{\"value\":5.477225575051661},\"x\":{\"field\":\"EtherValueUSD_M\"},\"y\":{\"field\":\"Ether\"}},\"id\":\"35951\",\"type\":\"Scatter\"},{\"attributes\":{\"label\":{\"value\":\"6649\"},\"renderers\":[{\"id\":\"35911\"}]},\"id\":\"35945\",\"type\":\"LegendItem\"},{\"attributes\":{},\"id\":\"35548\",\"type\":\"BasicTicker\"},{\"attributes\":{\"coordinates\":null,\"data_source\":{\"id\":\"36241\"},\"glyph\":{\"id\":\"36244\"},\"group\":null,\"hover_glyph\":null,\"muted_glyph\":{\"id\":\"36246\"},\"nonselection_glyph\":{\"id\":\"36245\"},\"selection_glyph\":{\"id\":\"36296\"},\"view\":{\"id\":\"36248\"}},\"id\":\"36247\",\"type\":\"GlyphRenderer\"},{\"attributes\":{\"fill_alpha\":{\"value\":0.2},\"fill_color\":{\"value\":\"#8b8b8b\"},\"hatch_alpha\":{\"value\":0.2},\"hatch_color\":{\"value\":\"#8b8b8b\"},\"line_alpha\":{\"value\":0.2},\"line_color\":{\"value\":\"#8b8b8b\"},\"size\":{\"value\":5.477225575051661},\"x\":{\"field\":\"EtherValueUSD_M\"},\"y\":{\"field\":\"Ether\"}},\"id\":\"36140\",\"type\":\"Scatter\"},{\"attributes\":{\"fill_alpha\":{\"value\":0.2},\"fill_color\":{\"value\":\"#30a2da\"},\"hatch_alpha\":{\"value\":0.2},\"hatch_color\":{\"value\":\"#30a2da\"},\"line_alpha\":{\"value\":0.2},\"line_color\":{\"value\":\"#30a2da\"},\"size\":{\"value\":5.477225575051661},\"x\":{\"field\":\"EtherValueUSD_M\"},\"y\":{\"field\":\"Ether\"}},\"id\":\"35952\",\"type\":\"Scatter\"},{\"attributes\":{\"angle\":{\"value\":0.0},\"fill_alpha\":{\"value\":1.0},\"fill_color\":{\"value\":\"#9467bd\"},\"hatch_alpha\":{\"value\":1.0},\"hatch_color\":{\"value\":\"#9467bd\"},\"hatch_scale\":{\"value\":12.0},\"hatch_weight\":{\"value\":1.0},\"line_alpha\":{\"value\":1.0},\"line_cap\":{\"value\":\"butt\"},\"line_color\":{\"value\":\"#9467bd\"},\"line_dash\":{\"value\":[]},\"line_dash_offset\":{\"value\":0},\"line_join\":{\"value\":\"bevel\"},\"line_width\":{\"value\":1},\"marker\":{\"value\":\"circle\"},\"size\":{\"value\":5.477225575051661},\"x\":{\"field\":\"EtherValueUSD_M\"},\"y\":{\"field\":\"Ether\"}},\"id\":\"36296\",\"type\":\"Scatter\"},{\"attributes\":{\"fill_alpha\":{\"value\":0.1},\"fill_color\":{\"value\":\"#6d904f\"},\"hatch_alpha\":{\"value\":0.1},\"hatch_color\":{\"value\":\"#6d904f\"},\"line_alpha\":{\"value\":0.1},\"line_color\":{\"value\":\"#6d904f\"},\"size\":{\"value\":5.477225575051661},\"x\":{\"field\":\"EtherValueUSD_M\"},\"y\":{\"field\":\"Ether\"}},\"id\":\"36089\",\"type\":\"Scatter\"},{\"attributes\":{\"source\":{\"id\":\"36135\"}},\"id\":\"36142\",\"type\":\"CDSView\"},{\"attributes\":{\"data\":{\"Ether\":[8000],\"EtherValueUSD_M\":{\"__ndarray__\":\"MzMzMzOzN0A=\",\"dtype\":\"float64\",\"order\":\"little\",\"shape\":[1]},\"Punk\":[5822]},\"selected\":{\"id\":\"35792\"},\"selection_policy\":{\"id\":\"35822\"}},\"id\":\"35791\",\"type\":\"ColumnDataSource\"},{\"attributes\":{},\"id\":\"35992\",\"type\":\"Selection\"},{\"attributes\":{\"fill_alpha\":{\"value\":0.1},\"fill_color\":{\"value\":\"#8c564b\"},\"hatch_alpha\":{\"value\":0.1},\"hatch_color\":{\"value\":\"#8c564b\"},\"line_alpha\":{\"value\":0.1},\"line_color\":{\"value\":\"#8c564b\"},\"size\":{\"value\":5.477225575051661},\"x\":{\"field\":\"EtherValueUSD_M\"},\"y\":{\"field\":\"Ether\"}},\"id\":\"35869\",\"type\":\"Scatter\"},{\"attributes\":{\"fill_color\":{\"value\":\"#8b8b8b\"},\"hatch_color\":{\"value\":\"#8b8b8b\"},\"line_color\":{\"value\":\"#8b8b8b\"},\"size\":{\"value\":5.477225575051661},\"x\":{\"field\":\"EtherValueUSD_M\"},\"y\":{\"field\":\"Ether\"}},\"id\":\"36138\",\"type\":\"Scatter\"},{\"attributes\":{\"angle\":{\"value\":0.0},\"fill_alpha\":{\"value\":1.0},\"fill_color\":{\"value\":\"#17becf\"},\"hatch_alpha\":{\"value\":1.0},\"hatch_color\":{\"value\":\"#17becf\"},\"hatch_scale\":{\"value\":12.0},\"hatch_weight\":{\"value\":1.0},\"line_alpha\":{\"value\":1.0},\"line_cap\":{\"value\":\"butt\"},\"line_color\":{\"value\":\"#17becf\"},\"line_dash\":{\"value\":[]},\"line_dash_offset\":{\"value\":0},\"line_join\":{\"value\":\"bevel\"},\"line_width\":{\"value\":1},\"marker\":{\"value\":\"circle\"},\"size\":{\"value\":5.477225575051661},\"x\":{\"field\":\"EtherValueUSD_M\"},\"y\":{\"field\":\"Ether\"}},\"id\":\"36240\",\"type\":\"Scatter\"},{\"attributes\":{},\"id\":\"36080\",\"type\":\"UnionRenderers\"},{\"attributes\":{\"fill_alpha\":{\"value\":0.2},\"fill_color\":{\"value\":\"#30a2da\"},\"hatch_alpha\":{\"value\":0.2},\"hatch_color\":{\"value\":\"#30a2da\"},\"line_alpha\":{\"value\":0.2},\"line_color\":{\"value\":\"#30a2da\"},\"size\":{\"value\":5.477225575051661},\"x\":{\"field\":\"EtherValueUSD_M\"},\"y\":{\"field\":\"Ether\"}},\"id\":\"35579\",\"type\":\"Scatter\"},{\"attributes\":{\"fill_alpha\":{\"value\":0.2},\"fill_color\":{\"value\":\"#8c564b\"},\"hatch_alpha\":{\"value\":0.2},\"hatch_color\":{\"value\":\"#8c564b\"},\"line_alpha\":{\"value\":0.2},\"line_color\":{\"value\":\"#8c564b\"},\"size\":{\"value\":5.477225575051661},\"x\":{\"field\":\"EtherValueUSD_M\"},\"y\":{\"field\":\"Ether\"}},\"id\":\"35870\",\"type\":\"Scatter\"},{\"attributes\":{\"fill_color\":{\"value\":\"#9467bd\"},\"hatch_color\":{\"value\":\"#9467bd\"},\"line_color\":{\"value\":\"#9467bd\"},\"size\":{\"value\":5.477225575051661},\"x\":{\"field\":\"EtherValueUSD_M\"},\"y\":{\"field\":\"Ether\"}},\"id\":\"36244\",\"type\":\"Scatter\"},{\"attributes\":{\"angle\":{\"value\":0.0},\"fill_alpha\":{\"value\":1.0},\"fill_color\":{\"value\":\"#6d904f\"},\"hatch_alpha\":{\"value\":1.0},\"hatch_color\":{\"value\":\"#6d904f\"},\"hatch_scale\":{\"value\":12.0},\"hatch_weight\":{\"value\":1.0},\"line_alpha\":{\"value\":1.0},\"line_cap\":{\"value\":\"butt\"},\"line_color\":{\"value\":\"#6d904f\"},\"line_dash\":{\"value\":[]},\"line_dash_offset\":{\"value\":0},\"line_join\":{\"value\":\"bevel\"},\"line_width\":{\"value\":1},\"marker\":{\"value\":\"circle\"},\"size\":{\"value\":5.477225575051661},\"x\":{\"field\":\"EtherValueUSD_M\"},\"y\":{\"field\":\"Ether\"}},\"id\":\"35666\",\"type\":\"Scatter\"},{\"attributes\":{\"label\":{\"value\":\"7804\"},\"renderers\":[{\"id\":\"36141\"}]},\"id\":\"36185\",\"type\":\"LegendItem\"},{\"attributes\":{\"label\":{\"value\":\"7252\"},\"renderers\":[{\"id\":\"36043\"}]},\"id\":\"36083\",\"type\":\"LegendItem\"},{\"attributes\":{},\"id\":\"36182\",\"type\":\"UnionRenderers\"},{\"attributes\":{\"data\":{\"Ether\":[1000],\"EtherValueUSD_M\":{\"__ndarray__\":\"H4XrUbgeD0A=\",\"dtype\":\"float64\",\"order\":\"little\",\"shape\":[1]},\"Punk\":[6275]},\"selected\":{\"id\":\"35828\"},\"selection_policy\":{\"id\":\"35860\"}},\"id\":\"35827\",\"type\":\"ColumnDataSource\"},{\"attributes\":{\"angle\":{\"value\":0.0},\"fill_alpha\":{\"value\":1.0},\"fill_color\":{\"value\":\"#6d904f\"},\"hatch_alpha\":{\"value\":1.0},\"hatch_color\":{\"value\":\"#6d904f\"},\"hatch_scale\":{\"value\":12.0},\"hatch_weight\":{\"value\":1.0},\"line_alpha\":{\"value\":1.0},\"line_cap\":{\"value\":\"butt\"},\"line_color\":{\"value\":\"#6d904f\"},\"line_dash\":{\"value\":[]},\"line_dash_offset\":{\"value\":0},\"line_join\":{\"value\":\"bevel\"},\"line_width\":{\"value\":1},\"marker\":{\"value\":\"circle\"},\"size\":{\"value\":5.477225575051661},\"x\":{\"field\":\"EtherValueUSD_M\"},\"y\":{\"field\":\"Ether\"}},\"id\":\"36134\",\"type\":\"Scatter\"},{\"attributes\":{\"angle\":{\"value\":0.0},\"fill_alpha\":{\"value\":1.0},\"fill_color\":{\"value\":\"#fc4f30\"},\"hatch_alpha\":{\"value\":1.0},\"hatch_color\":{\"value\":\"#fc4f30\"},\"hatch_scale\":{\"value\":12.0},\"hatch_weight\":{\"value\":1.0},\"line_alpha\":{\"value\":1.0},\"line_cap\":{\"value\":\"butt\"},\"line_color\":{\"value\":\"#fc4f30\"},\"line_dash\":{\"value\":[]},\"line_dash_offset\":{\"value\":0},\"line_join\":{\"value\":\"bevel\"},\"line_width\":{\"value\":1},\"marker\":{\"value\":\"circle\"},\"size\":{\"value\":5.477225575051661},\"x\":{\"field\":\"EtherValueUSD_M\"},\"y\":{\"field\":\"Ether\"}},\"id\":\"36036\",\"type\":\"Scatter\"},{\"attributes\":{\"data\":{\"Ether\":[1050],\"EtherValueUSD_M\":{\"__ndarray__\":\"16NwPQrXCUA=\",\"dtype\":\"float64\",\"order\":\"little\",\"shape\":[1]},\"Punk\":[7756]},\"selected\":{\"id\":\"36086\"},\"selection_policy\":{\"id\":\"36130\"}},\"id\":\"36085\",\"type\":\"ColumnDataSource\"},{\"attributes\":{},\"id\":\"35552\",\"type\":\"BasicTicker\"},{\"attributes\":{\"data\":{\"Ether\":[900],\"EtherValueUSD_M\":{\"__ndarray__\":\"j8L1KFyPCEA=\",\"dtype\":\"float64\",\"order\":\"little\",\"shape\":[1]},\"Punk\":[2681]},\"selected\":{\"id\":\"35618\"},\"selection_policy\":{\"id\":\"35636\"}},\"id\":\"35617\",\"type\":\"ColumnDataSource\"},{\"attributes\":{\"label\":{\"value\":\"3100\"},\"renderers\":[{\"id\":\"35647\"}]},\"id\":\"35665\",\"type\":\"LegendItem\"},{\"attributes\":{},\"id\":\"35575\",\"type\":\"Selection\"},{\"attributes\":{},\"id\":\"35596\",\"type\":\"Selection\"},{\"attributes\":{\"fill_alpha\":{\"value\":0.1},\"fill_color\":{\"value\":\"#fc4f30\"},\"hatch_alpha\":{\"value\":0.1},\"hatch_color\":{\"value\":\"#fc4f30\"},\"line_alpha\":{\"value\":0.1},\"line_color\":{\"value\":\"#fc4f30\"},\"size\":{\"value\":5.477225575051661},\"x\":{\"field\":\"EtherValueUSD_M\"},\"y\":{\"field\":\"Ether\"}},\"id\":\"35599\",\"type\":\"Scatter\"},{\"attributes\":{\"margin\":[5,5,5,5],\"name\":\"HSpacer82438\",\"sizing_mode\":\"stretch_width\"},\"id\":\"35516\",\"type\":\"Spacer\"},{\"attributes\":{\"fill_alpha\":{\"value\":0.2},\"fill_color\":{\"value\":\"#e5ae38\"},\"hatch_alpha\":{\"value\":0.2},\"hatch_color\":{\"value\":\"#e5ae38\"},\"line_alpha\":{\"value\":0.2},\"line_color\":{\"value\":\"#e5ae38\"},\"size\":{\"value\":5.477225575051661},\"x\":{\"field\":\"EtherValueUSD_M\"},\"y\":{\"field\":\"Ether\"}},\"id\":\"35622\",\"type\":\"Scatter\"},{\"attributes\":{\"fill_alpha\":{\"value\":0.1},\"fill_color\":{\"value\":\"#8b8b8b\"},\"hatch_alpha\":{\"value\":0.1},\"hatch_color\":{\"value\":\"#8b8b8b\"},\"line_alpha\":{\"value\":0.1},\"line_color\":{\"value\":\"#8b8b8b\"},\"size\":{\"value\":5.477225575051661},\"x\":{\"field\":\"EtherValueUSD_M\"},\"y\":{\"field\":\"Ether\"}},\"id\":\"36139\",\"type\":\"Scatter\"},{\"attributes\":{},\"id\":\"35573\",\"type\":\"AllLabels\"},{\"attributes\":{\"label\":{\"value\":\"7121\"},\"renderers\":[{\"id\":\"35997\"}]},\"id\":\"36035\",\"type\":\"LegendItem\"},{\"attributes\":{\"label\":{\"value\":\"8888\"},\"renderers\":[{\"id\":\"36247\"}]},\"id\":\"36295\",\"type\":\"LegendItem\"},{\"attributes\":{\"fill_color\":{\"value\":\"#17becf\"},\"hatch_color\":{\"value\":\"#17becf\"},\"line_color\":{\"value\":\"#17becf\"},\"size\":{\"value\":5.477225575051661},\"x\":{\"field\":\"EtherValueUSD_M\"},\"y\":{\"field\":\"Ether\"}},\"id\":\"36190\",\"type\":\"Scatter\"},{\"attributes\":{},\"id\":\"36292\",\"type\":\"UnionRenderers\"},{\"attributes\":{\"coordinates\":null,\"data_source\":{\"id\":\"35595\"},\"glyph\":{\"id\":\"35598\"},\"group\":null,\"hover_glyph\":null,\"muted_glyph\":{\"id\":\"35600\"},\"nonselection_glyph\":{\"id\":\"35599\"},\"selection_glyph\":{\"id\":\"35616\"},\"view\":{\"id\":\"35602\"}},\"id\":\"35601\",\"type\":\"GlyphRenderer\"},{\"attributes\":{\"fill_alpha\":{\"value\":0.2},\"fill_color\":{\"value\":\"#9467bd\"},\"hatch_alpha\":{\"value\":0.2},\"hatch_color\":{\"value\":\"#9467bd\"},\"line_alpha\":{\"value\":0.2},\"line_color\":{\"value\":\"#9467bd\"},\"size\":{\"value\":5.477225575051661},\"x\":{\"field\":\"EtherValueUSD_M\"},\"y\":{\"field\":\"Ether\"}},\"id\":\"36246\",\"type\":\"Scatter\"},{\"attributes\":{\"label\":{\"value\":\"6965\"},\"renderers\":[{\"id\":\"35953\"}]},\"id\":\"35989\",\"type\":\"LegendItem\"},{\"attributes\":{},\"id\":\"35942\",\"type\":\"UnionRenderers\"},{\"attributes\":{\"coordinates\":null,\"data_source\":{\"id\":\"36085\"},\"glyph\":{\"id\":\"36088\"},\"group\":null,\"hover_glyph\":null,\"muted_glyph\":{\"id\":\"36090\"},\"nonselection_glyph\":{\"id\":\"36089\"},\"selection_glyph\":{\"id\":\"36134\"},\"view\":{\"id\":\"36092\"}},\"id\":\"36091\",\"type\":\"GlyphRenderer\"},{\"attributes\":{\"fill_alpha\":{\"value\":0.2},\"fill_color\":{\"value\":\"#fc4f30\"},\"hatch_alpha\":{\"value\":0.2},\"hatch_color\":{\"value\":\"#fc4f30\"},\"line_alpha\":{\"value\":0.2},\"line_color\":{\"value\":\"#fc4f30\"},\"size\":{\"value\":5.477225575051661},\"x\":{\"field\":\"EtherValueUSD_M\"},\"y\":{\"field\":\"Ether\"}},\"id\":\"35600\",\"type\":\"Scatter\"},{\"attributes\":{\"source\":{\"id\":\"35905\"}},\"id\":\"35912\",\"type\":\"CDSView\"},{\"attributes\":{\"source\":{\"id\":\"35667\"}},\"id\":\"35674\",\"type\":\"CDSView\"},{\"attributes\":{\"fill_color\":{\"value\":\"#6d904f\"},\"hatch_color\":{\"value\":\"#6d904f\"},\"line_color\":{\"value\":\"#6d904f\"},\"size\":{\"value\":5.477225575051661},\"x\":{\"field\":\"EtherValueUSD_M\"},\"y\":{\"field\":\"Ether\"}},\"id\":\"36088\",\"type\":\"Scatter\"},{\"attributes\":{\"coordinates\":null,\"data_source\":{\"id\":\"35617\"},\"glyph\":{\"id\":\"35620\"},\"group\":null,\"hover_glyph\":null,\"muted_glyph\":{\"id\":\"35622\"},\"nonselection_glyph\":{\"id\":\"35621\"},\"selection_glyph\":{\"id\":\"35640\"},\"view\":{\"id\":\"35624\"}},\"id\":\"35623\",\"type\":\"GlyphRenderer\"},{\"attributes\":{\"data\":{\"Ether\":[4200],\"EtherValueUSD_M\":{\"__ndarray__\":\"UrgehetRHkA=\",\"dtype\":\"float64\",\"order\":\"little\",\"shape\":[1]},\"Punk\":[3100]},\"selected\":{\"id\":\"35642\"},\"selection_policy\":{\"id\":\"35662\"}},\"id\":\"35641\",\"type\":\"ColumnDataSource\"},{\"attributes\":{\"fill_alpha\":{\"value\":0.2},\"fill_color\":{\"value\":\"#fc4f30\"},\"hatch_alpha\":{\"value\":0.2},\"hatch_color\":{\"value\":\"#fc4f30\"},\"line_alpha\":{\"value\":0.2},\"line_color\":{\"value\":\"#fc4f30\"},\"size\":{\"value\":5.477225575051661},\"x\":{\"field\":\"EtherValueUSD_M\"},\"y\":{\"field\":\"Ether\"}},\"id\":\"35996\",\"type\":\"Scatter\"},{\"attributes\":{},\"id\":\"35662\",\"type\":\"UnionRenderers\"},{\"attributes\":{},\"id\":\"36242\",\"type\":\"Selection\"},{\"attributes\":{},\"id\":\"36032\",\"type\":\"UnionRenderers\"},{\"attributes\":{},\"id\":\"36136\",\"type\":\"Selection\"},{\"attributes\":{\"axis\":{\"id\":\"35547\"},\"coordinates\":null,\"grid_line_color\":null,\"group\":null,\"ticker\":null},\"id\":\"35550\",\"type\":\"Grid\"},{\"attributes\":{\"angle\":{\"value\":0.0},\"fill_alpha\":{\"value\":1.0},\"fill_color\":{\"value\":\"#bcbd22\"},\"hatch_alpha\":{\"value\":1.0},\"hatch_color\":{\"value\":\"#bcbd22\"},\"hatch_scale\":{\"value\":12.0},\"hatch_weight\":{\"value\":1.0},\"line_alpha\":{\"value\":1.0},\"line_cap\":{\"value\":\"butt\"},\"line_color\":{\"value\":\"#bcbd22\"},\"line_dash\":{\"value\":[]},\"line_dash_offset\":{\"value\":0},\"line_join\":{\"value\":\"bevel\"},\"line_width\":{\"value\":1},\"marker\":{\"value\":\"circle\"},\"size\":{\"value\":5.477225575051661},\"x\":{\"field\":\"EtherValueUSD_M\"},\"y\":{\"field\":\"Ether\"}},\"id\":\"35946\",\"type\":\"Scatter\"},{\"attributes\":{},\"id\":\"36130\",\"type\":\"UnionRenderers\"},{\"attributes\":{\"fill_alpha\":{\"value\":0.2},\"fill_color\":{\"value\":\"#8b8b8b\"},\"hatch_alpha\":{\"value\":0.2},\"hatch_color\":{\"value\":\"#8b8b8b\"},\"line_alpha\":{\"value\":0.2},\"line_color\":{\"value\":\"#8b8b8b\"},\"size\":{\"value\":5.477225575051661},\"x\":{\"field\":\"EtherValueUSD_M\"},\"y\":{\"field\":\"Ether\"}},\"id\":\"35672\",\"type\":\"Scatter\"},{\"attributes\":{\"data\":{\"Ether\":[2500],\"EtherValueUSD_M\":{\"__ndarray__\":\"hetRuB6FJEA=\",\"dtype\":\"float64\",\"order\":\"little\",\"shape\":[1]},\"Punk\":[4156]},\"selected\":{\"id\":\"35696\"},\"selection_policy\":{\"id\":\"35720\"}},\"id\":\"35695\",\"type\":\"ColumnDataSource\"},{\"attributes\":{\"angle\":{\"value\":0.0},\"fill_alpha\":{\"value\":1.0},\"fill_color\":{\"value\":\"#30a2da\"},\"hatch_alpha\":{\"value\":1.0},\"hatch_color\":{\"value\":\"#30a2da\"},\"hatch_scale\":{\"value\":12.0},\"hatch_weight\":{\"value\":1.0},\"line_alpha\":{\"value\":1.0},\"line_cap\":{\"value\":\"butt\"},\"line_color\":{\"value\":\"#30a2da\"},\"line_dash\":{\"value\":[]},\"line_dash_offset\":{\"value\":0},\"line_join\":{\"value\":\"bevel\"},\"line_width\":{\"value\":1},\"marker\":{\"value\":\"circle\"},\"size\":{\"value\":5.477225575051661},\"x\":{\"field\":\"EtherValueUSD_M\"},\"y\":{\"field\":\"Ether\"}},\"id\":\"35990\",\"type\":\"Scatter\"},{\"attributes\":{\"coordinates\":null,\"data_source\":{\"id\":\"36135\"},\"glyph\":{\"id\":\"36138\"},\"group\":null,\"hover_glyph\":null,\"muted_glyph\":{\"id\":\"36140\"},\"nonselection_glyph\":{\"id\":\"36139\"},\"selection_glyph\":{\"id\":\"36186\"},\"view\":{\"id\":\"36142\"}},\"id\":\"36141\",\"type\":\"GlyphRenderer\"},{\"attributes\":{\"data\":{\"Ether\":[2250],\"EtherValueUSD_M\":{\"__ndarray__\":\"zczMzMzMFUA=\",\"dtype\":\"float64\",\"order\":\"little\",\"shape\":[1]},\"Punk\":[5217]},\"selected\":{\"id\":\"35726\"},\"selection_policy\":{\"id\":\"35752\"}},\"id\":\"35725\",\"type\":\"ColumnDataSource\"},{\"attributes\":{\"source\":{\"id\":\"36037\"}},\"id\":\"36044\",\"type\":\"CDSView\"},{\"attributes\":{\"fill_alpha\":{\"value\":0.1},\"fill_color\":{\"value\":\"#17becf\"},\"hatch_alpha\":{\"value\":0.1},\"hatch_color\":{\"value\":\"#17becf\"},\"line_alpha\":{\"value\":0.1},\"line_color\":{\"value\":\"#17becf\"},\"size\":{\"value\":5.477225575051661},\"x\":{\"field\":\"EtherValueUSD_M\"},\"y\":{\"field\":\"Ether\"}},\"id\":\"36191\",\"type\":\"Scatter\"},{\"attributes\":{},\"id\":\"35612\",\"type\":\"UnionRenderers\"},{\"attributes\":{},\"id\":\"35900\",\"type\":\"UnionRenderers\"},{\"attributes\":{\"coordinates\":null,\"group\":null,\"text\":\"Top 20 Sales By Ether\",\"text_color\":\"black\",\"text_font_size\":\"16pt\"},\"id\":\"35539\",\"type\":\"Title\"},{\"attributes\":{\"source\":{\"id\":\"35865\"}},\"id\":\"35872\",\"type\":\"CDSView\"},{\"attributes\":{\"fill_alpha\":{\"value\":0.2},\"fill_color\":{\"value\":\"#e5ae38\"},\"hatch_alpha\":{\"value\":0.2},\"hatch_color\":{\"value\":\"#e5ae38\"},\"line_alpha\":{\"value\":0.2},\"line_color\":{\"value\":\"#e5ae38\"},\"size\":{\"value\":5.477225575051661},\"x\":{\"field\":\"EtherValueUSD_M\"},\"y\":{\"field\":\"Ether\"}},\"id\":\"36042\",\"type\":\"Scatter\"},{\"attributes\":{\"label\":{\"value\":\"6276\"},\"renderers\":[{\"id\":\"35871\"}]},\"id\":\"35903\",\"type\":\"LegendItem\"},{\"attributes\":{\"coordinates\":null,\"data_source\":{\"id\":\"35991\"},\"glyph\":{\"id\":\"35994\"},\"group\":null,\"hover_glyph\":null,\"muted_glyph\":{\"id\":\"35996\"},\"nonselection_glyph\":{\"id\":\"35995\"},\"selection_glyph\":{\"id\":\"36036\"},\"view\":{\"id\":\"35998\"}},\"id\":\"35997\",\"type\":\"GlyphRenderer\"},{\"attributes\":{\"data\":{\"Ether\":[1180],\"EtherValueUSD_M\":{\"__ndarray__\":\"pHA9CtejCEA=\",\"dtype\":\"float64\",\"order\":\"little\",\"shape\":[1]},\"Punk\":[7121]},\"selected\":{\"id\":\"35992\"},\"selection_policy\":{\"id\":\"36032\"}},\"id\":\"35991\",\"type\":\"ColumnDataSource\"},{\"attributes\":{},\"id\":\"35555\",\"type\":\"SaveTool\"},{\"attributes\":{\"coordinates\":null,\"data_source\":{\"id\":\"35641\"},\"glyph\":{\"id\":\"35644\"},\"group\":null,\"hover_glyph\":null,\"muted_glyph\":{\"id\":\"35646\"},\"nonselection_glyph\":{\"id\":\"35645\"},\"selection_glyph\":{\"id\":\"35666\"},\"view\":{\"id\":\"35648\"}},\"id\":\"35647\",\"type\":\"GlyphRenderer\"},{\"attributes\":{\"fill_color\":{\"value\":\"#e5ae38\"},\"hatch_color\":{\"value\":\"#e5ae38\"},\"line_color\":{\"value\":\"#e5ae38\"},\"size\":{\"value\":5.477225575051661},\"x\":{\"field\":\"EtherValueUSD_M\"},\"y\":{\"field\":\"Ether\"}},\"id\":\"35620\",\"type\":\"Scatter\"},{\"attributes\":{},\"id\":\"35948\",\"type\":\"Selection\"},{\"attributes\":{\"coordinates\":null,\"data_source\":{\"id\":\"35865\"},\"glyph\":{\"id\":\"35868\"},\"group\":null,\"hover_glyph\":null,\"muted_glyph\":{\"id\":\"35870\"},\"nonselection_glyph\":{\"id\":\"35869\"},\"selection_glyph\":{\"id\":\"35904\"},\"view\":{\"id\":\"35872\"}},\"id\":\"35871\",\"type\":\"GlyphRenderer\"},{\"attributes\":{},\"id\":\"35543\",\"type\":\"LinearScale\"},{\"attributes\":{\"fill_color\":{\"value\":\"#fc4f30\"},\"hatch_color\":{\"value\":\"#fc4f30\"},\"line_color\":{\"value\":\"#fc4f30\"},\"size\":{\"value\":5.477225575051661},\"x\":{\"field\":\"EtherValueUSD_M\"},\"y\":{\"field\":\"Ether\"}},\"id\":\"35994\",\"type\":\"Scatter\"},{\"attributes\":{\"label\":{\"value\":\"7756\"},\"renderers\":[{\"id\":\"36091\"}]},\"id\":\"36133\",\"type\":\"LegendItem\"},{\"attributes\":{},\"id\":\"36086\",\"type\":\"Selection\"},{\"attributes\":{\"label\":{\"value\":\"3831\"},\"renderers\":[{\"id\":\"35673\"}]},\"id\":\"35693\",\"type\":\"LegendItem\"},{\"attributes\":{\"source\":{\"id\":\"36085\"}},\"id\":\"36092\",\"type\":\"CDSView\"},{\"attributes\":{\"data\":{\"Ether\":[4200],\"EtherValueUSD_M\":{\"__ndarray__\":\"SOF6FK5HHkA=\",\"dtype\":\"float64\",\"order\":\"little\",\"shape\":[1]},\"Punk\":[7804]},\"selected\":{\"id\":\"36136\"},\"selection_policy\":{\"id\":\"36182\"}},\"id\":\"36135\",\"type\":\"ColumnDataSource\"},{\"attributes\":{},\"id\":\"35545\",\"type\":\"LinearScale\"},{\"attributes\":{\"fill_alpha\":{\"value\":0.2},\"fill_color\":{\"value\":\"#6d904f\"},\"hatch_alpha\":{\"value\":0.2},\"hatch_color\":{\"value\":\"#6d904f\"},\"line_alpha\":{\"value\":0.2},\"line_color\":{\"value\":\"#6d904f\"},\"size\":{\"value\":5.477225575051661},\"x\":{\"field\":\"EtherValueUSD_M\"},\"y\":{\"field\":\"Ether\"}},\"id\":\"36090\",\"type\":\"Scatter\"},{\"attributes\":{\"bottom_units\":\"screen\",\"coordinates\":null,\"fill_alpha\":0.5,\"fill_color\":\"lightgrey\",\"group\":null,\"left_units\":\"screen\",\"level\":\"overlay\",\"line_alpha\":1.0,\"line_color\":\"black\",\"line_dash\":[4,4],\"line_width\":2,\"right_units\":\"screen\",\"syncable\":false,\"top_units\":\"screen\"},\"id\":\"35560\",\"type\":\"BoxAnnotation\"},{\"attributes\":{\"axis_label\":\"Ether\",\"axis_label_text_font_size\":\"14pt\",\"coordinates\":null,\"formatter\":{\"id\":\"35572\"},\"group\":null,\"major_label_policy\":{\"id\":\"35573\"},\"major_label_text_font_size\":\"12pt\",\"ticker\":{\"id\":\"35552\"}},\"id\":\"35551\",\"type\":\"LinearAxis\"},{\"attributes\":{\"fill_alpha\":{\"value\":0.1},\"fill_color\":{\"value\":\"#8b8b8b\"},\"hatch_alpha\":{\"value\":0.1},\"hatch_color\":{\"value\":\"#8b8b8b\"},\"line_alpha\":{\"value\":0.1},\"line_color\":{\"value\":\"#8b8b8b\"},\"size\":{\"value\":5.477225575051661},\"x\":{\"field\":\"EtherValueUSD_M\"},\"y\":{\"field\":\"Ether\"}},\"id\":\"35671\",\"type\":\"Scatter\"},{\"attributes\":{\"axis_label\":\"EtherValueUSD_M\",\"axis_label_text_font_size\":\"14pt\",\"coordinates\":null,\"formatter\":{\"id\":\"35569\"},\"group\":null,\"major_label_orientation\":1.5707963267948966,\"major_label_policy\":{\"id\":\"35570\"},\"major_label_text_font_size\":\"6pt\",\"ticker\":{\"id\":\"35548\"}},\"id\":\"35547\",\"type\":\"LinearAxis\"},{\"attributes\":{\"data\":{\"Ether\":[1600,1000],\"EtherValueUSD_M\":{\"__ndarray__\":\"UrgehetRFUB7FK5H4XoEQA==\",\"dtype\":\"float64\",\"order\":\"little\",\"shape\":[2]},\"Punk\":[7252,7252]},\"selected\":{\"id\":\"36038\"},\"selection_policy\":{\"id\":\"36080\"}},\"id\":\"36037\",\"type\":\"ColumnDataSource\"},{\"attributes\":{\"source\":{\"id\":\"35947\"}},\"id\":\"35954\",\"type\":\"CDSView\"},{\"attributes\":{\"angle\":{\"value\":0.0},\"fill_alpha\":{\"value\":1.0},\"fill_color\":{\"value\":\"#e5ae38\"},\"hatch_alpha\":{\"value\":1.0},\"hatch_color\":{\"value\":\"#e5ae38\"},\"hatch_scale\":{\"value\":12.0},\"hatch_weight\":{\"value\":1.0},\"line_alpha\":{\"value\":1.0},\"line_cap\":{\"value\":\"butt\"},\"line_color\":{\"value\":\"#e5ae38\"},\"line_dash\":{\"value\":[]},\"line_dash_offset\":{\"value\":0},\"line_join\":{\"value\":\"bevel\"},\"line_width\":{\"value\":1},\"marker\":{\"value\":\"circle\"},\"size\":{\"value\":5.477225575051661},\"x\":{\"field\":\"EtherValueUSD_M\"},\"y\":{\"field\":\"Ether\"}},\"id\":\"36084\",\"type\":\"Scatter\"},{\"attributes\":{},\"id\":\"35618\",\"type\":\"Selection\"},{\"attributes\":{},\"id\":\"36038\",\"type\":\"Selection\"},{\"attributes\":{\"axis\":{\"id\":\"35551\"},\"coordinates\":null,\"dimension\":1,\"grid_line_color\":null,\"group\":null,\"ticker\":null},\"id\":\"35554\",\"type\":\"Grid\"},{\"attributes\":{\"angle\":{\"value\":0.0},\"fill_alpha\":{\"value\":1.0},\"fill_color\":{\"value\":\"#fc4f30\"},\"hatch_alpha\":{\"value\":1.0},\"hatch_color\":{\"value\":\"#fc4f30\"},\"hatch_scale\":{\"value\":12.0},\"hatch_weight\":{\"value\":1.0},\"line_alpha\":{\"value\":1.0},\"line_cap\":{\"value\":\"butt\"},\"line_color\":{\"value\":\"#fc4f30\"},\"line_dash\":{\"value\":[]},\"line_dash_offset\":{\"value\":0},\"line_join\":{\"value\":\"bevel\"},\"line_width\":{\"value\":1},\"marker\":{\"value\":\"circle\"},\"size\":{\"value\":5.477225575051661},\"x\":{\"field\":\"EtherValueUSD_M\"},\"y\":{\"field\":\"Ether\"}},\"id\":\"35616\",\"type\":\"Scatter\"},{\"attributes\":{\"source\":{\"id\":\"36241\"}},\"id\":\"36248\",\"type\":\"CDSView\"},{\"attributes\":{\"data\":{\"Ether\":[850],\"EtherValueUSD_M\":{\"__ndarray__\":\"pHA9CtejAEA=\",\"dtype\":\"float64\",\"order\":\"little\",\"shape\":[1]},\"Punk\":[3831]},\"selected\":{\"id\":\"35668\"},\"selection_policy\":{\"id\":\"35690\"}},\"id\":\"35667\",\"type\":\"ColumnDataSource\"},{\"attributes\":{\"fill_alpha\":{\"value\":0.1},\"fill_color\":{\"value\":\"#fc4f30\"},\"hatch_alpha\":{\"value\":0.1},\"hatch_color\":{\"value\":\"#fc4f30\"},\"line_alpha\":{\"value\":0.1},\"line_color\":{\"value\":\"#fc4f30\"},\"size\":{\"value\":5.477225575051661},\"x\":{\"field\":\"EtherValueUSD_M\"},\"y\":{\"field\":\"Ether\"}},\"id\":\"35995\",\"type\":\"Scatter\"},{\"attributes\":{\"fill_color\":{\"value\":\"#bcbd22\"},\"hatch_color\":{\"value\":\"#bcbd22\"},\"line_color\":{\"value\":\"#bcbd22\"},\"size\":{\"value\":5.477225575051661},\"x\":{\"field\":\"EtherValueUSD_M\"},\"y\":{\"field\":\"Ether\"}},\"id\":\"35908\",\"type\":\"Scatter\"},{\"attributes\":{},\"id\":\"35572\",\"type\":\"BasicTickFormatter\"},{\"attributes\":{\"margin\":[5,5,5,5],\"name\":\"HSpacer82439\",\"sizing_mode\":\"stretch_width\"},\"id\":\"36711\",\"type\":\"Spacer\"},{\"attributes\":{\"fill_color\":{\"value\":\"#17becf\"},\"hatch_color\":{\"value\":\"#17becf\"},\"line_color\":{\"value\":\"#17becf\"},\"size\":{\"value\":5.477225575051661},\"x\":{\"field\":\"EtherValueUSD_M\"},\"y\":{\"field\":\"Ether\"}},\"id\":\"35698\",\"type\":\"Scatter\"},{\"attributes\":{\"data\":{\"Ether\":[2500],\"EtherValueUSD_M\":{\"__ndarray__\":\"zczMzMzMHkA=\",\"dtype\":\"float64\",\"order\":\"little\",\"shape\":[1]},\"Punk\":[5577]},\"selected\":{\"id\":\"35758\"},\"selection_policy\":{\"id\":\"35786\"}},\"id\":\"35757\",\"type\":\"ColumnDataSource\"},{\"attributes\":{\"fill_alpha\":{\"value\":0.1},\"fill_color\":{\"value\":\"#9467bd\"},\"hatch_alpha\":{\"value\":0.1},\"hatch_color\":{\"value\":\"#9467bd\"},\"line_alpha\":{\"value\":0.1},\"line_color\":{\"value\":\"#9467bd\"},\"size\":{\"value\":5.477225575051661},\"x\":{\"field\":\"EtherValueUSD_M\"},\"y\":{\"field\":\"Ether\"}},\"id\":\"36245\",\"type\":\"Scatter\"},{\"attributes\":{\"angle\":{\"value\":0.0},\"fill_alpha\":{\"value\":1.0},\"fill_color\":{\"value\":\"#30a2da\"},\"hatch_alpha\":{\"value\":1.0},\"hatch_color\":{\"value\":\"#30a2da\"},\"hatch_scale\":{\"value\":12.0},\"hatch_weight\":{\"value\":1.0},\"line_alpha\":{\"value\":1.0},\"line_cap\":{\"value\":\"butt\"},\"line_color\":{\"value\":\"#30a2da\"},\"line_dash\":{\"value\":[]},\"line_dash_offset\":{\"value\":0},\"line_join\":{\"value\":\"bevel\"},\"line_width\":{\"value\":1},\"marker\":{\"value\":\"circle\"},\"size\":{\"value\":5.477225575051661},\"x\":{\"field\":\"EtherValueUSD_M\"},\"y\":{\"field\":\"Ether\"}},\"id\":\"35594\",\"type\":\"Scatter\"},{\"attributes\":{\"angle\":{\"value\":0.0},\"fill_alpha\":{\"value\":1.0},\"fill_color\":{\"value\":\"#8b8b8b\"},\"hatch_alpha\":{\"value\":1.0},\"hatch_color\":{\"value\":\"#8b8b8b\"},\"hatch_scale\":{\"value\":12.0},\"hatch_weight\":{\"value\":1.0},\"line_alpha\":{\"value\":1.0},\"line_cap\":{\"value\":\"butt\"},\"line_color\":{\"value\":\"#8b8b8b\"},\"line_dash\":{\"value\":[]},\"line_dash_offset\":{\"value\":0},\"line_join\":{\"value\":\"bevel\"},\"line_width\":{\"value\":1},\"marker\":{\"value\":\"circle\"},\"size\":{\"value\":5.477225575051661},\"x\":{\"field\":\"EtherValueUSD_M\"},\"y\":{\"field\":\"Ether\"}},\"id\":\"35694\",\"type\":\"Scatter\"}],\"root_ids\":[\"35515\"]},\"title\":\"Bokeh Application\",\"version\":\"2.4.1\"}};\n",
       "    var render_items = [{\"docid\":\"2ff67d63-5191-424a-917d-54c435562de1\",\"root_ids\":[\"35515\"],\"roots\":{\"35515\":\"a8a610d8-0d06-4251-8b2d-f74bfc62f0ad\"}}];\n",
       "    root.Bokeh.embed.embed_items_notebook(docs_json, render_items);\n",
       "  }\n",
       "  if (root.Bokeh !== undefined && root.Bokeh.Panel !== undefined) {\n",
       "    embed_document(root);\n",
       "  } else {\n",
       "    var attempts = 0;\n",
       "    var timer = setInterval(function(root) {\n",
       "      if (root.Bokeh !== undefined && root.Bokeh.Panel !== undefined) {\n",
       "        clearInterval(timer);\n",
       "        embed_document(root);\n",
       "      } else if (document.readyState == \"complete\") {\n",
       "        attempts++;\n",
       "        if (attempts > 200) {\n",
       "          clearInterval(timer);\n",
       "          console.log(\"Bokeh: ERROR: Unable to run BokehJS code because BokehJS library is missing\");\n",
       "        }\n",
       "      }\n",
       "    }, 25, root)\n",
       "  }\n",
       "})(window);</script>"
      ],
      "text/plain": [
       ":NdOverlay   [Punk]\n",
       "   :Scatter   [EtherValueUSD_M]   (Ether)"
      ]
     },
     "execution_count": 386,
     "metadata": {
      "application/vnd.holoviews_exec.v0+json": {
       "id": "35515"
      }
     },
     "output_type": "execute_result"
    }
   ],
   "source": [
    "top20_sales_df.hvplot.scatter(\n",
    "    x='EtherValueUSD_M', \n",
    "    y='Ether',\n",
    "    xlabel='EtherValueUSD_M',\n",
    "    ylabel='Ether',\n",
    "    rot=90,\n",
    "    label='Top 20 Sales By Ether',\n",
    "    by='Punk',\n",
    "    height= 600,\n",
    "    width = 1000\n",
    ").opts(\n",
    "    bgcolor='lightgray',\n",
    "    fontsize={'title': 16, 'labels': 14, 'xticks': 6, 'yticks': 12}\n",
    ")"
   ]
  },
  {
   "cell_type": "code",
   "execution_count": 389,
   "id": "aa180072-9597-4636-aae3-a9338092e5a2",
   "metadata": {},
   "outputs": [
    {
     "data": {
      "text/html": [
       "<div>\n",
       "<style scoped>\n",
       "    .dataframe tbody tr th:only-of-type {\n",
       "        vertical-align: middle;\n",
       "    }\n",
       "\n",
       "    .dataframe tbody tr th {\n",
       "        vertical-align: top;\n",
       "    }\n",
       "\n",
       "    .dataframe thead th {\n",
       "        text-align: right;\n",
       "    }\n",
       "</style>\n",
       "<table border=\"1\" class=\"dataframe\">\n",
       "  <thead>\n",
       "    <tr style=\"text-align: right;\">\n",
       "      <th></th>\n",
       "      <th>Account</th>\n",
       "      <th>OpenSea / ENS</th>\n",
       "      <th>Number Owned</th>\n",
       "      <th>last Active</th>\n",
       "    </tr>\n",
       "    <tr>\n",
       "      <th>#</th>\n",
       "      <th></th>\n",
       "      <th></th>\n",
       "      <th></th>\n",
       "      <th></th>\n",
       "    </tr>\n",
       "  </thead>\n",
       "  <tbody>\n",
       "    <tr>\n",
       "      <th>1</th>\n",
       "      <td>0xb7f7f6c52f2e2</td>\n",
       "      <td>WrappedCryptoPu</td>\n",
       "      <td>428</td>\n",
       "      <td>7 hours ago</td>\n",
       "    </tr>\n",
       "    <tr>\n",
       "      <th>2</th>\n",
       "      <td>0xa858ddc0445d8</td>\n",
       "      <td>NaN</td>\n",
       "      <td>423</td>\n",
       "      <td>1 month ago</td>\n",
       "    </tr>\n",
       "    <tr>\n",
       "      <th>3</th>\n",
       "      <td>0xa25803ab86a32</td>\n",
       "      <td>wilcox.eth</td>\n",
       "      <td>238</td>\n",
       "      <td>28 days ago</td>\n",
       "    </tr>\n",
       "    <tr>\n",
       "      <th>4</th>\n",
       "      <td>0xb88f61e6fbda8</td>\n",
       "      <td>NaN</td>\n",
       "      <td>215</td>\n",
       "      <td>11 months ago</td>\n",
       "    </tr>\n",
       "    <tr>\n",
       "      <th>5</th>\n",
       "      <td>0x577ebc5de943e</td>\n",
       "      <td>NaN</td>\n",
       "      <td>165</td>\n",
       "      <td>5 days ago</td>\n",
       "    </tr>\n",
       "    <tr>\n",
       "      <th>...</th>\n",
       "      <td>...</td>\n",
       "      <td>...</td>\n",
       "      <td>...</td>\n",
       "      <td>...</td>\n",
       "    </tr>\n",
       "    <tr>\n",
       "      <th>3427</th>\n",
       "      <td>0x9b167ae7a58a1</td>\n",
       "      <td>generativemaxi.</td>\n",
       "      <td>1</td>\n",
       "      <td>NaN</td>\n",
       "    </tr>\n",
       "    <tr>\n",
       "      <th>3428</th>\n",
       "      <td>0x9fdf724bcdf93</td>\n",
       "      <td>cuy.eth</td>\n",
       "      <td>1</td>\n",
       "      <td>1 year ago</td>\n",
       "    </tr>\n",
       "    <tr>\n",
       "      <th>3429</th>\n",
       "      <td>0x799b52e309d6d</td>\n",
       "      <td>NaN</td>\n",
       "      <td>1</td>\n",
       "      <td>NaN</td>\n",
       "    </tr>\n",
       "    <tr>\n",
       "      <th>3430</th>\n",
       "      <td>0x520297dab0761</td>\n",
       "      <td>NaN</td>\n",
       "      <td>1</td>\n",
       "      <td>5 months ago</td>\n",
       "    </tr>\n",
       "    <tr>\n",
       "      <th>3431</th>\n",
       "      <td>0x35a7e409b1ced</td>\n",
       "      <td>NaN</td>\n",
       "      <td>1</td>\n",
       "      <td>NaN</td>\n",
       "    </tr>\n",
       "  </tbody>\n",
       "</table>\n",
       "<p>3431 rows × 4 columns</p>\n",
       "</div>"
      ],
      "text/plain": [
       "              Account    OpenSea / ENS  Number Owned    last Active\n",
       "#                                                                  \n",
       "1     0xb7f7f6c52f2e2  WrappedCryptoPu           428    7 hours ago\n",
       "2     0xa858ddc0445d8              NaN           423    1 month ago\n",
       "3     0xa25803ab86a32       wilcox.eth           238    28 days ago\n",
       "4     0xb88f61e6fbda8              NaN           215  11 months ago\n",
       "5     0x577ebc5de943e              NaN           165     5 days ago\n",
       "...               ...              ...           ...            ...\n",
       "3427  0x9b167ae7a58a1  generativemaxi.             1            NaN\n",
       "3428  0x9fdf724bcdf93          cuy.eth             1     1 year ago\n",
       "3429  0x799b52e309d6d              NaN             1            NaN\n",
       "3430  0x520297dab0761              NaN             1   5 months ago\n",
       "3431  0x35a7e409b1ced              NaN             1            NaN\n",
       "\n",
       "[3431 rows x 4 columns]"
      ]
     },
     "execution_count": 389,
     "metadata": {},
     "output_type": "execute_result"
    }
   ],
   "source": [
    "cryptopunk_owners_df"
   ]
  },
  {
   "cell_type": "code",
   "execution_count": 397,
   "id": "0ca19d6c-5817-456d-a57c-b25d3149ff2b",
   "metadata": {},
   "outputs": [
    {
     "data": {
      "text/plain": [
       "10000"
      ]
     },
     "execution_count": 397,
     "metadata": {},
     "output_type": "execute_result"
    }
   ],
   "source": [
    "#validate dataframe total owned is 10,000\n",
    "cryptopunk_total_assets = cryptopunk_owners_df['Number Owned'].sum()\n",
    "cryptopunk_total_assets"
   ]
  },
  {
   "cell_type": "code",
   "execution_count": 396,
   "id": "8ed13bb2-00e7-42ef-b6d8-7cec828367fc",
   "metadata": {},
   "outputs": [
    {
     "data": {
      "text/plain": [
       "2.914602156805596"
      ]
     },
     "execution_count": 396,
     "metadata": {},
     "output_type": "execute_result"
    }
   ],
   "source": [
    "#find mean number of NFTs owned per owner\n",
    "cryptopunk_owners_mean = cryptopunk_owners_df['Number Owned'].mean()\n",
    "cryptopunk_owners_mean"
   ]
  },
  {
   "cell_type": "code",
   "execution_count": 432,
   "id": "6649b207-bdee-48ba-a9d8-1b3e1e192575",
   "metadata": {},
   "outputs": [
    {
     "data": {
      "text/html": [
       "<div>\n",
       "<style scoped>\n",
       "    .dataframe tbody tr th:only-of-type {\n",
       "        vertical-align: middle;\n",
       "    }\n",
       "\n",
       "    .dataframe tbody tr th {\n",
       "        vertical-align: top;\n",
       "    }\n",
       "\n",
       "    .dataframe thead th {\n",
       "        text-align: right;\n",
       "    }\n",
       "</style>\n",
       "<table border=\"1\" class=\"dataframe\">\n",
       "  <thead>\n",
       "    <tr style=\"text-align: right;\">\n",
       "      <th></th>\n",
       "      <th>Account</th>\n",
       "      <th>OpenSea / ENS</th>\n",
       "      <th>Number Owned</th>\n",
       "      <th>last Active</th>\n",
       "    </tr>\n",
       "    <tr>\n",
       "      <th>#</th>\n",
       "      <th></th>\n",
       "      <th></th>\n",
       "      <th></th>\n",
       "      <th></th>\n",
       "    </tr>\n",
       "  </thead>\n",
       "  <tbody>\n",
       "    <tr>\n",
       "      <th>1</th>\n",
       "      <td>0xb7f7f6c52f2e2</td>\n",
       "      <td>WrappedCryptoPu</td>\n",
       "      <td>428</td>\n",
       "      <td>7 hours ago</td>\n",
       "    </tr>\n",
       "    <tr>\n",
       "      <th>2</th>\n",
       "      <td>0xa858ddc0445d8</td>\n",
       "      <td>NaN</td>\n",
       "      <td>423</td>\n",
       "      <td>1 month ago</td>\n",
       "    </tr>\n",
       "    <tr>\n",
       "      <th>3</th>\n",
       "      <td>0xa25803ab86a32</td>\n",
       "      <td>wilcox.eth</td>\n",
       "      <td>238</td>\n",
       "      <td>28 days ago</td>\n",
       "    </tr>\n",
       "    <tr>\n",
       "      <th>4</th>\n",
       "      <td>0xb88f61e6fbda8</td>\n",
       "      <td>NaN</td>\n",
       "      <td>215</td>\n",
       "      <td>11 months ago</td>\n",
       "    </tr>\n",
       "    <tr>\n",
       "      <th>5</th>\n",
       "      <td>0x577ebc5de943e</td>\n",
       "      <td>NaN</td>\n",
       "      <td>165</td>\n",
       "      <td>5 days ago</td>\n",
       "    </tr>\n",
       "    <tr>\n",
       "      <th>6</th>\n",
       "      <td>0x69021ae876958</td>\n",
       "      <td>sov.eth</td>\n",
       "      <td>146</td>\n",
       "      <td>6 months ago</td>\n",
       "    </tr>\n",
       "    <tr>\n",
       "      <th>7</th>\n",
       "      <td>0x26f744711ee9e</td>\n",
       "      <td>NaN</td>\n",
       "      <td>141</td>\n",
       "      <td>4 years ago</td>\n",
       "    </tr>\n",
       "    <tr>\n",
       "      <th>8</th>\n",
       "      <td>0x4084df8bf74ba</td>\n",
       "      <td>NaN</td>\n",
       "      <td>98</td>\n",
       "      <td>NaN</td>\n",
       "    </tr>\n",
       "    <tr>\n",
       "      <th>9</th>\n",
       "      <td>0x269616d549d7e</td>\n",
       "      <td>NaN</td>\n",
       "      <td>96</td>\n",
       "      <td>9 days ago</td>\n",
       "    </tr>\n",
       "    <tr>\n",
       "      <th>10</th>\n",
       "      <td>0x31a5ff62a1b2c</td>\n",
       "      <td>NaN</td>\n",
       "      <td>93</td>\n",
       "      <td>1 month ago</td>\n",
       "    </tr>\n",
       "    <tr>\n",
       "      <th>11</th>\n",
       "      <td>0x7174039818a41</td>\n",
       "      <td>NaN</td>\n",
       "      <td>89</td>\n",
       "      <td>3 years ago</td>\n",
       "    </tr>\n",
       "    <tr>\n",
       "      <th>12</th>\n",
       "      <td>0xcc7c335f3365a</td>\n",
       "      <td>NaN</td>\n",
       "      <td>87</td>\n",
       "      <td>13 days ago</td>\n",
       "    </tr>\n",
       "    <tr>\n",
       "      <th>13</th>\n",
       "      <td>0x51688cd36c188</td>\n",
       "      <td>NaN</td>\n",
       "      <td>79</td>\n",
       "      <td>6 days ago</td>\n",
       "    </tr>\n",
       "    <tr>\n",
       "      <th>14</th>\n",
       "      <td>0x810fdbc7e5cfe</td>\n",
       "      <td>NaN</td>\n",
       "      <td>77</td>\n",
       "      <td>13 hours ago</td>\n",
       "    </tr>\n",
       "    <tr>\n",
       "      <th>15</th>\n",
       "      <td>0xf5a4ba515dd36</td>\n",
       "      <td>NaN</td>\n",
       "      <td>75</td>\n",
       "      <td>1 month ago</td>\n",
       "    </tr>\n",
       "    <tr>\n",
       "      <th>16</th>\n",
       "      <td>0xcffc336e6d019</td>\n",
       "      <td>NaN</td>\n",
       "      <td>74</td>\n",
       "      <td>2 months ago</td>\n",
       "    </tr>\n",
       "    <tr>\n",
       "      <th>17</th>\n",
       "      <td>0x6f4a2d3a4f47f</td>\n",
       "      <td>NaN</td>\n",
       "      <td>70</td>\n",
       "      <td>9 days ago</td>\n",
       "    </tr>\n",
       "    <tr>\n",
       "      <th>18</th>\n",
       "      <td>0x062c5432107e3</td>\n",
       "      <td>NaN</td>\n",
       "      <td>68</td>\n",
       "      <td>3 months ago</td>\n",
       "    </tr>\n",
       "    <tr>\n",
       "      <th>19</th>\n",
       "      <td>0x7760e0243ca9b</td>\n",
       "      <td>NaN</td>\n",
       "      <td>66</td>\n",
       "      <td>3 years ago</td>\n",
       "    </tr>\n",
       "    <tr>\n",
       "      <th>20</th>\n",
       "      <td>0xdde8df9a7dc9f</td>\n",
       "      <td>Kenney</td>\n",
       "      <td>66</td>\n",
       "      <td>2 months ago</td>\n",
       "    </tr>\n",
       "  </tbody>\n",
       "</table>\n",
       "</div>"
      ],
      "text/plain": [
       "            Account    OpenSea / ENS  Number Owned    last Active\n",
       "#                                                                \n",
       "1   0xb7f7f6c52f2e2  WrappedCryptoPu           428    7 hours ago\n",
       "2   0xa858ddc0445d8              NaN           423    1 month ago\n",
       "3   0xa25803ab86a32       wilcox.eth           238    28 days ago\n",
       "4   0xb88f61e6fbda8              NaN           215  11 months ago\n",
       "5   0x577ebc5de943e              NaN           165     5 days ago\n",
       "6   0x69021ae876958          sov.eth           146   6 months ago\n",
       "7   0x26f744711ee9e              NaN           141    4 years ago\n",
       "8   0x4084df8bf74ba              NaN            98            NaN\n",
       "9   0x269616d549d7e              NaN            96     9 days ago\n",
       "10  0x31a5ff62a1b2c              NaN            93    1 month ago\n",
       "11  0x7174039818a41              NaN            89    3 years ago\n",
       "12  0xcc7c335f3365a              NaN            87    13 days ago\n",
       "13  0x51688cd36c188              NaN            79     6 days ago\n",
       "14  0x810fdbc7e5cfe              NaN            77   13 hours ago\n",
       "15  0xf5a4ba515dd36              NaN            75    1 month ago\n",
       "16  0xcffc336e6d019              NaN            74   2 months ago\n",
       "17  0x6f4a2d3a4f47f              NaN            70     9 days ago\n",
       "18  0x062c5432107e3              NaN            68   3 months ago\n",
       "19  0x7760e0243ca9b              NaN            66    3 years ago\n",
       "20  0xdde8df9a7dc9f           Kenney            66   2 months ago"
      ]
     },
     "execution_count": 432,
     "metadata": {},
     "output_type": "execute_result"
    }
   ],
   "source": [
    "#top20 asset owners\n",
    "cryptopunk_owners_df.head(20)"
   ]
  },
  {
   "cell_type": "markdown",
   "id": "e20dc464-c7e8-4c98-b1ad-8e301ca7187c",
   "metadata": {},
   "source": [
    "### Top 20 Owners"
   ]
  },
  {
   "cell_type": "code",
   "execution_count": 438,
   "id": "17f6043f-0c7e-4425-8e07-d87254ed79af",
   "metadata": {},
   "outputs": [
    {
     "name": "stdout",
     "output_type": "stream",
     "text": [
      "The Top 20 owners own 2794 NFTs, which is 27.94% of total assets.\n"
     ]
    }
   ],
   "source": [
    "#total amount of assets owned by the top20 owners\n",
    "top20_owners_assets = cryptopunk_owners_df['Number Owned'].head(20).sum()\n",
    "perc_top20_owners_assets = top20_owners_assets /cryptopunk_total_assets *100\n",
    "print(f\"The Top 20 owners own {top20_owners_assets} NFTs, which is {perc_top20_owners_assets:.2f}% of total assets.\")"
   ]
  },
  {
   "cell_type": "markdown",
   "id": "faa36f5c-740d-498b-98e8-3ae865ffc364",
   "metadata": {},
   "source": [
    "### over 25% of all assets are owned by top 20 owners\n",
    "---"
   ]
  },
  {
   "cell_type": "markdown",
   "id": "c082cee7-4eb4-48a2-8372-53ef69e17f3e",
   "metadata": {},
   "source": [
    "### Top 100 Owners"
   ]
  },
  {
   "cell_type": "code",
   "execution_count": 451,
   "id": "0a8e01f6-1440-429b-9134-8a3cdece9f86",
   "metadata": {},
   "outputs": [
    {
     "name": "stdout",
     "output_type": "stream",
     "text": [
      "The Top 100 owners own 4705 NFTs, which is 47.05% of total assets.\n"
     ]
    }
   ],
   "source": [
    "#total amount of assets owned by the top100 owners\n",
    "top100_owners_assets = cryptopunk_owners_df['Number Owned'].head(100).sum()\n",
    "perc_top100_owners_assets = top100_owners_assets /cryptopunk_total_assets *100\n",
    "print(f\"The Top 100 owners own {top100_owners_assets} NFTs, which is {perc_top100_owners_assets:.2f}% of total assets.\")"
   ]
  },
  {
   "cell_type": "markdown",
   "id": "35526247-8482-4788-bf85-f6674b5d9563",
   "metadata": {},
   "source": [
    "---"
   ]
  },
  {
   "cell_type": "markdown",
   "id": "432d6a34-5d2a-407c-9642-8fc68ef10baa",
   "metadata": {},
   "source": [
    "### Bottom 20 Owners"
   ]
  },
  {
   "cell_type": "code",
   "execution_count": 452,
   "id": "bf2a5ea5-2bc2-4964-8b33-16bfff03e4b7",
   "metadata": {},
   "outputs": [
    {
     "name": "stdout",
     "output_type": "stream",
     "text": [
      "The Bottom 20 owners own 20 NFTs, which is 0.20% of total assets.\n"
     ]
    }
   ],
   "source": [
    "#total amount of assets owned by the top20 owners\n",
    "bot20_owners_assets = cryptopunk_owners_df['Number Owned'].tail(20).sum()\n",
    "perc_bot20_owners_assets = bot20_owners_assets /cryptopunk_total_assets *100\n",
    "print(f\"The Bottom 20 owners own {bot20_owners_assets} NFTs, which is {perc_bot20_owners_assets:.2f}% of total assets.\")"
   ]
  },
  {
   "cell_type": "markdown",
   "id": "4ebfa75c-7509-424f-a401-74d397a53a6c",
   "metadata": {},
   "source": [
    "***"
   ]
  },
  {
   "cell_type": "code",
   "execution_count": null,
   "id": "f86fc2f3-8d5c-4859-94c5-2fa714513447",
   "metadata": {},
   "outputs": [],
   "source": []
  }
 ],
 "metadata": {
  "kernelspec": {
   "display_name": "Python 3 (ipykernel)",
   "language": "python",
   "name": "python3"
  },
  "language_info": {
   "codemirror_mode": {
    "name": "ipython",
    "version": 3
   },
   "file_extension": ".py",
   "mimetype": "text/x-python",
   "name": "python",
   "nbconvert_exporter": "python",
   "pygments_lexer": "ipython3",
   "version": "3.7.11"
  }
 },
 "nbformat": 4,
 "nbformat_minor": 5
}
